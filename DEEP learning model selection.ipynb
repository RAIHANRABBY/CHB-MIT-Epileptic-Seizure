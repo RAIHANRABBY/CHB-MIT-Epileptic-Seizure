{
 "cells": [
  {
   "cell_type": "code",
   "execution_count": 8,
   "id": "7b6e08ee-c44c-4da0-875f-aff680d21c6f",
   "metadata": {},
   "outputs": [],
   "source": [
    "import pandas as pd\n",
    "import numpy as np\n",
    "import seaborn as sns\n",
    "import os\n",
    "import mne"
   ]
  },
  {
   "cell_type": "code",
   "execution_count": 9,
   "id": "384f1ac1-4bd6-4483-8596-60cd4c9e69c4",
   "metadata": {},
   "outputs": [],
   "source": [
    "#Here the full folder is loaded with all the patients\n",
    "folder = r'D:\\Epilepsy\\S1 ES'\n",
    "# folder = r'E:\\New folder\\chb24'\n",
    "file_path = [os.path.join(folder,i ) for i in os.listdir(folder)]"
   ]
  },
  {
   "cell_type": "code",
   "execution_count": 10,
   "id": "133b45a7-ed15-41d7-9ed3-371e9ad9d5e4",
   "metadata": {},
   "outputs": [
    {
     "name": "stdout",
     "output_type": "stream",
     "text": [
      "['D:\\\\Epilepsy\\\\S1 ES\\\\chb01', 'D:\\\\Epilepsy\\\\S1 ES\\\\chb02', 'D:\\\\Epilepsy\\\\S1 ES\\\\chb03', 'D:\\\\Epilepsy\\\\S1 ES\\\\chb04']\n"
     ]
    }
   ],
   "source": [
    "print(file_path)"
   ]
  },
  {
   "cell_type": "code",
   "execution_count": 11,
   "id": "92dbe8ed-2442-4a0f-a850-e4f607cf5a16",
   "metadata": {},
   "outputs": [
    {
     "data": {
      "text/plain": [
       "['chb01_epoch_info.txt', 'ictal', 'interictal', 'postictal', 'preictal']"
      ]
     },
     "execution_count": 11,
     "metadata": {},
     "output_type": "execute_result"
    }
   ],
   "source": [
    "os.listdir(file_path[0])"
   ]
  },
  {
   "cell_type": "code",
   "execution_count": 12,
   "id": "5ed14983-4571-44ce-870e-804904b20f0c",
   "metadata": {},
   "outputs": [
    {
     "name": "stdout",
     "output_type": "stream",
     "text": [
      "Reading D:\\Epilepsy\\S1 ES\\chb01\\interictal\\chb01_01_normal_raw_epo.fif ...\n",
      "Isotrak not found\n",
      "    Found the data of interest:\n",
      "        t =       0.00 ...     992.19 ms\n",
      "        0 CTF compensation matrices available\n",
      "Not setting metadata\n",
      "3600 matching events found\n",
      "No baseline correction applied\n",
      "0 projection items activated\n",
      "Reading D:\\Epilepsy\\S1 ES\\chb01\\interictal\\chb01_02_normal_raw_epo.fif ...\n",
      "Isotrak not found\n",
      "    Found the data of interest:\n",
      "        t =       0.00 ...     992.19 ms\n",
      "        0 CTF compensation matrices available\n",
      "Not setting metadata\n",
      "3600 matching events found\n",
      "No baseline correction applied\n",
      "0 projection items activated\n",
      "Reading D:\\Epilepsy\\S1 ES\\chb01\\interictal\\chb01_05_normal_raw_epo.fif ...\n"
     ]
    },
    {
     "name": "stderr",
     "output_type": "stream",
     "text": [
      "C:\\Users\\ACER\\AppData\\Local\\Temp\\ipykernel_7812\\2716453317.py:18: FutureWarning: The current default of copy=False will change to copy=True in 1.7. Set the value of copy explicitly to avoid this warning\n",
      "  data_list.append(epochs.get_data())  # Extract the data matrix\n",
      "C:\\Users\\ACER\\AppData\\Local\\Temp\\ipykernel_7812\\2716453317.py:19: FutureWarning: The current default of copy=False will change to copy=True in 1.7. Set the value of copy explicitly to avoid this warning\n",
      "  labels.append(np.full(epochs.get_data().shape[0], label))  # Label each epoch based on folder\n",
      "C:\\Users\\ACER\\AppData\\Local\\Temp\\ipykernel_7812\\2716453317.py:18: FutureWarning: The current default of copy=False will change to copy=True in 1.7. Set the value of copy explicitly to avoid this warning\n",
      "  data_list.append(epochs.get_data())  # Extract the data matrix\n",
      "C:\\Users\\ACER\\AppData\\Local\\Temp\\ipykernel_7812\\2716453317.py:19: FutureWarning: The current default of copy=False will change to copy=True in 1.7. Set the value of copy explicitly to avoid this warning\n",
      "  labels.append(np.full(epochs.get_data().shape[0], label))  # Label each epoch based on folder\n"
     ]
    },
    {
     "name": "stdout",
     "output_type": "stream",
     "text": [
      "Isotrak not found\n",
      "    Found the data of interest:\n",
      "        t =       0.00 ...     992.19 ms\n",
      "        0 CTF compensation matrices available\n",
      "Not setting metadata\n",
      "3600 matching events found\n",
      "No baseline correction applied\n",
      "0 projection items activated\n",
      "Reading D:\\Epilepsy\\S1 ES\\chb01\\interictal\\chb01_06_normal_raw_epo.fif ...\n",
      "Isotrak not found\n",
      "    Found the data of interest:\n",
      "        t =       0.00 ...     992.19 ms\n",
      "        0 CTF compensation matrices available\n",
      "Not setting metadata\n",
      "3600 matching events found\n",
      "No baseline correction applied\n",
      "0 projection items activated\n",
      "Reading D:\\Epilepsy\\S1 ES\\chb01\\interictal\\chb01_07_normal_raw_epo.fif ...\n",
      "Isotrak not found\n"
     ]
    },
    {
     "name": "stderr",
     "output_type": "stream",
     "text": [
      "C:\\Users\\ACER\\AppData\\Local\\Temp\\ipykernel_7812\\2716453317.py:18: FutureWarning: The current default of copy=False will change to copy=True in 1.7. Set the value of copy explicitly to avoid this warning\n",
      "  data_list.append(epochs.get_data())  # Extract the data matrix\n",
      "C:\\Users\\ACER\\AppData\\Local\\Temp\\ipykernel_7812\\2716453317.py:19: FutureWarning: The current default of copy=False will change to copy=True in 1.7. Set the value of copy explicitly to avoid this warning\n",
      "  labels.append(np.full(epochs.get_data().shape[0], label))  # Label each epoch based on folder\n",
      "C:\\Users\\ACER\\AppData\\Local\\Temp\\ipykernel_7812\\2716453317.py:18: FutureWarning: The current default of copy=False will change to copy=True in 1.7. Set the value of copy explicitly to avoid this warning\n",
      "  data_list.append(epochs.get_data())  # Extract the data matrix\n",
      "C:\\Users\\ACER\\AppData\\Local\\Temp\\ipykernel_7812\\2716453317.py:19: FutureWarning: The current default of copy=False will change to copy=True in 1.7. Set the value of copy explicitly to avoid this warning\n",
      "  labels.append(np.full(epochs.get_data().shape[0], label))  # Label each epoch based on folder\n"
     ]
    },
    {
     "name": "stdout",
     "output_type": "stream",
     "text": [
      "    Found the data of interest:\n",
      "        t =       0.00 ...     992.19 ms\n",
      "        0 CTF compensation matrices available\n",
      "Not setting metadata\n",
      "3600 matching events found\n",
      "No baseline correction applied\n",
      "0 projection items activated\n",
      "Reading D:\\Epilepsy\\S1 ES\\chb01\\interictal\\chb01_08_normal_raw_epo.fif ...\n",
      "Isotrak not found\n",
      "    Found the data of interest:\n",
      "        t =       0.00 ...     992.19 ms\n",
      "        0 CTF compensation matrices available\n",
      "Not setting metadata\n",
      "3600 matching events found\n",
      "No baseline correction applied\n",
      "0 projection items activated\n",
      "Reading D:\\Epilepsy\\S1 ES\\chb01\\interictal\\chb01_09_normal_raw_epo.fif ...\n"
     ]
    },
    {
     "name": "stderr",
     "output_type": "stream",
     "text": [
      "C:\\Users\\ACER\\AppData\\Local\\Temp\\ipykernel_7812\\2716453317.py:18: FutureWarning: The current default of copy=False will change to copy=True in 1.7. Set the value of copy explicitly to avoid this warning\n",
      "  data_list.append(epochs.get_data())  # Extract the data matrix\n",
      "C:\\Users\\ACER\\AppData\\Local\\Temp\\ipykernel_7812\\2716453317.py:19: FutureWarning: The current default of copy=False will change to copy=True in 1.7. Set the value of copy explicitly to avoid this warning\n",
      "  labels.append(np.full(epochs.get_data().shape[0], label))  # Label each epoch based on folder\n",
      "C:\\Users\\ACER\\AppData\\Local\\Temp\\ipykernel_7812\\2716453317.py:18: FutureWarning: The current default of copy=False will change to copy=True in 1.7. Set the value of copy explicitly to avoid this warning\n",
      "  data_list.append(epochs.get_data())  # Extract the data matrix\n",
      "C:\\Users\\ACER\\AppData\\Local\\Temp\\ipykernel_7812\\2716453317.py:19: FutureWarning: The current default of copy=False will change to copy=True in 1.7. Set the value of copy explicitly to avoid this warning\n",
      "  labels.append(np.full(epochs.get_data().shape[0], label))  # Label each epoch based on folder\n"
     ]
    },
    {
     "name": "stdout",
     "output_type": "stream",
     "text": [
      "Isotrak not found\n",
      "    Found the data of interest:\n",
      "        t =       0.00 ...     992.19 ms\n",
      "        0 CTF compensation matrices available\n",
      "Not setting metadata\n",
      "3600 matching events found\n",
      "No baseline correction applied\n",
      "0 projection items activated\n",
      "Reading D:\\Epilepsy\\S1 ES\\chb01\\interictal\\chb01_10_normal_raw_epo.fif ...\n",
      "Isotrak not found\n",
      "    Found the data of interest:\n",
      "        t =       0.00 ...     992.19 ms\n",
      "        0 CTF compensation matrices available\n",
      "Not setting metadata\n",
      "3600 matching events found\n",
      "No baseline correction applied\n",
      "0 projection items activated\n",
      "Reading D:\\Epilepsy\\S1 ES\\chb01\\interictal\\chb01_11_normal_raw_epo.fif ...\n"
     ]
    },
    {
     "name": "stderr",
     "output_type": "stream",
     "text": [
      "C:\\Users\\ACER\\AppData\\Local\\Temp\\ipykernel_7812\\2716453317.py:18: FutureWarning: The current default of copy=False will change to copy=True in 1.7. Set the value of copy explicitly to avoid this warning\n",
      "  data_list.append(epochs.get_data())  # Extract the data matrix\n",
      "C:\\Users\\ACER\\AppData\\Local\\Temp\\ipykernel_7812\\2716453317.py:19: FutureWarning: The current default of copy=False will change to copy=True in 1.7. Set the value of copy explicitly to avoid this warning\n",
      "  labels.append(np.full(epochs.get_data().shape[0], label))  # Label each epoch based on folder\n",
      "C:\\Users\\ACER\\AppData\\Local\\Temp\\ipykernel_7812\\2716453317.py:18: FutureWarning: The current default of copy=False will change to copy=True in 1.7. Set the value of copy explicitly to avoid this warning\n",
      "  data_list.append(epochs.get_data())  # Extract the data matrix\n",
      "C:\\Users\\ACER\\AppData\\Local\\Temp\\ipykernel_7812\\2716453317.py:19: FutureWarning: The current default of copy=False will change to copy=True in 1.7. Set the value of copy explicitly to avoid this warning\n",
      "  labels.append(np.full(epochs.get_data().shape[0], label))  # Label each epoch based on folder\n"
     ]
    },
    {
     "name": "stdout",
     "output_type": "stream",
     "text": [
      "Isotrak not found\n",
      "    Found the data of interest:\n",
      "        t =       0.00 ...     992.19 ms\n",
      "        0 CTF compensation matrices available\n",
      "Not setting metadata\n",
      "3600 matching events found\n",
      "No baseline correction applied\n",
      "0 projection items activated\n",
      "Reading D:\\Epilepsy\\S1 ES\\chb01\\interictal\\chb01_12_normal_raw_epo.fif ...\n",
      "Isotrak not found\n",
      "    Found the data of interest:\n",
      "        t =       0.00 ...     992.19 ms\n",
      "        0 CTF compensation matrices available\n",
      "Not setting metadata\n",
      "3600 matching events found\n",
      "No baseline correction applied\n",
      "0 projection items activated\n",
      "Reading D:\\Epilepsy\\S1 ES\\chb01\\interictal\\chb01_13_normal_raw_epo.fif ...\n"
     ]
    },
    {
     "name": "stderr",
     "output_type": "stream",
     "text": [
      "C:\\Users\\ACER\\AppData\\Local\\Temp\\ipykernel_7812\\2716453317.py:18: FutureWarning: The current default of copy=False will change to copy=True in 1.7. Set the value of copy explicitly to avoid this warning\n",
      "  data_list.append(epochs.get_data())  # Extract the data matrix\n",
      "C:\\Users\\ACER\\AppData\\Local\\Temp\\ipykernel_7812\\2716453317.py:19: FutureWarning: The current default of copy=False will change to copy=True in 1.7. Set the value of copy explicitly to avoid this warning\n",
      "  labels.append(np.full(epochs.get_data().shape[0], label))  # Label each epoch based on folder\n",
      "C:\\Users\\ACER\\AppData\\Local\\Temp\\ipykernel_7812\\2716453317.py:18: FutureWarning: The current default of copy=False will change to copy=True in 1.7. Set the value of copy explicitly to avoid this warning\n",
      "  data_list.append(epochs.get_data())  # Extract the data matrix\n",
      "C:\\Users\\ACER\\AppData\\Local\\Temp\\ipykernel_7812\\2716453317.py:19: FutureWarning: The current default of copy=False will change to copy=True in 1.7. Set the value of copy explicitly to avoid this warning\n",
      "  labels.append(np.full(epochs.get_data().shape[0], label))  # Label each epoch based on folder\n"
     ]
    },
    {
     "name": "stdout",
     "output_type": "stream",
     "text": [
      "Isotrak not found\n",
      "    Found the data of interest:\n",
      "        t =       0.00 ...     992.19 ms\n",
      "        0 CTF compensation matrices available\n",
      "Not setting metadata\n",
      "3600 matching events found\n",
      "No baseline correction applied\n",
      "0 projection items activated\n",
      "Reading D:\\Epilepsy\\S1 ES\\chb01\\interictal\\chb01_14_normal_raw_epo.fif ...\n",
      "Isotrak not found\n",
      "    Found the data of interest:\n",
      "        t =       0.00 ...     992.19 ms\n",
      "        0 CTF compensation matrices available\n",
      "Not setting metadata\n"
     ]
    },
    {
     "name": "stderr",
     "output_type": "stream",
     "text": [
      "C:\\Users\\ACER\\AppData\\Local\\Temp\\ipykernel_7812\\2716453317.py:18: FutureWarning: The current default of copy=False will change to copy=True in 1.7. Set the value of copy explicitly to avoid this warning\n",
      "  data_list.append(epochs.get_data())  # Extract the data matrix\n",
      "C:\\Users\\ACER\\AppData\\Local\\Temp\\ipykernel_7812\\2716453317.py:19: FutureWarning: The current default of copy=False will change to copy=True in 1.7. Set the value of copy explicitly to avoid this warning\n",
      "  labels.append(np.full(epochs.get_data().shape[0], label))  # Label each epoch based on folder\n"
     ]
    },
    {
     "name": "stdout",
     "output_type": "stream",
     "text": [
      "3600 matching events found\n",
      "No baseline correction applied\n",
      "0 projection items activated\n",
      "Reading D:\\Epilepsy\\S1 ES\\chb01\\interictal\\chb01_16.edf_interictal_1_raw_epo.fif ...\n",
      "Isotrak not found\n",
      "    Found the data of interest:\n",
      "        t =       0.00 ...     992.19 ms\n",
      "        0 CTF compensation matrices available\n",
      "Not setting metadata\n",
      "134 matching events found\n",
      "No baseline correction applied\n",
      "0 projection items activated\n",
      "Reading D:\\Epilepsy\\S1 ES\\chb01\\interictal\\chb01_17_normal_raw_epo.fif ...\n",
      "Isotrak not found\n",
      "    Found the data of interest:\n",
      "        t =       0.00 ...     992.19 ms\n",
      "        0 CTF compensation matrices available\n"
     ]
    },
    {
     "name": "stderr",
     "output_type": "stream",
     "text": [
      "C:\\Users\\ACER\\AppData\\Local\\Temp\\ipykernel_7812\\2716453317.py:18: FutureWarning: The current default of copy=False will change to copy=True in 1.7. Set the value of copy explicitly to avoid this warning\n",
      "  data_list.append(epochs.get_data())  # Extract the data matrix\n",
      "C:\\Users\\ACER\\AppData\\Local\\Temp\\ipykernel_7812\\2716453317.py:19: FutureWarning: The current default of copy=False will change to copy=True in 1.7. Set the value of copy explicitly to avoid this warning\n",
      "  labels.append(np.full(epochs.get_data().shape[0], label))  # Label each epoch based on folder\n",
      "C:\\Users\\ACER\\AppData\\Local\\Temp\\ipykernel_7812\\2716453317.py:18: FutureWarning: The current default of copy=False will change to copy=True in 1.7. Set the value of copy explicitly to avoid this warning\n",
      "  data_list.append(epochs.get_data())  # Extract the data matrix\n",
      "C:\\Users\\ACER\\AppData\\Local\\Temp\\ipykernel_7812\\2716453317.py:19: FutureWarning: The current default of copy=False will change to copy=True in 1.7. Set the value of copy explicitly to avoid this warning\n",
      "  labels.append(np.full(epochs.get_data().shape[0], label))  # Label each epoch based on folder\n"
     ]
    },
    {
     "name": "stdout",
     "output_type": "stream",
     "text": [
      "Not setting metadata\n",
      "3600 matching events found\n",
      "No baseline correction applied\n",
      "0 projection items activated\n",
      "Reading D:\\Epilepsy\\S1 ES\\chb01\\interictal\\chb01_19_normal_raw_epo.fif ...\n",
      "Isotrak not found\n",
      "    Found the data of interest:\n",
      "        t =       0.00 ...     992.19 ms\n",
      "        0 CTF compensation matrices available\n",
      "Not setting metadata\n"
     ]
    },
    {
     "name": "stderr",
     "output_type": "stream",
     "text": [
      "C:\\Users\\ACER\\AppData\\Local\\Temp\\ipykernel_7812\\2716453317.py:18: FutureWarning: The current default of copy=False will change to copy=True in 1.7. Set the value of copy explicitly to avoid this warning\n",
      "  data_list.append(epochs.get_data())  # Extract the data matrix\n",
      "C:\\Users\\ACER\\AppData\\Local\\Temp\\ipykernel_7812\\2716453317.py:19: FutureWarning: The current default of copy=False will change to copy=True in 1.7. Set the value of copy explicitly to avoid this warning\n",
      "  labels.append(np.full(epochs.get_data().shape[0], label))  # Label each epoch based on folder\n"
     ]
    },
    {
     "name": "stdout",
     "output_type": "stream",
     "text": [
      "3600 matching events found\n",
      "No baseline correction applied\n",
      "0 projection items activated\n",
      "Reading D:\\Epilepsy\\S1 ES\\chb01\\interictal\\chb01_20_normal_raw_epo.fif ...\n",
      "Isotrak not found\n",
      "    Found the data of interest:\n",
      "        t =       0.00 ...     992.19 ms\n",
      "        0 CTF compensation matrices available\n",
      "Not setting metadata\n",
      "2663 matching events found\n",
      "No baseline correction applied\n",
      "0 projection items activated\n",
      "Reading D:\\Epilepsy\\S1 ES\\chb01\\interictal\\chb01_21.edf_interictal_1_raw_epo.fif ...\n",
      "Isotrak not found\n",
      "    Found the data of interest:\n",
      "        t =       0.00 ...     992.19 ms\n",
      "        0 CTF compensation matrices available\n",
      "Not setting metadata\n"
     ]
    },
    {
     "name": "stderr",
     "output_type": "stream",
     "text": [
      "C:\\Users\\ACER\\AppData\\Local\\Temp\\ipykernel_7812\\2716453317.py:18: FutureWarning: The current default of copy=False will change to copy=True in 1.7. Set the value of copy explicitly to avoid this warning\n",
      "  data_list.append(epochs.get_data())  # Extract the data matrix\n",
      "C:\\Users\\ACER\\AppData\\Local\\Temp\\ipykernel_7812\\2716453317.py:19: FutureWarning: The current default of copy=False will change to copy=True in 1.7. Set the value of copy explicitly to avoid this warning\n",
      "  labels.append(np.full(epochs.get_data().shape[0], label))  # Label each epoch based on folder\n",
      "C:\\Users\\ACER\\AppData\\Local\\Temp\\ipykernel_7812\\2716453317.py:18: FutureWarning: The current default of copy=False will change to copy=True in 1.7. Set the value of copy explicitly to avoid this warning\n",
      "  data_list.append(epochs.get_data())  # Extract the data matrix\n",
      "C:\\Users\\ACER\\AppData\\Local\\Temp\\ipykernel_7812\\2716453317.py:19: FutureWarning: The current default of copy=False will change to copy=True in 1.7. Set the value of copy explicitly to avoid this warning\n",
      "  labels.append(np.full(epochs.get_data().shape[0], label))  # Label each epoch based on folder\n"
     ]
    },
    {
     "name": "stdout",
     "output_type": "stream",
     "text": [
      "780 matching events found\n",
      "No baseline correction applied\n",
      "0 projection items activated\n",
      "Reading D:\\Epilepsy\\S1 ES\\chb01\\interictal\\chb01_22_normal_raw_epo.fif ...\n",
      "Isotrak not found\n",
      "    Found the data of interest:\n",
      "        t =       0.00 ...     992.19 ms\n",
      "        0 CTF compensation matrices available\n",
      "Not setting metadata\n",
      "3600 matching events found\n",
      "No baseline correction applied\n",
      "0 projection items activated\n",
      "Reading D:\\Epilepsy\\S1 ES\\chb01\\interictal\\chb01_23_normal_raw_epo.fif ...\n"
     ]
    },
    {
     "name": "stderr",
     "output_type": "stream",
     "text": [
      "C:\\Users\\ACER\\AppData\\Local\\Temp\\ipykernel_7812\\2716453317.py:18: FutureWarning: The current default of copy=False will change to copy=True in 1.7. Set the value of copy explicitly to avoid this warning\n",
      "  data_list.append(epochs.get_data())  # Extract the data matrix\n",
      "C:\\Users\\ACER\\AppData\\Local\\Temp\\ipykernel_7812\\2716453317.py:19: FutureWarning: The current default of copy=False will change to copy=True in 1.7. Set the value of copy explicitly to avoid this warning\n",
      "  labels.append(np.full(epochs.get_data().shape[0], label))  # Label each epoch based on folder\n",
      "C:\\Users\\ACER\\AppData\\Local\\Temp\\ipykernel_7812\\2716453317.py:18: FutureWarning: The current default of copy=False will change to copy=True in 1.7. Set the value of copy explicitly to avoid this warning\n",
      "  data_list.append(epochs.get_data())  # Extract the data matrix\n",
      "C:\\Users\\ACER\\AppData\\Local\\Temp\\ipykernel_7812\\2716453317.py:19: FutureWarning: The current default of copy=False will change to copy=True in 1.7. Set the value of copy explicitly to avoid this warning\n",
      "  labels.append(np.full(epochs.get_data().shape[0], label))  # Label each epoch based on folder\n"
     ]
    },
    {
     "name": "stdout",
     "output_type": "stream",
     "text": [
      "Isotrak not found\n",
      "    Found the data of interest:\n",
      "        t =       0.00 ...     992.19 ms\n",
      "        0 CTF compensation matrices available\n",
      "Not setting metadata\n",
      "3600 matching events found\n",
      "No baseline correction applied\n",
      "0 projection items activated\n",
      "Reading D:\\Epilepsy\\S1 ES\\chb01\\interictal\\chb01_24_normal_raw_epo.fif ...\n",
      "Isotrak not found\n",
      "    Found the data of interest:\n",
      "        t =       0.00 ...     992.19 ms\n",
      "        0 CTF compensation matrices available\n",
      "Not setting metadata\n",
      "3600 matching events found\n",
      "No baseline correction applied\n",
      "0 projection items activated\n",
      "Reading D:\\Epilepsy\\S1 ES\\chb01\\interictal\\chb01_25_normal_raw_epo.fif ...\n"
     ]
    },
    {
     "name": "stderr",
     "output_type": "stream",
     "text": [
      "C:\\Users\\ACER\\AppData\\Local\\Temp\\ipykernel_7812\\2716453317.py:18: FutureWarning: The current default of copy=False will change to copy=True in 1.7. Set the value of copy explicitly to avoid this warning\n",
      "  data_list.append(epochs.get_data())  # Extract the data matrix\n",
      "C:\\Users\\ACER\\AppData\\Local\\Temp\\ipykernel_7812\\2716453317.py:19: FutureWarning: The current default of copy=False will change to copy=True in 1.7. Set the value of copy explicitly to avoid this warning\n",
      "  labels.append(np.full(epochs.get_data().shape[0], label))  # Label each epoch based on folder\n",
      "C:\\Users\\ACER\\AppData\\Local\\Temp\\ipykernel_7812\\2716453317.py:18: FutureWarning: The current default of copy=False will change to copy=True in 1.7. Set the value of copy explicitly to avoid this warning\n",
      "  data_list.append(epochs.get_data())  # Extract the data matrix\n",
      "C:\\Users\\ACER\\AppData\\Local\\Temp\\ipykernel_7812\\2716453317.py:19: FutureWarning: The current default of copy=False will change to copy=True in 1.7. Set the value of copy explicitly to avoid this warning\n",
      "  labels.append(np.full(epochs.get_data().shape[0], label))  # Label each epoch based on folder\n"
     ]
    },
    {
     "name": "stdout",
     "output_type": "stream",
     "text": [
      "Isotrak not found\n",
      "    Found the data of interest:\n",
      "        t =       0.00 ...     992.19 ms\n",
      "        0 CTF compensation matrices available\n",
      "Not setting metadata\n",
      "3600 matching events found\n",
      "No baseline correction applied\n",
      "0 projection items activated\n",
      "Reading D:\\Epilepsy\\S1 ES\\chb01\\interictal\\chb01_27_normal_raw_epo.fif ...\n",
      "Isotrak not found\n",
      "    Found the data of interest:\n",
      "        t =       0.00 ...     992.19 ms\n",
      "        0 CTF compensation matrices available\n",
      "Not setting metadata\n",
      "600 matching events found\n",
      "No baseline correction applied\n",
      "0 projection items activated\n",
      "Reading D:\\Epilepsy\\S1 ES\\chb01\\interictal\\chb01_29_normal_raw_epo.fif ...\n",
      "Isotrak not found\n",
      "    Found the data of interest:\n",
      "        t =       0.00 ...     992.19 ms\n",
      "        0 CTF compensation matrices available\n"
     ]
    },
    {
     "name": "stderr",
     "output_type": "stream",
     "text": [
      "C:\\Users\\ACER\\AppData\\Local\\Temp\\ipykernel_7812\\2716453317.py:18: FutureWarning: The current default of copy=False will change to copy=True in 1.7. Set the value of copy explicitly to avoid this warning\n",
      "  data_list.append(epochs.get_data())  # Extract the data matrix\n",
      "C:\\Users\\ACER\\AppData\\Local\\Temp\\ipykernel_7812\\2716453317.py:19: FutureWarning: The current default of copy=False will change to copy=True in 1.7. Set the value of copy explicitly to avoid this warning\n",
      "  labels.append(np.full(epochs.get_data().shape[0], label))  # Label each epoch based on folder\n",
      "C:\\Users\\ACER\\AppData\\Local\\Temp\\ipykernel_7812\\2716453317.py:18: FutureWarning: The current default of copy=False will change to copy=True in 1.7. Set the value of copy explicitly to avoid this warning\n",
      "  data_list.append(epochs.get_data())  # Extract the data matrix\n",
      "C:\\Users\\ACER\\AppData\\Local\\Temp\\ipykernel_7812\\2716453317.py:19: FutureWarning: The current default of copy=False will change to copy=True in 1.7. Set the value of copy explicitly to avoid this warning\n",
      "  labels.append(np.full(epochs.get_data().shape[0], label))  # Label each epoch based on folder\n"
     ]
    },
    {
     "name": "stdout",
     "output_type": "stream",
     "text": [
      "Not setting metadata\n",
      "3600 matching events found\n",
      "No baseline correction applied\n",
      "0 projection items activated\n",
      "Reading D:\\Epilepsy\\S1 ES\\chb01\\interictal\\chb01_30_normal_raw_epo.fif ...\n",
      "Isotrak not found\n",
      "    Found the data of interest:\n",
      "        t =       0.00 ...     992.19 ms\n",
      "        0 CTF compensation matrices available\n"
     ]
    },
    {
     "name": "stderr",
     "output_type": "stream",
     "text": [
      "C:\\Users\\ACER\\AppData\\Local\\Temp\\ipykernel_7812\\2716453317.py:18: FutureWarning: The current default of copy=False will change to copy=True in 1.7. Set the value of copy explicitly to avoid this warning\n",
      "  data_list.append(epochs.get_data())  # Extract the data matrix\n",
      "C:\\Users\\ACER\\AppData\\Local\\Temp\\ipykernel_7812\\2716453317.py:19: FutureWarning: The current default of copy=False will change to copy=True in 1.7. Set the value of copy explicitly to avoid this warning\n",
      "  labels.append(np.full(epochs.get_data().shape[0], label))  # Label each epoch based on folder\n"
     ]
    },
    {
     "name": "stdout",
     "output_type": "stream",
     "text": [
      "Not setting metadata\n",
      "3600 matching events found\n",
      "No baseline correction applied\n",
      "0 projection items activated\n",
      "Reading D:\\Epilepsy\\S1 ES\\chb01\\interictal\\chb01_31_normal_raw_epo.fif ...\n",
      "Isotrak not found\n",
      "    Found the data of interest:\n",
      "        t =       0.00 ...     992.19 ms\n",
      "        0 CTF compensation matrices available\n",
      "Not setting metadata\n",
      "3600 matching events found\n",
      "No baseline correction applied\n",
      "0 projection items activated\n",
      "Reading D:\\Epilepsy\\S1 ES\\chb01\\interictal\\chb01_32_normal_raw_epo.fif ...\n"
     ]
    },
    {
     "name": "stderr",
     "output_type": "stream",
     "text": [
      "C:\\Users\\ACER\\AppData\\Local\\Temp\\ipykernel_7812\\2716453317.py:18: FutureWarning: The current default of copy=False will change to copy=True in 1.7. Set the value of copy explicitly to avoid this warning\n",
      "  data_list.append(epochs.get_data())  # Extract the data matrix\n",
      "C:\\Users\\ACER\\AppData\\Local\\Temp\\ipykernel_7812\\2716453317.py:19: FutureWarning: The current default of copy=False will change to copy=True in 1.7. Set the value of copy explicitly to avoid this warning\n",
      "  labels.append(np.full(epochs.get_data().shape[0], label))  # Label each epoch based on folder\n",
      "C:\\Users\\ACER\\AppData\\Local\\Temp\\ipykernel_7812\\2716453317.py:18: FutureWarning: The current default of copy=False will change to copy=True in 1.7. Set the value of copy explicitly to avoid this warning\n",
      "  data_list.append(epochs.get_data())  # Extract the data matrix\n",
      "C:\\Users\\ACER\\AppData\\Local\\Temp\\ipykernel_7812\\2716453317.py:19: FutureWarning: The current default of copy=False will change to copy=True in 1.7. Set the value of copy explicitly to avoid this warning\n",
      "  labels.append(np.full(epochs.get_data().shape[0], label))  # Label each epoch based on folder\n"
     ]
    },
    {
     "name": "stdout",
     "output_type": "stream",
     "text": [
      "Isotrak not found\n",
      "    Found the data of interest:\n",
      "        t =       0.00 ...     992.19 ms\n",
      "        0 CTF compensation matrices available\n",
      "Not setting metadata\n",
      "3600 matching events found\n",
      "No baseline correction applied\n",
      "0 projection items activated\n",
      "Reading D:\\Epilepsy\\S1 ES\\chb01\\interictal\\chb01_33_normal_raw_epo.fif ...\n",
      "Isotrak not found\n",
      "    Found the data of interest:\n",
      "        t =       0.00 ...     992.19 ms\n",
      "        0 CTF compensation matrices available\n",
      "Not setting metadata\n",
      "3600 matching events found\n",
      "No baseline correction applied\n",
      "0 projection items activated\n",
      "Reading D:\\Epilepsy\\S1 ES\\chb01\\interictal\\chb01_34_normal_raw_epo.fif ...\n"
     ]
    },
    {
     "name": "stderr",
     "output_type": "stream",
     "text": [
      "C:\\Users\\ACER\\AppData\\Local\\Temp\\ipykernel_7812\\2716453317.py:18: FutureWarning: The current default of copy=False will change to copy=True in 1.7. Set the value of copy explicitly to avoid this warning\n",
      "  data_list.append(epochs.get_data())  # Extract the data matrix\n",
      "C:\\Users\\ACER\\AppData\\Local\\Temp\\ipykernel_7812\\2716453317.py:19: FutureWarning: The current default of copy=False will change to copy=True in 1.7. Set the value of copy explicitly to avoid this warning\n",
      "  labels.append(np.full(epochs.get_data().shape[0], label))  # Label each epoch based on folder\n",
      "C:\\Users\\ACER\\AppData\\Local\\Temp\\ipykernel_7812\\2716453317.py:18: FutureWarning: The current default of copy=False will change to copy=True in 1.7. Set the value of copy explicitly to avoid this warning\n",
      "  data_list.append(epochs.get_data())  # Extract the data matrix\n",
      "C:\\Users\\ACER\\AppData\\Local\\Temp\\ipykernel_7812\\2716453317.py:19: FutureWarning: The current default of copy=False will change to copy=True in 1.7. Set the value of copy explicitly to avoid this warning\n",
      "  labels.append(np.full(epochs.get_data().shape[0], label))  # Label each epoch based on folder\n"
     ]
    },
    {
     "name": "stdout",
     "output_type": "stream",
     "text": [
      "Isotrak not found\n",
      "    Found the data of interest:\n",
      "        t =       0.00 ...     992.19 ms\n",
      "        0 CTF compensation matrices available\n",
      "Not setting metadata\n",
      "3600 matching events found\n",
      "No baseline correction applied\n",
      "0 projection items activated\n",
      "Reading D:\\Epilepsy\\S1 ES\\chb01\\interictal\\chb01_36_normal_raw_epo.fif ...\n",
      "Isotrak not found\n",
      "    Found the data of interest:\n",
      "        t =       0.00 ...     992.19 ms\n",
      "        0 CTF compensation matrices available\n",
      "Not setting metadata\n",
      "3600 matching events found\n",
      "No baseline correction applied\n",
      "0 projection items activated\n",
      "Reading D:\\Epilepsy\\S1 ES\\chb01\\interictal\\chb01_37_normal_raw_epo.fif ...\n"
     ]
    },
    {
     "name": "stderr",
     "output_type": "stream",
     "text": [
      "C:\\Users\\ACER\\AppData\\Local\\Temp\\ipykernel_7812\\2716453317.py:18: FutureWarning: The current default of copy=False will change to copy=True in 1.7. Set the value of copy explicitly to avoid this warning\n",
      "  data_list.append(epochs.get_data())  # Extract the data matrix\n",
      "C:\\Users\\ACER\\AppData\\Local\\Temp\\ipykernel_7812\\2716453317.py:19: FutureWarning: The current default of copy=False will change to copy=True in 1.7. Set the value of copy explicitly to avoid this warning\n",
      "  labels.append(np.full(epochs.get_data().shape[0], label))  # Label each epoch based on folder\n",
      "C:\\Users\\ACER\\AppData\\Local\\Temp\\ipykernel_7812\\2716453317.py:18: FutureWarning: The current default of copy=False will change to copy=True in 1.7. Set the value of copy explicitly to avoid this warning\n",
      "  data_list.append(epochs.get_data())  # Extract the data matrix\n",
      "C:\\Users\\ACER\\AppData\\Local\\Temp\\ipykernel_7812\\2716453317.py:19: FutureWarning: The current default of copy=False will change to copy=True in 1.7. Set the value of copy explicitly to avoid this warning\n",
      "  labels.append(np.full(epochs.get_data().shape[0], label))  # Label each epoch based on folder\n"
     ]
    },
    {
     "name": "stdout",
     "output_type": "stream",
     "text": [
      "Isotrak not found\n",
      "    Found the data of interest:\n",
      "        t =       0.00 ...     992.19 ms\n",
      "        0 CTF compensation matrices available\n",
      "Not setting metadata\n",
      "3600 matching events found\n",
      "No baseline correction applied\n",
      "0 projection items activated\n",
      "Reading D:\\Epilepsy\\S1 ES\\chb01\\interictal\\chb01_38_normal_raw_epo.fif ...\n",
      "Isotrak not found\n",
      "    Found the data of interest:\n",
      "        t =       0.00 ...     992.19 ms\n",
      "        0 CTF compensation matrices available\n",
      "Not setting metadata\n",
      "3600 matching events found\n",
      "No baseline correction applied\n",
      "0 projection items activated\n",
      "Reading D:\\Epilepsy\\S1 ES\\chb01\\interictal\\chb01_39_normal_raw_epo.fif ...\n",
      "Isotrak not found\n"
     ]
    },
    {
     "name": "stderr",
     "output_type": "stream",
     "text": [
      "C:\\Users\\ACER\\AppData\\Local\\Temp\\ipykernel_7812\\2716453317.py:18: FutureWarning: The current default of copy=False will change to copy=True in 1.7. Set the value of copy explicitly to avoid this warning\n",
      "  data_list.append(epochs.get_data())  # Extract the data matrix\n",
      "C:\\Users\\ACER\\AppData\\Local\\Temp\\ipykernel_7812\\2716453317.py:19: FutureWarning: The current default of copy=False will change to copy=True in 1.7. Set the value of copy explicitly to avoid this warning\n",
      "  labels.append(np.full(epochs.get_data().shape[0], label))  # Label each epoch based on folder\n",
      "C:\\Users\\ACER\\AppData\\Local\\Temp\\ipykernel_7812\\2716453317.py:18: FutureWarning: The current default of copy=False will change to copy=True in 1.7. Set the value of copy explicitly to avoid this warning\n",
      "  data_list.append(epochs.get_data())  # Extract the data matrix\n",
      "C:\\Users\\ACER\\AppData\\Local\\Temp\\ipykernel_7812\\2716453317.py:19: FutureWarning: The current default of copy=False will change to copy=True in 1.7. Set the value of copy explicitly to avoid this warning\n",
      "  labels.append(np.full(epochs.get_data().shape[0], label))  # Label each epoch based on folder\n"
     ]
    },
    {
     "name": "stdout",
     "output_type": "stream",
     "text": [
      "    Found the data of interest:\n",
      "        t =       0.00 ...     992.19 ms\n",
      "        0 CTF compensation matrices available\n",
      "Not setting metadata\n",
      "3600 matching events found\n",
      "No baseline correction applied\n",
      "0 projection items activated\n",
      "Reading D:\\Epilepsy\\S1 ES\\chb01\\interictal\\chb01_40_normal_raw_epo.fif ...\n",
      "Isotrak not found\n",
      "    Found the data of interest:\n",
      "        t =       0.00 ...     992.19 ms\n",
      "        0 CTF compensation matrices available\n",
      "Not setting metadata\n",
      "3600 matching events found\n",
      "No baseline correction applied\n",
      "0 projection items activated\n"
     ]
    },
    {
     "name": "stderr",
     "output_type": "stream",
     "text": [
      "C:\\Users\\ACER\\AppData\\Local\\Temp\\ipykernel_7812\\2716453317.py:18: FutureWarning: The current default of copy=False will change to copy=True in 1.7. Set the value of copy explicitly to avoid this warning\n",
      "  data_list.append(epochs.get_data())  # Extract the data matrix\n",
      "C:\\Users\\ACER\\AppData\\Local\\Temp\\ipykernel_7812\\2716453317.py:19: FutureWarning: The current default of copy=False will change to copy=True in 1.7. Set the value of copy explicitly to avoid this warning\n",
      "  labels.append(np.full(epochs.get_data().shape[0], label))  # Label each epoch based on folder\n",
      "C:\\Users\\ACER\\AppData\\Local\\Temp\\ipykernel_7812\\2716453317.py:18: FutureWarning: The current default of copy=False will change to copy=True in 1.7. Set the value of copy explicitly to avoid this warning\n",
      "  data_list.append(epochs.get_data())  # Extract the data matrix\n",
      "C:\\Users\\ACER\\AppData\\Local\\Temp\\ipykernel_7812\\2716453317.py:19: FutureWarning: The current default of copy=False will change to copy=True in 1.7. Set the value of copy explicitly to avoid this warning\n",
      "  labels.append(np.full(epochs.get_data().shape[0], label))  # Label each epoch based on folder\n"
     ]
    },
    {
     "name": "stdout",
     "output_type": "stream",
     "text": [
      "Reading D:\\Epilepsy\\S1 ES\\chb01\\interictal\\chb01_41_normal_raw_epo.fif ...\n",
      "Isotrak not found\n",
      "    Found the data of interest:\n",
      "        t =       0.00 ...     992.19 ms\n",
      "        0 CTF compensation matrices available\n",
      "Not setting metadata\n",
      "3600 matching events found\n",
      "No baseline correction applied\n",
      "0 projection items activated\n",
      "Reading D:\\Epilepsy\\S1 ES\\chb01\\interictal\\chb01_42_normal_raw_epo.fif ...\n",
      "Isotrak not found\n",
      "    Found the data of interest:\n",
      "        t =       0.00 ...     992.19 ms\n",
      "        0 CTF compensation matrices available\n",
      "Not setting metadata\n",
      "3600 matching events found\n",
      "No baseline correction applied\n",
      "0 projection items activated\n",
      "Reading D:\\Epilepsy\\S1 ES\\chb01\\interictal\\chb01_43_normal_raw_epo.fif ...\n"
     ]
    },
    {
     "name": "stderr",
     "output_type": "stream",
     "text": [
      "C:\\Users\\ACER\\AppData\\Local\\Temp\\ipykernel_7812\\2716453317.py:18: FutureWarning: The current default of copy=False will change to copy=True in 1.7. Set the value of copy explicitly to avoid this warning\n",
      "  data_list.append(epochs.get_data())  # Extract the data matrix\n",
      "C:\\Users\\ACER\\AppData\\Local\\Temp\\ipykernel_7812\\2716453317.py:19: FutureWarning: The current default of copy=False will change to copy=True in 1.7. Set the value of copy explicitly to avoid this warning\n",
      "  labels.append(np.full(epochs.get_data().shape[0], label))  # Label each epoch based on folder\n",
      "C:\\Users\\ACER\\AppData\\Local\\Temp\\ipykernel_7812\\2716453317.py:18: FutureWarning: The current default of copy=False will change to copy=True in 1.7. Set the value of copy explicitly to avoid this warning\n",
      "  data_list.append(epochs.get_data())  # Extract the data matrix\n",
      "C:\\Users\\ACER\\AppData\\Local\\Temp\\ipykernel_7812\\2716453317.py:19: FutureWarning: The current default of copy=False will change to copy=True in 1.7. Set the value of copy explicitly to avoid this warning\n",
      "  labels.append(np.full(epochs.get_data().shape[0], label))  # Label each epoch based on folder\n"
     ]
    },
    {
     "name": "stdout",
     "output_type": "stream",
     "text": [
      "Isotrak not found\n",
      "    Found the data of interest:\n",
      "        t =       0.00 ...     992.19 ms\n",
      "        0 CTF compensation matrices available\n",
      "Not setting metadata\n",
      "3600 matching events found\n",
      "No baseline correction applied\n",
      "0 projection items activated\n",
      "Reading D:\\Epilepsy\\S1 ES\\chb01\\interictal\\chb01_46_normal_raw_epo.fif ...\n",
      "Isotrak not found\n",
      "    Found the data of interest:\n",
      "        t =       0.00 ...     992.19 ms\n",
      "        0 CTF compensation matrices available\n",
      "Not setting metadata\n",
      "3600 matching events found\n"
     ]
    },
    {
     "name": "stderr",
     "output_type": "stream",
     "text": [
      "C:\\Users\\ACER\\AppData\\Local\\Temp\\ipykernel_7812\\2716453317.py:18: FutureWarning: The current default of copy=False will change to copy=True in 1.7. Set the value of copy explicitly to avoid this warning\n",
      "  data_list.append(epochs.get_data())  # Extract the data matrix\n",
      "C:\\Users\\ACER\\AppData\\Local\\Temp\\ipykernel_7812\\2716453317.py:19: FutureWarning: The current default of copy=False will change to copy=True in 1.7. Set the value of copy explicitly to avoid this warning\n",
      "  labels.append(np.full(epochs.get_data().shape[0], label))  # Label each epoch based on folder\n"
     ]
    },
    {
     "name": "stdout",
     "output_type": "stream",
     "text": [
      "No baseline correction applied\n",
      "0 projection items activated\n"
     ]
    },
    {
     "name": "stderr",
     "output_type": "stream",
     "text": [
      "C:\\Users\\ACER\\AppData\\Local\\Temp\\ipykernel_7812\\2716453317.py:18: FutureWarning: The current default of copy=False will change to copy=True in 1.7. Set the value of copy explicitly to avoid this warning\n",
      "  data_list.append(epochs.get_data())  # Extract the data matrix\n",
      "C:\\Users\\ACER\\AppData\\Local\\Temp\\ipykernel_7812\\2716453317.py:19: FutureWarning: The current default of copy=False will change to copy=True in 1.7. Set the value of copy explicitly to avoid this warning\n",
      "  labels.append(np.full(epochs.get_data().shape[0], label))  # Label each epoch based on folder\n"
     ]
    },
    {
     "name": "stdout",
     "output_type": "stream",
     "text": [
      "Reading D:\\Epilepsy\\S1 ES\\chb01\\preictal\\chb01_03.edf_preictal_1_raw_epo.fif ...\n",
      "Isotrak not found\n",
      "    Found the data of interest:\n",
      "        t =       0.00 ...     992.19 ms\n",
      "        0 CTF compensation matrices available\n",
      "Not setting metadata\n",
      "3599 matching events found\n",
      "No baseline correction applied\n",
      "0 projection items activated\n",
      "Reading D:\\Epilepsy\\S1 ES\\chb01\\preictal\\chb01_04.edf_preictal_1_raw_epo.fif ...\n",
      "Isotrak not found\n",
      "    Found the data of interest:\n",
      "        t =       0.00 ...     992.19 ms\n",
      "        0 CTF compensation matrices available\n",
      "Not setting metadata\n",
      "2933 matching events found\n",
      "No baseline correction applied\n",
      "0 projection items activated\n",
      "Reading D:\\Epilepsy\\S1 ES\\chb01\\preictal\\chb01_15.edf_preictal_1_raw_epo.fif ...\n",
      "Isotrak not found\n",
      "    Found the data of interest:\n",
      "        t =       0.00 ...     992.19 ms\n",
      "        0 CTF compensation matrices available\n"
     ]
    },
    {
     "name": "stderr",
     "output_type": "stream",
     "text": [
      "C:\\Users\\ACER\\AppData\\Local\\Temp\\ipykernel_7812\\2716453317.py:18: FutureWarning: The current default of copy=False will change to copy=True in 1.7. Set the value of copy explicitly to avoid this warning\n",
      "  data_list.append(epochs.get_data())  # Extract the data matrix\n",
      "C:\\Users\\ACER\\AppData\\Local\\Temp\\ipykernel_7812\\2716453317.py:19: FutureWarning: The current default of copy=False will change to copy=True in 1.7. Set the value of copy explicitly to avoid this warning\n",
      "  labels.append(np.full(epochs.get_data().shape[0], label))  # Label each epoch based on folder\n",
      "C:\\Users\\ACER\\AppData\\Local\\Temp\\ipykernel_7812\\2716453317.py:18: FutureWarning: The current default of copy=False will change to copy=True in 1.7. Set the value of copy explicitly to avoid this warning\n",
      "  data_list.append(epochs.get_data())  # Extract the data matrix\n",
      "C:\\Users\\ACER\\AppData\\Local\\Temp\\ipykernel_7812\\2716453317.py:19: FutureWarning: The current default of copy=False will change to copy=True in 1.7. Set the value of copy explicitly to avoid this warning\n",
      "  labels.append(np.full(epochs.get_data().shape[0], label))  # Label each epoch based on folder\n"
     ]
    },
    {
     "name": "stdout",
     "output_type": "stream",
     "text": [
      "Not setting metadata\n",
      "3463 matching events found\n",
      "No baseline correction applied\n",
      "0 projection items activated\n",
      "Reading D:\\Epilepsy\\S1 ES\\chb01\\preictal\\chb01_16.edf_preictal_1_raw_epo.fif ...\n",
      "Isotrak not found\n",
      "    Found the data of interest:\n",
      "        t =       0.00 ...     992.19 ms\n",
      "        0 CTF compensation matrices available\n",
      "Not setting metadata\n",
      "2029 matching events found\n",
      "No baseline correction applied\n",
      "0 projection items activated\n",
      "Reading D:\\Epilepsy\\S1 ES\\chb01\\preictal\\chb01_18.edf_preictal_1_raw_epo.fif ...\n",
      "Isotrak not found\n",
      "    Found the data of interest:\n",
      "        t =       0.00 ...     992.19 ms\n",
      "        0 CTF compensation matrices available\n"
     ]
    },
    {
     "name": "stderr",
     "output_type": "stream",
     "text": [
      "C:\\Users\\ACER\\AppData\\Local\\Temp\\ipykernel_7812\\2716453317.py:18: FutureWarning: The current default of copy=False will change to copy=True in 1.7. Set the value of copy explicitly to avoid this warning\n",
      "  data_list.append(epochs.get_data())  # Extract the data matrix\n",
      "C:\\Users\\ACER\\AppData\\Local\\Temp\\ipykernel_7812\\2716453317.py:19: FutureWarning: The current default of copy=False will change to copy=True in 1.7. Set the value of copy explicitly to avoid this warning\n",
      "  labels.append(np.full(epochs.get_data().shape[0], label))  # Label each epoch based on folder\n",
      "C:\\Users\\ACER\\AppData\\Local\\Temp\\ipykernel_7812\\2716453317.py:18: FutureWarning: The current default of copy=False will change to copy=True in 1.7. Set the value of copy explicitly to avoid this warning\n",
      "  data_list.append(epochs.get_data())  # Extract the data matrix\n",
      "C:\\Users\\ACER\\AppData\\Local\\Temp\\ipykernel_7812\\2716453317.py:19: FutureWarning: The current default of copy=False will change to copy=True in 1.7. Set the value of copy explicitly to avoid this warning\n",
      "  labels.append(np.full(epochs.get_data().shape[0], label))  # Label each epoch based on folder\n"
     ]
    },
    {
     "name": "stdout",
     "output_type": "stream",
     "text": [
      "Not setting metadata\n",
      "3439 matching events found\n",
      "No baseline correction applied\n",
      "0 projection items activated\n",
      "Reading D:\\Epilepsy\\S1 ES\\chb01\\preictal\\chb01_21.edf_preictal_1_raw_epo.fif ...\n",
      "Isotrak not found\n",
      "    Found the data of interest:\n",
      "        t =       0.00 ...     992.19 ms\n",
      "        0 CTF compensation matrices available\n",
      "Not setting metadata\n",
      "653 matching events found\n",
      "No baseline correction applied\n",
      "0 projection items activated\n",
      "Reading D:\\Epilepsy\\S1 ES\\chb01\\preictal\\chb01_26.edf_preictal_1_raw_epo.fif ...\n",
      "Isotrak not found\n",
      "    Found the data of interest:\n",
      "        t =       0.00 ...     992.19 ms\n",
      "        0 CTF compensation matrices available\n",
      "Not setting metadata\n"
     ]
    },
    {
     "name": "stderr",
     "output_type": "stream",
     "text": [
      "C:\\Users\\ACER\\AppData\\Local\\Temp\\ipykernel_7812\\2716453317.py:18: FutureWarning: The current default of copy=False will change to copy=True in 1.7. Set the value of copy explicitly to avoid this warning\n",
      "  data_list.append(epochs.get_data())  # Extract the data matrix\n",
      "C:\\Users\\ACER\\AppData\\Local\\Temp\\ipykernel_7812\\2716453317.py:19: FutureWarning: The current default of copy=False will change to copy=True in 1.7. Set the value of copy explicitly to avoid this warning\n",
      "  labels.append(np.full(epochs.get_data().shape[0], label))  # Label each epoch based on folder\n",
      "C:\\Users\\ACER\\AppData\\Local\\Temp\\ipykernel_7812\\2716453317.py:18: FutureWarning: The current default of copy=False will change to copy=True in 1.7. Set the value of copy explicitly to avoid this warning\n",
      "  data_list.append(epochs.get_data())  # Extract the data matrix\n",
      "C:\\Users\\ACER\\AppData\\Local\\Temp\\ipykernel_7812\\2716453317.py:19: FutureWarning: The current default of copy=False will change to copy=True in 1.7. Set the value of copy explicitly to avoid this warning\n",
      "  labels.append(np.full(epochs.get_data().shape[0], label))  # Label each epoch based on folder\n"
     ]
    },
    {
     "name": "stdout",
     "output_type": "stream",
     "text": [
      "3599 matching events found\n",
      "No baseline correction applied\n",
      "0 projection items activated\n"
     ]
    },
    {
     "name": "stderr",
     "output_type": "stream",
     "text": [
      "C:\\Users\\ACER\\AppData\\Local\\Temp\\ipykernel_7812\\2716453317.py:18: FutureWarning: The current default of copy=False will change to copy=True in 1.7. Set the value of copy explicitly to avoid this warning\n",
      "  data_list.append(epochs.get_data())  # Extract the data matrix\n",
      "C:\\Users\\ACER\\AppData\\Local\\Temp\\ipykernel_7812\\2716453317.py:19: FutureWarning: The current default of copy=False will change to copy=True in 1.7. Set the value of copy explicitly to avoid this warning\n",
      "  labels.append(np.full(epochs.get_data().shape[0], label))  # Label each epoch based on folder\n"
     ]
    },
    {
     "name": "stdout",
     "output_type": "stream",
     "text": [
      "Loaded data shape: (142692, 21, 128)\n",
      "Labels shape: (142692,)\n"
     ]
    }
   ],
   "source": [
    "import os\n",
    "import mne\n",
    "\n",
    "\n",
    "\n",
    "\n",
    "interictal_folder = os.path.join(file_path[0], 'interictal')\n",
    "preictal_folder = os.path.join(file_path[0], 'preictal')\n",
    "\n",
    "# Function to load epochs, extract the data, and label them\n",
    "def load_epoch_data(folder_path, label):\n",
    "    data_list = []\n",
    "    labels = []\n",
    "    for file_name in os.listdir(folder_path):\n",
    "        if file_name.endswith('.fif'):  # Ensure we're loading only .fif files\n",
    "            file_path = os.path.join(folder_path, file_name)\n",
    "            epochs = mne.read_epochs(file_path, preload=False)\n",
    "            data_list.append(epochs.get_data())  # Extract the data matrix\n",
    "            labels.append(np.full(epochs.get_data().shape[0], label))  # Label each epoch based on folder\n",
    "    return np.vstack(data_list), np.hstack(labels)\n",
    "\n",
    "# Load interictal data and label as 0\n",
    "interictal_data, interictal_labels = load_epoch_data(interictal_folder, label=0)\n",
    "\n",
    "# Load preictal data and label as 1\n",
    "preictal_data, preictal_labels = load_epoch_data(preictal_folder, label=1)\n",
    "\n",
    "# Combine the data and labels using np.vstack() and np.hstack()\n",
    "all_data = np.vstack([interictal_data, preictal_data])\n",
    "all_labels = np.hstack([interictal_labels, preictal_labels])\n",
    "\n",
    "# Now you have all_data (the actual data) and all_labels\n",
    "print(\"Loaded data shape:\", all_data.shape)\n",
    "print(\"Labels shape:\", all_labels.shape)\n"
   ]
  },
  {
   "cell_type": "code",
   "execution_count": 13,
   "id": "b9869486-d48d-4528-9a50-abc635ea8893",
   "metadata": {},
   "outputs": [
    {
     "name": "stdout",
     "output_type": "stream",
     "text": [
      "Loaded data shape: (142692, 21, 128)\n",
      "Labels shape: (142692,)\n"
     ]
    }
   ],
   "source": [
    "# Now you have all_data (the actual data) and all_labels\n",
    "print(\"Loaded data shape:\", all_data.shape)\n",
    "print(\"Labels shape:\", all_labels.shape)"
   ]
  },
  {
   "cell_type": "code",
   "execution_count": 15,
   "id": "cc8cedf5-a45e-4f8e-9b4b-fa4c39e1e00b",
   "metadata": {},
   "outputs": [
    {
     "data": {
      "text/plain": [
       "0\n",
       "0    122977\n",
       "1     19715\n",
       "Name: count, dtype: int64"
      ]
     },
     "execution_count": 15,
     "metadata": {},
     "output_type": "execute_result"
    }
   ],
   "source": [
    "pd.DataFrame(all_labels).value_counts()"
   ]
  },
  {
   "cell_type": "code",
   "execution_count": 19,
   "id": "e9784991-3c7a-4e63-b383-fa940c6c3562",
   "metadata": {},
   "outputs": [],
   "source": [
    "np.savez(r'D:\\ES npz\\Chb01_1s.npz', X =all_data , Y = all_labels)"
   ]
  },
  {
   "cell_type": "code",
   "execution_count": 17,
   "id": "7a55212a-620e-4e0e-a661-74d0890bb02f",
   "metadata": {},
   "outputs": [
    {
     "data": {
      "text/plain": [
       "array([[ 4.36136922e-08,  1.63080229e-04,  1.35884358e-04, ...,\n",
       "         2.35135545e-07,  4.68244843e-06,  1.00145471e-05],\n",
       "       [ 7.92436055e-08,  1.16884978e-04,  9.70565306e-05, ...,\n",
       "         2.58409855e-05,  2.87846233e-05,  3.69355002e-05],\n",
       "       [ 7.08581069e-08,  4.79074915e-05,  4.00784520e-05, ...,\n",
       "         3.27953203e-05,  1.91828667e-06,  1.05979680e-05],\n",
       "       ...,\n",
       "       [ 5.56623405e-08,  6.37255434e-05,  5.45561015e-05, ...,\n",
       "        -2.45312021e-05, -2.78321768e-05, -1.01091737e-05],\n",
       "       [-3.33313750e-08,  2.96564394e-04,  2.43297705e-04, ...,\n",
       "         8.01588103e-05,  7.88607431e-05,  5.05496355e-05],\n",
       "       [-2.99134335e-08, -1.05321837e-04, -8.82794848e-05, ...,\n",
       "        -1.34080765e-05, -5.11482040e-06, -1.51975937e-05]])"
      ]
     },
     "execution_count": 17,
     "metadata": {},
     "output_type": "execute_result"
    }
   ],
   "source": [
    "all_data[0]"
   ]
  },
  {
   "cell_type": "code",
   "execution_count": 20,
   "id": "b28d523e-45f4-49b4-9756-d8d31b1bdb7d",
   "metadata": {},
   "outputs": [],
   "source": [
    "np.savez_compressed(r'D:\\ES npz\\Chb01_1s_compresed.npz', X=all_data, Y=all_labels)"
   ]
  }
 ],
 "metadata": {
  "kernelspec": {
   "display_name": "Python 3 (ipykernel)",
   "language": "python",
   "name": "python3"
  },
  "language_info": {
   "codemirror_mode": {
    "name": "ipython",
    "version": 3
   },
   "file_extension": ".py",
   "mimetype": "text/x-python",
   "name": "python",
   "nbconvert_exporter": "python",
   "pygments_lexer": "ipython3",
   "version": "3.12.2"
  }
 },
 "nbformat": 4,
 "nbformat_minor": 5
}
