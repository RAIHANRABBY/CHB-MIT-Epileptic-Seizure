{
 "cells": [
  {
   "cell_type": "code",
   "execution_count": 27,
   "id": "3a42f546-7e9c-46db-9c45-e683e238a6d3",
   "metadata": {},
   "outputs": [],
   "source": [
    "# pip install tensorflow"
   ]
  },
  {
   "cell_type": "code",
   "execution_count": 1,
   "id": "06008193-2e8d-47b9-97d2-69cbe752b278",
   "metadata": {},
   "outputs": [],
   "source": [
    "import pandas as pd\n",
    "import numpy as np\n",
    "import seaborn as sns\n",
    "import os\n",
    "import mne"
   ]
  },
  {
   "cell_type": "code",
   "execution_count": 2,
   "id": "118f36c2-d3f1-4d7d-b6d6-9d9b8b1622a3",
   "metadata": {},
   "outputs": [],
   "source": [
    "folder = r'D:\\CHB_MIT'\n",
    "# folder = r'E:\\New folder\\chb24'\n",
    "file_path = [os.path.join(folder,i ) for i in os.listdir(folder)]"
   ]
  },
  {
   "cell_type": "code",
   "execution_count": 3,
   "id": "447699d2-7565-49ff-99f3-5b467befe512",
   "metadata": {},
   "outputs": [
    {
     "name": "stdout",
     "output_type": "stream",
     "text": [
      "['D:\\\\CHB_MIT\\\\chb24']\n"
     ]
    }
   ],
   "source": [
    "print(file_path)"
   ]
  },
  {
   "cell_type": "code",
   "execution_count": 4,
   "id": "93f5f7ea-e24f-4d21-8688-3602f8a248e6",
   "metadata": {},
   "outputs": [
    {
     "data": {
      "text/plain": [
       "['ictal', 'interictal', 'postictal', 'preictal']"
      ]
     },
     "execution_count": 4,
     "metadata": {},
     "output_type": "execute_result"
    }
   ],
   "source": [
    "os.listdir(file_path[0])"
   ]
  },
  {
   "cell_type": "code",
   "execution_count": null,
   "id": "4ff1e399-92f3-4be4-8a61-87895608ae9f",
   "metadata": {},
   "outputs": [],
   "source": [
    "import os\n",
    "import mne\n",
    "\n",
    "# folder = r'E:\\New folder\\chb24'\n",
    "subfolders = [os.path.join(folder, name) for name in os.listdir(folder) if os.path.isdir(os.path.join(folder, name))]\n",
    "\n",
    "# Dictionary to store loaded data\n",
    "data_dict = {}\n",
    "\n",
    "for subfolder in subfolders:\n",
    "    for state_folder in os.listdir(subfolder):\n",
    "        full_state_path = os.path.join(subfolder, state_folder)\n",
    "        fif_files = [f for f in os.listdir(full_state_path) if f.endswith('.fif')]\n",
    "        for fif_file in fif_files:\n",
    "            file_path = os.path.join(full_state_path, fif_file)\n",
    "            raw = mne.io.read_raw_fif(file_path, preload=True)\n",
    "            data_dict[(subfolder, state_folder, fif_file)] = raw\n"
   ]
  },
  {
   "cell_type": "markdown",
   "id": "a705885d-6788-4217-b405-f597046f4d65",
   "metadata": {},
   "source": [
    "# raw data process 24"
   ]
  },
  {
   "cell_type": "code",
   "execution_count": 72,
   "id": "7e4e8990-8d4b-4637-a165-8f886a1373e6",
   "metadata": {},
   "outputs": [],
   "source": [
    "import numpy as np\n",
    "import mne\n",
    "\n",
    "def process_eeg_data(data_dict, target_sfreq=128, epoch_duration=5.0):\n",
    "    \"\"\"\n",
    "    Processes EEG data by downsampling, creating epochs with overlap, \n",
    "    and converting data to reduced precision format.\n",
    "    \n",
    "    Parameters:\n",
    "    - data_dict: Dictionary with (subject, state, file_name) as keys and raw EEG data as values.\n",
    "    - target_sfreq: Target sampling frequency for downsampling.\n",
    "    - epoch_duration: Duration of each epoch in seconds.\n",
    "    \n",
    "    Returns:\n",
    "    - X: Combined NumPy array of EEG epochs.\n",
    "    - Y: Corresponding labels for the epochs.\n",
    "    \"\"\"\n",
    "    \n",
    "    X = []\n",
    "    Y = []\n",
    "    \n",
    "    for (subject, state, file_name), raw in data_dict.items():\n",
    "        raw.resample(target_sfreq)  # Downsample the data\n",
    "        \n",
    "        if raw.times[-1] < epoch_duration:\n",
    "            print(f\"Warning: Data length is shorter than the epoch duration for {file_name}.\")\n",
    "            continue\n",
    "\n",
    "        # Determine overlap and label based on state\n",
    "        if state == 'ictal':\n",
    "            overlap_fraction = 0.985  # 95% overlap\n",
    "            label = 1\n",
    "        elif state == 'preictal':\n",
    "            overlap_fraction = 0.50  # 50% overlap\n",
    "            label = 2\n",
    "        elif state == 'postictal':  # interictal, postictal\n",
    "            overlap_fraction = 0.80  # 90% overlap\n",
    "            label = 3\n",
    "        else:\n",
    "            overlap_fraction = 0.0  # No overlap\n",
    "            label = 0\n",
    "\n",
    "        overlap = epoch_duration * overlap_fraction\n",
    "        \n",
    "        # Create fixed-length epochs with the calculated overlap\n",
    "        epochs = mne.make_fixed_length_epochs(raw, duration=epoch_duration, preload=True, overlap=overlap)\n",
    "        \n",
    "        # Get data and labels, using reduced precision\n",
    "        X_epochs = epochs.get_data().astype(np.float32, copy=True)  # Explicitly set copy=True\n",
    "        Y_epochs = np.full(X_epochs.shape[0], label)  # Assign the label to each epoch\n",
    "        print(f\"Label {label} generated {len(Y_epochs)} epochs.\")\n",
    "        \n",
    "        X.append(X_epochs)\n",
    "        Y.append(Y_epochs)\n",
    "\n",
    "    # Combine all data and labels into single arrays using vstack and hstack\n",
    "    X = np.vstack(X)\n",
    "    Y = np.hstack(Y)\n",
    "\n",
    "    print(\"Final shapes:\", X.shape, Y.shape)\n",
    "    \n",
    "    return X, Y\n",
    "\n",
    "# Example usage\n",
    "# X, Y = process_eeg_data(data_dict)\n"
   ]
  },
  {
   "cell_type": "code",
   "execution_count": 73,
   "id": "71b31fbb-41dd-490f-be22-5446d89fe123",
   "metadata": {},
   "outputs": [
    {
     "name": "stdout",
     "output_type": "stream",
     "text": [
      "Sampling frequency of the instance is already 128.0, returning unmodified.\n",
      "Not setting metadata\n",
      "267 matching events found\n",
      "No baseline correction applied\n",
      "0 projection items activated\n",
      "Using data from preloaded Raw for 267 events and 640 original time points ...\n",
      "0 bad epochs dropped\n",
      "Label 1 generated 267 epochs.\n",
      "Sampling frequency of the instance is already 128.0, returning unmodified.\n",
      "Not setting metadata\n",
      "267 matching events found\n",
      "No baseline correction applied\n",
      "0 projection items activated\n",
      "Using data from preloaded Raw for 267 events and 640 original time points ...\n",
      "0 bad epochs dropped\n",
      "Label 1 generated 267 epochs.\n",
      "Sampling frequency of the instance is already 128.0, returning unmodified.\n",
      "Not setting metadata\n",
      "321 matching events found\n",
      "No baseline correction applied\n",
      "0 projection items activated\n",
      "Using data from preloaded Raw for 321 events and 640 original time points ...\n",
      "0 bad epochs dropped\n",
      "Label 1 generated 321 epochs.\n",
      "Sampling frequency of the instance is already 128.0, returning unmodified.\n",
      "Not setting metadata\n",
      "267 matching events found\n",
      "No baseline correction applied\n",
      "0 projection items activated\n",
      "Using data from preloaded Raw for 267 events and 640 original time points ...\n",
      "0 bad epochs dropped\n",
      "Label 1 generated 267 epochs.\n",
      "Sampling frequency of the instance is already 128.0, returning unmodified.\n",
      "Not setting metadata\n",
      "361 matching events found\n",
      "No baseline correction applied\n",
      "0 projection items activated\n",
      "Using data from preloaded Raw for 361 events and 640 original time points ...\n",
      "0 bad epochs dropped\n"
     ]
    },
    {
     "name": "stderr",
     "output_type": "stream",
     "text": [
      "C:\\Users\\ACER\\AppData\\Local\\Temp\\ipykernel_11988\\1072328186.py:49: FutureWarning: The current default of copy=False will change to copy=True in 1.7. Set the value of copy explicitly to avoid this warning\n",
      "  X_epochs = epochs.get_data().astype(np.float32, copy=True)  # Explicitly set copy=True\n",
      "C:\\Users\\ACER\\AppData\\Local\\Temp\\ipykernel_11988\\1072328186.py:49: FutureWarning: The current default of copy=False will change to copy=True in 1.7. Set the value of copy explicitly to avoid this warning\n",
      "  X_epochs = epochs.get_data().astype(np.float32, copy=True)  # Explicitly set copy=True\n",
      "C:\\Users\\ACER\\AppData\\Local\\Temp\\ipykernel_11988\\1072328186.py:49: FutureWarning: The current default of copy=False will change to copy=True in 1.7. Set the value of copy explicitly to avoid this warning\n",
      "  X_epochs = epochs.get_data().astype(np.float32, copy=True)  # Explicitly set copy=True\n",
      "C:\\Users\\ACER\\AppData\\Local\\Temp\\ipykernel_11988\\1072328186.py:49: FutureWarning: The current default of copy=False will change to copy=True in 1.7. Set the value of copy explicitly to avoid this warning\n",
      "  X_epochs = epochs.get_data().astype(np.float32, copy=True)  # Explicitly set copy=True\n"
     ]
    },
    {
     "name": "stdout",
     "output_type": "stream",
     "text": [
      "Label 1 generated 361 epochs.\n",
      "Sampling frequency of the instance is already 128.0, returning unmodified.\n",
      "Not setting metadata\n",
      "294 matching events found\n",
      "No baseline correction applied\n",
      "0 projection items activated\n",
      "Using data from preloaded Raw for 294 events and 640 original time points ...\n",
      "0 bad epochs dropped\n",
      "Label 1 generated 294 epochs.\n",
      "Sampling frequency of the instance is already 128.0, returning unmodified.\n",
      "Not setting metadata\n",
      "187 matching events found\n",
      "No baseline correction applied\n",
      "0 projection items activated\n",
      "Using data from preloaded Raw for 187 events and 640 original time points ...\n",
      "0 bad epochs dropped\n",
      "Label 1 generated 187 epochs.\n",
      "Sampling frequency of the instance is already 128.0, returning unmodified.\n",
      "Not setting metadata\n",
      "254 matching events found\n",
      "No baseline correction applied\n",
      "0 projection items activated\n",
      "Using data from preloaded Raw for 254 events and 640 original time points ...\n",
      "0 bad epochs dropped\n",
      "Label 1 generated 254 epochs.\n",
      "Sampling frequency of the instance is already 128.0, returning unmodified.\n",
      "Not setting metadata\n",
      "227 matching events found\n",
      "No baseline correction applied\n",
      "0 projection items activated\n",
      "Using data from preloaded Raw for 227 events and 640 original time points ...\n",
      "0 bad epochs dropped\n",
      "Label 1 generated 227 epochs.\n",
      "Sampling frequency of the instance is already 128.0, returning unmodified.\n"
     ]
    },
    {
     "name": "stderr",
     "output_type": "stream",
     "text": [
      "C:\\Users\\ACER\\AppData\\Local\\Temp\\ipykernel_11988\\1072328186.py:49: FutureWarning: The current default of copy=False will change to copy=True in 1.7. Set the value of copy explicitly to avoid this warning\n",
      "  X_epochs = epochs.get_data().astype(np.float32, copy=True)  # Explicitly set copy=True\n",
      "C:\\Users\\ACER\\AppData\\Local\\Temp\\ipykernel_11988\\1072328186.py:49: FutureWarning: The current default of copy=False will change to copy=True in 1.7. Set the value of copy explicitly to avoid this warning\n",
      "  X_epochs = epochs.get_data().astype(np.float32, copy=True)  # Explicitly set copy=True\n",
      "C:\\Users\\ACER\\AppData\\Local\\Temp\\ipykernel_11988\\1072328186.py:49: FutureWarning: The current default of copy=False will change to copy=True in 1.7. Set the value of copy explicitly to avoid this warning\n",
      "  X_epochs = epochs.get_data().astype(np.float32, copy=True)  # Explicitly set copy=True\n",
      "C:\\Users\\ACER\\AppData\\Local\\Temp\\ipykernel_11988\\1072328186.py:49: FutureWarning: The current default of copy=False will change to copy=True in 1.7. Set the value of copy explicitly to avoid this warning\n",
      "  X_epochs = epochs.get_data().astype(np.float32, copy=True)  # Explicitly set copy=True\n",
      "C:\\Users\\ACER\\AppData\\Local\\Temp\\ipykernel_11988\\1072328186.py:49: FutureWarning: The current default of copy=False will change to copy=True in 1.7. Set the value of copy explicitly to avoid this warning\n",
      "  X_epochs = epochs.get_data().astype(np.float32, copy=True)  # Explicitly set copy=True\n"
     ]
    },
    {
     "name": "stdout",
     "output_type": "stream",
     "text": [
      "Not setting metadata\n",
      "187 matching events found\n",
      "No baseline correction applied\n",
      "0 projection items activated\n",
      "Using data from preloaded Raw for 187 events and 640 original time points ...\n",
      "0 bad epochs dropped\n",
      "Label 1 generated 187 epochs.\n",
      "Sampling frequency of the instance is already 128.0, returning unmodified.\n",
      "Not setting metadata\n",
      "867 matching events found\n",
      "No baseline correction applied\n",
      "0 projection items activated\n",
      "Using data from preloaded Raw for 867 events and 640 original time points ...\n",
      "0 bad epochs dropped\n",
      "Label 1 generated 867 epochs.\n",
      "Sampling frequency of the instance is already 128.0, returning unmodified.\n",
      "Not setting metadata\n",
      "147 matching events found\n",
      "No baseline correction applied\n",
      "0 projection items activated\n",
      "Using data from preloaded Raw for 147 events and 640 original time points ...\n",
      "0 bad epochs dropped\n",
      "Label 1 generated 147 epochs.\n",
      "Sampling frequency of the instance is already 128.0, returning unmodified.\n",
      "Not setting metadata\n",
      "294 matching events found\n",
      "No baseline correction applied\n",
      "0 projection items activated\n",
      "Using data from preloaded Raw for 294 events and 640 original time points ...\n",
      "0 bad epochs dropped\n"
     ]
    },
    {
     "name": "stderr",
     "output_type": "stream",
     "text": [
      "C:\\Users\\ACER\\AppData\\Local\\Temp\\ipykernel_11988\\1072328186.py:49: FutureWarning: The current default of copy=False will change to copy=True in 1.7. Set the value of copy explicitly to avoid this warning\n",
      "  X_epochs = epochs.get_data().astype(np.float32, copy=True)  # Explicitly set copy=True\n",
      "C:\\Users\\ACER\\AppData\\Local\\Temp\\ipykernel_11988\\1072328186.py:49: FutureWarning: The current default of copy=False will change to copy=True in 1.7. Set the value of copy explicitly to avoid this warning\n",
      "  X_epochs = epochs.get_data().astype(np.float32, copy=True)  # Explicitly set copy=True\n",
      "C:\\Users\\ACER\\AppData\\Local\\Temp\\ipykernel_11988\\1072328186.py:49: FutureWarning: The current default of copy=False will change to copy=True in 1.7. Set the value of copy explicitly to avoid this warning\n",
      "  X_epochs = epochs.get_data().astype(np.float32, copy=True)  # Explicitly set copy=True\n",
      "C:\\Users\\ACER\\AppData\\Local\\Temp\\ipykernel_11988\\1072328186.py:49: FutureWarning: The current default of copy=False will change to copy=True in 1.7. Set the value of copy explicitly to avoid this warning\n",
      "  X_epochs = epochs.get_data().astype(np.float32, copy=True)  # Explicitly set copy=True\n"
     ]
    },
    {
     "name": "stdout",
     "output_type": "stream",
     "text": [
      "Label 1 generated 294 epochs.\n",
      "Sampling frequency of the instance is already 128.0, returning unmodified.\n",
      "Not setting metadata\n",
      "161 matching events found\n",
      "No baseline correction applied\n",
      "0 projection items activated\n",
      "Using data from preloaded Raw for 161 events and 640 original time points ...\n",
      "0 bad epochs dropped\n",
      "Label 1 generated 161 epochs.\n",
      "Sampling frequency of the instance is already 128.0, returning unmodified.\n",
      "Not setting metadata\n",
      "814 matching events found\n",
      "No baseline correction applied\n",
      "0 projection items activated\n",
      "Using data from preloaded Raw for 814 events and 640 original time points ...\n",
      "0 bad epochs dropped\n",
      "Label 1 generated 814 epochs.\n",
      "Sampling frequency of the instance is already 128.0, returning unmodified.\n",
      "Not setting metadata\n",
      "841 matching events found\n",
      "No baseline correction applied\n",
      "0 projection items activated\n",
      "Using data from preloaded Raw for 841 events and 640 original time points ...\n",
      "0 bad epochs dropped\n"
     ]
    },
    {
     "name": "stderr",
     "output_type": "stream",
     "text": [
      "C:\\Users\\ACER\\AppData\\Local\\Temp\\ipykernel_11988\\1072328186.py:49: FutureWarning: The current default of copy=False will change to copy=True in 1.7. Set the value of copy explicitly to avoid this warning\n",
      "  X_epochs = epochs.get_data().astype(np.float32, copy=True)  # Explicitly set copy=True\n",
      "C:\\Users\\ACER\\AppData\\Local\\Temp\\ipykernel_11988\\1072328186.py:49: FutureWarning: The current default of copy=False will change to copy=True in 1.7. Set the value of copy explicitly to avoid this warning\n",
      "  X_epochs = epochs.get_data().astype(np.float32, copy=True)  # Explicitly set copy=True\n"
     ]
    },
    {
     "name": "stdout",
     "output_type": "stream",
     "text": [
      "Label 1 generated 841 epochs.\n",
      "Sampling frequency of the instance is already 128.0, returning unmodified.\n",
      "Not setting metadata\n",
      "720 matching events found\n",
      "No baseline correction applied\n",
      "0 projection items activated\n",
      "Using data from preloaded Raw for 720 events and 640 original time points ...\n"
     ]
    },
    {
     "name": "stderr",
     "output_type": "stream",
     "text": [
      "C:\\Users\\ACER\\AppData\\Local\\Temp\\ipykernel_11988\\1072328186.py:49: FutureWarning: The current default of copy=False will change to copy=True in 1.7. Set the value of copy explicitly to avoid this warning\n",
      "  X_epochs = epochs.get_data().astype(np.float32, copy=True)  # Explicitly set copy=True\n"
     ]
    },
    {
     "name": "stdout",
     "output_type": "stream",
     "text": [
      "0 bad epochs dropped\n",
      "Label 0 generated 720 epochs.\n",
      "Sampling frequency of the instance is already 128.0, returning unmodified.\n",
      "Not setting metadata\n",
      "720 matching events found\n",
      "No baseline correction applied\n",
      "0 projection items activated\n",
      "Using data from preloaded Raw for 720 events and 640 original time points ...\n"
     ]
    },
    {
     "name": "stderr",
     "output_type": "stream",
     "text": [
      "C:\\Users\\ACER\\AppData\\Local\\Temp\\ipykernel_11988\\1072328186.py:49: FutureWarning: The current default of copy=False will change to copy=True in 1.7. Set the value of copy explicitly to avoid this warning\n",
      "  X_epochs = epochs.get_data().astype(np.float32, copy=True)  # Explicitly set copy=True\n"
     ]
    },
    {
     "name": "stdout",
     "output_type": "stream",
     "text": [
      "0 bad epochs dropped\n",
      "Label 0 generated 720 epochs.\n",
      "Sampling frequency of the instance is already 128.0, returning unmodified.\n",
      "Not setting metadata\n",
      "720 matching events found\n",
      "No baseline correction applied\n",
      "0 projection items activated\n",
      "Using data from preloaded Raw for 720 events and 640 original time points ...\n"
     ]
    },
    {
     "name": "stderr",
     "output_type": "stream",
     "text": [
      "C:\\Users\\ACER\\AppData\\Local\\Temp\\ipykernel_11988\\1072328186.py:49: FutureWarning: The current default of copy=False will change to copy=True in 1.7. Set the value of copy explicitly to avoid this warning\n",
      "  X_epochs = epochs.get_data().astype(np.float32, copy=True)  # Explicitly set copy=True\n"
     ]
    },
    {
     "name": "stdout",
     "output_type": "stream",
     "text": [
      "0 bad epochs dropped\n",
      "Label 0 generated 720 epochs.\n",
      "Sampling frequency of the instance is already 128.0, returning unmodified.\n",
      "Not setting metadata\n",
      "720 matching events found\n",
      "No baseline correction applied\n",
      "0 projection items activated\n",
      "Using data from preloaded Raw for 720 events and 640 original time points ...\n"
     ]
    },
    {
     "name": "stderr",
     "output_type": "stream",
     "text": [
      "C:\\Users\\ACER\\AppData\\Local\\Temp\\ipykernel_11988\\1072328186.py:49: FutureWarning: The current default of copy=False will change to copy=True in 1.7. Set the value of copy explicitly to avoid this warning\n",
      "  X_epochs = epochs.get_data().astype(np.float32, copy=True)  # Explicitly set copy=True\n"
     ]
    },
    {
     "name": "stdout",
     "output_type": "stream",
     "text": [
      "0 bad epochs dropped\n",
      "Label 0 generated 720 epochs.\n",
      "Sampling frequency of the instance is already 128.0, returning unmodified.\n",
      "Not setting metadata\n",
      "720 matching events found\n",
      "No baseline correction applied\n",
      "0 projection items activated\n",
      "Using data from preloaded Raw for 720 events and 640 original time points ...\n"
     ]
    },
    {
     "name": "stderr",
     "output_type": "stream",
     "text": [
      "C:\\Users\\ACER\\AppData\\Local\\Temp\\ipykernel_11988\\1072328186.py:49: FutureWarning: The current default of copy=False will change to copy=True in 1.7. Set the value of copy explicitly to avoid this warning\n",
      "  X_epochs = epochs.get_data().astype(np.float32, copy=True)  # Explicitly set copy=True\n"
     ]
    },
    {
     "name": "stdout",
     "output_type": "stream",
     "text": [
      "0 bad epochs dropped\n",
      "Label 0 generated 720 epochs.\n",
      "Sampling frequency of the instance is already 128.0, returning unmodified.\n",
      "Not setting metadata\n",
      "720 matching events found\n",
      "No baseline correction applied\n",
      "0 projection items activated\n",
      "Using data from preloaded Raw for 720 events and 640 original time points ...\n"
     ]
    },
    {
     "name": "stderr",
     "output_type": "stream",
     "text": [
      "C:\\Users\\ACER\\AppData\\Local\\Temp\\ipykernel_11988\\1072328186.py:49: FutureWarning: The current default of copy=False will change to copy=True in 1.7. Set the value of copy explicitly to avoid this warning\n",
      "  X_epochs = epochs.get_data().astype(np.float32, copy=True)  # Explicitly set copy=True\n"
     ]
    },
    {
     "name": "stdout",
     "output_type": "stream",
     "text": [
      "0 bad epochs dropped\n",
      "Label 0 generated 720 epochs.\n",
      "Sampling frequency of the instance is already 128.0, returning unmodified.\n",
      "Not setting metadata\n",
      "720 matching events found\n",
      "No baseline correction applied\n",
      "0 projection items activated\n",
      "Using data from preloaded Raw for 720 events and 640 original time points ...\n"
     ]
    },
    {
     "name": "stderr",
     "output_type": "stream",
     "text": [
      "C:\\Users\\ACER\\AppData\\Local\\Temp\\ipykernel_11988\\1072328186.py:49: FutureWarning: The current default of copy=False will change to copy=True in 1.7. Set the value of copy explicitly to avoid this warning\n",
      "  X_epochs = epochs.get_data().astype(np.float32, copy=True)  # Explicitly set copy=True\n"
     ]
    },
    {
     "name": "stdout",
     "output_type": "stream",
     "text": [
      "0 bad epochs dropped\n",
      "Label 0 generated 720 epochs.\n",
      "Sampling frequency of the instance is already 128.0, returning unmodified.\n",
      "Not setting metadata\n",
      "720 matching events found\n",
      "No baseline correction applied\n",
      "0 projection items activated\n",
      "Using data from preloaded Raw for 720 events and 640 original time points ...\n"
     ]
    },
    {
     "name": "stderr",
     "output_type": "stream",
     "text": [
      "C:\\Users\\ACER\\AppData\\Local\\Temp\\ipykernel_11988\\1072328186.py:49: FutureWarning: The current default of copy=False will change to copy=True in 1.7. Set the value of copy explicitly to avoid this warning\n",
      "  X_epochs = epochs.get_data().astype(np.float32, copy=True)  # Explicitly set copy=True\n"
     ]
    },
    {
     "name": "stdout",
     "output_type": "stream",
     "text": [
      "0 bad epochs dropped\n",
      "Label 0 generated 720 epochs.\n",
      "Sampling frequency of the instance is already 128.0, returning unmodified.\n",
      "Not setting metadata\n",
      "720 matching events found\n",
      "No baseline correction applied\n",
      "0 projection items activated\n",
      "Using data from preloaded Raw for 720 events and 640 original time points ...\n",
      "0 bad epochs dropped\n"
     ]
    },
    {
     "name": "stderr",
     "output_type": "stream",
     "text": [
      "C:\\Users\\ACER\\AppData\\Local\\Temp\\ipykernel_11988\\1072328186.py:49: FutureWarning: The current default of copy=False will change to copy=True in 1.7. Set the value of copy explicitly to avoid this warning\n",
      "  X_epochs = epochs.get_data().astype(np.float32, copy=True)  # Explicitly set copy=True\n"
     ]
    },
    {
     "name": "stdout",
     "output_type": "stream",
     "text": [
      "Label 0 generated 720 epochs.\n",
      "Sampling frequency of the instance is already 128.0, returning unmodified.\n",
      "Not setting metadata\n",
      "213 matching events found\n",
      "No baseline correction applied\n",
      "0 projection items activated\n",
      "Using data from preloaded Raw for 213 events and 640 original time points ...\n",
      "0 bad epochs dropped\n",
      "Label 0 generated 213 epochs.\n",
      "Sampling frequency of the instance is already 128.0, returning unmodified.\n",
      "Not setting metadata\n",
      "596 matching events found\n",
      "No baseline correction applied\n",
      "0 projection items activated\n",
      "Using data from preloaded Raw for 596 events and 640 original time points ...\n"
     ]
    },
    {
     "name": "stderr",
     "output_type": "stream",
     "text": [
      "C:\\Users\\ACER\\AppData\\Local\\Temp\\ipykernel_11988\\1072328186.py:49: FutureWarning: The current default of copy=False will change to copy=True in 1.7. Set the value of copy explicitly to avoid this warning\n",
      "  X_epochs = epochs.get_data().astype(np.float32, copy=True)  # Explicitly set copy=True\n",
      "C:\\Users\\ACER\\AppData\\Local\\Temp\\ipykernel_11988\\1072328186.py:49: FutureWarning: The current default of copy=False will change to copy=True in 1.7. Set the value of copy explicitly to avoid this warning\n",
      "  X_epochs = epochs.get_data().astype(np.float32, copy=True)  # Explicitly set copy=True\n"
     ]
    },
    {
     "name": "stdout",
     "output_type": "stream",
     "text": [
      "0 bad epochs dropped\n",
      "Label 3 generated 596 epochs.\n",
      "Sampling frequency of the instance is already 128.0, returning unmodified.\n",
      "Not setting metadata\n",
      "596 matching events found\n",
      "No baseline correction applied\n",
      "0 projection items activated\n",
      "Using data from preloaded Raw for 596 events and 640 original time points ...\n",
      "0 bad epochs dropped\n",
      "Label 3 generated 596 epochs.\n",
      "Sampling frequency of the instance is already 128.0, returning unmodified.\n",
      "Not setting metadata\n",
      "596 matching events found\n",
      "No baseline correction applied\n",
      "0 projection items activated\n",
      "Using data from preloaded Raw for 596 events and 640 original time points ...\n"
     ]
    },
    {
     "name": "stderr",
     "output_type": "stream",
     "text": [
      "C:\\Users\\ACER\\AppData\\Local\\Temp\\ipykernel_11988\\1072328186.py:49: FutureWarning: The current default of copy=False will change to copy=True in 1.7. Set the value of copy explicitly to avoid this warning\n",
      "  X_epochs = epochs.get_data().astype(np.float32, copy=True)  # Explicitly set copy=True\n",
      "C:\\Users\\ACER\\AppData\\Local\\Temp\\ipykernel_11988\\1072328186.py:49: FutureWarning: The current default of copy=False will change to copy=True in 1.7. Set the value of copy explicitly to avoid this warning\n",
      "  X_epochs = epochs.get_data().astype(np.float32, copy=True)  # Explicitly set copy=True\n"
     ]
    },
    {
     "name": "stdout",
     "output_type": "stream",
     "text": [
      "0 bad epochs dropped\n",
      "Label 3 generated 596 epochs.\n",
      "Sampling frequency of the instance is already 128.0, returning unmodified.\n",
      "Not setting metadata\n",
      "596 matching events found\n",
      "No baseline correction applied\n",
      "0 projection items activated\n",
      "Using data from preloaded Raw for 596 events and 640 original time points ...\n",
      "0 bad epochs dropped\n",
      "Label 3 generated 596 epochs.\n",
      "Sampling frequency of the instance is already 128.0, returning unmodified.\n",
      "Not setting metadata\n",
      "596 matching events found\n",
      "No baseline correction applied\n",
      "0 projection items activated\n",
      "Using data from preloaded Raw for 596 events and 640 original time points ...\n"
     ]
    },
    {
     "name": "stderr",
     "output_type": "stream",
     "text": [
      "C:\\Users\\ACER\\AppData\\Local\\Temp\\ipykernel_11988\\1072328186.py:49: FutureWarning: The current default of copy=False will change to copy=True in 1.7. Set the value of copy explicitly to avoid this warning\n",
      "  X_epochs = epochs.get_data().astype(np.float32, copy=True)  # Explicitly set copy=True\n",
      "C:\\Users\\ACER\\AppData\\Local\\Temp\\ipykernel_11988\\1072328186.py:49: FutureWarning: The current default of copy=False will change to copy=True in 1.7. Set the value of copy explicitly to avoid this warning\n",
      "  X_epochs = epochs.get_data().astype(np.float32, copy=True)  # Explicitly set copy=True\n"
     ]
    },
    {
     "name": "stdout",
     "output_type": "stream",
     "text": [
      "0 bad epochs dropped\n",
      "Label 3 generated 596 epochs.\n",
      "Sampling frequency of the instance is already 128.0, returning unmodified.\n",
      "Not setting metadata\n",
      "596 matching events found\n",
      "No baseline correction applied\n",
      "0 projection items activated\n",
      "Using data from preloaded Raw for 596 events and 640 original time points ...\n",
      "0 bad epochs dropped\n",
      "Label 3 generated 596 epochs.\n",
      "Sampling frequency of the instance is already 128.0, returning unmodified.\n",
      "Not setting metadata\n",
      "596 matching events found\n",
      "No baseline correction applied\n",
      "0 projection items activated\n",
      "Using data from preloaded Raw for 596 events and 640 original time points ...\n"
     ]
    },
    {
     "name": "stderr",
     "output_type": "stream",
     "text": [
      "C:\\Users\\ACER\\AppData\\Local\\Temp\\ipykernel_11988\\1072328186.py:49: FutureWarning: The current default of copy=False will change to copy=True in 1.7. Set the value of copy explicitly to avoid this warning\n",
      "  X_epochs = epochs.get_data().astype(np.float32, copy=True)  # Explicitly set copy=True\n",
      "C:\\Users\\ACER\\AppData\\Local\\Temp\\ipykernel_11988\\1072328186.py:49: FutureWarning: The current default of copy=False will change to copy=True in 1.7. Set the value of copy explicitly to avoid this warning\n",
      "  X_epochs = epochs.get_data().astype(np.float32, copy=True)  # Explicitly set copy=True\n"
     ]
    },
    {
     "name": "stdout",
     "output_type": "stream",
     "text": [
      "0 bad epochs dropped\n",
      "Label 3 generated 596 epochs.\n",
      "Sampling frequency of the instance is already 128.0, returning unmodified.\n",
      "Not setting metadata\n",
      "596 matching events found\n",
      "No baseline correction applied\n",
      "0 projection items activated\n",
      "Using data from preloaded Raw for 596 events and 640 original time points ...\n",
      "0 bad epochs dropped\n",
      "Label 3 generated 596 epochs.\n",
      "Sampling frequency of the instance is already 128.0, returning unmodified.\n",
      "Not setting metadata\n",
      "292 matching events found\n",
      "No baseline correction applied\n",
      "0 projection items activated\n",
      "Using data from preloaded Raw for 292 events and 640 original time points ...\n"
     ]
    },
    {
     "name": "stderr",
     "output_type": "stream",
     "text": [
      "C:\\Users\\ACER\\AppData\\Local\\Temp\\ipykernel_11988\\1072328186.py:49: FutureWarning: The current default of copy=False will change to copy=True in 1.7. Set the value of copy explicitly to avoid this warning\n",
      "  X_epochs = epochs.get_data().astype(np.float32, copy=True)  # Explicitly set copy=True\n",
      "C:\\Users\\ACER\\AppData\\Local\\Temp\\ipykernel_11988\\1072328186.py:49: FutureWarning: The current default of copy=False will change to copy=True in 1.7. Set the value of copy explicitly to avoid this warning\n",
      "  X_epochs = epochs.get_data().astype(np.float32, copy=True)  # Explicitly set copy=True\n"
     ]
    },
    {
     "name": "stdout",
     "output_type": "stream",
     "text": [
      "0 bad epochs dropped\n",
      "Label 3 generated 292 epochs.\n",
      "Sampling frequency of the instance is already 128.0, returning unmodified.\n",
      "Not setting metadata\n",
      "596 matching events found\n",
      "No baseline correction applied\n",
      "0 projection items activated\n",
      "Using data from preloaded Raw for 596 events and 640 original time points ...\n",
      "0 bad epochs dropped\n"
     ]
    },
    {
     "name": "stderr",
     "output_type": "stream",
     "text": [
      "C:\\Users\\ACER\\AppData\\Local\\Temp\\ipykernel_11988\\1072328186.py:49: FutureWarning: The current default of copy=False will change to copy=True in 1.7. Set the value of copy explicitly to avoid this warning\n",
      "  X_epochs = epochs.get_data().astype(np.float32, copy=True)  # Explicitly set copy=True\n"
     ]
    },
    {
     "name": "stdout",
     "output_type": "stream",
     "text": [
      "Label 3 generated 596 epochs.\n",
      "Sampling frequency of the instance is already 128.0, returning unmodified.\n",
      "Not setting metadata\n",
      "27 matching events found\n",
      "No baseline correction applied\n",
      "0 projection items activated\n",
      "Using data from preloaded Raw for 27 events and 640 original time points ...\n",
      "0 bad epochs dropped\n",
      "Label 3 generated 27 epochs.\n",
      "Sampling frequency of the instance is already 128.0, returning unmodified.\n",
      "Not setting metadata\n",
      "15 matching events found\n",
      "No baseline correction applied\n",
      "0 projection items activated\n",
      "Using data from preloaded Raw for 15 events and 640 original time points ...\n",
      "0 bad epochs dropped\n",
      "Label 3 generated 15 epochs.\n",
      "Sampling frequency of the instance is already 128.0, returning unmodified.\n",
      "Not setting metadata\n",
      "596 matching events found\n",
      "No baseline correction applied\n",
      "0 projection items activated\n",
      "Using data from preloaded Raw for 596 events and 640 original time points ...\n"
     ]
    },
    {
     "name": "stderr",
     "output_type": "stream",
     "text": [
      "C:\\Users\\ACER\\AppData\\Local\\Temp\\ipykernel_11988\\1072328186.py:49: FutureWarning: The current default of copy=False will change to copy=True in 1.7. Set the value of copy explicitly to avoid this warning\n",
      "  X_epochs = epochs.get_data().astype(np.float32, copy=True)  # Explicitly set copy=True\n",
      "C:\\Users\\ACER\\AppData\\Local\\Temp\\ipykernel_11988\\1072328186.py:49: FutureWarning: The current default of copy=False will change to copy=True in 1.7. Set the value of copy explicitly to avoid this warning\n",
      "  X_epochs = epochs.get_data().astype(np.float32, copy=True)  # Explicitly set copy=True\n",
      "C:\\Users\\ACER\\AppData\\Local\\Temp\\ipykernel_11988\\1072328186.py:49: FutureWarning: The current default of copy=False will change to copy=True in 1.7. Set the value of copy explicitly to avoid this warning\n",
      "  X_epochs = epochs.get_data().astype(np.float32, copy=True)  # Explicitly set copy=True\n"
     ]
    },
    {
     "name": "stdout",
     "output_type": "stream",
     "text": [
      "0 bad epochs dropped\n",
      "Label 3 generated 596 epochs.\n",
      "Sampling frequency of the instance is already 128.0, returning unmodified.\n",
      "Not setting metadata\n",
      "191 matching events found\n",
      "No baseline correction applied\n",
      "0 projection items activated\n",
      "Using data from preloaded Raw for 191 events and 640 original time points ...\n",
      "0 bad epochs dropped\n",
      "Label 2 generated 191 epochs.\n",
      "Sampling frequency of the instance is already 128.0, returning unmodified.\n",
      "Not setting metadata\n",
      "91 matching events found\n",
      "No baseline correction applied\n",
      "0 projection items activated\n",
      "Using data from preloaded Raw for 91 events and 640 original time points ...\n",
      "0 bad epochs dropped\n",
      "Label 2 generated 91 epochs.\n",
      "Sampling frequency of the instance is already 128.0, returning unmodified.\n",
      "Not setting metadata\n",
      "88 matching events found\n",
      "No baseline correction applied\n",
      "0 projection items activated\n",
      "Using data from preloaded Raw for 88 events and 640 original time points ...\n",
      "0 bad epochs dropped\n"
     ]
    },
    {
     "name": "stderr",
     "output_type": "stream",
     "text": [
      "C:\\Users\\ACER\\AppData\\Local\\Temp\\ipykernel_11988\\1072328186.py:49: FutureWarning: The current default of copy=False will change to copy=True in 1.7. Set the value of copy explicitly to avoid this warning\n",
      "  X_epochs = epochs.get_data().astype(np.float32, copy=True)  # Explicitly set copy=True\n",
      "C:\\Users\\ACER\\AppData\\Local\\Temp\\ipykernel_11988\\1072328186.py:49: FutureWarning: The current default of copy=False will change to copy=True in 1.7. Set the value of copy explicitly to avoid this warning\n",
      "  X_epochs = epochs.get_data().astype(np.float32, copy=True)  # Explicitly set copy=True\n",
      "C:\\Users\\ACER\\AppData\\Local\\Temp\\ipykernel_11988\\1072328186.py:49: FutureWarning: The current default of copy=False will change to copy=True in 1.7. Set the value of copy explicitly to avoid this warning\n",
      "  X_epochs = epochs.get_data().astype(np.float32, copy=True)  # Explicitly set copy=True\n"
     ]
    },
    {
     "name": "stdout",
     "output_type": "stream",
     "text": [
      "Label 2 generated 88 epochs.\n",
      "Sampling frequency of the instance is already 128.0, returning unmodified.\n",
      "Not setting metadata\n",
      "434 matching events found\n",
      "No baseline correction applied\n",
      "0 projection items activated\n",
      "Using data from preloaded Raw for 434 events and 640 original time points ...\n",
      "0 bad epochs dropped\n",
      "Label 2 generated 434 epochs.\n",
      "Sampling frequency of the instance is already 128.0, returning unmodified.\n",
      "Not setting metadata\n",
      "490 matching events found\n",
      "No baseline correction applied\n",
      "0 projection items activated\n",
      "Using data from preloaded Raw for 490 events and 640 original time points ...\n"
     ]
    },
    {
     "name": "stderr",
     "output_type": "stream",
     "text": [
      "C:\\Users\\ACER\\AppData\\Local\\Temp\\ipykernel_11988\\1072328186.py:49: FutureWarning: The current default of copy=False will change to copy=True in 1.7. Set the value of copy explicitly to avoid this warning\n",
      "  X_epochs = epochs.get_data().astype(np.float32, copy=True)  # Explicitly set copy=True\n",
      "C:\\Users\\ACER\\AppData\\Local\\Temp\\ipykernel_11988\\1072328186.py:49: FutureWarning: The current default of copy=False will change to copy=True in 1.7. Set the value of copy explicitly to avoid this warning\n",
      "  X_epochs = epochs.get_data().astype(np.float32, copy=True)  # Explicitly set copy=True\n"
     ]
    },
    {
     "name": "stdout",
     "output_type": "stream",
     "text": [
      "0 bad epochs dropped\n",
      "Label 2 generated 490 epochs.\n",
      "Sampling frequency of the instance is already 128.0, returning unmodified.\n",
      "Not setting metadata\n",
      "14 matching events found\n",
      "No baseline correction applied\n",
      "0 projection items activated\n",
      "Using data from preloaded Raw for 14 events and 640 original time points ...\n",
      "0 bad epochs dropped\n",
      "Label 2 generated 14 epochs.\n",
      "Sampling frequency of the instance is already 128.0, returning unmodified.\n",
      "Not setting metadata\n",
      "697 matching events found\n",
      "No baseline correction applied\n",
      "0 projection items activated\n",
      "Using data from preloaded Raw for 697 events and 640 original time points ...\n"
     ]
    },
    {
     "name": "stderr",
     "output_type": "stream",
     "text": [
      "C:\\Users\\ACER\\AppData\\Local\\Temp\\ipykernel_11988\\1072328186.py:49: FutureWarning: The current default of copy=False will change to copy=True in 1.7. Set the value of copy explicitly to avoid this warning\n",
      "  X_epochs = epochs.get_data().astype(np.float32, copy=True)  # Explicitly set copy=True\n",
      "C:\\Users\\ACER\\AppData\\Local\\Temp\\ipykernel_11988\\1072328186.py:49: FutureWarning: The current default of copy=False will change to copy=True in 1.7. Set the value of copy explicitly to avoid this warning\n",
      "  X_epochs = epochs.get_data().astype(np.float32, copy=True)  # Explicitly set copy=True\n"
     ]
    },
    {
     "name": "stdout",
     "output_type": "stream",
     "text": [
      "0 bad epochs dropped\n",
      "Label 2 generated 697 epochs.\n",
      "Sampling frequency of the instance is already 128.0, returning unmodified.\n",
      "Not setting metadata\n",
      "719 matching events found\n",
      "No baseline correction applied\n",
      "0 projection items activated\n",
      "Using data from preloaded Raw for 719 events and 640 original time points ...\n"
     ]
    },
    {
     "name": "stderr",
     "output_type": "stream",
     "text": [
      "C:\\Users\\ACER\\AppData\\Local\\Temp\\ipykernel_11988\\1072328186.py:49: FutureWarning: The current default of copy=False will change to copy=True in 1.7. Set the value of copy explicitly to avoid this warning\n",
      "  X_epochs = epochs.get_data().astype(np.float32, copy=True)  # Explicitly set copy=True\n"
     ]
    },
    {
     "name": "stdout",
     "output_type": "stream",
     "text": [
      "0 bad epochs dropped\n",
      "Label 2 generated 719 epochs.\n",
      "Sampling frequency of the instance is already 128.0, returning unmodified.\n",
      "Not setting metadata\n",
      "719 matching events found\n",
      "No baseline correction applied\n",
      "0 projection items activated\n",
      "Using data from preloaded Raw for 719 events and 640 original time points ...\n"
     ]
    },
    {
     "name": "stderr",
     "output_type": "stream",
     "text": [
      "C:\\Users\\ACER\\AppData\\Local\\Temp\\ipykernel_11988\\1072328186.py:49: FutureWarning: The current default of copy=False will change to copy=True in 1.7. Set the value of copy explicitly to avoid this warning\n",
      "  X_epochs = epochs.get_data().astype(np.float32, copy=True)  # Explicitly set copy=True\n"
     ]
    },
    {
     "name": "stdout",
     "output_type": "stream",
     "text": [
      "0 bad epochs dropped\n",
      "Label 2 generated 719 epochs.\n",
      "Sampling frequency of the instance is already 128.0, returning unmodified.\n",
      "Not setting metadata\n",
      "719 matching events found\n",
      "No baseline correction applied\n",
      "0 projection items activated\n",
      "Using data from preloaded Raw for 719 events and 640 original time points ...\n"
     ]
    },
    {
     "name": "stderr",
     "output_type": "stream",
     "text": [
      "C:\\Users\\ACER\\AppData\\Local\\Temp\\ipykernel_11988\\1072328186.py:49: FutureWarning: The current default of copy=False will change to copy=True in 1.7. Set the value of copy explicitly to avoid this warning\n",
      "  X_epochs = epochs.get_data().astype(np.float32, copy=True)  # Explicitly set copy=True\n"
     ]
    },
    {
     "name": "stdout",
     "output_type": "stream",
     "text": [
      "0 bad epochs dropped\n",
      "Label 2 generated 719 epochs.\n",
      "Sampling frequency of the instance is already 128.0, returning unmodified.\n",
      "Not setting metadata\n",
      "719 matching events found\n",
      "No baseline correction applied\n",
      "0 projection items activated\n",
      "Using data from preloaded Raw for 719 events and 640 original time points ...\n"
     ]
    },
    {
     "name": "stderr",
     "output_type": "stream",
     "text": [
      "C:\\Users\\ACER\\AppData\\Local\\Temp\\ipykernel_11988\\1072328186.py:49: FutureWarning: The current default of copy=False will change to copy=True in 1.7. Set the value of copy explicitly to avoid this warning\n",
      "  X_epochs = epochs.get_data().astype(np.float32, copy=True)  # Explicitly set copy=True\n"
     ]
    },
    {
     "name": "stdout",
     "output_type": "stream",
     "text": [
      "0 bad epochs dropped\n",
      "Label 2 generated 719 epochs.\n",
      "Sampling frequency of the instance is already 128.0, returning unmodified.\n",
      "Not setting metadata\n",
      "719 matching events found\n",
      "No baseline correction applied\n",
      "0 projection items activated\n",
      "Using data from preloaded Raw for 719 events and 640 original time points ...\n"
     ]
    },
    {
     "name": "stderr",
     "output_type": "stream",
     "text": [
      "C:\\Users\\ACER\\AppData\\Local\\Temp\\ipykernel_11988\\1072328186.py:49: FutureWarning: The current default of copy=False will change to copy=True in 1.7. Set the value of copy explicitly to avoid this warning\n",
      "  X_epochs = epochs.get_data().astype(np.float32, copy=True)  # Explicitly set copy=True\n"
     ]
    },
    {
     "name": "stdout",
     "output_type": "stream",
     "text": [
      "0 bad epochs dropped\n",
      "Label 2 generated 719 epochs.\n",
      "Sampling frequency of the instance is already 128.0, returning unmodified.\n",
      "Not setting metadata\n",
      "719 matching events found\n",
      "No baseline correction applied\n",
      "0 projection items activated\n",
      "Using data from preloaded Raw for 719 events and 640 original time points ...\n"
     ]
    },
    {
     "name": "stderr",
     "output_type": "stream",
     "text": [
      "C:\\Users\\ACER\\AppData\\Local\\Temp\\ipykernel_11988\\1072328186.py:49: FutureWarning: The current default of copy=False will change to copy=True in 1.7. Set the value of copy explicitly to avoid this warning\n",
      "  X_epochs = epochs.get_data().astype(np.float32, copy=True)  # Explicitly set copy=True\n"
     ]
    },
    {
     "name": "stdout",
     "output_type": "stream",
     "text": [
      "0 bad epochs dropped\n",
      "Label 2 generated 719 epochs.\n"
     ]
    },
    {
     "name": "stderr",
     "output_type": "stream",
     "text": [
      "C:\\Users\\ACER\\AppData\\Local\\Temp\\ipykernel_11988\\1072328186.py:49: FutureWarning: The current default of copy=False will change to copy=True in 1.7. Set the value of copy explicitly to avoid this warning\n",
      "  X_epochs = epochs.get_data().astype(np.float32, copy=True)  # Explicitly set copy=True\n"
     ]
    },
    {
     "name": "stdout",
     "output_type": "stream",
     "text": [
      "Final shapes: (25062, 21, 640) (25062,)\n"
     ]
    }
   ],
   "source": [
    "X, Y = process_eeg_data(data_dict,target_sfreq=128, epoch_duration=5.0)"
   ]
  },
  {
   "cell_type": "code",
   "execution_count": 74,
   "id": "6d97fdd0-9f11-4261-9994-a85c788d4cc3",
   "metadata": {
    "scrolled": true
   },
   "outputs": [
    {
     "data": {
      "text/plain": [
       "0\n",
       "0    6693\n",
       "2    6319\n",
       "3    6294\n",
       "1    5756\n",
       "Name: count, dtype: int64"
      ]
     },
     "execution_count": 74,
     "metadata": {},
     "output_type": "execute_result"
    }
   ],
   "source": [
    "pd.DataFrame(Y).value_counts()\n",
    "# # Y"
   ]
  },
  {
   "cell_type": "code",
   "execution_count": 75,
   "id": "f311abc6-13e7-40c4-9582-757c5ce66f0a",
   "metadata": {},
   "outputs": [
    {
     "data": {
      "text/plain": [
       "(25062, 21, 640)"
      ]
     },
     "execution_count": 75,
     "metadata": {},
     "output_type": "execute_result"
    }
   ],
   "source": [
    "X.shape"
   ]
  },
  {
   "cell_type": "code",
   "execution_count": 76,
   "id": "241bca83-b336-40fe-8809-0fce6b6e09cd",
   "metadata": {},
   "outputs": [
    {
     "data": {
      "text/plain": [
       "(25062, 640, 21)"
      ]
     },
     "execution_count": 76,
     "metadata": {},
     "output_type": "execute_result"
    }
   ],
   "source": [
    "X = np.moveaxis(X,1,2)\n",
    "X.shape"
   ]
  },
  {
   "cell_type": "code",
   "execution_count": 77,
   "id": "84410ffc-b478-4922-8bdd-3b2ae5fd4a2c",
   "metadata": {},
   "outputs": [],
   "source": [
    "np.savez(r'D:\\processed data for CHB\\chb24\\raw\\5sraw.npz',X=X, Y=Y)"
   ]
  },
  {
   "cell_type": "markdown",
   "id": "7d561f14-b277-4341-ae9c-df57e046bce4",
   "metadata": {},
   "source": [
    "# DWT data process different time segments\n"
   ]
  },
  {
   "cell_type": "code",
   "execution_count": 78,
   "id": "3e371a07-9f24-4adb-8f7a-88c74056f8d8",
   "metadata": {},
   "outputs": [],
   "source": [
    "import numpy as np\n",
    "import mne\n",
    "import pywt  # Ensure PyWavelets is installed\n",
    "\n",
    "def process_eeg_data_with_dwt(data_dict, target_sfreq=128, epoch_duration, wavelet='db4', dwt_level=5):\n",
    "    \"\"\"\n",
    "    Processes EEG data by downsampling, creating epochs with overlap,\n",
    "    applying DWT to each epoch, and converting data to reduced precision format.\n",
    "    \n",
    "    Parameters:\n",
    "    - data_dict: Dictionary with (subject, state, file_name) as keys and raw EEG data as values.\n",
    "    - target_sfreq: Target sampling frequency for downsampling.\n",
    "    - epoch_duration: Duration of each epoch in seconds.\n",
    "    - wavelet: Wavelet type to use for DWT.\n",
    "    - dwt_level: Decomposition level for DWT.\n",
    "    \n",
    "    Returns:\n",
    "    - X: Combined NumPy array of DWT-transformed EEG epochs.\n",
    "    - Y: Corresponding labels for the epochs.\n",
    "    \"\"\"\n",
    "    \n",
    "    X = []\n",
    "    Y = []\n",
    "    \n",
    "    for (subject, state, file_name), raw in data_dict.items():\n",
    "        raw.resample(target_sfreq)  # Downsample the data\n",
    "        \n",
    "        if raw.times[-1] < epoch_duration:\n",
    "            print(f\"Warning: Data length is shorter than the epoch duration for {file_name}.\")\n",
    "            continue\n",
    "\n",
    "        # Determine overlap and label based on state\n",
    "        if state == 'ictal':\n",
    "            overlap_fraction = 0.985  # 95% overlap\n",
    "            label = 1\n",
    "        elif state == 'preictal':\n",
    "            overlap_fraction = 0.50  # 50% overlap\n",
    "            label = 2\n",
    "        elif state == 'postictal':  # interictal, postictal\n",
    "            overlap_fraction = 0.80  # 80% overlap\n",
    "            label = 3\n",
    "        else:\n",
    "            overlap_fraction = 0.0  # No overlap\n",
    "            label = 0\n",
    "\n",
    "        overlap = epoch_duration * overlap_fraction\n",
    "        \n",
    "        # Create fixed-length epochs with the calculated overlap\n",
    "        epochs = mne.make_fixed_length_epochs(raw, duration=epoch_duration, preload=True, overlap=overlap)\n",
    "        \n",
    "        # Get data from the epochs\n",
    "        X_epochs = epochs.get_data().astype(np.float32, copy=True)  # Reduced precision\n",
    "        \n",
    "        # Apply DWT to each epoch and append to X\n",
    "        for epoch in X_epochs:\n",
    "            dwt_coeffs = [pywt.wavedec(channel, wavelet, level=dwt_level) for channel in epoch]\n",
    "            X.append(dwt_coeffs)\n",
    "        \n",
    "        # Assign labels\n",
    "        Y_epochs = np.full(len(X_epochs), label)  # Assign the label to each epoch\n",
    "        Y.append(Y_epochs)\n",
    "\n",
    "    # Convert to numpy arrays\n",
    "    X = np.array(X)\n",
    "    Y = np.hstack(Y)\n",
    "\n",
    "    print(\"Final shapes:\", X.shape, Y.shape)\n",
    "    \n",
    "    return X, Y\n"
   ]
  },
  {
   "cell_type": "code",
   "execution_count": 79,
   "id": "62d9a207-e0e1-4a2f-837b-29ec39c07b5d",
   "metadata": {},
   "outputs": [
    {
     "name": "stdout",
     "output_type": "stream",
     "text": [
      "Sampling frequency of the instance is already 128.0, returning unmodified.\n",
      "Not setting metadata\n",
      "267 matching events found\n",
      "No baseline correction applied\n",
      "0 projection items activated\n",
      "Using data from preloaded Raw for 267 events and 640 original time points ...\n",
      "0 bad epochs dropped\n",
      "Label 1 generated 267 epochs.\n",
      "Sampling frequency of the instance is already 128.0, returning unmodified.\n",
      "Not setting metadata\n",
      "267 matching events found\n",
      "No baseline correction applied\n",
      "0 projection items activated\n",
      "Using data from preloaded Raw for 267 events and 640 original time points ...\n",
      "0 bad epochs dropped\n",
      "Label 1 generated 267 epochs.\n",
      "Sampling frequency of the instance is already 128.0, returning unmodified.\n",
      "Not setting metadata\n",
      "321 matching events found\n",
      "No baseline correction applied\n",
      "0 projection items activated\n",
      "Using data from preloaded Raw for 321 events and 640 original time points ...\n",
      "0 bad epochs dropped\n",
      "Label 1 generated 321 epochs.\n",
      "Sampling frequency of the instance is already 128.0, returning unmodified.\n",
      "Not setting metadata\n",
      "267 matching events found\n",
      "No baseline correction applied\n",
      "0 projection items activated\n",
      "Using data from preloaded Raw for 267 events and 640 original time points ...\n",
      "0 bad epochs dropped\n",
      "Label 1 generated 267 epochs.\n",
      "Sampling frequency of the instance is already 128.0, returning unmodified.\n",
      "Not setting metadata\n",
      "361 matching events found\n",
      "No baseline correction applied\n",
      "0 projection items activated\n",
      "Using data from preloaded Raw for 361 events and 640 original time points ...\n"
     ]
    },
    {
     "name": "stderr",
     "output_type": "stream",
     "text": [
      "C:\\Users\\ACER\\AppData\\Local\\Temp\\ipykernel_11988\\1072328186.py:49: FutureWarning: The current default of copy=False will change to copy=True in 1.7. Set the value of copy explicitly to avoid this warning\n",
      "  X_epochs = epochs.get_data().astype(np.float32, copy=True)  # Explicitly set copy=True\n",
      "C:\\Users\\ACER\\AppData\\Local\\Temp\\ipykernel_11988\\1072328186.py:49: FutureWarning: The current default of copy=False will change to copy=True in 1.7. Set the value of copy explicitly to avoid this warning\n",
      "  X_epochs = epochs.get_data().astype(np.float32, copy=True)  # Explicitly set copy=True\n",
      "C:\\Users\\ACER\\AppData\\Local\\Temp\\ipykernel_11988\\1072328186.py:49: FutureWarning: The current default of copy=False will change to copy=True in 1.7. Set the value of copy explicitly to avoid this warning\n",
      "  X_epochs = epochs.get_data().astype(np.float32, copy=True)  # Explicitly set copy=True\n",
      "C:\\Users\\ACER\\AppData\\Local\\Temp\\ipykernel_11988\\1072328186.py:49: FutureWarning: The current default of copy=False will change to copy=True in 1.7. Set the value of copy explicitly to avoid this warning\n",
      "  X_epochs = epochs.get_data().astype(np.float32, copy=True)  # Explicitly set copy=True\n"
     ]
    },
    {
     "name": "stdout",
     "output_type": "stream",
     "text": [
      "0 bad epochs dropped\n",
      "Label 1 generated 361 epochs.\n",
      "Sampling frequency of the instance is already 128.0, returning unmodified.\n",
      "Not setting metadata\n",
      "294 matching events found\n",
      "No baseline correction applied\n",
      "0 projection items activated\n",
      "Using data from preloaded Raw for 294 events and 640 original time points ...\n",
      "0 bad epochs dropped\n",
      "Label 1 generated 294 epochs.\n",
      "Sampling frequency of the instance is already 128.0, returning unmodified.\n",
      "Not setting metadata\n",
      "187 matching events found\n",
      "No baseline correction applied\n",
      "0 projection items activated\n",
      "Using data from preloaded Raw for 187 events and 640 original time points ...\n",
      "0 bad epochs dropped\n",
      "Label 1 generated 187 epochs.\n",
      "Sampling frequency of the instance is already 128.0, returning unmodified.\n",
      "Not setting metadata\n",
      "254 matching events found\n",
      "No baseline correction applied\n",
      "0 projection items activated\n",
      "Using data from preloaded Raw for 254 events and 640 original time points ...\n",
      "0 bad epochs dropped\n",
      "Label 1 generated 254 epochs.\n",
      "Sampling frequency of the instance is already 128.0, returning unmodified.\n",
      "Not setting metadata\n",
      "227 matching events found\n",
      "No baseline correction applied\n",
      "0 projection items activated\n",
      "Using data from preloaded Raw for 227 events and 640 original time points ...\n",
      "0 bad epochs dropped\n"
     ]
    },
    {
     "name": "stderr",
     "output_type": "stream",
     "text": [
      "C:\\Users\\ACER\\AppData\\Local\\Temp\\ipykernel_11988\\1072328186.py:49: FutureWarning: The current default of copy=False will change to copy=True in 1.7. Set the value of copy explicitly to avoid this warning\n",
      "  X_epochs = epochs.get_data().astype(np.float32, copy=True)  # Explicitly set copy=True\n",
      "C:\\Users\\ACER\\AppData\\Local\\Temp\\ipykernel_11988\\1072328186.py:49: FutureWarning: The current default of copy=False will change to copy=True in 1.7. Set the value of copy explicitly to avoid this warning\n",
      "  X_epochs = epochs.get_data().astype(np.float32, copy=True)  # Explicitly set copy=True\n",
      "C:\\Users\\ACER\\AppData\\Local\\Temp\\ipykernel_11988\\1072328186.py:49: FutureWarning: The current default of copy=False will change to copy=True in 1.7. Set the value of copy explicitly to avoid this warning\n",
      "  X_epochs = epochs.get_data().astype(np.float32, copy=True)  # Explicitly set copy=True\n",
      "C:\\Users\\ACER\\AppData\\Local\\Temp\\ipykernel_11988\\1072328186.py:49: FutureWarning: The current default of copy=False will change to copy=True in 1.7. Set the value of copy explicitly to avoid this warning\n",
      "  X_epochs = epochs.get_data().astype(np.float32, copy=True)  # Explicitly set copy=True\n",
      "C:\\Users\\ACER\\AppData\\Local\\Temp\\ipykernel_11988\\1072328186.py:49: FutureWarning: The current default of copy=False will change to copy=True in 1.7. Set the value of copy explicitly to avoid this warning\n",
      "  X_epochs = epochs.get_data().astype(np.float32, copy=True)  # Explicitly set copy=True\n"
     ]
    },
    {
     "name": "stdout",
     "output_type": "stream",
     "text": [
      "Label 1 generated 227 epochs.\n",
      "Sampling frequency of the instance is already 128.0, returning unmodified.\n",
      "Not setting metadata\n",
      "187 matching events found\n",
      "No baseline correction applied\n",
      "0 projection items activated\n",
      "Using data from preloaded Raw for 187 events and 640 original time points ...\n",
      "0 bad epochs dropped\n",
      "Label 1 generated 187 epochs.\n",
      "Sampling frequency of the instance is already 128.0, returning unmodified.\n",
      "Not setting metadata\n",
      "867 matching events found\n",
      "No baseline correction applied\n",
      "0 projection items activated\n",
      "Using data from preloaded Raw for 867 events and 640 original time points ...\n",
      "0 bad epochs dropped\n",
      "Label 1 generated 867 epochs.\n",
      "Sampling frequency of the instance is already 128.0, returning unmodified.\n",
      "Not setting metadata\n",
      "147 matching events found\n",
      "No baseline correction applied\n",
      "0 projection items activated\n",
      "Using data from preloaded Raw for 147 events and 640 original time points ...\n",
      "0 bad epochs dropped\n",
      "Label 1 generated 147 epochs.\n",
      "Sampling frequency of the instance is already 128.0, returning unmodified.\n",
      "Not setting metadata\n",
      "294 matching events found\n",
      "No baseline correction applied\n",
      "0 projection items activated\n",
      "Using data from preloaded Raw for 294 events and 640 original time points ...\n"
     ]
    },
    {
     "name": "stderr",
     "output_type": "stream",
     "text": [
      "C:\\Users\\ACER\\AppData\\Local\\Temp\\ipykernel_11988\\1072328186.py:49: FutureWarning: The current default of copy=False will change to copy=True in 1.7. Set the value of copy explicitly to avoid this warning\n",
      "  X_epochs = epochs.get_data().astype(np.float32, copy=True)  # Explicitly set copy=True\n",
      "C:\\Users\\ACER\\AppData\\Local\\Temp\\ipykernel_11988\\1072328186.py:49: FutureWarning: The current default of copy=False will change to copy=True in 1.7. Set the value of copy explicitly to avoid this warning\n",
      "  X_epochs = epochs.get_data().astype(np.float32, copy=True)  # Explicitly set copy=True\n",
      "C:\\Users\\ACER\\AppData\\Local\\Temp\\ipykernel_11988\\1072328186.py:49: FutureWarning: The current default of copy=False will change to copy=True in 1.7. Set the value of copy explicitly to avoid this warning\n",
      "  X_epochs = epochs.get_data().astype(np.float32, copy=True)  # Explicitly set copy=True\n"
     ]
    },
    {
     "name": "stdout",
     "output_type": "stream",
     "text": [
      "0 bad epochs dropped\n",
      "Label 1 generated 294 epochs.\n",
      "Sampling frequency of the instance is already 128.0, returning unmodified.\n",
      "Not setting metadata\n",
      "161 matching events found\n",
      "No baseline correction applied\n",
      "0 projection items activated\n",
      "Using data from preloaded Raw for 161 events and 640 original time points ...\n",
      "0 bad epochs dropped\n",
      "Label 1 generated 161 epochs.\n",
      "Sampling frequency of the instance is already 128.0, returning unmodified.\n",
      "Not setting metadata\n",
      "814 matching events found\n",
      "No baseline correction applied\n",
      "0 projection items activated\n",
      "Using data from preloaded Raw for 814 events and 640 original time points ...\n",
      "0 bad epochs dropped\n",
      "Label 1 generated 814 epochs.\n",
      "Sampling frequency of the instance is already 128.0, returning unmodified.\n",
      "Not setting metadata\n",
      "841 matching events found\n",
      "No baseline correction applied\n",
      "0 projection items activated\n",
      "Using data from preloaded Raw for 841 events and 640 original time points ...\n"
     ]
    },
    {
     "name": "stderr",
     "output_type": "stream",
     "text": [
      "C:\\Users\\ACER\\AppData\\Local\\Temp\\ipykernel_11988\\1072328186.py:49: FutureWarning: The current default of copy=False will change to copy=True in 1.7. Set the value of copy explicitly to avoid this warning\n",
      "  X_epochs = epochs.get_data().astype(np.float32, copy=True)  # Explicitly set copy=True\n",
      "C:\\Users\\ACER\\AppData\\Local\\Temp\\ipykernel_11988\\1072328186.py:49: FutureWarning: The current default of copy=False will change to copy=True in 1.7. Set the value of copy explicitly to avoid this warning\n",
      "  X_epochs = epochs.get_data().astype(np.float32, copy=True)  # Explicitly set copy=True\n",
      "C:\\Users\\ACER\\AppData\\Local\\Temp\\ipykernel_11988\\1072328186.py:49: FutureWarning: The current default of copy=False will change to copy=True in 1.7. Set the value of copy explicitly to avoid this warning\n",
      "  X_epochs = epochs.get_data().astype(np.float32, copy=True)  # Explicitly set copy=True\n"
     ]
    },
    {
     "name": "stdout",
     "output_type": "stream",
     "text": [
      "0 bad epochs dropped\n",
      "Label 1 generated 841 epochs.\n",
      "Sampling frequency of the instance is already 128.0, returning unmodified.\n",
      "Not setting metadata\n",
      "720 matching events found\n",
      "No baseline correction applied\n",
      "0 projection items activated\n",
      "Using data from preloaded Raw for 720 events and 640 original time points ...\n"
     ]
    },
    {
     "name": "stderr",
     "output_type": "stream",
     "text": [
      "C:\\Users\\ACER\\AppData\\Local\\Temp\\ipykernel_11988\\1072328186.py:49: FutureWarning: The current default of copy=False will change to copy=True in 1.7. Set the value of copy explicitly to avoid this warning\n",
      "  X_epochs = epochs.get_data().astype(np.float32, copy=True)  # Explicitly set copy=True\n"
     ]
    },
    {
     "name": "stdout",
     "output_type": "stream",
     "text": [
      "0 bad epochs dropped\n",
      "Label 0 generated 720 epochs.\n",
      "Sampling frequency of the instance is already 128.0, returning unmodified.\n",
      "Not setting metadata\n",
      "720 matching events found\n",
      "No baseline correction applied\n",
      "0 projection items activated\n",
      "Using data from preloaded Raw for 720 events and 640 original time points ...\n"
     ]
    },
    {
     "name": "stderr",
     "output_type": "stream",
     "text": [
      "C:\\Users\\ACER\\AppData\\Local\\Temp\\ipykernel_11988\\1072328186.py:49: FutureWarning: The current default of copy=False will change to copy=True in 1.7. Set the value of copy explicitly to avoid this warning\n",
      "  X_epochs = epochs.get_data().astype(np.float32, copy=True)  # Explicitly set copy=True\n"
     ]
    },
    {
     "name": "stdout",
     "output_type": "stream",
     "text": [
      "0 bad epochs dropped\n",
      "Label 0 generated 720 epochs.\n",
      "Sampling frequency of the instance is already 128.0, returning unmodified.\n",
      "Not setting metadata\n",
      "720 matching events found\n",
      "No baseline correction applied\n",
      "0 projection items activated\n",
      "Using data from preloaded Raw for 720 events and 640 original time points ...\n"
     ]
    },
    {
     "name": "stderr",
     "output_type": "stream",
     "text": [
      "C:\\Users\\ACER\\AppData\\Local\\Temp\\ipykernel_11988\\1072328186.py:49: FutureWarning: The current default of copy=False will change to copy=True in 1.7. Set the value of copy explicitly to avoid this warning\n",
      "  X_epochs = epochs.get_data().astype(np.float32, copy=True)  # Explicitly set copy=True\n"
     ]
    },
    {
     "name": "stdout",
     "output_type": "stream",
     "text": [
      "0 bad epochs dropped\n",
      "Label 0 generated 720 epochs.\n",
      "Sampling frequency of the instance is already 128.0, returning unmodified.\n",
      "Not setting metadata\n",
      "720 matching events found\n",
      "No baseline correction applied\n",
      "0 projection items activated\n",
      "Using data from preloaded Raw for 720 events and 640 original time points ...\n"
     ]
    },
    {
     "name": "stderr",
     "output_type": "stream",
     "text": [
      "C:\\Users\\ACER\\AppData\\Local\\Temp\\ipykernel_11988\\1072328186.py:49: FutureWarning: The current default of copy=False will change to copy=True in 1.7. Set the value of copy explicitly to avoid this warning\n",
      "  X_epochs = epochs.get_data().astype(np.float32, copy=True)  # Explicitly set copy=True\n"
     ]
    },
    {
     "name": "stdout",
     "output_type": "stream",
     "text": [
      "0 bad epochs dropped\n",
      "Label 0 generated 720 epochs.\n",
      "Sampling frequency of the instance is already 128.0, returning unmodified.\n",
      "Not setting metadata\n",
      "720 matching events found\n",
      "No baseline correction applied\n",
      "0 projection items activated\n",
      "Using data from preloaded Raw for 720 events and 640 original time points ...\n"
     ]
    },
    {
     "name": "stderr",
     "output_type": "stream",
     "text": [
      "C:\\Users\\ACER\\AppData\\Local\\Temp\\ipykernel_11988\\1072328186.py:49: FutureWarning: The current default of copy=False will change to copy=True in 1.7. Set the value of copy explicitly to avoid this warning\n",
      "  X_epochs = epochs.get_data().astype(np.float32, copy=True)  # Explicitly set copy=True\n"
     ]
    },
    {
     "name": "stdout",
     "output_type": "stream",
     "text": [
      "0 bad epochs dropped\n",
      "Label 0 generated 720 epochs.\n",
      "Sampling frequency of the instance is already 128.0, returning unmodified.\n",
      "Not setting metadata\n",
      "720 matching events found\n",
      "No baseline correction applied\n",
      "0 projection items activated\n",
      "Using data from preloaded Raw for 720 events and 640 original time points ...\n"
     ]
    },
    {
     "name": "stderr",
     "output_type": "stream",
     "text": [
      "C:\\Users\\ACER\\AppData\\Local\\Temp\\ipykernel_11988\\1072328186.py:49: FutureWarning: The current default of copy=False will change to copy=True in 1.7. Set the value of copy explicitly to avoid this warning\n",
      "  X_epochs = epochs.get_data().astype(np.float32, copy=True)  # Explicitly set copy=True\n"
     ]
    },
    {
     "name": "stdout",
     "output_type": "stream",
     "text": [
      "0 bad epochs dropped\n",
      "Label 0 generated 720 epochs.\n",
      "Sampling frequency of the instance is already 128.0, returning unmodified.\n",
      "Not setting metadata\n",
      "720 matching events found\n",
      "No baseline correction applied\n",
      "0 projection items activated\n",
      "Using data from preloaded Raw for 720 events and 640 original time points ...\n"
     ]
    },
    {
     "name": "stderr",
     "output_type": "stream",
     "text": [
      "C:\\Users\\ACER\\AppData\\Local\\Temp\\ipykernel_11988\\1072328186.py:49: FutureWarning: The current default of copy=False will change to copy=True in 1.7. Set the value of copy explicitly to avoid this warning\n",
      "  X_epochs = epochs.get_data().astype(np.float32, copy=True)  # Explicitly set copy=True\n"
     ]
    },
    {
     "name": "stdout",
     "output_type": "stream",
     "text": [
      "0 bad epochs dropped\n",
      "Label 0 generated 720 epochs.\n",
      "Sampling frequency of the instance is already 128.0, returning unmodified.\n",
      "Not setting metadata\n",
      "720 matching events found\n",
      "No baseline correction applied\n",
      "0 projection items activated\n",
      "Using data from preloaded Raw for 720 events and 640 original time points ...\n"
     ]
    },
    {
     "name": "stderr",
     "output_type": "stream",
     "text": [
      "C:\\Users\\ACER\\AppData\\Local\\Temp\\ipykernel_11988\\1072328186.py:49: FutureWarning: The current default of copy=False will change to copy=True in 1.7. Set the value of copy explicitly to avoid this warning\n",
      "  X_epochs = epochs.get_data().astype(np.float32, copy=True)  # Explicitly set copy=True\n"
     ]
    },
    {
     "name": "stdout",
     "output_type": "stream",
     "text": [
      "0 bad epochs dropped\n",
      "Label 0 generated 720 epochs.\n",
      "Sampling frequency of the instance is already 128.0, returning unmodified.\n",
      "Not setting metadata\n",
      "720 matching events found\n",
      "No baseline correction applied\n",
      "0 projection items activated\n",
      "Using data from preloaded Raw for 720 events and 640 original time points ...\n"
     ]
    },
    {
     "name": "stderr",
     "output_type": "stream",
     "text": [
      "C:\\Users\\ACER\\AppData\\Local\\Temp\\ipykernel_11988\\1072328186.py:49: FutureWarning: The current default of copy=False will change to copy=True in 1.7. Set the value of copy explicitly to avoid this warning\n",
      "  X_epochs = epochs.get_data().astype(np.float32, copy=True)  # Explicitly set copy=True\n"
     ]
    },
    {
     "name": "stdout",
     "output_type": "stream",
     "text": [
      "0 bad epochs dropped\n",
      "Label 0 generated 720 epochs.\n",
      "Sampling frequency of the instance is already 128.0, returning unmodified.\n",
      "Not setting metadata\n",
      "213 matching events found\n",
      "No baseline correction applied\n",
      "0 projection items activated\n",
      "Using data from preloaded Raw for 213 events and 640 original time points ...\n",
      "0 bad epochs dropped\n",
      "Label 0 generated 213 epochs.\n",
      "Sampling frequency of the instance is already 128.0, returning unmodified.\n",
      "Not setting metadata\n",
      "596 matching events found\n",
      "No baseline correction applied\n",
      "0 projection items activated\n",
      "Using data from preloaded Raw for 596 events and 640 original time points ...\n"
     ]
    },
    {
     "name": "stderr",
     "output_type": "stream",
     "text": [
      "C:\\Users\\ACER\\AppData\\Local\\Temp\\ipykernel_11988\\1072328186.py:49: FutureWarning: The current default of copy=False will change to copy=True in 1.7. Set the value of copy explicitly to avoid this warning\n",
      "  X_epochs = epochs.get_data().astype(np.float32, copy=True)  # Explicitly set copy=True\n",
      "C:\\Users\\ACER\\AppData\\Local\\Temp\\ipykernel_11988\\1072328186.py:49: FutureWarning: The current default of copy=False will change to copy=True in 1.7. Set the value of copy explicitly to avoid this warning\n",
      "  X_epochs = epochs.get_data().astype(np.float32, copy=True)  # Explicitly set copy=True\n"
     ]
    },
    {
     "name": "stdout",
     "output_type": "stream",
     "text": [
      "0 bad epochs dropped\n",
      "Label 3 generated 596 epochs.\n",
      "Sampling frequency of the instance is already 128.0, returning unmodified.\n",
      "Not setting metadata\n",
      "596 matching events found\n",
      "No baseline correction applied\n",
      "0 projection items activated\n",
      "Using data from preloaded Raw for 596 events and 640 original time points ...\n",
      "0 bad epochs dropped\n",
      "Label 3 generated 596 epochs.\n",
      "Sampling frequency of the instance is already 128.0, returning unmodified.\n",
      "Not setting metadata\n",
      "596 matching events found\n",
      "No baseline correction applied\n",
      "0 projection items activated\n",
      "Using data from preloaded Raw for 596 events and 640 original time points ...\n"
     ]
    },
    {
     "name": "stderr",
     "output_type": "stream",
     "text": [
      "C:\\Users\\ACER\\AppData\\Local\\Temp\\ipykernel_11988\\1072328186.py:49: FutureWarning: The current default of copy=False will change to copy=True in 1.7. Set the value of copy explicitly to avoid this warning\n",
      "  X_epochs = epochs.get_data().astype(np.float32, copy=True)  # Explicitly set copy=True\n",
      "C:\\Users\\ACER\\AppData\\Local\\Temp\\ipykernel_11988\\1072328186.py:49: FutureWarning: The current default of copy=False will change to copy=True in 1.7. Set the value of copy explicitly to avoid this warning\n",
      "  X_epochs = epochs.get_data().astype(np.float32, copy=True)  # Explicitly set copy=True\n"
     ]
    },
    {
     "name": "stdout",
     "output_type": "stream",
     "text": [
      "0 bad epochs dropped\n",
      "Label 3 generated 596 epochs.\n",
      "Sampling frequency of the instance is already 128.0, returning unmodified.\n",
      "Not setting metadata\n",
      "596 matching events found\n",
      "No baseline correction applied\n",
      "0 projection items activated\n",
      "Using data from preloaded Raw for 596 events and 640 original time points ...\n",
      "0 bad epochs dropped\n",
      "Label 3 generated 596 epochs.\n",
      "Sampling frequency of the instance is already 128.0, returning unmodified.\n",
      "Not setting metadata\n",
      "596 matching events found\n",
      "No baseline correction applied\n",
      "0 projection items activated\n",
      "Using data from preloaded Raw for 596 events and 640 original time points ...\n"
     ]
    },
    {
     "name": "stderr",
     "output_type": "stream",
     "text": [
      "C:\\Users\\ACER\\AppData\\Local\\Temp\\ipykernel_11988\\1072328186.py:49: FutureWarning: The current default of copy=False will change to copy=True in 1.7. Set the value of copy explicitly to avoid this warning\n",
      "  X_epochs = epochs.get_data().astype(np.float32, copy=True)  # Explicitly set copy=True\n",
      "C:\\Users\\ACER\\AppData\\Local\\Temp\\ipykernel_11988\\1072328186.py:49: FutureWarning: The current default of copy=False will change to copy=True in 1.7. Set the value of copy explicitly to avoid this warning\n",
      "  X_epochs = epochs.get_data().astype(np.float32, copy=True)  # Explicitly set copy=True\n"
     ]
    },
    {
     "name": "stdout",
     "output_type": "stream",
     "text": [
      "0 bad epochs dropped\n",
      "Label 3 generated 596 epochs.\n",
      "Sampling frequency of the instance is already 128.0, returning unmodified.\n",
      "Not setting metadata\n",
      "596 matching events found\n",
      "No baseline correction applied\n",
      "0 projection items activated\n",
      "Using data from preloaded Raw for 596 events and 640 original time points ...\n",
      "0 bad epochs dropped\n",
      "Label 3 generated 596 epochs.\n",
      "Sampling frequency of the instance is already 128.0, returning unmodified.\n",
      "Not setting metadata\n",
      "596 matching events found\n",
      "No baseline correction applied\n",
      "0 projection items activated\n",
      "Using data from preloaded Raw for 596 events and 640 original time points ...\n"
     ]
    },
    {
     "name": "stderr",
     "output_type": "stream",
     "text": [
      "C:\\Users\\ACER\\AppData\\Local\\Temp\\ipykernel_11988\\1072328186.py:49: FutureWarning: The current default of copy=False will change to copy=True in 1.7. Set the value of copy explicitly to avoid this warning\n",
      "  X_epochs = epochs.get_data().astype(np.float32, copy=True)  # Explicitly set copy=True\n",
      "C:\\Users\\ACER\\AppData\\Local\\Temp\\ipykernel_11988\\1072328186.py:49: FutureWarning: The current default of copy=False will change to copy=True in 1.7. Set the value of copy explicitly to avoid this warning\n",
      "  X_epochs = epochs.get_data().astype(np.float32, copy=True)  # Explicitly set copy=True\n"
     ]
    },
    {
     "name": "stdout",
     "output_type": "stream",
     "text": [
      "0 bad epochs dropped\n",
      "Label 3 generated 596 epochs.\n",
      "Sampling frequency of the instance is already 128.0, returning unmodified.\n",
      "Not setting metadata\n",
      "596 matching events found\n",
      "No baseline correction applied\n",
      "0 projection items activated\n",
      "Using data from preloaded Raw for 596 events and 640 original time points ...\n",
      "0 bad epochs dropped\n",
      "Label 3 generated 596 epochs.\n",
      "Sampling frequency of the instance is already 128.0, returning unmodified.\n",
      "Not setting metadata\n",
      "292 matching events found\n",
      "No baseline correction applied\n",
      "0 projection items activated\n",
      "Using data from preloaded Raw for 292 events and 640 original time points ...\n"
     ]
    },
    {
     "name": "stderr",
     "output_type": "stream",
     "text": [
      "C:\\Users\\ACER\\AppData\\Local\\Temp\\ipykernel_11988\\1072328186.py:49: FutureWarning: The current default of copy=False will change to copy=True in 1.7. Set the value of copy explicitly to avoid this warning\n",
      "  X_epochs = epochs.get_data().astype(np.float32, copy=True)  # Explicitly set copy=True\n",
      "C:\\Users\\ACER\\AppData\\Local\\Temp\\ipykernel_11988\\1072328186.py:49: FutureWarning: The current default of copy=False will change to copy=True in 1.7. Set the value of copy explicitly to avoid this warning\n",
      "  X_epochs = epochs.get_data().astype(np.float32, copy=True)  # Explicitly set copy=True\n"
     ]
    },
    {
     "name": "stdout",
     "output_type": "stream",
     "text": [
      "0 bad epochs dropped\n",
      "Label 3 generated 292 epochs.\n",
      "Sampling frequency of the instance is already 128.0, returning unmodified.\n",
      "Not setting metadata\n",
      "596 matching events found\n",
      "No baseline correction applied\n",
      "0 projection items activated\n",
      "Using data from preloaded Raw for 596 events and 640 original time points ...\n",
      "0 bad epochs dropped\n",
      "Label 3 generated 596 epochs.\n",
      "Sampling frequency of the instance is already 128.0, returning unmodified.\n",
      "Not setting metadata\n"
     ]
    },
    {
     "name": "stderr",
     "output_type": "stream",
     "text": [
      "C:\\Users\\ACER\\AppData\\Local\\Temp\\ipykernel_11988\\1072328186.py:49: FutureWarning: The current default of copy=False will change to copy=True in 1.7. Set the value of copy explicitly to avoid this warning\n",
      "  X_epochs = epochs.get_data().astype(np.float32, copy=True)  # Explicitly set copy=True\n",
      "C:\\Users\\ACER\\AppData\\Local\\Temp\\ipykernel_11988\\1072328186.py:49: FutureWarning: The current default of copy=False will change to copy=True in 1.7. Set the value of copy explicitly to avoid this warning\n",
      "  X_epochs = epochs.get_data().astype(np.float32, copy=True)  # Explicitly set copy=True\n"
     ]
    },
    {
     "name": "stdout",
     "output_type": "stream",
     "text": [
      "27 matching events found\n",
      "No baseline correction applied\n",
      "0 projection items activated\n",
      "Using data from preloaded Raw for 27 events and 640 original time points ...\n",
      "0 bad epochs dropped\n",
      "Label 3 generated 27 epochs.\n",
      "Sampling frequency of the instance is already 128.0, returning unmodified.\n",
      "Not setting metadata\n",
      "15 matching events found\n",
      "No baseline correction applied\n",
      "0 projection items activated\n",
      "Using data from preloaded Raw for 15 events and 640 original time points ...\n",
      "0 bad epochs dropped\n",
      "Label 3 generated 15 epochs.\n",
      "Sampling frequency of the instance is already 128.0, returning unmodified.\n",
      "Not setting metadata\n",
      "596 matching events found\n",
      "No baseline correction applied\n",
      "0 projection items activated\n",
      "Using data from preloaded Raw for 596 events and 640 original time points ...\n",
      "0 bad epochs dropped\n",
      "Label 3 generated 596 epochs.\n",
      "Sampling frequency of the instance is already 128.0, returning unmodified.\n",
      "Not setting metadata\n",
      "191 matching events found\n",
      "No baseline correction applied\n",
      "0 projection items activated\n",
      "Using data from preloaded Raw for 191 events and 640 original time points ...\n"
     ]
    },
    {
     "name": "stderr",
     "output_type": "stream",
     "text": [
      "C:\\Users\\ACER\\AppData\\Local\\Temp\\ipykernel_11988\\1072328186.py:49: FutureWarning: The current default of copy=False will change to copy=True in 1.7. Set the value of copy explicitly to avoid this warning\n",
      "  X_epochs = epochs.get_data().astype(np.float32, copy=True)  # Explicitly set copy=True\n",
      "C:\\Users\\ACER\\AppData\\Local\\Temp\\ipykernel_11988\\1072328186.py:49: FutureWarning: The current default of copy=False will change to copy=True in 1.7. Set the value of copy explicitly to avoid this warning\n",
      "  X_epochs = epochs.get_data().astype(np.float32, copy=True)  # Explicitly set copy=True\n",
      "C:\\Users\\ACER\\AppData\\Local\\Temp\\ipykernel_11988\\1072328186.py:49: FutureWarning: The current default of copy=False will change to copy=True in 1.7. Set the value of copy explicitly to avoid this warning\n",
      "  X_epochs = epochs.get_data().astype(np.float32, copy=True)  # Explicitly set copy=True\n"
     ]
    },
    {
     "name": "stdout",
     "output_type": "stream",
     "text": [
      "0 bad epochs dropped\n",
      "Label 2 generated 191 epochs.\n",
      "Sampling frequency of the instance is already 128.0, returning unmodified.\n",
      "Not setting metadata\n",
      "91 matching events found\n",
      "No baseline correction applied\n",
      "0 projection items activated\n",
      "Using data from preloaded Raw for 91 events and 640 original time points ...\n",
      "0 bad epochs dropped\n",
      "Label 2 generated 91 epochs.\n",
      "Sampling frequency of the instance is already 128.0, returning unmodified.\n",
      "Not setting metadata\n",
      "88 matching events found\n",
      "No baseline correction applied\n",
      "0 projection items activated\n",
      "Using data from preloaded Raw for 88 events and 640 original time points ...\n",
      "0 bad epochs dropped\n",
      "Label 2 generated 88 epochs.\n",
      "Sampling frequency of the instance is already 128.0, returning unmodified.\n",
      "Not setting metadata\n",
      "434 matching events found\n",
      "No baseline correction applied\n",
      "0 projection items activated\n",
      "Using data from preloaded Raw for 434 events and 640 original time points ...\n"
     ]
    },
    {
     "name": "stderr",
     "output_type": "stream",
     "text": [
      "C:\\Users\\ACER\\AppData\\Local\\Temp\\ipykernel_11988\\1072328186.py:49: FutureWarning: The current default of copy=False will change to copy=True in 1.7. Set the value of copy explicitly to avoid this warning\n",
      "  X_epochs = epochs.get_data().astype(np.float32, copy=True)  # Explicitly set copy=True\n",
      "C:\\Users\\ACER\\AppData\\Local\\Temp\\ipykernel_11988\\1072328186.py:49: FutureWarning: The current default of copy=False will change to copy=True in 1.7. Set the value of copy explicitly to avoid this warning\n",
      "  X_epochs = epochs.get_data().astype(np.float32, copy=True)  # Explicitly set copy=True\n",
      "C:\\Users\\ACER\\AppData\\Local\\Temp\\ipykernel_11988\\1072328186.py:49: FutureWarning: The current default of copy=False will change to copy=True in 1.7. Set the value of copy explicitly to avoid this warning\n",
      "  X_epochs = epochs.get_data().astype(np.float32, copy=True)  # Explicitly set copy=True\n"
     ]
    },
    {
     "name": "stdout",
     "output_type": "stream",
     "text": [
      "0 bad epochs dropped\n",
      "Label 2 generated 434 epochs.\n",
      "Sampling frequency of the instance is already 128.0, returning unmodified.\n",
      "Not setting metadata\n",
      "490 matching events found\n",
      "No baseline correction applied\n",
      "0 projection items activated\n",
      "Using data from preloaded Raw for 490 events and 640 original time points ...\n"
     ]
    },
    {
     "name": "stderr",
     "output_type": "stream",
     "text": [
      "C:\\Users\\ACER\\AppData\\Local\\Temp\\ipykernel_11988\\1072328186.py:49: FutureWarning: The current default of copy=False will change to copy=True in 1.7. Set the value of copy explicitly to avoid this warning\n",
      "  X_epochs = epochs.get_data().astype(np.float32, copy=True)  # Explicitly set copy=True\n"
     ]
    },
    {
     "name": "stdout",
     "output_type": "stream",
     "text": [
      "0 bad epochs dropped\n",
      "Label 2 generated 490 epochs.\n",
      "Sampling frequency of the instance is already 128.0, returning unmodified.\n",
      "Not setting metadata\n",
      "14 matching events found\n",
      "No baseline correction applied\n",
      "0 projection items activated\n",
      "Using data from preloaded Raw for 14 events and 640 original time points ...\n",
      "0 bad epochs dropped\n",
      "Label 2 generated 14 epochs.\n",
      "Sampling frequency of the instance is already 128.0, returning unmodified.\n",
      "Not setting metadata\n",
      "697 matching events found\n",
      "No baseline correction applied\n",
      "0 projection items activated\n",
      "Using data from preloaded Raw for 697 events and 640 original time points ...\n"
     ]
    },
    {
     "name": "stderr",
     "output_type": "stream",
     "text": [
      "C:\\Users\\ACER\\AppData\\Local\\Temp\\ipykernel_11988\\1072328186.py:49: FutureWarning: The current default of copy=False will change to copy=True in 1.7. Set the value of copy explicitly to avoid this warning\n",
      "  X_epochs = epochs.get_data().astype(np.float32, copy=True)  # Explicitly set copy=True\n",
      "C:\\Users\\ACER\\AppData\\Local\\Temp\\ipykernel_11988\\1072328186.py:49: FutureWarning: The current default of copy=False will change to copy=True in 1.7. Set the value of copy explicitly to avoid this warning\n",
      "  X_epochs = epochs.get_data().astype(np.float32, copy=True)  # Explicitly set copy=True\n"
     ]
    },
    {
     "name": "stdout",
     "output_type": "stream",
     "text": [
      "0 bad epochs dropped\n",
      "Label 2 generated 697 epochs.\n",
      "Sampling frequency of the instance is already 128.0, returning unmodified.\n",
      "Not setting metadata\n",
      "719 matching events found\n",
      "No baseline correction applied\n",
      "0 projection items activated\n",
      "Using data from preloaded Raw for 719 events and 640 original time points ...\n"
     ]
    },
    {
     "name": "stderr",
     "output_type": "stream",
     "text": [
      "C:\\Users\\ACER\\AppData\\Local\\Temp\\ipykernel_11988\\1072328186.py:49: FutureWarning: The current default of copy=False will change to copy=True in 1.7. Set the value of copy explicitly to avoid this warning\n",
      "  X_epochs = epochs.get_data().astype(np.float32, copy=True)  # Explicitly set copy=True\n"
     ]
    },
    {
     "name": "stdout",
     "output_type": "stream",
     "text": [
      "0 bad epochs dropped\n",
      "Label 2 generated 719 epochs.\n",
      "Sampling frequency of the instance is already 128.0, returning unmodified.\n",
      "Not setting metadata\n",
      "719 matching events found\n",
      "No baseline correction applied\n",
      "0 projection items activated\n",
      "Using data from preloaded Raw for 719 events and 640 original time points ...\n"
     ]
    },
    {
     "name": "stderr",
     "output_type": "stream",
     "text": [
      "C:\\Users\\ACER\\AppData\\Local\\Temp\\ipykernel_11988\\1072328186.py:49: FutureWarning: The current default of copy=False will change to copy=True in 1.7. Set the value of copy explicitly to avoid this warning\n",
      "  X_epochs = epochs.get_data().astype(np.float32, copy=True)  # Explicitly set copy=True\n"
     ]
    },
    {
     "name": "stdout",
     "output_type": "stream",
     "text": [
      "0 bad epochs dropped\n",
      "Label 2 generated 719 epochs.\n",
      "Sampling frequency of the instance is already 128.0, returning unmodified.\n",
      "Not setting metadata\n",
      "719 matching events found\n",
      "No baseline correction applied\n",
      "0 projection items activated\n",
      "Using data from preloaded Raw for 719 events and 640 original time points ...\n"
     ]
    },
    {
     "name": "stderr",
     "output_type": "stream",
     "text": [
      "C:\\Users\\ACER\\AppData\\Local\\Temp\\ipykernel_11988\\1072328186.py:49: FutureWarning: The current default of copy=False will change to copy=True in 1.7. Set the value of copy explicitly to avoid this warning\n",
      "  X_epochs = epochs.get_data().astype(np.float32, copy=True)  # Explicitly set copy=True\n"
     ]
    },
    {
     "name": "stdout",
     "output_type": "stream",
     "text": [
      "0 bad epochs dropped\n",
      "Label 2 generated 719 epochs.\n",
      "Sampling frequency of the instance is already 128.0, returning unmodified.\n",
      "Not setting metadata\n",
      "719 matching events found\n",
      "No baseline correction applied\n",
      "0 projection items activated\n",
      "Using data from preloaded Raw for 719 events and 640 original time points ...\n"
     ]
    },
    {
     "name": "stderr",
     "output_type": "stream",
     "text": [
      "C:\\Users\\ACER\\AppData\\Local\\Temp\\ipykernel_11988\\1072328186.py:49: FutureWarning: The current default of copy=False will change to copy=True in 1.7. Set the value of copy explicitly to avoid this warning\n",
      "  X_epochs = epochs.get_data().astype(np.float32, copy=True)  # Explicitly set copy=True\n"
     ]
    },
    {
     "name": "stdout",
     "output_type": "stream",
     "text": [
      "0 bad epochs dropped\n",
      "Label 2 generated 719 epochs.\n",
      "Sampling frequency of the instance is already 128.0, returning unmodified.\n",
      "Not setting metadata\n",
      "719 matching events found\n",
      "No baseline correction applied\n",
      "0 projection items activated\n",
      "Using data from preloaded Raw for 719 events and 640 original time points ...\n"
     ]
    },
    {
     "name": "stderr",
     "output_type": "stream",
     "text": [
      "C:\\Users\\ACER\\AppData\\Local\\Temp\\ipykernel_11988\\1072328186.py:49: FutureWarning: The current default of copy=False will change to copy=True in 1.7. Set the value of copy explicitly to avoid this warning\n",
      "  X_epochs = epochs.get_data().astype(np.float32, copy=True)  # Explicitly set copy=True\n"
     ]
    },
    {
     "name": "stdout",
     "output_type": "stream",
     "text": [
      "0 bad epochs dropped\n",
      "Label 2 generated 719 epochs.\n",
      "Sampling frequency of the instance is already 128.0, returning unmodified.\n",
      "Not setting metadata\n",
      "719 matching events found\n",
      "No baseline correction applied\n",
      "0 projection items activated\n",
      "Using data from preloaded Raw for 719 events and 640 original time points ...\n"
     ]
    },
    {
     "name": "stderr",
     "output_type": "stream",
     "text": [
      "C:\\Users\\ACER\\AppData\\Local\\Temp\\ipykernel_11988\\1072328186.py:49: FutureWarning: The current default of copy=False will change to copy=True in 1.7. Set the value of copy explicitly to avoid this warning\n",
      "  X_epochs = epochs.get_data().astype(np.float32, copy=True)  # Explicitly set copy=True\n"
     ]
    },
    {
     "name": "stdout",
     "output_type": "stream",
     "text": [
      "0 bad epochs dropped\n",
      "Label 2 generated 719 epochs.\n"
     ]
    },
    {
     "name": "stderr",
     "output_type": "stream",
     "text": [
      "C:\\Users\\ACER\\AppData\\Local\\Temp\\ipykernel_11988\\1072328186.py:49: FutureWarning: The current default of copy=False will change to copy=True in 1.7. Set the value of copy explicitly to avoid this warning\n",
      "  X_epochs = epochs.get_data().astype(np.float32, copy=True)  # Explicitly set copy=True\n"
     ]
    },
    {
     "name": "stdout",
     "output_type": "stream",
     "text": [
      "Final shapes: (25062, 21, 640) (25062,)\n"
     ]
    }
   ],
   "source": [
    "X, Y = process_eeg_data(data_dict,target_sfreq=128, epoch_duration=5.0)"
   ]
  },
  {
   "cell_type": "code",
   "execution_count": 80,
   "id": "7be38a79-c5f0-4020-8c2e-7d589c766bcb",
   "metadata": {},
   "outputs": [
    {
     "data": {
      "text/plain": [
       "0\n",
       "0    6693\n",
       "2    6319\n",
       "3    6294\n",
       "1    5756\n",
       "Name: count, dtype: int64"
      ]
     },
     "execution_count": 80,
     "metadata": {},
     "output_type": "execute_result"
    }
   ],
   "source": [
    "pd.DataFrame(Y).value_counts()\n",
    "\n"
   ]
  },
  {
   "cell_type": "code",
   "execution_count": 81,
   "id": "3df5d9f2-e47b-4820-b744-2042391e20d6",
   "metadata": {},
   "outputs": [
    {
     "data": {
      "text/plain": [
       "(25062, 21, 640)"
      ]
     },
     "execution_count": 81,
     "metadata": {},
     "output_type": "execute_result"
    }
   ],
   "source": [
    "X.shape"
   ]
  },
  {
   "cell_type": "code",
   "execution_count": 82,
   "id": "9c0ffd02-b9cf-4d63-aa65-f69c7ce2b90f",
   "metadata": {},
   "outputs": [
    {
     "data": {
      "text/plain": [
       "(25062, 640, 21)"
      ]
     },
     "execution_count": 82,
     "metadata": {},
     "output_type": "execute_result"
    }
   ],
   "source": [
    "X = np.moveaxis(X,1,2)\n",
    "X.shape\n"
   ]
  },
  {
   "cell_type": "code",
   "execution_count": null,
   "id": "28ed919f-45ad-4d5e-b8e1-a5fc41949920",
   "metadata": {},
   "outputs": [],
   "source": [
    "np.savez(r'D:\\processed data for CHB\\chb24\\raw\\5sraw.npz',X=X, Y=Y)"
   ]
  },
  {
   "cell_type": "markdown",
   "id": "fde1b0fd-0154-46f1-b30e-55bdf62916ac",
   "metadata": {
    "jp-MarkdownHeadingCollapsed": true
   },
   "source": [
    "# Model Run and test"
   ]
  },
  {
   "cell_type": "code",
   "execution_count": 11,
   "id": "c033a4c9-4f9a-4c01-8a9b-a6aada6788a6",
   "metadata": {},
   "outputs": [
    {
     "name": "stdout",
     "output_type": "stream",
     "text": [
      "Data scaling completed.\n"
     ]
    }
   ],
   "source": [
    "from sklearn.preprocessing import StandardScaler\n",
    "# c. Scale the data\n",
    "n_channels = X.shape[2]\n",
    "scalers = [StandardScaler() for _ in range(n_channels)]\n",
    "\n",
    "for ch in range(n_channels):\n",
    "    X[:, :, ch] = scalers[ch].fit_transform(X[:, :, ch])\n",
    "\n",
    "print(\"Data scaling completed.\")"
   ]
  },
  {
   "cell_type": "code",
   "execution_count": 12,
   "id": "14ebc00b-c424-4795-b5d1-aeb64f211a02",
   "metadata": {},
   "outputs": [
    {
     "name": "stdout",
     "output_type": "stream",
     "text": [
      "(13143, 2560, 21, 1)\n"
     ]
    }
   ],
   "source": [
    "X = np.expand_dims(X, axis=-1)\n",
    "print(X.shape) "
   ]
  },
  {
   "cell_type": "code",
   "execution_count": 20,
   "id": "c683c482-e88f-4fcb-9332-96003771fd13",
   "metadata": {},
   "outputs": [],
   "source": [
    "# mask = (Y == 0) | (Y == 2)\n",
    "# mask"
   ]
  },
  {
   "cell_type": "code",
   "execution_count": 21,
   "id": "b79794e8-8f65-4efd-9b7e-ed14af02968b",
   "metadata": {},
   "outputs": [
    {
     "name": "stdout",
     "output_type": "stream",
     "text": [
      "Class distribution after filtering:\n",
      "0    3346\n",
      "1    3151\n",
      "Name: count, dtype: int64\n",
      "Training samples: 5197\n",
      "Testing samples: 1300\n",
      "Class weights: {0: 0.9710388639760837, 1: 1.0307417691392304}\n"
     ]
    },
    {
     "data": {
      "text/html": [
       "<pre style=\"white-space:pre;overflow-x:auto;line-height:normal;font-family:Menlo,'DejaVu Sans Mono',consolas,'Courier New',monospace\"><span style=\"font-weight: bold\">Model: \"functional_1\"</span>\n",
       "</pre>\n"
      ],
      "text/plain": [
       "\u001b[1mModel: \"functional_1\"\u001b[0m\n"
      ]
     },
     "metadata": {},
     "output_type": "display_data"
    },
    {
     "data": {
      "text/html": [
       "<pre style=\"white-space:pre;overflow-x:auto;line-height:normal;font-family:Menlo,'DejaVu Sans Mono',consolas,'Courier New',monospace\">┏━━━━━━━━━━━━━━━━━━━━━━━━━━━━━━━┳━━━━━━━━━━━━━━━━━━━━━━━━━━━┳━━━━━━━━━━━━━━━━━┳━━━━━━━━━━━━━━━━━━━━━━━━━━━━┓\n",
       "┃<span style=\"font-weight: bold\"> Layer (type)                  </span>┃<span style=\"font-weight: bold\"> Output Shape              </span>┃<span style=\"font-weight: bold\">         Param # </span>┃<span style=\"font-weight: bold\"> Connected to               </span>┃\n",
       "┡━━━━━━━━━━━━━━━━━━━━━━━━━━━━━━━╇━━━━━━━━━━━━━━━━━━━━━━━━━━━╇━━━━━━━━━━━━━━━━━╇━━━━━━━━━━━━━━━━━━━━━━━━━━━━┩\n",
       "│ input_layer_7 (<span style=\"color: #0087ff; text-decoration-color: #0087ff\">InputLayer</span>)    │ (<span style=\"color: #00d7ff; text-decoration-color: #00d7ff\">None</span>, <span style=\"color: #00af00; text-decoration-color: #00af00\">2560</span>, <span style=\"color: #00af00; text-decoration-color: #00af00\">21</span>, <span style=\"color: #00af00; text-decoration-color: #00af00\">1</span>)       │               <span style=\"color: #00af00; text-decoration-color: #00af00\">0</span> │ -                          │\n",
       "├───────────────────────────────┼───────────────────────────┼─────────────────┼────────────────────────────┤\n",
       "│ conv2d_14 (<span style=\"color: #0087ff; text-decoration-color: #0087ff\">Conv2D</span>)            │ (<span style=\"color: #00d7ff; text-decoration-color: #00d7ff\">None</span>, <span style=\"color: #00af00; text-decoration-color: #00af00\">2558</span>, <span style=\"color: #00af00; text-decoration-color: #00af00\">21</span>, <span style=\"color: #00af00; text-decoration-color: #00af00\">32</span>)      │             <span style=\"color: #00af00; text-decoration-color: #00af00\">128</span> │ input_layer_7[<span style=\"color: #00af00; text-decoration-color: #00af00\">0</span>][<span style=\"color: #00af00; text-decoration-color: #00af00\">0</span>]        │\n",
       "├───────────────────────────────┼───────────────────────────┼─────────────────┼────────────────────────────┤\n",
       "│ max_pooling2d_14              │ (<span style=\"color: #00d7ff; text-decoration-color: #00d7ff\">None</span>, <span style=\"color: #00af00; text-decoration-color: #00af00\">2556</span>, <span style=\"color: #00af00; text-decoration-color: #00af00\">21</span>, <span style=\"color: #00af00; text-decoration-color: #00af00\">32</span>)      │               <span style=\"color: #00af00; text-decoration-color: #00af00\">0</span> │ conv2d_14[<span style=\"color: #00af00; text-decoration-color: #00af00\">0</span>][<span style=\"color: #00af00; text-decoration-color: #00af00\">0</span>]            │\n",
       "│ (<span style=\"color: #0087ff; text-decoration-color: #0087ff\">MaxPooling2D</span>)                │                           │                 │                            │\n",
       "├───────────────────────────────┼───────────────────────────┼─────────────────┼────────────────────────────┤\n",
       "│ conv2d_15 (<span style=\"color: #0087ff; text-decoration-color: #0087ff\">Conv2D</span>)            │ (<span style=\"color: #00d7ff; text-decoration-color: #00d7ff\">None</span>, <span style=\"color: #00af00; text-decoration-color: #00af00\">2554</span>, <span style=\"color: #00af00; text-decoration-color: #00af00\">21</span>, <span style=\"color: #00af00; text-decoration-color: #00af00\">64</span>)      │           <span style=\"color: #00af00; text-decoration-color: #00af00\">6,208</span> │ max_pooling2d_14[<span style=\"color: #00af00; text-decoration-color: #00af00\">0</span>][<span style=\"color: #00af00; text-decoration-color: #00af00\">0</span>]     │\n",
       "├───────────────────────────────┼───────────────────────────┼─────────────────┼────────────────────────────┤\n",
       "│ max_pooling2d_15              │ (<span style=\"color: #00d7ff; text-decoration-color: #00d7ff\">None</span>, <span style=\"color: #00af00; text-decoration-color: #00af00\">2552</span>, <span style=\"color: #00af00; text-decoration-color: #00af00\">21</span>, <span style=\"color: #00af00; text-decoration-color: #00af00\">64</span>)      │               <span style=\"color: #00af00; text-decoration-color: #00af00\">0</span> │ conv2d_15[<span style=\"color: #00af00; text-decoration-color: #00af00\">0</span>][<span style=\"color: #00af00; text-decoration-color: #00af00\">0</span>]            │\n",
       "│ (<span style=\"color: #0087ff; text-decoration-color: #0087ff\">MaxPooling2D</span>)                │                           │                 │                            │\n",
       "├───────────────────────────────┼───────────────────────────┼─────────────────┼────────────────────────────┤\n",
       "│ reshape_5 (<span style=\"color: #0087ff; text-decoration-color: #0087ff\">Reshape</span>)           │ (<span style=\"color: #00d7ff; text-decoration-color: #00d7ff\">None</span>, <span style=\"color: #00af00; text-decoration-color: #00af00\">2552</span>, <span style=\"color: #00af00; text-decoration-color: #00af00\">1344</span>)        │               <span style=\"color: #00af00; text-decoration-color: #00af00\">0</span> │ max_pooling2d_15[<span style=\"color: #00af00; text-decoration-color: #00af00\">0</span>][<span style=\"color: #00af00; text-decoration-color: #00af00\">0</span>]     │\n",
       "├───────────────────────────────┼───────────────────────────┼─────────────────┼────────────────────────────┤\n",
       "│ gru_3 (<span style=\"color: #0087ff; text-decoration-color: #0087ff\">GRU</span>)                   │ (<span style=\"color: #00d7ff; text-decoration-color: #00d7ff\">None</span>, <span style=\"color: #00af00; text-decoration-color: #00af00\">2552</span>, <span style=\"color: #00af00; text-decoration-color: #00af00\">10</span>)          │          <span style=\"color: #00af00; text-decoration-color: #00af00\">40,680</span> │ reshape_5[<span style=\"color: #00af00; text-decoration-color: #00af00\">0</span>][<span style=\"color: #00af00; text-decoration-color: #00af00\">0</span>]            │\n",
       "├───────────────────────────────┼───────────────────────────┼─────────────────┼────────────────────────────┤\n",
       "│ attention_1 (<span style=\"color: #0087ff; text-decoration-color: #0087ff\">Attention</span>)       │ (<span style=\"color: #00d7ff; text-decoration-color: #00d7ff\">None</span>, <span style=\"color: #00af00; text-decoration-color: #00af00\">2552</span>, <span style=\"color: #00af00; text-decoration-color: #00af00\">10</span>)          │               <span style=\"color: #00af00; text-decoration-color: #00af00\">0</span> │ gru_3[<span style=\"color: #00af00; text-decoration-color: #00af00\">0</span>][<span style=\"color: #00af00; text-decoration-color: #00af00\">0</span>], gru_3[<span style=\"color: #00af00; text-decoration-color: #00af00\">0</span>][<span style=\"color: #00af00; text-decoration-color: #00af00\">0</span>]   │\n",
       "├───────────────────────────────┼───────────────────────────┼─────────────────┼────────────────────────────┤\n",
       "│ multiply_1 (<span style=\"color: #0087ff; text-decoration-color: #0087ff\">Multiply</span>)         │ (<span style=\"color: #00d7ff; text-decoration-color: #00d7ff\">None</span>, <span style=\"color: #00af00; text-decoration-color: #00af00\">2552</span>, <span style=\"color: #00af00; text-decoration-color: #00af00\">10</span>)          │               <span style=\"color: #00af00; text-decoration-color: #00af00\">0</span> │ gru_3[<span style=\"color: #00af00; text-decoration-color: #00af00\">0</span>][<span style=\"color: #00af00; text-decoration-color: #00af00\">0</span>],               │\n",
       "│                               │                           │                 │ attention_1[<span style=\"color: #00af00; text-decoration-color: #00af00\">0</span>][<span style=\"color: #00af00; text-decoration-color: #00af00\">0</span>]          │\n",
       "├───────────────────────────────┼───────────────────────────┼─────────────────┼────────────────────────────┤\n",
       "│ add_1 (<span style=\"color: #0087ff; text-decoration-color: #0087ff\">Add</span>)                   │ (<span style=\"color: #00d7ff; text-decoration-color: #00d7ff\">None</span>, <span style=\"color: #00af00; text-decoration-color: #00af00\">2552</span>, <span style=\"color: #00af00; text-decoration-color: #00af00\">10</span>)          │               <span style=\"color: #00af00; text-decoration-color: #00af00\">0</span> │ multiply_1[<span style=\"color: #00af00; text-decoration-color: #00af00\">0</span>][<span style=\"color: #00af00; text-decoration-color: #00af00\">0</span>],          │\n",
       "│                               │                           │                 │ gru_3[<span style=\"color: #00af00; text-decoration-color: #00af00\">0</span>][<span style=\"color: #00af00; text-decoration-color: #00af00\">0</span>]                │\n",
       "├───────────────────────────────┼───────────────────────────┼─────────────────┼────────────────────────────┤\n",
       "│ flatten_5 (<span style=\"color: #0087ff; text-decoration-color: #0087ff\">Flatten</span>)           │ (<span style=\"color: #00d7ff; text-decoration-color: #00d7ff\">None</span>, <span style=\"color: #00af00; text-decoration-color: #00af00\">25520</span>)             │               <span style=\"color: #00af00; text-decoration-color: #00af00\">0</span> │ add_1[<span style=\"color: #00af00; text-decoration-color: #00af00\">0</span>][<span style=\"color: #00af00; text-decoration-color: #00af00\">0</span>]                │\n",
       "├───────────────────────────────┼───────────────────────────┼─────────────────┼────────────────────────────┤\n",
       "│ dense_2 (<span style=\"color: #0087ff; text-decoration-color: #0087ff\">Dense</span>)               │ (<span style=\"color: #00d7ff; text-decoration-color: #00d7ff\">None</span>, <span style=\"color: #00af00; text-decoration-color: #00af00\">128</span>)               │       <span style=\"color: #00af00; text-decoration-color: #00af00\">3,266,688</span> │ flatten_5[<span style=\"color: #00af00; text-decoration-color: #00af00\">0</span>][<span style=\"color: #00af00; text-decoration-color: #00af00\">0</span>]            │\n",
       "├───────────────────────────────┼───────────────────────────┼─────────────────┼────────────────────────────┤\n",
       "│ dense_3 (<span style=\"color: #0087ff; text-decoration-color: #0087ff\">Dense</span>)               │ (<span style=\"color: #00d7ff; text-decoration-color: #00d7ff\">None</span>, <span style=\"color: #00af00; text-decoration-color: #00af00\">2</span>)                 │             <span style=\"color: #00af00; text-decoration-color: #00af00\">258</span> │ dense_2[<span style=\"color: #00af00; text-decoration-color: #00af00\">0</span>][<span style=\"color: #00af00; text-decoration-color: #00af00\">0</span>]              │\n",
       "└───────────────────────────────┴───────────────────────────┴─────────────────┴────────────────────────────┘\n",
       "</pre>\n"
      ],
      "text/plain": [
       "┏━━━━━━━━━━━━━━━━━━━━━━━━━━━━━━━┳━━━━━━━━━━━━━━━━━━━━━━━━━━━┳━━━━━━━━━━━━━━━━━┳━━━━━━━━━━━━━━━━━━━━━━━━━━━━┓\n",
       "┃\u001b[1m \u001b[0m\u001b[1mLayer (type)                 \u001b[0m\u001b[1m \u001b[0m┃\u001b[1m \u001b[0m\u001b[1mOutput Shape             \u001b[0m\u001b[1m \u001b[0m┃\u001b[1m \u001b[0m\u001b[1m        Param #\u001b[0m\u001b[1m \u001b[0m┃\u001b[1m \u001b[0m\u001b[1mConnected to              \u001b[0m\u001b[1m \u001b[0m┃\n",
       "┡━━━━━━━━━━━━━━━━━━━━━━━━━━━━━━━╇━━━━━━━━━━━━━━━━━━━━━━━━━━━╇━━━━━━━━━━━━━━━━━╇━━━━━━━━━━━━━━━━━━━━━━━━━━━━┩\n",
       "│ input_layer_7 (\u001b[38;5;33mInputLayer\u001b[0m)    │ (\u001b[38;5;45mNone\u001b[0m, \u001b[38;5;34m2560\u001b[0m, \u001b[38;5;34m21\u001b[0m, \u001b[38;5;34m1\u001b[0m)       │               \u001b[38;5;34m0\u001b[0m │ -                          │\n",
       "├───────────────────────────────┼───────────────────────────┼─────────────────┼────────────────────────────┤\n",
       "│ conv2d_14 (\u001b[38;5;33mConv2D\u001b[0m)            │ (\u001b[38;5;45mNone\u001b[0m, \u001b[38;5;34m2558\u001b[0m, \u001b[38;5;34m21\u001b[0m, \u001b[38;5;34m32\u001b[0m)      │             \u001b[38;5;34m128\u001b[0m │ input_layer_7[\u001b[38;5;34m0\u001b[0m][\u001b[38;5;34m0\u001b[0m]        │\n",
       "├───────────────────────────────┼───────────────────────────┼─────────────────┼────────────────────────────┤\n",
       "│ max_pooling2d_14              │ (\u001b[38;5;45mNone\u001b[0m, \u001b[38;5;34m2556\u001b[0m, \u001b[38;5;34m21\u001b[0m, \u001b[38;5;34m32\u001b[0m)      │               \u001b[38;5;34m0\u001b[0m │ conv2d_14[\u001b[38;5;34m0\u001b[0m][\u001b[38;5;34m0\u001b[0m]            │\n",
       "│ (\u001b[38;5;33mMaxPooling2D\u001b[0m)                │                           │                 │                            │\n",
       "├───────────────────────────────┼───────────────────────────┼─────────────────┼────────────────────────────┤\n",
       "│ conv2d_15 (\u001b[38;5;33mConv2D\u001b[0m)            │ (\u001b[38;5;45mNone\u001b[0m, \u001b[38;5;34m2554\u001b[0m, \u001b[38;5;34m21\u001b[0m, \u001b[38;5;34m64\u001b[0m)      │           \u001b[38;5;34m6,208\u001b[0m │ max_pooling2d_14[\u001b[38;5;34m0\u001b[0m][\u001b[38;5;34m0\u001b[0m]     │\n",
       "├───────────────────────────────┼───────────────────────────┼─────────────────┼────────────────────────────┤\n",
       "│ max_pooling2d_15              │ (\u001b[38;5;45mNone\u001b[0m, \u001b[38;5;34m2552\u001b[0m, \u001b[38;5;34m21\u001b[0m, \u001b[38;5;34m64\u001b[0m)      │               \u001b[38;5;34m0\u001b[0m │ conv2d_15[\u001b[38;5;34m0\u001b[0m][\u001b[38;5;34m0\u001b[0m]            │\n",
       "│ (\u001b[38;5;33mMaxPooling2D\u001b[0m)                │                           │                 │                            │\n",
       "├───────────────────────────────┼───────────────────────────┼─────────────────┼────────────────────────────┤\n",
       "│ reshape_5 (\u001b[38;5;33mReshape\u001b[0m)           │ (\u001b[38;5;45mNone\u001b[0m, \u001b[38;5;34m2552\u001b[0m, \u001b[38;5;34m1344\u001b[0m)        │               \u001b[38;5;34m0\u001b[0m │ max_pooling2d_15[\u001b[38;5;34m0\u001b[0m][\u001b[38;5;34m0\u001b[0m]     │\n",
       "├───────────────────────────────┼───────────────────────────┼─────────────────┼────────────────────────────┤\n",
       "│ gru_3 (\u001b[38;5;33mGRU\u001b[0m)                   │ (\u001b[38;5;45mNone\u001b[0m, \u001b[38;5;34m2552\u001b[0m, \u001b[38;5;34m10\u001b[0m)          │          \u001b[38;5;34m40,680\u001b[0m │ reshape_5[\u001b[38;5;34m0\u001b[0m][\u001b[38;5;34m0\u001b[0m]            │\n",
       "├───────────────────────────────┼───────────────────────────┼─────────────────┼────────────────────────────┤\n",
       "│ attention_1 (\u001b[38;5;33mAttention\u001b[0m)       │ (\u001b[38;5;45mNone\u001b[0m, \u001b[38;5;34m2552\u001b[0m, \u001b[38;5;34m10\u001b[0m)          │               \u001b[38;5;34m0\u001b[0m │ gru_3[\u001b[38;5;34m0\u001b[0m][\u001b[38;5;34m0\u001b[0m], gru_3[\u001b[38;5;34m0\u001b[0m][\u001b[38;5;34m0\u001b[0m]   │\n",
       "├───────────────────────────────┼───────────────────────────┼─────────────────┼────────────────────────────┤\n",
       "│ multiply_1 (\u001b[38;5;33mMultiply\u001b[0m)         │ (\u001b[38;5;45mNone\u001b[0m, \u001b[38;5;34m2552\u001b[0m, \u001b[38;5;34m10\u001b[0m)          │               \u001b[38;5;34m0\u001b[0m │ gru_3[\u001b[38;5;34m0\u001b[0m][\u001b[38;5;34m0\u001b[0m],               │\n",
       "│                               │                           │                 │ attention_1[\u001b[38;5;34m0\u001b[0m][\u001b[38;5;34m0\u001b[0m]          │\n",
       "├───────────────────────────────┼───────────────────────────┼─────────────────┼────────────────────────────┤\n",
       "│ add_1 (\u001b[38;5;33mAdd\u001b[0m)                   │ (\u001b[38;5;45mNone\u001b[0m, \u001b[38;5;34m2552\u001b[0m, \u001b[38;5;34m10\u001b[0m)          │               \u001b[38;5;34m0\u001b[0m │ multiply_1[\u001b[38;5;34m0\u001b[0m][\u001b[38;5;34m0\u001b[0m],          │\n",
       "│                               │                           │                 │ gru_3[\u001b[38;5;34m0\u001b[0m][\u001b[38;5;34m0\u001b[0m]                │\n",
       "├───────────────────────────────┼───────────────────────────┼─────────────────┼────────────────────────────┤\n",
       "│ flatten_5 (\u001b[38;5;33mFlatten\u001b[0m)           │ (\u001b[38;5;45mNone\u001b[0m, \u001b[38;5;34m25520\u001b[0m)             │               \u001b[38;5;34m0\u001b[0m │ add_1[\u001b[38;5;34m0\u001b[0m][\u001b[38;5;34m0\u001b[0m]                │\n",
       "├───────────────────────────────┼───────────────────────────┼─────────────────┼────────────────────────────┤\n",
       "│ dense_2 (\u001b[38;5;33mDense\u001b[0m)               │ (\u001b[38;5;45mNone\u001b[0m, \u001b[38;5;34m128\u001b[0m)               │       \u001b[38;5;34m3,266,688\u001b[0m │ flatten_5[\u001b[38;5;34m0\u001b[0m][\u001b[38;5;34m0\u001b[0m]            │\n",
       "├───────────────────────────────┼───────────────────────────┼─────────────────┼────────────────────────────┤\n",
       "│ dense_3 (\u001b[38;5;33mDense\u001b[0m)               │ (\u001b[38;5;45mNone\u001b[0m, \u001b[38;5;34m2\u001b[0m)                 │             \u001b[38;5;34m258\u001b[0m │ dense_2[\u001b[38;5;34m0\u001b[0m][\u001b[38;5;34m0\u001b[0m]              │\n",
       "└───────────────────────────────┴───────────────────────────┴─────────────────┴────────────────────────────┘\n"
      ]
     },
     "metadata": {},
     "output_type": "display_data"
    },
    {
     "data": {
      "text/html": [
       "<pre style=\"white-space:pre;overflow-x:auto;line-height:normal;font-family:Menlo,'DejaVu Sans Mono',consolas,'Courier New',monospace\"><span style=\"font-weight: bold\"> Total params: </span><span style=\"color: #00af00; text-decoration-color: #00af00\">3,313,962</span> (12.64 MB)\n",
       "</pre>\n"
      ],
      "text/plain": [
       "\u001b[1m Total params: \u001b[0m\u001b[38;5;34m3,313,962\u001b[0m (12.64 MB)\n"
      ]
     },
     "metadata": {},
     "output_type": "display_data"
    },
    {
     "data": {
      "text/html": [
       "<pre style=\"white-space:pre;overflow-x:auto;line-height:normal;font-family:Menlo,'DejaVu Sans Mono',consolas,'Courier New',monospace\"><span style=\"font-weight: bold\"> Trainable params: </span><span style=\"color: #00af00; text-decoration-color: #00af00\">3,313,962</span> (12.64 MB)\n",
       "</pre>\n"
      ],
      "text/plain": [
       "\u001b[1m Trainable params: \u001b[0m\u001b[38;5;34m3,313,962\u001b[0m (12.64 MB)\n"
      ]
     },
     "metadata": {},
     "output_type": "display_data"
    },
    {
     "data": {
      "text/html": [
       "<pre style=\"white-space:pre;overflow-x:auto;line-height:normal;font-family:Menlo,'DejaVu Sans Mono',consolas,'Courier New',monospace\"><span style=\"font-weight: bold\"> Non-trainable params: </span><span style=\"color: #00af00; text-decoration-color: #00af00\">0</span> (0.00 B)\n",
       "</pre>\n"
      ],
      "text/plain": [
       "\u001b[1m Non-trainable params: \u001b[0m\u001b[38;5;34m0\u001b[0m (0.00 B)\n"
      ]
     },
     "metadata": {},
     "output_type": "display_data"
    },
    {
     "ename": "AttributeError",
     "evalue": "property 'kernel_regularizer' of 'GRU' object has no setter",
     "output_type": "error",
     "traceback": [
      "\u001b[1;31m---------------------------------------------------------------------------\u001b[0m",
      "\u001b[1;31mAttributeError\u001b[0m                            Traceback (most recent call last)",
      "Cell \u001b[1;32mIn[21], line 136\u001b[0m\n\u001b[0;32m    134\u001b[0m \u001b[38;5;28;01mfor\u001b[39;00m layer \u001b[38;5;129;01min\u001b[39;00m model\u001b[38;5;241m.\u001b[39mlayers:\n\u001b[0;32m    135\u001b[0m     \u001b[38;5;28;01mif\u001b[39;00m \u001b[38;5;28mhasattr\u001b[39m(layer, \u001b[38;5;124m'\u001b[39m\u001b[38;5;124mkernel_regularizer\u001b[39m\u001b[38;5;124m'\u001b[39m):\n\u001b[1;32m--> 136\u001b[0m         \u001b[43mlayer\u001b[49m\u001b[38;5;241;43m.\u001b[39;49m\u001b[43mkernel_regularizer\u001b[49m \u001b[38;5;241m=\u001b[39m tf\u001b[38;5;241m.\u001b[39mkeras\u001b[38;5;241m.\u001b[39mregularizers\u001b[38;5;241m.\u001b[39ml2(l2_reg)\n\u001b[0;32m    138\u001b[0m \u001b[38;5;66;03m# 4. Training the Model\u001b[39;00m\n\u001b[0;32m    139\u001b[0m early_stop \u001b[38;5;241m=\u001b[39m EarlyStopping(\n\u001b[0;32m    140\u001b[0m     monitor\u001b[38;5;241m=\u001b[39m\u001b[38;5;124m'\u001b[39m\u001b[38;5;124mval_loss\u001b[39m\u001b[38;5;124m'\u001b[39m,\n\u001b[0;32m    141\u001b[0m     patience\u001b[38;5;241m=\u001b[39m\u001b[38;5;241m10\u001b[39m,\n\u001b[0;32m    142\u001b[0m     restore_best_weights\u001b[38;5;241m=\u001b[39m\u001b[38;5;28;01mTrue\u001b[39;00m\n\u001b[0;32m    143\u001b[0m )\n",
      "File \u001b[1;32m~\\mne-python\\1.7.1_0\\Lib\\site-packages\\keras\\src\\layers\\layer.py:1445\u001b[0m, in \u001b[0;36mLayer.__setattr__\u001b[1;34m(self, name, value)\u001b[0m\n\u001b[0;32m   1443\u001b[0m         \u001b[38;5;28mself\u001b[39m\u001b[38;5;241m.\u001b[39m_initialize_tracker()\n\u001b[0;32m   1444\u001b[0m     value \u001b[38;5;241m=\u001b[39m \u001b[38;5;28mself\u001b[39m\u001b[38;5;241m.\u001b[39m_tracker\u001b[38;5;241m.\u001b[39mtrack(value)\n\u001b[1;32m-> 1445\u001b[0m \u001b[38;5;28;01mreturn\u001b[39;00m \u001b[38;5;28;43msuper\u001b[39;49m\u001b[43m(\u001b[49m\u001b[43m)\u001b[49m\u001b[38;5;241;43m.\u001b[39;49m\u001b[38;5;21;43m__setattr__\u001b[39;49m\u001b[43m(\u001b[49m\u001b[43mname\u001b[49m\u001b[43m,\u001b[49m\u001b[43m \u001b[49m\u001b[43mvalue\u001b[49m\u001b[43m)\u001b[49m\n",
      "File \u001b[1;32m~\\mne-python\\1.7.1_0\\Lib\\site-packages\\keras\\src\\backend\\tensorflow\\trackable.py:28\u001b[0m, in \u001b[0;36mKerasAutoTrackable.__setattr__\u001b[1;34m(self, name, value)\u001b[0m\n\u001b[0;32m     24\u001b[0m \u001b[38;5;28;01mif\u001b[39;00m \u001b[38;5;28mgetattr\u001b[39m(\u001b[38;5;28mself\u001b[39m, \u001b[38;5;124m\"\u001b[39m\u001b[38;5;124m_self_setattr_tracking\u001b[39m\u001b[38;5;124m\"\u001b[39m, \u001b[38;5;28;01mTrue\u001b[39;00m):\n\u001b[0;32m     25\u001b[0m     value \u001b[38;5;241m=\u001b[39m sticky_attribute_assignment(\n\u001b[0;32m     26\u001b[0m         trackable\u001b[38;5;241m=\u001b[39m\u001b[38;5;28mself\u001b[39m, value\u001b[38;5;241m=\u001b[39mvalue, name\u001b[38;5;241m=\u001b[39mname\n\u001b[0;32m     27\u001b[0m     )\n\u001b[1;32m---> 28\u001b[0m \u001b[38;5;28;43msuper\u001b[39;49m\u001b[43m(\u001b[49m\u001b[43m)\u001b[49m\u001b[38;5;241;43m.\u001b[39;49m\u001b[38;5;21;43m__setattr__\u001b[39;49m\u001b[43m(\u001b[49m\u001b[43mname\u001b[49m\u001b[43m,\u001b[49m\u001b[43m \u001b[49m\u001b[43mvalue\u001b[49m\u001b[43m)\u001b[49m\n",
      "File \u001b[1;32m~\\mne-python\\1.7.1_0\\Lib\\site-packages\\tensorflow\\python\\trackable\\autotrackable.py:70\u001b[0m, in \u001b[0;36mAutoTrackable.__setattr__\u001b[1;34m(self, name, value)\u001b[0m\n\u001b[0;32m     67\u001b[0m \u001b[38;5;28;01mif\u001b[39;00m \u001b[38;5;28mgetattr\u001b[39m(\u001b[38;5;28mself\u001b[39m, \u001b[38;5;124m\"\u001b[39m\u001b[38;5;124m_self_setattr_tracking\u001b[39m\u001b[38;5;124m\"\u001b[39m, \u001b[38;5;28;01mTrue\u001b[39;00m):\n\u001b[0;32m     68\u001b[0m   value \u001b[38;5;241m=\u001b[39m data_structures\u001b[38;5;241m.\u001b[39msticky_attribute_assignment(\n\u001b[0;32m     69\u001b[0m       trackable\u001b[38;5;241m=\u001b[39m\u001b[38;5;28mself\u001b[39m, value\u001b[38;5;241m=\u001b[39mvalue, name\u001b[38;5;241m=\u001b[39mname)\n\u001b[1;32m---> 70\u001b[0m \u001b[38;5;28;43msuper\u001b[39;49m\u001b[43m(\u001b[49m\u001b[43mAutoTrackable\u001b[49m\u001b[43m,\u001b[49m\u001b[43m \u001b[49m\u001b[38;5;28;43mself\u001b[39;49m\u001b[43m)\u001b[49m\u001b[38;5;241;43m.\u001b[39;49m\u001b[38;5;21;43m__setattr__\u001b[39;49m\u001b[43m(\u001b[49m\u001b[43mname\u001b[49m\u001b[43m,\u001b[49m\u001b[43m \u001b[49m\u001b[43mvalue\u001b[49m\u001b[43m)\u001b[49m\n",
      "\u001b[1;31mAttributeError\u001b[0m: property 'kernel_regularizer' of 'GRU' object has no setter"
     ]
    }
   ],
   "source": [
    "import os\n",
    "import numpy as np\n",
    "import pandas as pd\n",
    "import mne\n",
    "from sklearn.model_selection import train_test_split\n",
    "from sklearn.preprocessing import StandardScaler\n",
    "from sklearn.utils import class_weight\n",
    "import tensorflow as tf\n",
    "from tensorflow.keras.models import Sequential\n",
    "from tensorflow.keras.layers import Conv2D, MaxPooling2D, GRU, Dense, Flatten, Attention, Input, Multiply, Add,Reshape\n",
    "from tensorflow.keras.callbacks import EarlyStopping\n",
    "import matplotlib.pyplot as plt\n",
    "from sklearn.metrics import classification_report, confusion_matrix\n",
    "import seaborn as sns\n",
    "from tensorflow.keras.models import Model\n",
    "from tensorflow.keras.optimizers import Adam\n",
    "from tensorflow.keras.regularizers import l2\n",
    "# Assuming X and Y are already defined and preprocessed up to X.shape = (10770, 2560, 21)\n",
    "\n",
    "# 1. Data Preparation\n",
    "# a. Filter for interictal (0) and preictal (2)\n",
    "mask = (Y == 0) | (Y == 2)\n",
    "X_filtered = X[mask]\n",
    "Y_filtered = Y[mask]\n",
    "Y_filtered = np.where(Y_filtered == 0, 0, 1)  # Relabel\n",
    "\n",
    "print(\"Class distribution after filtering:\")\n",
    "print(pd.Series(Y_filtered).value_counts())\n",
    "\n",
    "# b. Split the data\n",
    "X_train, X_test, Y_train, Y_test = train_test_split(\n",
    "    X_filtered, Y_filtered, test_size=0.2, random_state=42, stratify=Y_filtered\n",
    ")\n",
    "\n",
    "print(f\"Training samples: {X_train.shape[0]}\")\n",
    "print(f\"Testing samples: {X_test.shape[0]}\")\n",
    "\n",
    "# # c. Scale the data\n",
    "# n_channels = X_train.shape[2]\n",
    "# scalers = [StandardScaler() for _ in range(n_channels)]\n",
    "\n",
    "# for ch in range(n_channels):\n",
    "#     X_train[:, :, ch] = scalers[ch].fit_transform(X_train[:, :, ch])\n",
    "#     X_test[:, :, ch] = scalers[ch].transform(X_test[:, :, ch])\n",
    "\n",
    "# print(\"Data scaling completed.\")\n",
    "\n",
    "# 2. Handling Class Imbalance\n",
    "class_weights = class_weight.compute_class_weight(\n",
    "    class_weight='balanced',\n",
    "    classes=np.unique(Y_train),\n",
    "    y=Y_train\n",
    ")\n",
    "class_weights_dict = {0: class_weights[0], 1: class_weights[1]}\n",
    "print(\"Class weights:\", class_weights_dict)\n",
    "\n",
    "# 3. Building the Model\n",
    "input_shape = X_train.shape[1:]  # (2560, 21)\n",
    "num_classes = 1  # Binary classification\n",
    "\n",
    "# model = Sequential([\n",
    "#     Conv1D(filters=32, kernel_size=3, activation='relu', input_shape=input_shape),\n",
    "#     BatchNormalization(),\n",
    "#     MaxPooling1D(pool_size=3),\n",
    "#     # Dropout(0.3),\n",
    "\n",
    "#     Conv1D(filters=64, kernel_size=3, activation='relu'),\n",
    "#     BatchNormalization(),\n",
    "#     MaxPooling1D(pool_size=3),\n",
    "#     # Dropout(0.3),\n",
    "\n",
    "#     # Conv1D(filters=128, kernel_size=10, activation='relu'),\n",
    "\n",
    "\n",
    "#     Flatten(),\n",
    "#     Dense(256, activation='relu'),\n",
    "#     Dense(256, activation='relu'),\n",
    "#     Dropout(0.5),\n",
    "#     Dense(num_classes, activation='sigmoid')\n",
    "# ])\n",
    "\n",
    "# model.compile(\n",
    "#     optimizer='adam',\n",
    "#     loss='binary_crossentropy',\n",
    "#     metrics=['accuracy', tf.keras.metrics.AUC(name='auc')]\n",
    "# )\n",
    "# Input layer\n",
    "# Input layer\n",
    "input_layer = Input(input_shape)\n",
    "\n",
    "\n",
    "\n",
    "l2_reg = 0.0001  # Regularization factor\n",
    "\n",
    "# Conv2D and Pooling layers with L2 regularization\n",
    "conv1 = Conv2D(filters=32, kernel_size=(3, 1), strides=(1, 1), activation='relu',\n",
    "               kernel_regularizer=l2(l2_reg))(input_layer)\n",
    "maxpool1 = MaxPooling2D(pool_size=(3, 1), strides=(1, 1))(conv1)\n",
    "\n",
    "conv2 = Conv2D(filters=64, kernel_size=(3, 1), strides=(1, 1), activation='relu',\n",
    "               kernel_regularizer=l2(l2_reg))(maxpool1)\n",
    "maxpool2 = MaxPooling2D(pool_size=(3, 1), strides=(1, 1))(conv2)\n",
    "\n",
    "# Reshape for GRU input\n",
    "reshaped = Reshape((maxpool2.shape[1], -1))(maxpool2)\n",
    "\n",
    "# GRU Layer with L2 regularization\n",
    "gru = GRU(10, return_sequences=True, kernel_regularizer=l2(l2_reg))(reshaped)\n",
    "\n",
    "# Attention Layer\n",
    "attention = Attention()([gru, gru])\n",
    "\n",
    "# Multiply GRU output by attention scores\n",
    "context_vector = Multiply()([gru, attention])\n",
    "\n",
    "# Add context vector and GRU output\n",
    "output = Add()([context_vector, gru])\n",
    "\n",
    "# Fully connected layers with L2 regularization\n",
    "fc = Flatten()(output)\n",
    "fc = Dense(128, activation='relu', kernel_regularizer=l2(l2_reg))(fc)\n",
    "output_layer = Dense(2, activation='softmax', kernel_regularizer=l2(l2_reg))(fc)\n",
    "\n",
    "# Create model\n",
    "model = Model(inputs=input_layer, outputs=output_layer)\n",
    "model.compile(optimizer=Adam(learning_rate=0.001), loss='categorical_crossentropy', metrics=['accuracy'])\n",
    "\n",
    "model.summary()\n",
    "# Hyperparameters configuration\n",
    "\n",
    "l2_reg = 0.0001\n",
    "\n",
    "# Add L2 Regularization\n",
    "for layer in model.layers:\n",
    "    if hasattr(layer, 'kernel_regularizer'):\n",
    "        layer.kernel_regularizer = tf.keras.regularizers.l2(l2_reg)\n",
    "\n",
    "# 4. Training the Model\n",
    "early_stop = EarlyStopping(\n",
    "    monitor='val_loss',\n",
    "    patience=10,\n",
    "    restore_best_weights=True\n",
    ")\n",
    "\n",
    "history = model.fit(\n",
    "    X_train, Y_train,\n",
    "    epochs=100,\n",
    "    batch_size=64,\n",
    "    validation_data=(X_test, Y_test),\n",
    "    class_weight=class_weights_dict,\n",
    "    callbacks=[early_stop],\n",
    "    verbose=1\n",
    ")\n",
    "\n",
    "# 5. Evaluating the Model\n",
    "test_loss, test_accuracy, test_auc = model.evaluate(X_test, Y_test, verbose=0)\n",
    "print(f\"Test Loss: {test_loss:.4f}\")\n",
    "print(f\"Test Accuracy: {test_accuracy:.4f}\")\n",
    "print(f\"Test AUC: {test_auc:.4f}\")\n",
    "\n",
    "Y_pred_prob = model.predict(X_test).ravel()\n",
    "Y_pred = (Y_pred_prob >= 0.5).astype(int)\n",
    "\n",
    "print(\"Classification Report:\")\n",
    "print(classification_report(Y_test, Y_pred, target_names=['Interictal', 'Preictal']))\n",
    "\n",
    "conf_matrix = confusion_matrix(Y_test, Y_pred)\n",
    "print(\"Confusion Matrix:\")\n",
    "print(conf_matrix)\n",
    "\n",
    "plt.figure(figsize=(6,5))\n",
    "sns.heatmap(conf_matrix, annot=True, fmt='d', cmap='Blues',\n",
    "            xticklabels=['Interictal', 'Preictal'],\n",
    "            yticklabels=['Interictal', 'Preictal'])\n",
    "plt.ylabel('Actual')\n",
    "plt.xlabel('Predicted')\n",
    "plt.title('Confusion Matrix')\n",
    "plt.show()\n",
    "\n",
    "# Plot Training History\n",
    "plt.figure(figsize=(14,5))\n",
    "\n",
    "# Plot loss\n",
    "plt.subplot(1, 2, 1)\n",
    "plt.plot(history.history['loss'], label='Train Loss')\n",
    "plt.plot(history.history['val_loss'], label='Validation Loss')\n",
    "plt.xlabel('Epoch')\n",
    "plt.ylabel('Loss')\n",
    "plt.title('Loss Over Epochs')\n",
    "plt.legend()\n",
    "\n",
    "# Plot accuracy\n",
    "plt.subplot(1, 2, 2)\n",
    "plt.plot(history.history['accuracy'], label='Train Accuracy')\n",
    "plt.plot(history.history['val_accuracy'], label='Validation Accuracy')\n",
    "plt.xlabel('Epoch')\n",
    "plt.ylabel('Accuracy')\n",
    "plt.title('Accuracy Over Epochs')\n",
    "plt.legend()\n",
    "\n",
    "plt.show()\n"
   ]
  },
  {
   "cell_type": "code",
   "execution_count": null,
   "id": "a8f16389-96de-4091-b314-a9856069f264",
   "metadata": {},
   "outputs": [],
   "source": []
  }
 ],
 "metadata": {
  "kernelspec": {
   "display_name": "Python 3 (ipykernel)",
   "language": "python",
   "name": "python3"
  },
  "language_info": {
   "codemirror_mode": {
    "name": "ipython",
    "version": 3
   },
   "file_extension": ".py",
   "mimetype": "text/x-python",
   "name": "python",
   "nbconvert_exporter": "python",
   "pygments_lexer": "ipython3",
   "version": "3.12.2"
  }
 },
 "nbformat": 4,
 "nbformat_minor": 5
}
