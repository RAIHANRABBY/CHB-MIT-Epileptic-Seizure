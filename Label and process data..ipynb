{
 "cells": [
  {
   "cell_type": "code",
   "execution_count": 27,
   "id": "3a42f546-7e9c-46db-9c45-e683e238a6d3",
   "metadata": {},
   "outputs": [],
   "source": [
    "# pip install tensorflow"
   ]
  },
  {
   "cell_type": "code",
   "execution_count": 1,
   "id": "06008193-2e8d-47b9-97d2-69cbe752b278",
   "metadata": {},
   "outputs": [],
   "source": [
    "import pandas as pd\n",
    "import numpy as np\n",
    "import seaborn as sns\n",
    "import os\n",
    "import mne"
   ]
  },
  {
   "cell_type": "code",
   "execution_count": 2,
   "id": "118f36c2-d3f1-4d7d-b6d6-9d9b8b1622a3",
   "metadata": {},
   "outputs": [],
   "source": [
    "folder = r'D:\\CHB_MIT'\n",
    "# folder = r'E:\\New folder\\chb24'\n",
    "file_path = [os.path.join(folder,i ) for i in os.listdir(folder)]"
   ]
  },
  {
   "cell_type": "code",
   "execution_count": 3,
   "id": "447699d2-7565-49ff-99f3-5b467befe512",
   "metadata": {},
   "outputs": [
    {
     "name": "stdout",
     "output_type": "stream",
     "text": [
      "['D:\\\\CHB_MIT\\\\chb24']\n"
     ]
    }
   ],
   "source": [
    "print(file_path)"
   ]
  },
  {
   "cell_type": "code",
   "execution_count": 4,
   "id": "93f5f7ea-e24f-4d21-8688-3602f8a248e6",
   "metadata": {},
   "outputs": [
    {
     "data": {
      "text/plain": [
       "['ictal', 'interictal', 'postictal', 'preictal']"
      ]
     },
     "execution_count": 4,
     "metadata": {},
     "output_type": "execute_result"
    }
   ],
   "source": [
    "os.listdir(file_path[0])"
   ]
  },
  {
   "cell_type": "code",
   "execution_count": 5,
   "id": "62a2366a-66cd-41b5-8563-2165fb11be76",
   "metadata": {},
   "outputs": [
    {
     "name": "stdout",
     "output_type": "stream",
     "text": [
      "Opening raw data file D:\\CHB_MIT\\chb24\\ictal\\chb24_01.edf_ictal_1_raw.fif...\n",
      "Isotrak not found\n",
      "    Range : 122880 ... 129280 =    480.000 ...   505.000 secs\n",
      "Ready.\n",
      "Reading 0 ... 6400  =      0.000 ...    25.000 secs...\n",
      "Opening raw data file D:\\CHB_MIT\\chb24\\ictal\\chb24_01.edf_ictal_2_raw.fif...\n",
      "Isotrak not found\n",
      "    Range : 627456 ... 633856 =   2451.000 ...  2476.000 secs\n",
      "Ready.\n",
      "Reading 0 ... 6400  =      0.000 ...    25.000 secs...\n",
      "Opening raw data file D:\\CHB_MIT\\chb24\\ictal\\chb24_03.edf_ictal_1_raw.fif...\n",
      "Isotrak not found\n",
      "    Range : 59136 ... 66560 =    231.000 ...   260.000 secs\n",
      "Ready.\n",
      "Reading 0 ... 7424  =      0.000 ...    29.000 secs...\n",
      "Opening raw data file D:\\CHB_MIT\\chb24\\ictal\\chb24_03.edf_ictal_2_raw.fif...\n",
      "Isotrak not found\n",
      "    Range : 738048 ... 744448 =   2883.000 ...  2908.000 secs\n",
      "Ready.\n",
      "Reading 0 ... 6400  =      0.000 ...    25.000 secs...\n",
      "Opening raw data file D:\\CHB_MIT\\chb24\\ictal\\chb24_04.edf_ictal_1_raw.fif...\n",
      "Isotrak not found\n",
      "    Range : 278528 ... 286720 =   1088.000 ...  1120.000 secs\n",
      "Ready.\n",
      "Reading 0 ... 8192  =      0.000 ...    32.000 secs...\n",
      "Opening raw data file D:\\CHB_MIT\\chb24\\ictal\\chb24_04.edf_ictal_2_raw.fif...\n",
      "Isotrak not found\n",
      "    Range : 361216 ... 368128 =   1411.000 ...  1438.000 secs\n",
      "Ready.\n",
      "Reading 0 ... 6912  =      0.000 ...    27.000 secs...\n",
      "Opening raw data file D:\\CHB_MIT\\chb24\\ictal\\chb24_04.edf_ictal_3_raw.fif...\n",
      "Isotrak not found\n",
      "    Range : 446720 ... 451584 =   1745.000 ...  1764.000 secs\n",
      "Ready.\n",
      "Reading 0 ... 4864  =      0.000 ...    19.000 secs...\n",
      "Opening raw data file D:\\CHB_MIT\\chb24\\ictal\\chb24_06.edf_ictal_1_raw.fif...\n",
      "Isotrak not found\n",
      "    Range : 314624 ... 320768 =   1229.000 ...  1253.000 secs\n",
      "Ready.\n",
      "Reading 0 ... 6144  =      0.000 ...    24.000 secs...\n",
      "Opening raw data file D:\\CHB_MIT\\chb24\\ictal\\chb24_07.edf_ictal_1_raw.fif...\n",
      "Isotrak not found\n",
      "    Range : 9728 ... 15360 =     38.000 ...    60.000 secs\n",
      "Ready.\n",
      "Reading 0 ... 5632  =      0.000 ...    22.000 secs...\n",
      "Opening raw data file D:\\CHB_MIT\\chb24\\ictal\\chb24_09.edf_ictal_1_raw.fif...\n",
      "Isotrak not found\n",
      "    Range : 446720 ... 451584 =   1745.000 ...  1764.000 secs\n",
      "Ready.\n",
      "Reading 0 ... 4864  =      0.000 ...    19.000 secs...\n",
      "Opening raw data file D:\\CHB_MIT\\chb24\\ictal\\chb24_11.edf_ictal_1_raw.fif...\n",
      "Isotrak not found\n",
      "    Range : 902912 ... 920832 =   3527.000 ...  3597.000 secs\n",
      "Ready.\n",
      "Reading 0 ... 17920  =      0.000 ...    70.000 secs...\n",
      "Opening raw data file D:\\CHB_MIT\\chb24\\ictal\\chb24_13.edf_ictal_1_raw.fif...\n",
      "Isotrak not found\n",
      "    Range : 841728 ... 845824 =   3288.000 ...  3304.000 secs\n",
      "Ready.\n",
      "Reading 0 ... 4096  =      0.000 ...    16.000 secs...\n",
      "Opening raw data file D:\\CHB_MIT\\chb24\\ictal\\chb24_14.edf_ictal_1_raw.fif...\n",
      "Isotrak not found\n",
      "    Range : 496384 ... 503296 =   1939.000 ...  1966.000 secs\n",
      "Ready.\n",
      "Reading 0 ... 6912  =      0.000 ...    27.000 secs...\n",
      "Opening raw data file D:\\CHB_MIT\\chb24\\ictal\\chb24_15.edf_ictal_1_raw.fif...\n",
      "Isotrak not found\n",
      "    Range : 909312 ... 913664 =   3552.000 ...  3569.000 secs\n",
      "Ready.\n",
      "Reading 0 ... 4352  =      0.000 ...    17.000 secs...\n",
      "Opening raw data file D:\\CHB_MIT\\chb24\\ictal\\chb24_17.edf_ictal_1_raw.fif...\n",
      "Isotrak not found\n",
      "    Range : 899840 ... 916736 =   3515.000 ...  3581.000 secs\n",
      "Ready.\n",
      "Reading 0 ... 16896  =      0.000 ...    66.000 secs...\n",
      "Opening raw data file D:\\CHB_MIT\\chb24\\ictal\\chb24_21.edf_ictal_1_raw.fif...\n",
      "Isotrak not found\n",
      "    Range : 717824 ... 735232 =   2804.000 ...  2872.000 secs\n",
      "Ready.\n",
      "Reading 0 ... 17408  =      0.000 ...    68.000 secs...\n",
      "Opening raw data file D:\\CHB_MIT\\chb24\\interictal\\chb24_02_normal_raw.fif...\n",
      "Isotrak not found\n",
      "    Range : 0 ... 921599 =      0.000 ...  3599.996 secs\n",
      "Ready.\n",
      "Reading 0 ... 921599  =      0.000 ...  3599.996 secs...\n",
      "Opening raw data file D:\\CHB_MIT\\chb24\\interictal\\chb24_05_normal_raw.fif...\n",
      "Isotrak not found\n",
      "    Range : 0 ... 921599 =      0.000 ...  3599.996 secs\n",
      "Ready.\n",
      "Reading 0 ... 921599  =      0.000 ...  3599.996 secs...\n",
      "Opening raw data file D:\\CHB_MIT\\chb24\\interictal\\chb24_08_normal_raw.fif...\n",
      "Isotrak not found\n",
      "    Range : 0 ... 921599 =      0.000 ...  3599.996 secs\n",
      "Ready.\n",
      "Reading 0 ... 921599  =      0.000 ...  3599.996 secs...\n",
      "Opening raw data file D:\\CHB_MIT\\chb24\\interictal\\chb24_10_normal_raw.fif...\n",
      "Isotrak not found\n",
      "    Range : 0 ... 921599 =      0.000 ...  3599.996 secs\n",
      "Ready.\n",
      "Reading 0 ... 921599  =      0.000 ...  3599.996 secs...\n",
      "Opening raw data file D:\\CHB_MIT\\chb24\\interictal\\chb24_12_normal_raw.fif...\n",
      "Isotrak not found\n",
      "    Range : 0 ... 921599 =      0.000 ...  3599.996 secs\n",
      "Ready.\n",
      "Reading 0 ... 921599  =      0.000 ...  3599.996 secs...\n",
      "Opening raw data file D:\\CHB_MIT\\chb24\\interictal\\chb24_16_normal_raw.fif...\n",
      "Isotrak not found\n",
      "    Range : 0 ... 921599 =      0.000 ...  3599.996 secs\n",
      "Ready.\n",
      "Reading 0 ... 921599  =      0.000 ...  3599.996 secs...\n",
      "Opening raw data file D:\\CHB_MIT\\chb24\\interictal\\chb24_18_normal_raw.fif...\n",
      "Isotrak not found\n",
      "    Range : 0 ... 921599 =      0.000 ...  3599.996 secs\n",
      "Ready.\n",
      "Reading 0 ... 921599  =      0.000 ...  3599.996 secs...\n",
      "Opening raw data file D:\\CHB_MIT\\chb24\\interictal\\chb24_19_normal_raw.fif...\n",
      "Isotrak not found\n",
      "    Range : 0 ... 921599 =      0.000 ...  3599.996 secs\n",
      "Ready.\n",
      "Reading 0 ... 921599  =      0.000 ...  3599.996 secs...\n",
      "Opening raw data file D:\\CHB_MIT\\chb24\\interictal\\chb24_20_normal_raw.fif...\n",
      "Isotrak not found\n",
      "    Range : 0 ... 921599 =      0.000 ...  3599.996 secs\n",
      "Ready.\n",
      "Reading 0 ... 921599  =      0.000 ...  3599.996 secs...\n",
      "Opening raw data file D:\\CHB_MIT\\chb24\\interictal\\chb24_22_normal_raw.fif...\n",
      "Isotrak not found\n",
      "    Range : 0 ... 273151 =      0.000 ...  1066.996 secs\n",
      "Ready.\n",
      "Reading 0 ... 273151  =      0.000 ...  1066.996 secs...\n",
      "Opening raw data file D:\\CHB_MIT\\chb24\\postictal\\chb24_01.edf_postictal_1_raw.fif...\n",
      "Isotrak not found\n",
      "    Range : 129280 ... 282880 =    505.000 ...  1105.000 secs\n",
      "Ready.\n",
      "Reading 0 ... 153600  =      0.000 ...   600.000 secs...\n",
      "Opening raw data file D:\\CHB_MIT\\chb24\\postictal\\chb24_01.edf_postictal_2_raw.fif...\n",
      "Isotrak not found\n",
      "    Range : 633856 ... 787456 =   2476.000 ...  3076.000 secs\n",
      "Ready.\n",
      "Reading 0 ... 153600  =      0.000 ...   600.000 secs...\n",
      "Opening raw data file D:\\CHB_MIT\\chb24\\postictal\\chb24_03.edf_postictal_1_raw.fif...\n",
      "Isotrak not found\n",
      "    Range : 66560 ... 220160 =    260.000 ...   860.000 secs\n",
      "Ready.\n",
      "Reading 0 ... 153600  =      0.000 ...   600.000 secs...\n",
      "Opening raw data file D:\\CHB_MIT\\chb24\\postictal\\chb24_03.edf_postictal_2_raw.fif...\n",
      "Isotrak not found\n",
      "    Range : 744448 ... 898048 =   2908.000 ...  3508.000 secs\n",
      "Ready.\n",
      "Reading 0 ... 153600  =      0.000 ...   600.000 secs...\n",
      "Opening raw data file D:\\CHB_MIT\\chb24\\postictal\\chb24_04.edf_postictal_1_raw.fif...\n",
      "Isotrak not found\n",
      "    Range : 451584 ... 605184 =   1764.000 ...  2364.000 secs\n",
      "Ready.\n",
      "Reading 0 ... 153600  =      0.000 ...   600.000 secs...\n",
      "Opening raw data file D:\\CHB_MIT\\chb24\\postictal\\chb24_06.edf_postictal_1_raw.fif...\n",
      "Isotrak not found\n",
      "    Range : 320768 ... 474368 =   1253.000 ...  1853.000 secs\n",
      "Ready.\n",
      "Reading 0 ... 153600  =      0.000 ...   600.000 secs...\n",
      "Opening raw data file D:\\CHB_MIT\\chb24\\postictal\\chb24_07.edf_postictal_1_raw.fif...\n",
      "Isotrak not found\n",
      "    Range : 15360 ... 168960 =     60.000 ...   660.000 secs\n",
      "Ready.\n",
      "Reading 0 ... 153600  =      0.000 ...   600.000 secs...\n",
      "Opening raw data file D:\\CHB_MIT\\chb24\\postictal\\chb24_09.edf_postictal_1_raw.fif...\n",
      "Isotrak not found\n",
      "    Range : 451584 ... 605184 =   1764.000 ...  2364.000 secs\n",
      "Ready.\n",
      "Reading 0 ... 153600  =      0.000 ...   600.000 secs...\n",
      "Opening raw data file D:\\CHB_MIT\\chb24\\postictal\\chb24_13.edf_postictal_1_raw.fif...\n",
      "Isotrak not found\n",
      "    Range : 845824 ... 921599 =   3304.000 ...  3599.996 secs\n",
      "Ready.\n",
      "Reading 0 ... 75775  =      0.000 ...   295.996 secs...\n",
      "Opening raw data file D:\\CHB_MIT\\chb24\\postictal\\chb24_14.edf_postictal_1_raw.fif...\n",
      "Isotrak not found\n",
      "    Range : 503296 ... 656896 =   1966.000 ...  2566.000 secs\n",
      "Ready.\n",
      "Reading 0 ... 153600  =      0.000 ...   600.000 secs...\n",
      "Opening raw data file D:\\CHB_MIT\\chb24\\postictal\\chb24_15.edf_postictal_1_raw.fif...\n",
      "Isotrak not found\n",
      "    Range : 913664 ... 921599 =   3569.000 ...  3599.996 secs\n",
      "Ready.\n",
      "Reading 0 ... 7935  =      0.000 ...    30.996 secs...\n",
      "Opening raw data file D:\\CHB_MIT\\chb24\\postictal\\chb24_17.edf_postictal_1_raw.fif...\n",
      "Isotrak not found\n",
      "    Range : 916736 ... 921599 =   3581.000 ...  3599.996 secs\n",
      "Ready.\n",
      "Reading 0 ... 4863  =      0.000 ...    18.996 secs...\n",
      "Opening raw data file D:\\CHB_MIT\\chb24\\postictal\\chb24_21.edf_postictal_1_raw.fif...\n",
      "Isotrak not found\n",
      "    Range : 735232 ... 888832 =   2872.000 ...  3472.000 secs\n",
      "Ready.\n",
      "Reading 0 ... 153600  =      0.000 ...   600.000 secs...\n",
      "Opening raw data file D:\\CHB_MIT\\chb24\\preictal\\chb24_01.edf_preictal_1_raw.fif...\n",
      "Isotrak not found\n",
      "    Range : 0 ... 122880 =      0.000 ...   480.000 secs\n",
      "Ready.\n",
      "Reading 0 ... 122880  =      0.000 ...   480.000 secs...\n",
      "Opening raw data file D:\\CHB_MIT\\chb24\\preictal\\chb24_03.edf_preictal_1_raw.fif...\n",
      "Isotrak not found\n",
      "    Range : 0 ... 59136 =      0.000 ...   231.000 secs\n",
      "Ready.\n",
      "Reading 0 ... 59136  =      0.000 ...   231.000 secs...\n",
      "Opening raw data file D:\\CHB_MIT\\chb24\\preictal\\chb24_03.edf_preictal_2_raw.fif...\n",
      "Isotrak not found\n",
      "    Range : 680960 ... 738048 =   2660.000 ...  2883.000 secs\n",
      "Ready.\n",
      "Reading 0 ... 57088  =      0.000 ...   223.000 secs...\n",
      "Opening raw data file D:\\CHB_MIT\\chb24\\preictal\\chb24_04.edf_preictal_1_raw.fif...\n",
      "Isotrak not found\n",
      "    Range : 0 ... 278528 =      0.000 ...  1088.000 secs\n",
      "Ready.\n",
      "Reading 0 ... 278528  =      0.000 ...  1088.000 secs...\n",
      "Opening raw data file D:\\CHB_MIT\\chb24\\preictal\\chb24_06.edf_preictal_1_raw.fif...\n",
      "Isotrak not found\n",
      "    Range : 0 ... 314624 =      0.000 ...  1229.000 secs\n",
      "Ready.\n",
      "Reading 0 ... 314624  =      0.000 ...  1229.000 secs...\n",
      "Opening raw data file D:\\CHB_MIT\\chb24\\preictal\\chb24_07.edf_preictal_1_raw.fif...\n",
      "Isotrak not found\n",
      "    Range : 0 ... 9728 =      0.000 ...    38.000 secs\n",
      "Ready.\n",
      "Reading 0 ... 9728  =      0.000 ...    38.000 secs...\n",
      "Opening raw data file D:\\CHB_MIT\\chb24\\preictal\\chb24_09.edf_preictal_1_raw.fif...\n",
      "Isotrak not found\n",
      "    Range : 0 ... 446720 =      0.000 ...  1745.000 secs\n",
      "Ready.\n",
      "Reading 0 ... 446720  =      0.000 ...  1745.000 secs...\n",
      "Opening raw data file D:\\CHB_MIT\\chb24\\preictal\\chb24_11.edf_preictal_1_raw.fif...\n",
      "Isotrak not found\n",
      "    Range : 442112 ... 902912 =   1727.000 ...  3527.000 secs\n",
      "Ready.\n",
      "Reading 0 ... 460800  =      0.000 ...  1800.000 secs...\n",
      "Opening raw data file D:\\CHB_MIT\\chb24\\preictal\\chb24_13.edf_preictal_1_raw.fif...\n",
      "Isotrak not found\n",
      "    Range : 380928 ... 841728 =   1488.000 ...  3288.000 secs\n",
      "Ready.\n",
      "Reading 0 ... 460800  =      0.000 ...  1800.000 secs...\n",
      "Opening raw data file D:\\CHB_MIT\\chb24\\preictal\\chb24_14.edf_preictal_1_raw.fif...\n",
      "Isotrak not found\n",
      "    Range : 35584 ... 496384 =    139.000 ...  1939.000 secs\n",
      "Ready.\n",
      "Reading 0 ... 460800  =      0.000 ...  1800.000 secs...\n",
      "Opening raw data file D:\\CHB_MIT\\chb24\\preictal\\chb24_15.edf_preictal_1_raw.fif...\n",
      "Isotrak not found\n",
      "    Range : 448512 ... 909312 =   1752.000 ...  3552.000 secs\n",
      "Ready.\n",
      "Reading 0 ... 460800  =      0.000 ...  1800.000 secs...\n",
      "Opening raw data file D:\\CHB_MIT\\chb24\\preictal\\chb24_17.edf_preictal_1_raw.fif...\n",
      "Isotrak not found\n",
      "    Range : 439040 ... 899840 =   1715.000 ...  3515.000 secs\n",
      "Ready.\n",
      "Reading 0 ... 460800  =      0.000 ...  1800.000 secs...\n",
      "Opening raw data file D:\\CHB_MIT\\chb24\\preictal\\chb24_21.edf_preictal_1_raw.fif...\n",
      "Isotrak not found\n",
      "    Range : 257024 ... 717824 =   1004.000 ...  2804.000 secs\n",
      "Ready.\n",
      "Reading 0 ... 460800  =      0.000 ...  1800.000 secs...\n"
     ]
    }
   ],
   "source": [
    "import os\n",
    "import mne\n",
    "\n",
    "# folder = r'E:\\New folder\\chb24'\n",
    "subfolders = [os.path.join(folder, name) for name in os.listdir(folder) if os.path.isdir(os.path.join(folder, name))]\n",
    "\n",
    "# Dictionary to store loaded data\n",
    "data_dict = {}\n",
    "\n",
    "for subfolder in subfolders:\n",
    "    for state_folder in os.listdir(subfolder):\n",
    "        full_state_path = os.path.join(subfolder, state_folder)\n",
    "        fif_files = [f for f in os.listdir(full_state_path) if f.endswith('.fif')]\n",
    "        for fif_file in fif_files:\n",
    "            file_path = os.path.join(full_state_path, fif_file)\n",
    "            raw = mne.io.read_raw_fif(file_path, preload=True)\n",
    "            data_dict[(subfolder, state_folder, fif_file)] = raw\n"
   ]
  },
  {
   "cell_type": "code",
   "execution_count": 6,
   "id": "2f463e4b-f2ac-49d4-80d1-af0df4974e66",
   "metadata": {},
   "outputs": [
    {
     "name": "stdout",
     "output_type": "stream",
     "text": [
      "D:\\CHB_MIT\\chb24 ictal chb24_01.edf_ictal_1_raw.fif\n",
      "Not setting metadata\n",
      "151 matching events found\n",
      "No baseline correction applied\n",
      "0 projection items activated\n",
      "Using data from preloaded Raw for 151 events and 2560 original time points ...\n",
      "0 bad epochs dropped\n",
      "1\n",
      "D:\\CHB_MIT\\chb24 ictal chb24_01.edf_ictal_2_raw.fif\n",
      "Not setting metadata\n",
      "151 matching events found\n",
      "No baseline correction applied\n",
      "0 projection items activated\n",
      "Using data from preloaded Raw for 151 events and 2560 original time points ...\n",
      "0 bad epochs dropped\n",
      "1\n",
      "D:\\CHB_MIT\\chb24 ictal chb24_03.edf_ictal_1_raw.fif\n",
      "Not setting metadata\n",
      "191 matching events found\n",
      "No baseline correction applied\n",
      "0 projection items activated\n",
      "Using data from preloaded Raw for 191 events and 2560 original time points ...\n",
      "0 bad epochs dropped\n",
      "1\n",
      "D:\\CHB_MIT\\chb24 ictal chb24_03.edf_ictal_2_raw.fif\n",
      "Not setting metadata\n",
      "151 matching events found\n",
      "No baseline correction applied\n",
      "0 projection items activated\n",
      "Using data from preloaded Raw for 151 events and 2560 original time points ...\n",
      "0 bad epochs dropped\n",
      "1\n",
      "D:\\CHB_MIT\\chb24 ictal chb24_04.edf_ictal_1_raw.fif\n",
      "Not setting metadata\n",
      "221 matching events found\n",
      "No baseline correction applied\n",
      "0 projection items activated\n",
      "Using data from preloaded Raw for 221 events and 2560 original time points ...\n",
      "0 bad epochs dropped\n",
      "1\n",
      "D:\\CHB_MIT\\chb24 ictal chb24_04.edf_ictal_2_raw.fif\n",
      "Not setting metadata\n",
      "171 matching events found\n",
      "No baseline correction applied\n",
      "0 projection items activated\n",
      "Using data from preloaded Raw for 171 events and 2560 original time points ...\n",
      "0 bad epochs dropped\n"
     ]
    },
    {
     "name": "stderr",
     "output_type": "stream",
     "text": [
      "C:\\Users\\ACER\\AppData\\Local\\Temp\\ipykernel_8620\\3657098926.py:32: FutureWarning: The current default of copy=False will change to copy=True in 1.7. Set the value of copy explicitly to avoid this warning\n",
      "  X_epochs = epochs.get_data()  # (n_epochs, n_channels, n_times)\n",
      "C:\\Users\\ACER\\AppData\\Local\\Temp\\ipykernel_8620\\3657098926.py:32: FutureWarning: The current default of copy=False will change to copy=True in 1.7. Set the value of copy explicitly to avoid this warning\n",
      "  X_epochs = epochs.get_data()  # (n_epochs, n_channels, n_times)\n",
      "C:\\Users\\ACER\\AppData\\Local\\Temp\\ipykernel_8620\\3657098926.py:32: FutureWarning: The current default of copy=False will change to copy=True in 1.7. Set the value of copy explicitly to avoid this warning\n",
      "  X_epochs = epochs.get_data()  # (n_epochs, n_channels, n_times)\n",
      "C:\\Users\\ACER\\AppData\\Local\\Temp\\ipykernel_8620\\3657098926.py:32: FutureWarning: The current default of copy=False will change to copy=True in 1.7. Set the value of copy explicitly to avoid this warning\n",
      "  X_epochs = epochs.get_data()  # (n_epochs, n_channels, n_times)\n",
      "C:\\Users\\ACER\\AppData\\Local\\Temp\\ipykernel_8620\\3657098926.py:32: FutureWarning: The current default of copy=False will change to copy=True in 1.7. Set the value of copy explicitly to avoid this warning\n",
      "  X_epochs = epochs.get_data()  # (n_epochs, n_channels, n_times)\n"
     ]
    },
    {
     "name": "stdout",
     "output_type": "stream",
     "text": [
      "1\n",
      "D:\\CHB_MIT\\chb24 ictal chb24_04.edf_ictal_3_raw.fif\n",
      "Not setting metadata\n",
      "91 matching events found\n",
      "No baseline correction applied\n",
      "0 projection items activated\n",
      "Using data from preloaded Raw for 91 events and 2560 original time points ...\n",
      "0 bad epochs dropped\n",
      "1\n",
      "D:\\CHB_MIT\\chb24 ictal chb24_06.edf_ictal_1_raw.fif\n",
      "Not setting metadata\n",
      "141 matching events found\n",
      "No baseline correction applied\n",
      "0 projection items activated\n",
      "Using data from preloaded Raw for 141 events and 2560 original time points ...\n",
      "0 bad epochs dropped\n",
      "1\n",
      "D:\\CHB_MIT\\chb24 ictal chb24_07.edf_ictal_1_raw.fif\n",
      "Not setting metadata\n",
      "121 matching events found\n",
      "No baseline correction applied\n",
      "0 projection items activated\n",
      "Using data from preloaded Raw for 121 events and 2560 original time points ...\n",
      "0 bad epochs dropped\n",
      "1\n",
      "D:\\CHB_MIT\\chb24 ictal chb24_09.edf_ictal_1_raw.fif\n",
      "Not setting metadata\n",
      "91 matching events found\n",
      "No baseline correction applied\n",
      "0 projection items activated\n",
      "Using data from preloaded Raw for 91 events and 2560 original time points ...\n",
      "0 bad epochs dropped\n",
      "1\n",
      "D:\\CHB_MIT\\chb24 ictal chb24_11.edf_ictal_1_raw.fif\n",
      "Not setting metadata\n",
      "601 matching events found\n",
      "No baseline correction applied\n",
      "0 projection items activated\n",
      "Using data from preloaded Raw for 601 events and 2560 original time points ...\n"
     ]
    },
    {
     "name": "stderr",
     "output_type": "stream",
     "text": [
      "C:\\Users\\ACER\\AppData\\Local\\Temp\\ipykernel_8620\\3657098926.py:32: FutureWarning: The current default of copy=False will change to copy=True in 1.7. Set the value of copy explicitly to avoid this warning\n",
      "  X_epochs = epochs.get_data()  # (n_epochs, n_channels, n_times)\n",
      "C:\\Users\\ACER\\AppData\\Local\\Temp\\ipykernel_8620\\3657098926.py:32: FutureWarning: The current default of copy=False will change to copy=True in 1.7. Set the value of copy explicitly to avoid this warning\n",
      "  X_epochs = epochs.get_data()  # (n_epochs, n_channels, n_times)\n",
      "C:\\Users\\ACER\\AppData\\Local\\Temp\\ipykernel_8620\\3657098926.py:32: FutureWarning: The current default of copy=False will change to copy=True in 1.7. Set the value of copy explicitly to avoid this warning\n",
      "  X_epochs = epochs.get_data()  # (n_epochs, n_channels, n_times)\n",
      "C:\\Users\\ACER\\AppData\\Local\\Temp\\ipykernel_8620\\3657098926.py:32: FutureWarning: The current default of copy=False will change to copy=True in 1.7. Set the value of copy explicitly to avoid this warning\n",
      "  X_epochs = epochs.get_data()  # (n_epochs, n_channels, n_times)\n",
      "C:\\Users\\ACER\\AppData\\Local\\Temp\\ipykernel_8620\\3657098926.py:32: FutureWarning: The current default of copy=False will change to copy=True in 1.7. Set the value of copy explicitly to avoid this warning\n",
      "  X_epochs = epochs.get_data()  # (n_epochs, n_channels, n_times)\n"
     ]
    },
    {
     "name": "stdout",
     "output_type": "stream",
     "text": [
      "0 bad epochs dropped\n",
      "1\n",
      "D:\\CHB_MIT\\chb24 ictal chb24_13.edf_ictal_1_raw.fif\n",
      "Not setting metadata\n",
      "61 matching events found\n",
      "No baseline correction applied\n",
      "0 projection items activated\n",
      "Using data from preloaded Raw for 61 events and 2560 original time points ...\n",
      "0 bad epochs dropped\n",
      "1\n",
      "D:\\CHB_MIT\\chb24 ictal chb24_14.edf_ictal_1_raw.fif\n",
      "Not setting metadata\n",
      "171 matching events found\n",
      "No baseline correction applied\n",
      "0 projection items activated\n",
      "Using data from preloaded Raw for 171 events and 2560 original time points ...\n",
      "0 bad epochs dropped\n",
      "1\n",
      "D:\\CHB_MIT\\chb24 ictal chb24_15.edf_ictal_1_raw.fif\n",
      "Not setting metadata\n",
      "71 matching events found\n",
      "No baseline correction applied\n",
      "0 projection items activated\n",
      "Using data from preloaded Raw for 71 events and 2560 original time points ...\n",
      "0 bad epochs dropped\n",
      "1\n",
      "D:\\CHB_MIT\\chb24 ictal chb24_17.edf_ictal_1_raw.fif\n",
      "Not setting metadata\n",
      "561 matching events found\n",
      "No baseline correction applied\n",
      "0 projection items activated\n",
      "Using data from preloaded Raw for 561 events and 2560 original time points ...\n"
     ]
    },
    {
     "name": "stderr",
     "output_type": "stream",
     "text": [
      "C:\\Users\\ACER\\AppData\\Local\\Temp\\ipykernel_8620\\3657098926.py:32: FutureWarning: The current default of copy=False will change to copy=True in 1.7. Set the value of copy explicitly to avoid this warning\n",
      "  X_epochs = epochs.get_data()  # (n_epochs, n_channels, n_times)\n",
      "C:\\Users\\ACER\\AppData\\Local\\Temp\\ipykernel_8620\\3657098926.py:32: FutureWarning: The current default of copy=False will change to copy=True in 1.7. Set the value of copy explicitly to avoid this warning\n",
      "  X_epochs = epochs.get_data()  # (n_epochs, n_channels, n_times)\n",
      "C:\\Users\\ACER\\AppData\\Local\\Temp\\ipykernel_8620\\3657098926.py:32: FutureWarning: The current default of copy=False will change to copy=True in 1.7. Set the value of copy explicitly to avoid this warning\n",
      "  X_epochs = epochs.get_data()  # (n_epochs, n_channels, n_times)\n",
      "C:\\Users\\ACER\\AppData\\Local\\Temp\\ipykernel_8620\\3657098926.py:32: FutureWarning: The current default of copy=False will change to copy=True in 1.7. Set the value of copy explicitly to avoid this warning\n",
      "  X_epochs = epochs.get_data()  # (n_epochs, n_channels, n_times)\n"
     ]
    },
    {
     "name": "stdout",
     "output_type": "stream",
     "text": [
      "0 bad epochs dropped\n",
      "1\n",
      "D:\\CHB_MIT\\chb24 ictal chb24_21.edf_ictal_1_raw.fif\n",
      "Not setting metadata\n",
      "581 matching events found\n",
      "No baseline correction applied\n",
      "0 projection items activated\n",
      "Using data from preloaded Raw for 581 events and 2560 original time points ...\n"
     ]
    },
    {
     "name": "stderr",
     "output_type": "stream",
     "text": [
      "C:\\Users\\ACER\\AppData\\Local\\Temp\\ipykernel_8620\\3657098926.py:32: FutureWarning: The current default of copy=False will change to copy=True in 1.7. Set the value of copy explicitly to avoid this warning\n",
      "  X_epochs = epochs.get_data()  # (n_epochs, n_channels, n_times)\n"
     ]
    },
    {
     "name": "stdout",
     "output_type": "stream",
     "text": [
      "0 bad epochs dropped\n",
      "1\n",
      "D:\\CHB_MIT\\chb24 interictal chb24_02_normal_raw.fif\n",
      "Not setting metadata\n",
      "360 matching events found\n",
      "No baseline correction applied\n",
      "0 projection items activated\n",
      "Using data from preloaded Raw for 360 events and 2560 original time points ...\n"
     ]
    },
    {
     "name": "stderr",
     "output_type": "stream",
     "text": [
      "C:\\Users\\ACER\\AppData\\Local\\Temp\\ipykernel_8620\\3657098926.py:32: FutureWarning: The current default of copy=False will change to copy=True in 1.7. Set the value of copy explicitly to avoid this warning\n",
      "  X_epochs = epochs.get_data()  # (n_epochs, n_channels, n_times)\n"
     ]
    },
    {
     "name": "stdout",
     "output_type": "stream",
     "text": [
      "0 bad epochs dropped\n",
      "0\n",
      "D:\\CHB_MIT\\chb24 interictal chb24_05_normal_raw.fif\n",
      "Not setting metadata\n",
      "360 matching events found\n",
      "No baseline correction applied\n",
      "0 projection items activated\n",
      "Using data from preloaded Raw for 360 events and 2560 original time points ...\n"
     ]
    },
    {
     "name": "stderr",
     "output_type": "stream",
     "text": [
      "C:\\Users\\ACER\\AppData\\Local\\Temp\\ipykernel_8620\\3657098926.py:32: FutureWarning: The current default of copy=False will change to copy=True in 1.7. Set the value of copy explicitly to avoid this warning\n",
      "  X_epochs = epochs.get_data()  # (n_epochs, n_channels, n_times)\n"
     ]
    },
    {
     "name": "stdout",
     "output_type": "stream",
     "text": [
      "0 bad epochs dropped\n",
      "0\n",
      "D:\\CHB_MIT\\chb24 interictal chb24_08_normal_raw.fif\n",
      "Not setting metadata\n",
      "360 matching events found\n",
      "No baseline correction applied\n",
      "0 projection items activated\n",
      "Using data from preloaded Raw for 360 events and 2560 original time points ...\n"
     ]
    },
    {
     "name": "stderr",
     "output_type": "stream",
     "text": [
      "C:\\Users\\ACER\\AppData\\Local\\Temp\\ipykernel_8620\\3657098926.py:32: FutureWarning: The current default of copy=False will change to copy=True in 1.7. Set the value of copy explicitly to avoid this warning\n",
      "  X_epochs = epochs.get_data()  # (n_epochs, n_channels, n_times)\n"
     ]
    },
    {
     "name": "stdout",
     "output_type": "stream",
     "text": [
      "0 bad epochs dropped\n",
      "0\n",
      "D:\\CHB_MIT\\chb24 interictal chb24_10_normal_raw.fif\n",
      "Not setting metadata\n",
      "360 matching events found\n",
      "No baseline correction applied\n",
      "0 projection items activated\n",
      "Using data from preloaded Raw for 360 events and 2560 original time points ...\n"
     ]
    },
    {
     "name": "stderr",
     "output_type": "stream",
     "text": [
      "C:\\Users\\ACER\\AppData\\Local\\Temp\\ipykernel_8620\\3657098926.py:32: FutureWarning: The current default of copy=False will change to copy=True in 1.7. Set the value of copy explicitly to avoid this warning\n",
      "  X_epochs = epochs.get_data()  # (n_epochs, n_channels, n_times)\n"
     ]
    },
    {
     "name": "stdout",
     "output_type": "stream",
     "text": [
      "0 bad epochs dropped\n",
      "0\n",
      "D:\\CHB_MIT\\chb24 interictal chb24_12_normal_raw.fif\n",
      "Not setting metadata\n",
      "360 matching events found\n",
      "No baseline correction applied\n",
      "0 projection items activated\n",
      "Using data from preloaded Raw for 360 events and 2560 original time points ...\n"
     ]
    },
    {
     "name": "stderr",
     "output_type": "stream",
     "text": [
      "C:\\Users\\ACER\\AppData\\Local\\Temp\\ipykernel_8620\\3657098926.py:32: FutureWarning: The current default of copy=False will change to copy=True in 1.7. Set the value of copy explicitly to avoid this warning\n",
      "  X_epochs = epochs.get_data()  # (n_epochs, n_channels, n_times)\n"
     ]
    },
    {
     "name": "stdout",
     "output_type": "stream",
     "text": [
      "0 bad epochs dropped\n",
      "0\n",
      "D:\\CHB_MIT\\chb24 interictal chb24_16_normal_raw.fif\n",
      "Not setting metadata\n",
      "360 matching events found\n",
      "No baseline correction applied\n",
      "0 projection items activated\n",
      "Using data from preloaded Raw for 360 events and 2560 original time points ...\n"
     ]
    },
    {
     "name": "stderr",
     "output_type": "stream",
     "text": [
      "C:\\Users\\ACER\\AppData\\Local\\Temp\\ipykernel_8620\\3657098926.py:32: FutureWarning: The current default of copy=False will change to copy=True in 1.7. Set the value of copy explicitly to avoid this warning\n",
      "  X_epochs = epochs.get_data()  # (n_epochs, n_channels, n_times)\n"
     ]
    },
    {
     "name": "stdout",
     "output_type": "stream",
     "text": [
      "0 bad epochs dropped\n",
      "0\n",
      "D:\\CHB_MIT\\chb24 interictal chb24_18_normal_raw.fif\n",
      "Not setting metadata\n",
      "360 matching events found\n",
      "No baseline correction applied\n",
      "0 projection items activated\n",
      "Using data from preloaded Raw for 360 events and 2560 original time points ...\n"
     ]
    },
    {
     "name": "stderr",
     "output_type": "stream",
     "text": [
      "C:\\Users\\ACER\\AppData\\Local\\Temp\\ipykernel_8620\\3657098926.py:32: FutureWarning: The current default of copy=False will change to copy=True in 1.7. Set the value of copy explicitly to avoid this warning\n",
      "  X_epochs = epochs.get_data()  # (n_epochs, n_channels, n_times)\n"
     ]
    },
    {
     "name": "stdout",
     "output_type": "stream",
     "text": [
      "0 bad epochs dropped\n",
      "0\n",
      "D:\\CHB_MIT\\chb24 interictal chb24_19_normal_raw.fif\n",
      "Not setting metadata\n",
      "360 matching events found\n",
      "No baseline correction applied\n",
      "0 projection items activated\n",
      "Using data from preloaded Raw for 360 events and 2560 original time points ...\n"
     ]
    },
    {
     "name": "stderr",
     "output_type": "stream",
     "text": [
      "C:\\Users\\ACER\\AppData\\Local\\Temp\\ipykernel_8620\\3657098926.py:32: FutureWarning: The current default of copy=False will change to copy=True in 1.7. Set the value of copy explicitly to avoid this warning\n",
      "  X_epochs = epochs.get_data()  # (n_epochs, n_channels, n_times)\n"
     ]
    },
    {
     "name": "stdout",
     "output_type": "stream",
     "text": [
      "0 bad epochs dropped\n",
      "0\n",
      "D:\\CHB_MIT\\chb24 interictal chb24_20_normal_raw.fif\n",
      "Not setting metadata\n",
      "360 matching events found\n",
      "No baseline correction applied\n",
      "0 projection items activated\n",
      "Using data from preloaded Raw for 360 events and 2560 original time points ...\n"
     ]
    },
    {
     "name": "stderr",
     "output_type": "stream",
     "text": [
      "C:\\Users\\ACER\\AppData\\Local\\Temp\\ipykernel_8620\\3657098926.py:32: FutureWarning: The current default of copy=False will change to copy=True in 1.7. Set the value of copy explicitly to avoid this warning\n",
      "  X_epochs = epochs.get_data()  # (n_epochs, n_channels, n_times)\n"
     ]
    },
    {
     "name": "stdout",
     "output_type": "stream",
     "text": [
      "0 bad epochs dropped\n",
      "0\n",
      "D:\\CHB_MIT\\chb24 interictal chb24_22_normal_raw.fif\n",
      "Not setting metadata\n",
      "106 matching events found\n",
      "No baseline correction applied\n",
      "0 projection items activated\n",
      "Using data from preloaded Raw for 106 events and 2560 original time points ...\n"
     ]
    },
    {
     "name": "stderr",
     "output_type": "stream",
     "text": [
      "C:\\Users\\ACER\\AppData\\Local\\Temp\\ipykernel_8620\\3657098926.py:32: FutureWarning: The current default of copy=False will change to copy=True in 1.7. Set the value of copy explicitly to avoid this warning\n",
      "  X_epochs = epochs.get_data()  # (n_epochs, n_channels, n_times)\n"
     ]
    },
    {
     "name": "stdout",
     "output_type": "stream",
     "text": [
      "0 bad epochs dropped\n",
      "0\n",
      "D:\\CHB_MIT\\chb24 postictal chb24_01.edf_postictal_1_raw.fif\n",
      "Not setting metadata\n",
      "296 matching events found\n",
      "No baseline correction applied\n",
      "0 projection items activated\n",
      "Using data from preloaded Raw for 296 events and 2560 original time points ...\n"
     ]
    },
    {
     "name": "stderr",
     "output_type": "stream",
     "text": [
      "C:\\Users\\ACER\\AppData\\Local\\Temp\\ipykernel_8620\\3657098926.py:32: FutureWarning: The current default of copy=False will change to copy=True in 1.7. Set the value of copy explicitly to avoid this warning\n",
      "  X_epochs = epochs.get_data()  # (n_epochs, n_channels, n_times)\n"
     ]
    },
    {
     "name": "stdout",
     "output_type": "stream",
     "text": [
      "0 bad epochs dropped\n",
      "3\n",
      "D:\\CHB_MIT\\chb24 postictal chb24_01.edf_postictal_2_raw.fif\n",
      "Not setting metadata\n",
      "296 matching events found\n",
      "No baseline correction applied\n",
      "0 projection items activated\n",
      "Using data from preloaded Raw for 296 events and 2560 original time points ...\n"
     ]
    },
    {
     "name": "stderr",
     "output_type": "stream",
     "text": [
      "C:\\Users\\ACER\\AppData\\Local\\Temp\\ipykernel_8620\\3657098926.py:32: FutureWarning: The current default of copy=False will change to copy=True in 1.7. Set the value of copy explicitly to avoid this warning\n",
      "  X_epochs = epochs.get_data()  # (n_epochs, n_channels, n_times)\n"
     ]
    },
    {
     "name": "stdout",
     "output_type": "stream",
     "text": [
      "0 bad epochs dropped\n",
      "3\n",
      "D:\\CHB_MIT\\chb24 postictal chb24_03.edf_postictal_1_raw.fif\n",
      "Not setting metadata\n",
      "296 matching events found\n",
      "No baseline correction applied\n",
      "0 projection items activated\n",
      "Using data from preloaded Raw for 296 events and 2560 original time points ...\n"
     ]
    },
    {
     "name": "stderr",
     "output_type": "stream",
     "text": [
      "C:\\Users\\ACER\\AppData\\Local\\Temp\\ipykernel_8620\\3657098926.py:32: FutureWarning: The current default of copy=False will change to copy=True in 1.7. Set the value of copy explicitly to avoid this warning\n",
      "  X_epochs = epochs.get_data()  # (n_epochs, n_channels, n_times)\n"
     ]
    },
    {
     "name": "stdout",
     "output_type": "stream",
     "text": [
      "0 bad epochs dropped\n",
      "3\n",
      "D:\\CHB_MIT\\chb24 postictal chb24_03.edf_postictal_2_raw.fif\n",
      "Not setting metadata\n",
      "296 matching events found\n",
      "No baseline correction applied\n",
      "0 projection items activated\n",
      "Using data from preloaded Raw for 296 events and 2560 original time points ...\n",
      "0 bad epochs dropped\n"
     ]
    },
    {
     "name": "stderr",
     "output_type": "stream",
     "text": [
      "C:\\Users\\ACER\\AppData\\Local\\Temp\\ipykernel_8620\\3657098926.py:32: FutureWarning: The current default of copy=False will change to copy=True in 1.7. Set the value of copy explicitly to avoid this warning\n",
      "  X_epochs = epochs.get_data()  # (n_epochs, n_channels, n_times)\n"
     ]
    },
    {
     "name": "stdout",
     "output_type": "stream",
     "text": [
      "3\n",
      "D:\\CHB_MIT\\chb24 postictal chb24_04.edf_postictal_1_raw.fif\n",
      "Not setting metadata\n",
      "296 matching events found\n",
      "No baseline correction applied\n",
      "0 projection items activated\n",
      "Using data from preloaded Raw for 296 events and 2560 original time points ...\n",
      "0 bad epochs dropped\n",
      "3\n",
      "D:\\CHB_MIT\\chb24 postictal chb24_06.edf_postictal_1_raw.fif\n",
      "Not setting metadata\n",
      "296 matching events found\n",
      "No baseline correction applied\n",
      "0 projection items activated\n",
      "Using data from preloaded Raw for 296 events and 2560 original time points ...\n"
     ]
    },
    {
     "name": "stderr",
     "output_type": "stream",
     "text": [
      "C:\\Users\\ACER\\AppData\\Local\\Temp\\ipykernel_8620\\3657098926.py:32: FutureWarning: The current default of copy=False will change to copy=True in 1.7. Set the value of copy explicitly to avoid this warning\n",
      "  X_epochs = epochs.get_data()  # (n_epochs, n_channels, n_times)\n",
      "C:\\Users\\ACER\\AppData\\Local\\Temp\\ipykernel_8620\\3657098926.py:32: FutureWarning: The current default of copy=False will change to copy=True in 1.7. Set the value of copy explicitly to avoid this warning\n",
      "  X_epochs = epochs.get_data()  # (n_epochs, n_channels, n_times)\n"
     ]
    },
    {
     "name": "stdout",
     "output_type": "stream",
     "text": [
      "0 bad epochs dropped\n",
      "3\n",
      "D:\\CHB_MIT\\chb24 postictal chb24_07.edf_postictal_1_raw.fif\n",
      "Not setting metadata\n",
      "296 matching events found\n",
      "No baseline correction applied\n",
      "0 projection items activated\n",
      "Using data from preloaded Raw for 296 events and 2560 original time points ...\n",
      "0 bad epochs dropped\n",
      "3\n",
      "D:\\CHB_MIT\\chb24 postictal chb24_09.edf_postictal_1_raw.fif\n",
      "Not setting metadata\n",
      "296 matching events found\n",
      "No baseline correction applied\n",
      "0 projection items activated\n",
      "Using data from preloaded Raw for 296 events and 2560 original time points ...\n"
     ]
    },
    {
     "name": "stderr",
     "output_type": "stream",
     "text": [
      "C:\\Users\\ACER\\AppData\\Local\\Temp\\ipykernel_8620\\3657098926.py:32: FutureWarning: The current default of copy=False will change to copy=True in 1.7. Set the value of copy explicitly to avoid this warning\n",
      "  X_epochs = epochs.get_data()  # (n_epochs, n_channels, n_times)\n",
      "C:\\Users\\ACER\\AppData\\Local\\Temp\\ipykernel_8620\\3657098926.py:32: FutureWarning: The current default of copy=False will change to copy=True in 1.7. Set the value of copy explicitly to avoid this warning\n",
      "  X_epochs = epochs.get_data()  # (n_epochs, n_channels, n_times)\n"
     ]
    },
    {
     "name": "stdout",
     "output_type": "stream",
     "text": [
      "0 bad epochs dropped\n",
      "3\n",
      "D:\\CHB_MIT\\chb24 postictal chb24_13.edf_postictal_1_raw.fif\n",
      "Not setting metadata\n",
      "144 matching events found\n",
      "No baseline correction applied\n",
      "0 projection items activated\n",
      "Using data from preloaded Raw for 144 events and 2560 original time points ...\n",
      "0 bad epochs dropped\n",
      "3\n",
      "D:\\CHB_MIT\\chb24 postictal chb24_14.edf_postictal_1_raw.fif\n",
      "Not setting metadata\n",
      "296 matching events found\n",
      "No baseline correction applied\n",
      "0 projection items activated\n",
      "Using data from preloaded Raw for 296 events and 2560 original time points ...\n"
     ]
    },
    {
     "name": "stderr",
     "output_type": "stream",
     "text": [
      "C:\\Users\\ACER\\AppData\\Local\\Temp\\ipykernel_8620\\3657098926.py:32: FutureWarning: The current default of copy=False will change to copy=True in 1.7. Set the value of copy explicitly to avoid this warning\n",
      "  X_epochs = epochs.get_data()  # (n_epochs, n_channels, n_times)\n",
      "C:\\Users\\ACER\\AppData\\Local\\Temp\\ipykernel_8620\\3657098926.py:32: FutureWarning: The current default of copy=False will change to copy=True in 1.7. Set the value of copy explicitly to avoid this warning\n",
      "  X_epochs = epochs.get_data()  # (n_epochs, n_channels, n_times)\n"
     ]
    },
    {
     "name": "stdout",
     "output_type": "stream",
     "text": [
      "0 bad epochs dropped\n",
      "3\n",
      "D:\\CHB_MIT\\chb24 postictal chb24_15.edf_postictal_1_raw.fif\n",
      "Not setting metadata\n",
      "11 matching events found\n",
      "No baseline correction applied\n",
      "0 projection items activated\n",
      "Using data from preloaded Raw for 11 events and 2560 original time points ...\n",
      "0 bad epochs dropped\n",
      "3\n",
      "D:\\CHB_MIT\\chb24 postictal chb24_17.edf_postictal_1_raw.fif\n",
      "Not setting metadata\n",
      "5 matching events found\n",
      "No baseline correction applied\n",
      "0 projection items activated\n",
      "Using data from preloaded Raw for 5 events and 2560 original time points ...\n",
      "0 bad epochs dropped\n",
      "3\n",
      "D:\\CHB_MIT\\chb24 postictal chb24_21.edf_postictal_1_raw.fif\n",
      "Not setting metadata\n",
      "296 matching events found\n",
      "No baseline correction applied\n",
      "0 projection items activated\n",
      "Using data from preloaded Raw for 296 events and 2560 original time points ...\n"
     ]
    },
    {
     "name": "stderr",
     "output_type": "stream",
     "text": [
      "C:\\Users\\ACER\\AppData\\Local\\Temp\\ipykernel_8620\\3657098926.py:32: FutureWarning: The current default of copy=False will change to copy=True in 1.7. Set the value of copy explicitly to avoid this warning\n",
      "  X_epochs = epochs.get_data()  # (n_epochs, n_channels, n_times)\n",
      "C:\\Users\\ACER\\AppData\\Local\\Temp\\ipykernel_8620\\3657098926.py:32: FutureWarning: The current default of copy=False will change to copy=True in 1.7. Set the value of copy explicitly to avoid this warning\n",
      "  X_epochs = epochs.get_data()  # (n_epochs, n_channels, n_times)\n",
      "C:\\Users\\ACER\\AppData\\Local\\Temp\\ipykernel_8620\\3657098926.py:32: FutureWarning: The current default of copy=False will change to copy=True in 1.7. Set the value of copy explicitly to avoid this warning\n",
      "  X_epochs = epochs.get_data()  # (n_epochs, n_channels, n_times)\n"
     ]
    },
    {
     "name": "stdout",
     "output_type": "stream",
     "text": [
      "0 bad epochs dropped\n",
      "3\n",
      "D:\\CHB_MIT\\chb24 preictal chb24_01.edf_preictal_1_raw.fif\n",
      "Not setting metadata\n",
      "95 matching events found\n",
      "No baseline correction applied\n",
      "0 projection items activated\n",
      "Using data from preloaded Raw for 95 events and 2560 original time points ...\n"
     ]
    },
    {
     "name": "stderr",
     "output_type": "stream",
     "text": [
      "C:\\Users\\ACER\\AppData\\Local\\Temp\\ipykernel_8620\\3657098926.py:32: FutureWarning: The current default of copy=False will change to copy=True in 1.7. Set the value of copy explicitly to avoid this warning\n",
      "  X_epochs = epochs.get_data()  # (n_epochs, n_channels, n_times)\n"
     ]
    },
    {
     "name": "stdout",
     "output_type": "stream",
     "text": [
      "0 bad epochs dropped\n",
      "2\n",
      "D:\\CHB_MIT\\chb24 preictal chb24_03.edf_preictal_1_raw.fif\n",
      "Not setting metadata\n",
      "45 matching events found\n",
      "No baseline correction applied\n",
      "0 projection items activated\n",
      "Using data from preloaded Raw for 45 events and 2560 original time points ...\n",
      "0 bad epochs dropped\n"
     ]
    },
    {
     "name": "stderr",
     "output_type": "stream",
     "text": [
      "C:\\Users\\ACER\\AppData\\Local\\Temp\\ipykernel_8620\\3657098926.py:32: FutureWarning: The current default of copy=False will change to copy=True in 1.7. Set the value of copy explicitly to avoid this warning\n",
      "  X_epochs = epochs.get_data()  # (n_epochs, n_channels, n_times)\n"
     ]
    },
    {
     "name": "stdout",
     "output_type": "stream",
     "text": [
      "2\n",
      "D:\\CHB_MIT\\chb24 preictal chb24_03.edf_preictal_2_raw.fif\n",
      "Not setting metadata\n",
      "43 matching events found\n",
      "No baseline correction applied\n",
      "0 projection items activated\n",
      "Using data from preloaded Raw for 43 events and 2560 original time points ...\n",
      "0 bad epochs dropped\n",
      "2\n",
      "D:\\CHB_MIT\\chb24 preictal chb24_04.edf_preictal_1_raw.fif\n",
      "Not setting metadata\n",
      "216 matching events found\n",
      "No baseline correction applied\n",
      "0 projection items activated\n",
      "Using data from preloaded Raw for 216 events and 2560 original time points ...\n"
     ]
    },
    {
     "name": "stderr",
     "output_type": "stream",
     "text": [
      "C:\\Users\\ACER\\AppData\\Local\\Temp\\ipykernel_8620\\3657098926.py:32: FutureWarning: The current default of copy=False will change to copy=True in 1.7. Set the value of copy explicitly to avoid this warning\n",
      "  X_epochs = epochs.get_data()  # (n_epochs, n_channels, n_times)\n",
      "C:\\Users\\ACER\\AppData\\Local\\Temp\\ipykernel_8620\\3657098926.py:32: FutureWarning: The current default of copy=False will change to copy=True in 1.7. Set the value of copy explicitly to avoid this warning\n",
      "  X_epochs = epochs.get_data()  # (n_epochs, n_channels, n_times)\n"
     ]
    },
    {
     "name": "stdout",
     "output_type": "stream",
     "text": [
      "0 bad epochs dropped\n",
      "2\n",
      "D:\\CHB_MIT\\chb24 preictal chb24_06.edf_preictal_1_raw.fif\n",
      "Not setting metadata\n",
      "244 matching events found\n",
      "No baseline correction applied\n",
      "0 projection items activated\n",
      "Using data from preloaded Raw for 244 events and 2560 original time points ...\n"
     ]
    },
    {
     "name": "stderr",
     "output_type": "stream",
     "text": [
      "C:\\Users\\ACER\\AppData\\Local\\Temp\\ipykernel_8620\\3657098926.py:32: FutureWarning: The current default of copy=False will change to copy=True in 1.7. Set the value of copy explicitly to avoid this warning\n",
      "  X_epochs = epochs.get_data()  # (n_epochs, n_channels, n_times)\n"
     ]
    },
    {
     "name": "stdout",
     "output_type": "stream",
     "text": [
      "0 bad epochs dropped\n",
      "2\n",
      "D:\\CHB_MIT\\chb24 preictal chb24_07.edf_preictal_1_raw.fif\n",
      "Not setting metadata\n",
      "6 matching events found\n",
      "No baseline correction applied\n",
      "0 projection items activated\n",
      "Using data from preloaded Raw for 6 events and 2560 original time points ...\n",
      "0 bad epochs dropped\n",
      "2\n",
      "D:\\CHB_MIT\\chb24 preictal chb24_09.edf_preictal_1_raw.fif\n",
      "Not setting metadata\n",
      "348 matching events found\n",
      "No baseline correction applied\n",
      "0 projection items activated\n",
      "Using data from preloaded Raw for 348 events and 2560 original time points ...\n"
     ]
    },
    {
     "name": "stderr",
     "output_type": "stream",
     "text": [
      "C:\\Users\\ACER\\AppData\\Local\\Temp\\ipykernel_8620\\3657098926.py:32: FutureWarning: The current default of copy=False will change to copy=True in 1.7. Set the value of copy explicitly to avoid this warning\n",
      "  X_epochs = epochs.get_data()  # (n_epochs, n_channels, n_times)\n",
      "C:\\Users\\ACER\\AppData\\Local\\Temp\\ipykernel_8620\\3657098926.py:32: FutureWarning: The current default of copy=False will change to copy=True in 1.7. Set the value of copy explicitly to avoid this warning\n",
      "  X_epochs = epochs.get_data()  # (n_epochs, n_channels, n_times)\n"
     ]
    },
    {
     "name": "stdout",
     "output_type": "stream",
     "text": [
      "0 bad epochs dropped\n",
      "2\n",
      "D:\\CHB_MIT\\chb24 preictal chb24_11.edf_preictal_1_raw.fif\n",
      "Not setting metadata\n",
      "359 matching events found\n",
      "No baseline correction applied\n",
      "0 projection items activated\n",
      "Using data from preloaded Raw for 359 events and 2560 original time points ...\n"
     ]
    },
    {
     "name": "stderr",
     "output_type": "stream",
     "text": [
      "C:\\Users\\ACER\\AppData\\Local\\Temp\\ipykernel_8620\\3657098926.py:32: FutureWarning: The current default of copy=False will change to copy=True in 1.7. Set the value of copy explicitly to avoid this warning\n",
      "  X_epochs = epochs.get_data()  # (n_epochs, n_channels, n_times)\n"
     ]
    },
    {
     "name": "stdout",
     "output_type": "stream",
     "text": [
      "0 bad epochs dropped\n",
      "2\n",
      "D:\\CHB_MIT\\chb24 preictal chb24_13.edf_preictal_1_raw.fif\n",
      "Not setting metadata\n",
      "359 matching events found\n",
      "No baseline correction applied\n",
      "0 projection items activated\n",
      "Using data from preloaded Raw for 359 events and 2560 original time points ...\n"
     ]
    },
    {
     "name": "stderr",
     "output_type": "stream",
     "text": [
      "C:\\Users\\ACER\\AppData\\Local\\Temp\\ipykernel_8620\\3657098926.py:32: FutureWarning: The current default of copy=False will change to copy=True in 1.7. Set the value of copy explicitly to avoid this warning\n",
      "  X_epochs = epochs.get_data()  # (n_epochs, n_channels, n_times)\n"
     ]
    },
    {
     "name": "stdout",
     "output_type": "stream",
     "text": [
      "0 bad epochs dropped\n",
      "2\n",
      "D:\\CHB_MIT\\chb24 preictal chb24_14.edf_preictal_1_raw.fif\n",
      "Not setting metadata\n",
      "359 matching events found\n",
      "No baseline correction applied\n",
      "0 projection items activated\n",
      "Using data from preloaded Raw for 359 events and 2560 original time points ...\n"
     ]
    },
    {
     "name": "stderr",
     "output_type": "stream",
     "text": [
      "C:\\Users\\ACER\\AppData\\Local\\Temp\\ipykernel_8620\\3657098926.py:32: FutureWarning: The current default of copy=False will change to copy=True in 1.7. Set the value of copy explicitly to avoid this warning\n",
      "  X_epochs = epochs.get_data()  # (n_epochs, n_channels, n_times)\n"
     ]
    },
    {
     "name": "stdout",
     "output_type": "stream",
     "text": [
      "0 bad epochs dropped\n",
      "2\n",
      "D:\\CHB_MIT\\chb24 preictal chb24_15.edf_preictal_1_raw.fif\n",
      "Not setting metadata\n",
      "359 matching events found\n",
      "No baseline correction applied\n",
      "0 projection items activated\n",
      "Using data from preloaded Raw for 359 events and 2560 original time points ...\n"
     ]
    },
    {
     "name": "stderr",
     "output_type": "stream",
     "text": [
      "C:\\Users\\ACER\\AppData\\Local\\Temp\\ipykernel_8620\\3657098926.py:32: FutureWarning: The current default of copy=False will change to copy=True in 1.7. Set the value of copy explicitly to avoid this warning\n",
      "  X_epochs = epochs.get_data()  # (n_epochs, n_channels, n_times)\n"
     ]
    },
    {
     "name": "stdout",
     "output_type": "stream",
     "text": [
      "0 bad epochs dropped\n",
      "2\n",
      "D:\\CHB_MIT\\chb24 preictal chb24_17.edf_preictal_1_raw.fif\n",
      "Not setting metadata\n",
      "359 matching events found\n",
      "No baseline correction applied\n",
      "0 projection items activated\n",
      "Using data from preloaded Raw for 359 events and 2560 original time points ...\n"
     ]
    },
    {
     "name": "stderr",
     "output_type": "stream",
     "text": [
      "C:\\Users\\ACER\\AppData\\Local\\Temp\\ipykernel_8620\\3657098926.py:32: FutureWarning: The current default of copy=False will change to copy=True in 1.7. Set the value of copy explicitly to avoid this warning\n",
      "  X_epochs = epochs.get_data()  # (n_epochs, n_channels, n_times)\n"
     ]
    },
    {
     "name": "stdout",
     "output_type": "stream",
     "text": [
      "0 bad epochs dropped\n",
      "2\n",
      "D:\\CHB_MIT\\chb24 preictal chb24_21.edf_preictal_1_raw.fif\n",
      "Not setting metadata\n",
      "359 matching events found\n",
      "No baseline correction applied\n",
      "0 projection items activated\n",
      "Using data from preloaded Raw for 359 events and 2560 original time points ...\n"
     ]
    },
    {
     "name": "stderr",
     "output_type": "stream",
     "text": [
      "C:\\Users\\ACER\\AppData\\Local\\Temp\\ipykernel_8620\\3657098926.py:32: FutureWarning: The current default of copy=False will change to copy=True in 1.7. Set the value of copy explicitly to avoid this warning\n",
      "  X_epochs = epochs.get_data()  # (n_epochs, n_channels, n_times)\n"
     ]
    },
    {
     "name": "stdout",
     "output_type": "stream",
     "text": [
      "0 bad epochs dropped\n",
      "2\n"
     ]
    },
    {
     "name": "stderr",
     "output_type": "stream",
     "text": [
      "C:\\Users\\ACER\\AppData\\Local\\Temp\\ipykernel_8620\\3657098926.py:32: FutureWarning: The current default of copy=False will change to copy=True in 1.7. Set the value of copy explicitly to avoid this warning\n",
      "  X_epochs = epochs.get_data()  # (n_epochs, n_channels, n_times)\n"
     ]
    },
    {
     "name": "stdout",
     "output_type": "stream",
     "text": [
      "Final shapes: (13143, 21, 2560) (13143,)\n"
     ]
    }
   ],
   "source": [
    "import numpy as np\n",
    "import mne\n",
    "\n",
    "X = []\n",
    "Y = []\n",
    "\n",
    "for (subject, state, file_name), raw in data_dict.items():\n",
    "    print(subject, state, file_name)\n",
    "    if raw.times[-1] < 10.0:\n",
    "        print(\"Warning: Data length is shorter than the epoch duration.\")\n",
    "\n",
    "    sfreq = raw.info['sfreq']\n",
    "\n",
    "    if state == 'ictal':\n",
    "        overlap = 0.99  # 95% overlap\n",
    "        label = 1\n",
    "    elif state == 'preictal':\n",
    "        overlap = 0.5  # 50% overlap\n",
    "        label = 2\n",
    "    elif state== 'postictal':  # interictal, postictal\n",
    "        overlap = 0.80  # No overlap\n",
    "        label = 3\n",
    "    else: \n",
    "        overlap= 0.0\n",
    "        label = 0\n",
    "        \n",
    "    \n",
    "    # Create fixed-length epochs\n",
    "    epochs = mne.make_fixed_length_epochs(raw, duration=10.0, preload=True, overlap=overlap * 10.0)\n",
    "    \n",
    "    # Get data and labels\n",
    "    X_epochs = epochs.get_data()  # (n_epochs, n_channels, n_times)\n",
    "    Y_epochs = np.full(X_epochs.shape[0], label)  # Assign the label to each epoch\n",
    "    print(label)\n",
    "    \n",
    "    X.append(X_epochs)\n",
    "    Y.append(Y_epochs)\n",
    "\n",
    "# Combine all data and labels into single arrays using vstack and hstack\n",
    "X = np.vstack(X)\n",
    "Y = np.hstack(Y)\n",
    "\n",
    "print(\"Final shapes:\", X.shape, Y.shape)\n"
   ]
  },
  {
   "cell_type": "code",
   "execution_count": 7,
   "id": "6d97fdd0-9f11-4261-9994-a85c788d4cc3",
   "metadata": {
    "scrolled": true
   },
   "outputs": [
    {
     "data": {
      "text/plain": [
       "0\n",
       "1    3526\n",
       "0    3346\n",
       "2    3151\n",
       "3    3120\n",
       "Name: count, dtype: int64"
      ]
     },
     "execution_count": 7,
     "metadata": {},
     "output_type": "execute_result"
    }
   ],
   "source": [
    "pd.DataFrame(Y).value_counts()\n",
    "# # Y"
   ]
  },
  {
   "cell_type": "code",
   "execution_count": 8,
   "id": "f311abc6-13e7-40c4-9582-757c5ce66f0a",
   "metadata": {},
   "outputs": [
    {
     "data": {
      "text/plain": [
       "(13143, 21, 2560)"
      ]
     },
     "execution_count": 8,
     "metadata": {},
     "output_type": "execute_result"
    }
   ],
   "source": [
    "X.shape"
   ]
  },
  {
   "cell_type": "code",
   "execution_count": 9,
   "id": "241bca83-b336-40fe-8809-0fce6b6e09cd",
   "metadata": {},
   "outputs": [
    {
     "data": {
      "text/plain": [
       "(13143, 2560, 21)"
      ]
     },
     "execution_count": 9,
     "metadata": {},
     "output_type": "execute_result"
    }
   ],
   "source": [
    "X = np.moveaxis(X,1,2)\n",
    "X.shape"
   ]
  },
  {
   "cell_type": "code",
   "execution_count": 11,
   "id": "c033a4c9-4f9a-4c01-8a9b-a6aada6788a6",
   "metadata": {},
   "outputs": [
    {
     "name": "stdout",
     "output_type": "stream",
     "text": [
      "Data scaling completed.\n"
     ]
    }
   ],
   "source": [
    "from sklearn.preprocessing import StandardScaler\n",
    "# c. Scale the data\n",
    "n_channels = X.shape[2]\n",
    "scalers = [StandardScaler() for _ in range(n_channels)]\n",
    "\n",
    "for ch in range(n_channels):\n",
    "    X[:, :, ch] = scalers[ch].fit_transform(X[:, :, ch])\n",
    "\n",
    "print(\"Data scaling completed.\")"
   ]
  },
  {
   "cell_type": "code",
   "execution_count": 12,
   "id": "14ebc00b-c424-4795-b5d1-aeb64f211a02",
   "metadata": {},
   "outputs": [
    {
     "name": "stdout",
     "output_type": "stream",
     "text": [
      "(13143, 2560, 21, 1)\n"
     ]
    }
   ],
   "source": [
    "X = np.expand_dims(X, axis=-1)\n",
    "print(X.shape) "
   ]
  },
  {
   "cell_type": "code",
   "execution_count": 20,
   "id": "c683c482-e88f-4fcb-9332-96003771fd13",
   "metadata": {},
   "outputs": [],
   "source": [
    "# mask = (Y == 0) | (Y == 2)\n",
    "# mask"
   ]
  },
  {
   "cell_type": "code",
   "execution_count": 21,
   "id": "b79794e8-8f65-4efd-9b7e-ed14af02968b",
   "metadata": {},
   "outputs": [
    {
     "name": "stdout",
     "output_type": "stream",
     "text": [
      "Class distribution after filtering:\n",
      "0    3346\n",
      "1    3151\n",
      "Name: count, dtype: int64\n",
      "Training samples: 5197\n",
      "Testing samples: 1300\n",
      "Class weights: {0: 0.9710388639760837, 1: 1.0307417691392304}\n"
     ]
    },
    {
     "data": {
      "text/html": [
       "<pre style=\"white-space:pre;overflow-x:auto;line-height:normal;font-family:Menlo,'DejaVu Sans Mono',consolas,'Courier New',monospace\"><span style=\"font-weight: bold\">Model: \"functional_1\"</span>\n",
       "</pre>\n"
      ],
      "text/plain": [
       "\u001b[1mModel: \"functional_1\"\u001b[0m\n"
      ]
     },
     "metadata": {},
     "output_type": "display_data"
    },
    {
     "data": {
      "text/html": [
       "<pre style=\"white-space:pre;overflow-x:auto;line-height:normal;font-family:Menlo,'DejaVu Sans Mono',consolas,'Courier New',monospace\">┏━━━━━━━━━━━━━━━━━━━━━━━━━━━━━━━┳━━━━━━━━━━━━━━━━━━━━━━━━━━━┳━━━━━━━━━━━━━━━━━┳━━━━━━━━━━━━━━━━━━━━━━━━━━━━┓\n",
       "┃<span style=\"font-weight: bold\"> Layer (type)                  </span>┃<span style=\"font-weight: bold\"> Output Shape              </span>┃<span style=\"font-weight: bold\">         Param # </span>┃<span style=\"font-weight: bold\"> Connected to               </span>┃\n",
       "┡━━━━━━━━━━━━━━━━━━━━━━━━━━━━━━━╇━━━━━━━━━━━━━━━━━━━━━━━━━━━╇━━━━━━━━━━━━━━━━━╇━━━━━━━━━━━━━━━━━━━━━━━━━━━━┩\n",
       "│ input_layer_7 (<span style=\"color: #0087ff; text-decoration-color: #0087ff\">InputLayer</span>)    │ (<span style=\"color: #00d7ff; text-decoration-color: #00d7ff\">None</span>, <span style=\"color: #00af00; text-decoration-color: #00af00\">2560</span>, <span style=\"color: #00af00; text-decoration-color: #00af00\">21</span>, <span style=\"color: #00af00; text-decoration-color: #00af00\">1</span>)       │               <span style=\"color: #00af00; text-decoration-color: #00af00\">0</span> │ -                          │\n",
       "├───────────────────────────────┼───────────────────────────┼─────────────────┼────────────────────────────┤\n",
       "│ conv2d_14 (<span style=\"color: #0087ff; text-decoration-color: #0087ff\">Conv2D</span>)            │ (<span style=\"color: #00d7ff; text-decoration-color: #00d7ff\">None</span>, <span style=\"color: #00af00; text-decoration-color: #00af00\">2558</span>, <span style=\"color: #00af00; text-decoration-color: #00af00\">21</span>, <span style=\"color: #00af00; text-decoration-color: #00af00\">32</span>)      │             <span style=\"color: #00af00; text-decoration-color: #00af00\">128</span> │ input_layer_7[<span style=\"color: #00af00; text-decoration-color: #00af00\">0</span>][<span style=\"color: #00af00; text-decoration-color: #00af00\">0</span>]        │\n",
       "├───────────────────────────────┼───────────────────────────┼─────────────────┼────────────────────────────┤\n",
       "│ max_pooling2d_14              │ (<span style=\"color: #00d7ff; text-decoration-color: #00d7ff\">None</span>, <span style=\"color: #00af00; text-decoration-color: #00af00\">2556</span>, <span style=\"color: #00af00; text-decoration-color: #00af00\">21</span>, <span style=\"color: #00af00; text-decoration-color: #00af00\">32</span>)      │               <span style=\"color: #00af00; text-decoration-color: #00af00\">0</span> │ conv2d_14[<span style=\"color: #00af00; text-decoration-color: #00af00\">0</span>][<span style=\"color: #00af00; text-decoration-color: #00af00\">0</span>]            │\n",
       "│ (<span style=\"color: #0087ff; text-decoration-color: #0087ff\">MaxPooling2D</span>)                │                           │                 │                            │\n",
       "├───────────────────────────────┼───────────────────────────┼─────────────────┼────────────────────────────┤\n",
       "│ conv2d_15 (<span style=\"color: #0087ff; text-decoration-color: #0087ff\">Conv2D</span>)            │ (<span style=\"color: #00d7ff; text-decoration-color: #00d7ff\">None</span>, <span style=\"color: #00af00; text-decoration-color: #00af00\">2554</span>, <span style=\"color: #00af00; text-decoration-color: #00af00\">21</span>, <span style=\"color: #00af00; text-decoration-color: #00af00\">64</span>)      │           <span style=\"color: #00af00; text-decoration-color: #00af00\">6,208</span> │ max_pooling2d_14[<span style=\"color: #00af00; text-decoration-color: #00af00\">0</span>][<span style=\"color: #00af00; text-decoration-color: #00af00\">0</span>]     │\n",
       "├───────────────────────────────┼───────────────────────────┼─────────────────┼────────────────────────────┤\n",
       "│ max_pooling2d_15              │ (<span style=\"color: #00d7ff; text-decoration-color: #00d7ff\">None</span>, <span style=\"color: #00af00; text-decoration-color: #00af00\">2552</span>, <span style=\"color: #00af00; text-decoration-color: #00af00\">21</span>, <span style=\"color: #00af00; text-decoration-color: #00af00\">64</span>)      │               <span style=\"color: #00af00; text-decoration-color: #00af00\">0</span> │ conv2d_15[<span style=\"color: #00af00; text-decoration-color: #00af00\">0</span>][<span style=\"color: #00af00; text-decoration-color: #00af00\">0</span>]            │\n",
       "│ (<span style=\"color: #0087ff; text-decoration-color: #0087ff\">MaxPooling2D</span>)                │                           │                 │                            │\n",
       "├───────────────────────────────┼───────────────────────────┼─────────────────┼────────────────────────────┤\n",
       "│ reshape_5 (<span style=\"color: #0087ff; text-decoration-color: #0087ff\">Reshape</span>)           │ (<span style=\"color: #00d7ff; text-decoration-color: #00d7ff\">None</span>, <span style=\"color: #00af00; text-decoration-color: #00af00\">2552</span>, <span style=\"color: #00af00; text-decoration-color: #00af00\">1344</span>)        │               <span style=\"color: #00af00; text-decoration-color: #00af00\">0</span> │ max_pooling2d_15[<span style=\"color: #00af00; text-decoration-color: #00af00\">0</span>][<span style=\"color: #00af00; text-decoration-color: #00af00\">0</span>]     │\n",
       "├───────────────────────────────┼───────────────────────────┼─────────────────┼────────────────────────────┤\n",
       "│ gru_3 (<span style=\"color: #0087ff; text-decoration-color: #0087ff\">GRU</span>)                   │ (<span style=\"color: #00d7ff; text-decoration-color: #00d7ff\">None</span>, <span style=\"color: #00af00; text-decoration-color: #00af00\">2552</span>, <span style=\"color: #00af00; text-decoration-color: #00af00\">10</span>)          │          <span style=\"color: #00af00; text-decoration-color: #00af00\">40,680</span> │ reshape_5[<span style=\"color: #00af00; text-decoration-color: #00af00\">0</span>][<span style=\"color: #00af00; text-decoration-color: #00af00\">0</span>]            │\n",
       "├───────────────────────────────┼───────────────────────────┼─────────────────┼────────────────────────────┤\n",
       "│ attention_1 (<span style=\"color: #0087ff; text-decoration-color: #0087ff\">Attention</span>)       │ (<span style=\"color: #00d7ff; text-decoration-color: #00d7ff\">None</span>, <span style=\"color: #00af00; text-decoration-color: #00af00\">2552</span>, <span style=\"color: #00af00; text-decoration-color: #00af00\">10</span>)          │               <span style=\"color: #00af00; text-decoration-color: #00af00\">0</span> │ gru_3[<span style=\"color: #00af00; text-decoration-color: #00af00\">0</span>][<span style=\"color: #00af00; text-decoration-color: #00af00\">0</span>], gru_3[<span style=\"color: #00af00; text-decoration-color: #00af00\">0</span>][<span style=\"color: #00af00; text-decoration-color: #00af00\">0</span>]   │\n",
       "├───────────────────────────────┼───────────────────────────┼─────────────────┼────────────────────────────┤\n",
       "│ multiply_1 (<span style=\"color: #0087ff; text-decoration-color: #0087ff\">Multiply</span>)         │ (<span style=\"color: #00d7ff; text-decoration-color: #00d7ff\">None</span>, <span style=\"color: #00af00; text-decoration-color: #00af00\">2552</span>, <span style=\"color: #00af00; text-decoration-color: #00af00\">10</span>)          │               <span style=\"color: #00af00; text-decoration-color: #00af00\">0</span> │ gru_3[<span style=\"color: #00af00; text-decoration-color: #00af00\">0</span>][<span style=\"color: #00af00; text-decoration-color: #00af00\">0</span>],               │\n",
       "│                               │                           │                 │ attention_1[<span style=\"color: #00af00; text-decoration-color: #00af00\">0</span>][<span style=\"color: #00af00; text-decoration-color: #00af00\">0</span>]          │\n",
       "├───────────────────────────────┼───────────────────────────┼─────────────────┼────────────────────────────┤\n",
       "│ add_1 (<span style=\"color: #0087ff; text-decoration-color: #0087ff\">Add</span>)                   │ (<span style=\"color: #00d7ff; text-decoration-color: #00d7ff\">None</span>, <span style=\"color: #00af00; text-decoration-color: #00af00\">2552</span>, <span style=\"color: #00af00; text-decoration-color: #00af00\">10</span>)          │               <span style=\"color: #00af00; text-decoration-color: #00af00\">0</span> │ multiply_1[<span style=\"color: #00af00; text-decoration-color: #00af00\">0</span>][<span style=\"color: #00af00; text-decoration-color: #00af00\">0</span>],          │\n",
       "│                               │                           │                 │ gru_3[<span style=\"color: #00af00; text-decoration-color: #00af00\">0</span>][<span style=\"color: #00af00; text-decoration-color: #00af00\">0</span>]                │\n",
       "├───────────────────────────────┼───────────────────────────┼─────────────────┼────────────────────────────┤\n",
       "│ flatten_5 (<span style=\"color: #0087ff; text-decoration-color: #0087ff\">Flatten</span>)           │ (<span style=\"color: #00d7ff; text-decoration-color: #00d7ff\">None</span>, <span style=\"color: #00af00; text-decoration-color: #00af00\">25520</span>)             │               <span style=\"color: #00af00; text-decoration-color: #00af00\">0</span> │ add_1[<span style=\"color: #00af00; text-decoration-color: #00af00\">0</span>][<span style=\"color: #00af00; text-decoration-color: #00af00\">0</span>]                │\n",
       "├───────────────────────────────┼───────────────────────────┼─────────────────┼────────────────────────────┤\n",
       "│ dense_2 (<span style=\"color: #0087ff; text-decoration-color: #0087ff\">Dense</span>)               │ (<span style=\"color: #00d7ff; text-decoration-color: #00d7ff\">None</span>, <span style=\"color: #00af00; text-decoration-color: #00af00\">128</span>)               │       <span style=\"color: #00af00; text-decoration-color: #00af00\">3,266,688</span> │ flatten_5[<span style=\"color: #00af00; text-decoration-color: #00af00\">0</span>][<span style=\"color: #00af00; text-decoration-color: #00af00\">0</span>]            │\n",
       "├───────────────────────────────┼───────────────────────────┼─────────────────┼────────────────────────────┤\n",
       "│ dense_3 (<span style=\"color: #0087ff; text-decoration-color: #0087ff\">Dense</span>)               │ (<span style=\"color: #00d7ff; text-decoration-color: #00d7ff\">None</span>, <span style=\"color: #00af00; text-decoration-color: #00af00\">2</span>)                 │             <span style=\"color: #00af00; text-decoration-color: #00af00\">258</span> │ dense_2[<span style=\"color: #00af00; text-decoration-color: #00af00\">0</span>][<span style=\"color: #00af00; text-decoration-color: #00af00\">0</span>]              │\n",
       "└───────────────────────────────┴───────────────────────────┴─────────────────┴────────────────────────────┘\n",
       "</pre>\n"
      ],
      "text/plain": [
       "┏━━━━━━━━━━━━━━━━━━━━━━━━━━━━━━━┳━━━━━━━━━━━━━━━━━━━━━━━━━━━┳━━━━━━━━━━━━━━━━━┳━━━━━━━━━━━━━━━━━━━━━━━━━━━━┓\n",
       "┃\u001b[1m \u001b[0m\u001b[1mLayer (type)                 \u001b[0m\u001b[1m \u001b[0m┃\u001b[1m \u001b[0m\u001b[1mOutput Shape             \u001b[0m\u001b[1m \u001b[0m┃\u001b[1m \u001b[0m\u001b[1m        Param #\u001b[0m\u001b[1m \u001b[0m┃\u001b[1m \u001b[0m\u001b[1mConnected to              \u001b[0m\u001b[1m \u001b[0m┃\n",
       "┡━━━━━━━━━━━━━━━━━━━━━━━━━━━━━━━╇━━━━━━━━━━━━━━━━━━━━━━━━━━━╇━━━━━━━━━━━━━━━━━╇━━━━━━━━━━━━━━━━━━━━━━━━━━━━┩\n",
       "│ input_layer_7 (\u001b[38;5;33mInputLayer\u001b[0m)    │ (\u001b[38;5;45mNone\u001b[0m, \u001b[38;5;34m2560\u001b[0m, \u001b[38;5;34m21\u001b[0m, \u001b[38;5;34m1\u001b[0m)       │               \u001b[38;5;34m0\u001b[0m │ -                          │\n",
       "├───────────────────────────────┼───────────────────────────┼─────────────────┼────────────────────────────┤\n",
       "│ conv2d_14 (\u001b[38;5;33mConv2D\u001b[0m)            │ (\u001b[38;5;45mNone\u001b[0m, \u001b[38;5;34m2558\u001b[0m, \u001b[38;5;34m21\u001b[0m, \u001b[38;5;34m32\u001b[0m)      │             \u001b[38;5;34m128\u001b[0m │ input_layer_7[\u001b[38;5;34m0\u001b[0m][\u001b[38;5;34m0\u001b[0m]        │\n",
       "├───────────────────────────────┼───────────────────────────┼─────────────────┼────────────────────────────┤\n",
       "│ max_pooling2d_14              │ (\u001b[38;5;45mNone\u001b[0m, \u001b[38;5;34m2556\u001b[0m, \u001b[38;5;34m21\u001b[0m, \u001b[38;5;34m32\u001b[0m)      │               \u001b[38;5;34m0\u001b[0m │ conv2d_14[\u001b[38;5;34m0\u001b[0m][\u001b[38;5;34m0\u001b[0m]            │\n",
       "│ (\u001b[38;5;33mMaxPooling2D\u001b[0m)                │                           │                 │                            │\n",
       "├───────────────────────────────┼───────────────────────────┼─────────────────┼────────────────────────────┤\n",
       "│ conv2d_15 (\u001b[38;5;33mConv2D\u001b[0m)            │ (\u001b[38;5;45mNone\u001b[0m, \u001b[38;5;34m2554\u001b[0m, \u001b[38;5;34m21\u001b[0m, \u001b[38;5;34m64\u001b[0m)      │           \u001b[38;5;34m6,208\u001b[0m │ max_pooling2d_14[\u001b[38;5;34m0\u001b[0m][\u001b[38;5;34m0\u001b[0m]     │\n",
       "├───────────────────────────────┼───────────────────────────┼─────────────────┼────────────────────────────┤\n",
       "│ max_pooling2d_15              │ (\u001b[38;5;45mNone\u001b[0m, \u001b[38;5;34m2552\u001b[0m, \u001b[38;5;34m21\u001b[0m, \u001b[38;5;34m64\u001b[0m)      │               \u001b[38;5;34m0\u001b[0m │ conv2d_15[\u001b[38;5;34m0\u001b[0m][\u001b[38;5;34m0\u001b[0m]            │\n",
       "│ (\u001b[38;5;33mMaxPooling2D\u001b[0m)                │                           │                 │                            │\n",
       "├───────────────────────────────┼───────────────────────────┼─────────────────┼────────────────────────────┤\n",
       "│ reshape_5 (\u001b[38;5;33mReshape\u001b[0m)           │ (\u001b[38;5;45mNone\u001b[0m, \u001b[38;5;34m2552\u001b[0m, \u001b[38;5;34m1344\u001b[0m)        │               \u001b[38;5;34m0\u001b[0m │ max_pooling2d_15[\u001b[38;5;34m0\u001b[0m][\u001b[38;5;34m0\u001b[0m]     │\n",
       "├───────────────────────────────┼───────────────────────────┼─────────────────┼────────────────────────────┤\n",
       "│ gru_3 (\u001b[38;5;33mGRU\u001b[0m)                   │ (\u001b[38;5;45mNone\u001b[0m, \u001b[38;5;34m2552\u001b[0m, \u001b[38;5;34m10\u001b[0m)          │          \u001b[38;5;34m40,680\u001b[0m │ reshape_5[\u001b[38;5;34m0\u001b[0m][\u001b[38;5;34m0\u001b[0m]            │\n",
       "├───────────────────────────────┼───────────────────────────┼─────────────────┼────────────────────────────┤\n",
       "│ attention_1 (\u001b[38;5;33mAttention\u001b[0m)       │ (\u001b[38;5;45mNone\u001b[0m, \u001b[38;5;34m2552\u001b[0m, \u001b[38;5;34m10\u001b[0m)          │               \u001b[38;5;34m0\u001b[0m │ gru_3[\u001b[38;5;34m0\u001b[0m][\u001b[38;5;34m0\u001b[0m], gru_3[\u001b[38;5;34m0\u001b[0m][\u001b[38;5;34m0\u001b[0m]   │\n",
       "├───────────────────────────────┼───────────────────────────┼─────────────────┼────────────────────────────┤\n",
       "│ multiply_1 (\u001b[38;5;33mMultiply\u001b[0m)         │ (\u001b[38;5;45mNone\u001b[0m, \u001b[38;5;34m2552\u001b[0m, \u001b[38;5;34m10\u001b[0m)          │               \u001b[38;5;34m0\u001b[0m │ gru_3[\u001b[38;5;34m0\u001b[0m][\u001b[38;5;34m0\u001b[0m],               │\n",
       "│                               │                           │                 │ attention_1[\u001b[38;5;34m0\u001b[0m][\u001b[38;5;34m0\u001b[0m]          │\n",
       "├───────────────────────────────┼───────────────────────────┼─────────────────┼────────────────────────────┤\n",
       "│ add_1 (\u001b[38;5;33mAdd\u001b[0m)                   │ (\u001b[38;5;45mNone\u001b[0m, \u001b[38;5;34m2552\u001b[0m, \u001b[38;5;34m10\u001b[0m)          │               \u001b[38;5;34m0\u001b[0m │ multiply_1[\u001b[38;5;34m0\u001b[0m][\u001b[38;5;34m0\u001b[0m],          │\n",
       "│                               │                           │                 │ gru_3[\u001b[38;5;34m0\u001b[0m][\u001b[38;5;34m0\u001b[0m]                │\n",
       "├───────────────────────────────┼───────────────────────────┼─────────────────┼────────────────────────────┤\n",
       "│ flatten_5 (\u001b[38;5;33mFlatten\u001b[0m)           │ (\u001b[38;5;45mNone\u001b[0m, \u001b[38;5;34m25520\u001b[0m)             │               \u001b[38;5;34m0\u001b[0m │ add_1[\u001b[38;5;34m0\u001b[0m][\u001b[38;5;34m0\u001b[0m]                │\n",
       "├───────────────────────────────┼───────────────────────────┼─────────────────┼────────────────────────────┤\n",
       "│ dense_2 (\u001b[38;5;33mDense\u001b[0m)               │ (\u001b[38;5;45mNone\u001b[0m, \u001b[38;5;34m128\u001b[0m)               │       \u001b[38;5;34m3,266,688\u001b[0m │ flatten_5[\u001b[38;5;34m0\u001b[0m][\u001b[38;5;34m0\u001b[0m]            │\n",
       "├───────────────────────────────┼───────────────────────────┼─────────────────┼────────────────────────────┤\n",
       "│ dense_3 (\u001b[38;5;33mDense\u001b[0m)               │ (\u001b[38;5;45mNone\u001b[0m, \u001b[38;5;34m2\u001b[0m)                 │             \u001b[38;5;34m258\u001b[0m │ dense_2[\u001b[38;5;34m0\u001b[0m][\u001b[38;5;34m0\u001b[0m]              │\n",
       "└───────────────────────────────┴───────────────────────────┴─────────────────┴────────────────────────────┘\n"
      ]
     },
     "metadata": {},
     "output_type": "display_data"
    },
    {
     "data": {
      "text/html": [
       "<pre style=\"white-space:pre;overflow-x:auto;line-height:normal;font-family:Menlo,'DejaVu Sans Mono',consolas,'Courier New',monospace\"><span style=\"font-weight: bold\"> Total params: </span><span style=\"color: #00af00; text-decoration-color: #00af00\">3,313,962</span> (12.64 MB)\n",
       "</pre>\n"
      ],
      "text/plain": [
       "\u001b[1m Total params: \u001b[0m\u001b[38;5;34m3,313,962\u001b[0m (12.64 MB)\n"
      ]
     },
     "metadata": {},
     "output_type": "display_data"
    },
    {
     "data": {
      "text/html": [
       "<pre style=\"white-space:pre;overflow-x:auto;line-height:normal;font-family:Menlo,'DejaVu Sans Mono',consolas,'Courier New',monospace\"><span style=\"font-weight: bold\"> Trainable params: </span><span style=\"color: #00af00; text-decoration-color: #00af00\">3,313,962</span> (12.64 MB)\n",
       "</pre>\n"
      ],
      "text/plain": [
       "\u001b[1m Trainable params: \u001b[0m\u001b[38;5;34m3,313,962\u001b[0m (12.64 MB)\n"
      ]
     },
     "metadata": {},
     "output_type": "display_data"
    },
    {
     "data": {
      "text/html": [
       "<pre style=\"white-space:pre;overflow-x:auto;line-height:normal;font-family:Menlo,'DejaVu Sans Mono',consolas,'Courier New',monospace\"><span style=\"font-weight: bold\"> Non-trainable params: </span><span style=\"color: #00af00; text-decoration-color: #00af00\">0</span> (0.00 B)\n",
       "</pre>\n"
      ],
      "text/plain": [
       "\u001b[1m Non-trainable params: \u001b[0m\u001b[38;5;34m0\u001b[0m (0.00 B)\n"
      ]
     },
     "metadata": {},
     "output_type": "display_data"
    },
    {
     "ename": "AttributeError",
     "evalue": "property 'kernel_regularizer' of 'GRU' object has no setter",
     "output_type": "error",
     "traceback": [
      "\u001b[1;31m---------------------------------------------------------------------------\u001b[0m",
      "\u001b[1;31mAttributeError\u001b[0m                            Traceback (most recent call last)",
      "Cell \u001b[1;32mIn[21], line 136\u001b[0m\n\u001b[0;32m    134\u001b[0m \u001b[38;5;28;01mfor\u001b[39;00m layer \u001b[38;5;129;01min\u001b[39;00m model\u001b[38;5;241m.\u001b[39mlayers:\n\u001b[0;32m    135\u001b[0m     \u001b[38;5;28;01mif\u001b[39;00m \u001b[38;5;28mhasattr\u001b[39m(layer, \u001b[38;5;124m'\u001b[39m\u001b[38;5;124mkernel_regularizer\u001b[39m\u001b[38;5;124m'\u001b[39m):\n\u001b[1;32m--> 136\u001b[0m         \u001b[43mlayer\u001b[49m\u001b[38;5;241;43m.\u001b[39;49m\u001b[43mkernel_regularizer\u001b[49m \u001b[38;5;241m=\u001b[39m tf\u001b[38;5;241m.\u001b[39mkeras\u001b[38;5;241m.\u001b[39mregularizers\u001b[38;5;241m.\u001b[39ml2(l2_reg)\n\u001b[0;32m    138\u001b[0m \u001b[38;5;66;03m# 4. Training the Model\u001b[39;00m\n\u001b[0;32m    139\u001b[0m early_stop \u001b[38;5;241m=\u001b[39m EarlyStopping(\n\u001b[0;32m    140\u001b[0m     monitor\u001b[38;5;241m=\u001b[39m\u001b[38;5;124m'\u001b[39m\u001b[38;5;124mval_loss\u001b[39m\u001b[38;5;124m'\u001b[39m,\n\u001b[0;32m    141\u001b[0m     patience\u001b[38;5;241m=\u001b[39m\u001b[38;5;241m10\u001b[39m,\n\u001b[0;32m    142\u001b[0m     restore_best_weights\u001b[38;5;241m=\u001b[39m\u001b[38;5;28;01mTrue\u001b[39;00m\n\u001b[0;32m    143\u001b[0m )\n",
      "File \u001b[1;32m~\\mne-python\\1.7.1_0\\Lib\\site-packages\\keras\\src\\layers\\layer.py:1445\u001b[0m, in \u001b[0;36mLayer.__setattr__\u001b[1;34m(self, name, value)\u001b[0m\n\u001b[0;32m   1443\u001b[0m         \u001b[38;5;28mself\u001b[39m\u001b[38;5;241m.\u001b[39m_initialize_tracker()\n\u001b[0;32m   1444\u001b[0m     value \u001b[38;5;241m=\u001b[39m \u001b[38;5;28mself\u001b[39m\u001b[38;5;241m.\u001b[39m_tracker\u001b[38;5;241m.\u001b[39mtrack(value)\n\u001b[1;32m-> 1445\u001b[0m \u001b[38;5;28;01mreturn\u001b[39;00m \u001b[38;5;28;43msuper\u001b[39;49m\u001b[43m(\u001b[49m\u001b[43m)\u001b[49m\u001b[38;5;241;43m.\u001b[39;49m\u001b[38;5;21;43m__setattr__\u001b[39;49m\u001b[43m(\u001b[49m\u001b[43mname\u001b[49m\u001b[43m,\u001b[49m\u001b[43m \u001b[49m\u001b[43mvalue\u001b[49m\u001b[43m)\u001b[49m\n",
      "File \u001b[1;32m~\\mne-python\\1.7.1_0\\Lib\\site-packages\\keras\\src\\backend\\tensorflow\\trackable.py:28\u001b[0m, in \u001b[0;36mKerasAutoTrackable.__setattr__\u001b[1;34m(self, name, value)\u001b[0m\n\u001b[0;32m     24\u001b[0m \u001b[38;5;28;01mif\u001b[39;00m \u001b[38;5;28mgetattr\u001b[39m(\u001b[38;5;28mself\u001b[39m, \u001b[38;5;124m\"\u001b[39m\u001b[38;5;124m_self_setattr_tracking\u001b[39m\u001b[38;5;124m\"\u001b[39m, \u001b[38;5;28;01mTrue\u001b[39;00m):\n\u001b[0;32m     25\u001b[0m     value \u001b[38;5;241m=\u001b[39m sticky_attribute_assignment(\n\u001b[0;32m     26\u001b[0m         trackable\u001b[38;5;241m=\u001b[39m\u001b[38;5;28mself\u001b[39m, value\u001b[38;5;241m=\u001b[39mvalue, name\u001b[38;5;241m=\u001b[39mname\n\u001b[0;32m     27\u001b[0m     )\n\u001b[1;32m---> 28\u001b[0m \u001b[38;5;28;43msuper\u001b[39;49m\u001b[43m(\u001b[49m\u001b[43m)\u001b[49m\u001b[38;5;241;43m.\u001b[39;49m\u001b[38;5;21;43m__setattr__\u001b[39;49m\u001b[43m(\u001b[49m\u001b[43mname\u001b[49m\u001b[43m,\u001b[49m\u001b[43m \u001b[49m\u001b[43mvalue\u001b[49m\u001b[43m)\u001b[49m\n",
      "File \u001b[1;32m~\\mne-python\\1.7.1_0\\Lib\\site-packages\\tensorflow\\python\\trackable\\autotrackable.py:70\u001b[0m, in \u001b[0;36mAutoTrackable.__setattr__\u001b[1;34m(self, name, value)\u001b[0m\n\u001b[0;32m     67\u001b[0m \u001b[38;5;28;01mif\u001b[39;00m \u001b[38;5;28mgetattr\u001b[39m(\u001b[38;5;28mself\u001b[39m, \u001b[38;5;124m\"\u001b[39m\u001b[38;5;124m_self_setattr_tracking\u001b[39m\u001b[38;5;124m\"\u001b[39m, \u001b[38;5;28;01mTrue\u001b[39;00m):\n\u001b[0;32m     68\u001b[0m   value \u001b[38;5;241m=\u001b[39m data_structures\u001b[38;5;241m.\u001b[39msticky_attribute_assignment(\n\u001b[0;32m     69\u001b[0m       trackable\u001b[38;5;241m=\u001b[39m\u001b[38;5;28mself\u001b[39m, value\u001b[38;5;241m=\u001b[39mvalue, name\u001b[38;5;241m=\u001b[39mname)\n\u001b[1;32m---> 70\u001b[0m \u001b[38;5;28;43msuper\u001b[39;49m\u001b[43m(\u001b[49m\u001b[43mAutoTrackable\u001b[49m\u001b[43m,\u001b[49m\u001b[43m \u001b[49m\u001b[38;5;28;43mself\u001b[39;49m\u001b[43m)\u001b[49m\u001b[38;5;241;43m.\u001b[39;49m\u001b[38;5;21;43m__setattr__\u001b[39;49m\u001b[43m(\u001b[49m\u001b[43mname\u001b[49m\u001b[43m,\u001b[49m\u001b[43m \u001b[49m\u001b[43mvalue\u001b[49m\u001b[43m)\u001b[49m\n",
      "\u001b[1;31mAttributeError\u001b[0m: property 'kernel_regularizer' of 'GRU' object has no setter"
     ]
    }
   ],
   "source": [
    "import os\n",
    "import numpy as np\n",
    "import pandas as pd\n",
    "import mne\n",
    "from sklearn.model_selection import train_test_split\n",
    "from sklearn.preprocessing import StandardScaler\n",
    "from sklearn.utils import class_weight\n",
    "import tensorflow as tf\n",
    "from tensorflow.keras.models import Sequential\n",
    "from tensorflow.keras.layers import Conv2D, MaxPooling2D, GRU, Dense, Flatten, Attention, Input, Multiply, Add,Reshape\n",
    "from tensorflow.keras.callbacks import EarlyStopping\n",
    "import matplotlib.pyplot as plt\n",
    "from sklearn.metrics import classification_report, confusion_matrix\n",
    "import seaborn as sns\n",
    "from tensorflow.keras.models import Model\n",
    "from tensorflow.keras.optimizers import Adam\n",
    "from tensorflow.keras.regularizers import l2\n",
    "# Assuming X and Y are already defined and preprocessed up to X.shape = (10770, 2560, 21)\n",
    "\n",
    "# 1. Data Preparation\n",
    "# a. Filter for interictal (0) and preictal (2)\n",
    "mask = (Y == 0) | (Y == 2)\n",
    "X_filtered = X[mask]\n",
    "Y_filtered = Y[mask]\n",
    "Y_filtered = np.where(Y_filtered == 0, 0, 1)  # Relabel\n",
    "\n",
    "print(\"Class distribution after filtering:\")\n",
    "print(pd.Series(Y_filtered).value_counts())\n",
    "\n",
    "# b. Split the data\n",
    "X_train, X_test, Y_train, Y_test = train_test_split(\n",
    "    X_filtered, Y_filtered, test_size=0.2, random_state=42, stratify=Y_filtered\n",
    ")\n",
    "\n",
    "print(f\"Training samples: {X_train.shape[0]}\")\n",
    "print(f\"Testing samples: {X_test.shape[0]}\")\n",
    "\n",
    "# # c. Scale the data\n",
    "# n_channels = X_train.shape[2]\n",
    "# scalers = [StandardScaler() for _ in range(n_channels)]\n",
    "\n",
    "# for ch in range(n_channels):\n",
    "#     X_train[:, :, ch] = scalers[ch].fit_transform(X_train[:, :, ch])\n",
    "#     X_test[:, :, ch] = scalers[ch].transform(X_test[:, :, ch])\n",
    "\n",
    "# print(\"Data scaling completed.\")\n",
    "\n",
    "# 2. Handling Class Imbalance\n",
    "class_weights = class_weight.compute_class_weight(\n",
    "    class_weight='balanced',\n",
    "    classes=np.unique(Y_train),\n",
    "    y=Y_train\n",
    ")\n",
    "class_weights_dict = {0: class_weights[0], 1: class_weights[1]}\n",
    "print(\"Class weights:\", class_weights_dict)\n",
    "\n",
    "# 3. Building the Model\n",
    "input_shape = X_train.shape[1:]  # (2560, 21)\n",
    "num_classes = 1  # Binary classification\n",
    "\n",
    "# model = Sequential([\n",
    "#     Conv1D(filters=32, kernel_size=3, activation='relu', input_shape=input_shape),\n",
    "#     BatchNormalization(),\n",
    "#     MaxPooling1D(pool_size=3),\n",
    "#     # Dropout(0.3),\n",
    "\n",
    "#     Conv1D(filters=64, kernel_size=3, activation='relu'),\n",
    "#     BatchNormalization(),\n",
    "#     MaxPooling1D(pool_size=3),\n",
    "#     # Dropout(0.3),\n",
    "\n",
    "#     # Conv1D(filters=128, kernel_size=10, activation='relu'),\n",
    "\n",
    "\n",
    "#     Flatten(),\n",
    "#     Dense(256, activation='relu'),\n",
    "#     Dense(256, activation='relu'),\n",
    "#     Dropout(0.5),\n",
    "#     Dense(num_classes, activation='sigmoid')\n",
    "# ])\n",
    "\n",
    "# model.compile(\n",
    "#     optimizer='adam',\n",
    "#     loss='binary_crossentropy',\n",
    "#     metrics=['accuracy', tf.keras.metrics.AUC(name='auc')]\n",
    "# )\n",
    "# Input layer\n",
    "# Input layer\n",
    "input_layer = Input(input_shape)\n",
    "\n",
    "\n",
    "\n",
    "l2_reg = 0.0001  # Regularization factor\n",
    "\n",
    "# Conv2D and Pooling layers with L2 regularization\n",
    "conv1 = Conv2D(filters=32, kernel_size=(3, 1), strides=(1, 1), activation='relu',\n",
    "               kernel_regularizer=l2(l2_reg))(input_layer)\n",
    "maxpool1 = MaxPooling2D(pool_size=(3, 1), strides=(1, 1))(conv1)\n",
    "\n",
    "conv2 = Conv2D(filters=64, kernel_size=(3, 1), strides=(1, 1), activation='relu',\n",
    "               kernel_regularizer=l2(l2_reg))(maxpool1)\n",
    "maxpool2 = MaxPooling2D(pool_size=(3, 1), strides=(1, 1))(conv2)\n",
    "\n",
    "# Reshape for GRU input\n",
    "reshaped = Reshape((maxpool2.shape[1], -1))(maxpool2)\n",
    "\n",
    "# GRU Layer with L2 regularization\n",
    "gru = GRU(10, return_sequences=True, kernel_regularizer=l2(l2_reg))(reshaped)\n",
    "\n",
    "# Attention Layer\n",
    "attention = Attention()([gru, gru])\n",
    "\n",
    "# Multiply GRU output by attention scores\n",
    "context_vector = Multiply()([gru, attention])\n",
    "\n",
    "# Add context vector and GRU output\n",
    "output = Add()([context_vector, gru])\n",
    "\n",
    "# Fully connected layers with L2 regularization\n",
    "fc = Flatten()(output)\n",
    "fc = Dense(128, activation='relu', kernel_regularizer=l2(l2_reg))(fc)\n",
    "output_layer = Dense(2, activation='softmax', kernel_regularizer=l2(l2_reg))(fc)\n",
    "\n",
    "# Create model\n",
    "model = Model(inputs=input_layer, outputs=output_layer)\n",
    "model.compile(optimizer=Adam(learning_rate=0.001), loss='categorical_crossentropy', metrics=['accuracy'])\n",
    "\n",
    "model.summary()\n",
    "# Hyperparameters configuration\n",
    "\n",
    "l2_reg = 0.0001\n",
    "\n",
    "# Add L2 Regularization\n",
    "for layer in model.layers:\n",
    "    if hasattr(layer, 'kernel_regularizer'):\n",
    "        layer.kernel_regularizer = tf.keras.regularizers.l2(l2_reg)\n",
    "\n",
    "# 4. Training the Model\n",
    "early_stop = EarlyStopping(\n",
    "    monitor='val_loss',\n",
    "    patience=10,\n",
    "    restore_best_weights=True\n",
    ")\n",
    "\n",
    "history = model.fit(\n",
    "    X_train, Y_train,\n",
    "    epochs=100,\n",
    "    batch_size=64,\n",
    "    validation_data=(X_test, Y_test),\n",
    "    class_weight=class_weights_dict,\n",
    "    callbacks=[early_stop],\n",
    "    verbose=1\n",
    ")\n",
    "\n",
    "# 5. Evaluating the Model\n",
    "test_loss, test_accuracy, test_auc = model.evaluate(X_test, Y_test, verbose=0)\n",
    "print(f\"Test Loss: {test_loss:.4f}\")\n",
    "print(f\"Test Accuracy: {test_accuracy:.4f}\")\n",
    "print(f\"Test AUC: {test_auc:.4f}\")\n",
    "\n",
    "Y_pred_prob = model.predict(X_test).ravel()\n",
    "Y_pred = (Y_pred_prob >= 0.5).astype(int)\n",
    "\n",
    "print(\"Classification Report:\")\n",
    "print(classification_report(Y_test, Y_pred, target_names=['Interictal', 'Preictal']))\n",
    "\n",
    "conf_matrix = confusion_matrix(Y_test, Y_pred)\n",
    "print(\"Confusion Matrix:\")\n",
    "print(conf_matrix)\n",
    "\n",
    "plt.figure(figsize=(6,5))\n",
    "sns.heatmap(conf_matrix, annot=True, fmt='d', cmap='Blues',\n",
    "            xticklabels=['Interictal', 'Preictal'],\n",
    "            yticklabels=['Interictal', 'Preictal'])\n",
    "plt.ylabel('Actual')\n",
    "plt.xlabel('Predicted')\n",
    "plt.title('Confusion Matrix')\n",
    "plt.show()\n",
    "\n",
    "# Plot Training History\n",
    "plt.figure(figsize=(14,5))\n",
    "\n",
    "# Plot loss\n",
    "plt.subplot(1, 2, 1)\n",
    "plt.plot(history.history['loss'], label='Train Loss')\n",
    "plt.plot(history.history['val_loss'], label='Validation Loss')\n",
    "plt.xlabel('Epoch')\n",
    "plt.ylabel('Loss')\n",
    "plt.title('Loss Over Epochs')\n",
    "plt.legend()\n",
    "\n",
    "# Plot accuracy\n",
    "plt.subplot(1, 2, 2)\n",
    "plt.plot(history.history['accuracy'], label='Train Accuracy')\n",
    "plt.plot(history.history['val_accuracy'], label='Validation Accuracy')\n",
    "plt.xlabel('Epoch')\n",
    "plt.ylabel('Accuracy')\n",
    "plt.title('Accuracy Over Epochs')\n",
    "plt.legend()\n",
    "\n",
    "plt.show()\n"
   ]
  },
  {
   "cell_type": "code",
   "execution_count": null,
   "id": "a8f16389-96de-4091-b314-a9856069f264",
   "metadata": {},
   "outputs": [],
   "source": []
  }
 ],
 "metadata": {
  "kernelspec": {
   "display_name": "Python 3 (ipykernel)",
   "language": "python",
   "name": "python3"
  },
  "language_info": {
   "codemirror_mode": {
    "name": "ipython",
    "version": 3
   },
   "file_extension": ".py",
   "mimetype": "text/x-python",
   "name": "python",
   "nbconvert_exporter": "python",
   "pygments_lexer": "ipython3",
   "version": "3.12.2"
  }
 },
 "nbformat": 4,
 "nbformat_minor": 5
}
