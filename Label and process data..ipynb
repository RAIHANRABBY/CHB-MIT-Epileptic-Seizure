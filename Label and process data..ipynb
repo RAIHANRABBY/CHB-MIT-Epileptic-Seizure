{
 "cells": [
  {
   "cell_type": "code",
   "execution_count": 27,
   "id": "3a42f546-7e9c-46db-9c45-e683e238a6d3",
   "metadata": {},
   "outputs": [],
   "source": [
    "# pip install tensorflow"
   ]
  },
  {
   "cell_type": "code",
   "execution_count": 18,
   "id": "06008193-2e8d-47b9-97d2-69cbe752b278",
   "metadata": {},
   "outputs": [],
   "source": [
    "import pandas as pd\n",
    "import numpy as np\n",
    "import seaborn as sns\n",
    "import os\n",
    "import mne"
   ]
  },
  {
   "cell_type": "code",
   "execution_count": 19,
   "id": "118f36c2-d3f1-4d7d-b6d6-9d9b8b1622a3",
   "metadata": {},
   "outputs": [],
   "source": [
    "folder = r'D:\\CHB_MIT'\n",
    "# folder = r'E:\\New folder\\chb24'\n",
    "file_path = [os.path.join(folder,i ) for i in os.listdir(folder)]"
   ]
  },
  {
   "cell_type": "code",
   "execution_count": 20,
   "id": "447699d2-7565-49ff-99f3-5b467befe512",
   "metadata": {},
   "outputs": [
    {
     "name": "stdout",
     "output_type": "stream",
     "text": [
      "['D:\\\\CHB_MIT\\\\chb24']\n"
     ]
    }
   ],
   "source": [
    "print(file_path)"
   ]
  },
  {
   "cell_type": "code",
   "execution_count": 21,
   "id": "93f5f7ea-e24f-4d21-8688-3602f8a248e6",
   "metadata": {},
   "outputs": [
    {
     "data": {
      "text/plain": [
       "['ictal', 'interictal', 'postictal', 'preictal']"
      ]
     },
     "execution_count": 21,
     "metadata": {},
     "output_type": "execute_result"
    }
   ],
   "source": [
    "os.listdir(file_path[0])"
   ]
  },
  {
   "cell_type": "code",
   "execution_count": 22,
   "id": "4ff1e399-92f3-4be4-8a61-87895608ae9f",
   "metadata": {},
   "outputs": [],
   "source": [
    "%%capture\n",
    "import os\n",
    "import mne\n",
    "\n",
    "# folder = r'E:\\New folder\\chb24'\n",
    "subfolders = [os.path.join(folder, name) for name in os.listdir(folder) if os.path.isdir(os.path.join(folder, name))]\n",
    "\n",
    "# Dictionary to store loaded data\n",
    "data_dict = {}\n",
    "\n",
    "for subfolder in subfolders:\n",
    "    for state_folder in os.listdir(subfolder):\n",
    "        full_state_path = os.path.join(subfolder, state_folder)\n",
    "        fif_files = [f for f in os.listdir(full_state_path) if f.endswith('.fif')]\n",
    "        for fif_file in fif_files:\n",
    "            file_path = os.path.join(full_state_path, fif_file)\n",
    "            raw = mne.io.read_raw_fif(file_path, preload=True)\n",
    "            print(raw.info)\n",
    "            data_dict[(subfolder, state_folder, fif_file)] = raw\n",
    "            \n"
   ]
  },
  {
   "cell_type": "markdown",
   "id": "a705885d-6788-4217-b405-f597046f4d65",
   "metadata": {
    "jp-MarkdownHeadingCollapsed": true
   },
   "source": [
    "# raw data process 24"
   ]
  },
  {
   "cell_type": "code",
   "execution_count": 6,
   "id": "7e4e8990-8d4b-4637-a165-8f886a1373e6",
   "metadata": {},
   "outputs": [],
   "source": [
    "import numpy as np\n",
    "import mne\n",
    "\n",
    "def process_eeg_data(data_dict, target_sfreq=128, epoch_duration=5.0, ictal_overlap = 0.99, preictal_overlap = .5, post_ictal = .80):\n",
    "    \"\"\"\n",
    "    Processes EEG data by downsampling, creating epochs with overlap, \n",
    "    and converting data to reduced precision format.\n",
    "    \n",
    "    Parameters:\n",
    "    - data_dict: Dictionary with (subject, state, file_name) as keys and raw EEG data as values.\n",
    "    - target_sfreq: Target sampling frequency for downsampling.\n",
    "    - epoch_duration: Duration of each epoch in seconds.\n",
    "    \n",
    "    Returns:\n",
    "    - X: Combined NumPy array of EEG epochs.\n",
    "    - Y: Corresponding labels for the epochs.\n",
    "    \"\"\"\n",
    "    \n",
    "    X = []\n",
    "    Y = []\n",
    "    \n",
    "    for (subject, state, file_name), raw in data_dict.items():\n",
    "        raw.resample(target_sfreq)  # Downsample the data\n",
    "        \n",
    "        if raw.times[-1] < epoch_duration:\n",
    "            print(f\"Warning: Data length is shorter than the epoch duration for {file_name}.\")\n",
    "            continue\n",
    "\n",
    "        # Determine overlap and label based on state\n",
    "        if state == 'ictal':\n",
    "            overlap_fraction = ictal_overlap # 95% overlap\n",
    "            label = 1\n",
    "        elif state == 'preictal':\n",
    "            overlap_fraction = preictal_overlap # 50% overlap\n",
    "            label = 2\n",
    "        elif state == 'postictal':  # interictal, postictal\n",
    "            overlap_fraction = post_ictal  # 90% overlap\n",
    "            label = 3\n",
    "        else:\n",
    "            overlap_fraction = 0.0  # No overlap\n",
    "            label = 0\n",
    "\n",
    "        overlap = epoch_duration * overlap_fraction\n",
    "        \n",
    "        # Create fixed-length epochs with the calculated overlap\n",
    "        epochs = mne.make_fixed_length_epochs(raw, duration=epoch_duration, preload=True, overlap=overlap)\n",
    "        \n",
    "        # Get data and labels, using reduced precision\n",
    "        X_epochs = epochs.get_data().astype(np.float32, copy=True)  # Explicitly set copy=True\n",
    "        Y_epochs = np.full(X_epochs.shape[0], label)  # Assign the label to each epoch\n",
    "        print(f\"Label {label} generated {len(Y_epochs)} epochs.\")\n",
    "        \n",
    "        X.append(X_epochs)\n",
    "        Y.append(Y_epochs)\n",
    "\n",
    "    # Combine all data and labels into single arrays using vstack and hstack\n",
    "    X = np.vstack(X)\n",
    "    Y = np.hstack(Y)\n",
    "\n",
    "    print(\"Final shapes:\", X.shape, Y.shape)\n",
    "    \n",
    "    return X, Y\n",
    "\n",
    "# Example usage\n",
    "# X, Y = process_eeg_data(data_dict)\n"
   ]
  },
  {
   "cell_type": "code",
   "execution_count": 7,
   "id": "71b31fbb-41dd-490f-be22-5446d89fe123",
   "metadata": {},
   "outputs": [
    {
     "name": "stdout",
     "output_type": "stream",
     "text": [
      "Not setting metadata\n",
      "401 matching events found\n",
      "No baseline correction applied\n",
      "0 projection items activated\n",
      "Using data from preloaded Raw for 401 events and 640 original time points ...\n",
      "0 bad epochs dropped\n",
      "Label 1 generated 401 epochs.\n",
      "Not setting metadata\n",
      "401 matching events found\n",
      "No baseline correction applied\n",
      "0 projection items activated\n",
      "Using data from preloaded Raw for 401 events and 640 original time points ...\n",
      "0 bad epochs dropped\n",
      "Label 1 generated 401 epochs.\n",
      "Not setting metadata\n",
      "481 matching events found\n",
      "No baseline correction applied\n",
      "0 projection items activated\n",
      "Using data from preloaded Raw for 481 events and 640 original time points ...\n",
      "0 bad epochs dropped\n",
      "Label 1 generated 481 epochs.\n",
      "Not setting metadata\n"
     ]
    },
    {
     "name": "stderr",
     "output_type": "stream",
     "text": [
      "C:\\Users\\ACER\\AppData\\Local\\Temp\\ipykernel_3680\\252492953.py:49: FutureWarning: The current default of copy=False will change to copy=True in 1.7. Set the value of copy explicitly to avoid this warning\n",
      "  X_epochs = epochs.get_data().astype(np.float32, copy=True)  # Explicitly set copy=True\n",
      "C:\\Users\\ACER\\AppData\\Local\\Temp\\ipykernel_3680\\252492953.py:49: FutureWarning: The current default of copy=False will change to copy=True in 1.7. Set the value of copy explicitly to avoid this warning\n",
      "  X_epochs = epochs.get_data().astype(np.float32, copy=True)  # Explicitly set copy=True\n",
      "C:\\Users\\ACER\\AppData\\Local\\Temp\\ipykernel_3680\\252492953.py:49: FutureWarning: The current default of copy=False will change to copy=True in 1.7. Set the value of copy explicitly to avoid this warning\n",
      "  X_epochs = epochs.get_data().astype(np.float32, copy=True)  # Explicitly set copy=True\n"
     ]
    },
    {
     "name": "stdout",
     "output_type": "stream",
     "text": [
      "401 matching events found\n",
      "No baseline correction applied\n",
      "0 projection items activated\n",
      "Using data from preloaded Raw for 401 events and 640 original time points ...\n",
      "0 bad epochs dropped\n",
      "Label 1 generated 401 epochs.\n",
      "Not setting metadata\n",
      "541 matching events found\n",
      "No baseline correction applied\n",
      "0 projection items activated\n",
      "Using data from preloaded Raw for 541 events and 640 original time points ...\n",
      "0 bad epochs dropped\n",
      "Label 1 generated 541 epochs.\n",
      "Not setting metadata\n",
      "441 matching events found\n",
      "No baseline correction applied\n",
      "0 projection items activated\n",
      "Using data from preloaded Raw for 441 events and 640 original time points ...\n",
      "0 bad epochs dropped\n",
      "Label 1 generated 441 epochs.\n",
      "Not setting metadata\n",
      "281 matching events found\n",
      "No baseline correction applied\n",
      "0 projection items activated\n",
      "Using data from preloaded Raw for 281 events and 640 original time points ...\n",
      "0 bad epochs dropped\n"
     ]
    },
    {
     "name": "stderr",
     "output_type": "stream",
     "text": [
      "C:\\Users\\ACER\\AppData\\Local\\Temp\\ipykernel_3680\\252492953.py:49: FutureWarning: The current default of copy=False will change to copy=True in 1.7. Set the value of copy explicitly to avoid this warning\n",
      "  X_epochs = epochs.get_data().astype(np.float32, copy=True)  # Explicitly set copy=True\n",
      "C:\\Users\\ACER\\AppData\\Local\\Temp\\ipykernel_3680\\252492953.py:49: FutureWarning: The current default of copy=False will change to copy=True in 1.7. Set the value of copy explicitly to avoid this warning\n",
      "  X_epochs = epochs.get_data().astype(np.float32, copy=True)  # Explicitly set copy=True\n",
      "C:\\Users\\ACER\\AppData\\Local\\Temp\\ipykernel_3680\\252492953.py:49: FutureWarning: The current default of copy=False will change to copy=True in 1.7. Set the value of copy explicitly to avoid this warning\n",
      "  X_epochs = epochs.get_data().astype(np.float32, copy=True)  # Explicitly set copy=True\n"
     ]
    },
    {
     "name": "stdout",
     "output_type": "stream",
     "text": [
      "Label 1 generated 281 epochs.\n",
      "Not setting metadata\n",
      "381 matching events found\n",
      "No baseline correction applied\n",
      "0 projection items activated\n",
      "Using data from preloaded Raw for 381 events and 640 original time points ...\n",
      "0 bad epochs dropped\n",
      "Label 1 generated 381 epochs.\n",
      "Not setting metadata\n",
      "341 matching events found\n",
      "No baseline correction applied\n",
      "0 projection items activated\n",
      "Using data from preloaded Raw for 341 events and 640 original time points ...\n",
      "0 bad epochs dropped\n",
      "Label 1 generated 341 epochs.\n",
      "Not setting metadata\n",
      "281 matching events found\n",
      "No baseline correction applied\n",
      "0 projection items activated\n",
      "Using data from preloaded Raw for 281 events and 640 original time points ...\n",
      "0 bad epochs dropped\n",
      "Label 1 generated 281 epochs.\n"
     ]
    },
    {
     "name": "stderr",
     "output_type": "stream",
     "text": [
      "C:\\Users\\ACER\\AppData\\Local\\Temp\\ipykernel_3680\\252492953.py:49: FutureWarning: The current default of copy=False will change to copy=True in 1.7. Set the value of copy explicitly to avoid this warning\n",
      "  X_epochs = epochs.get_data().astype(np.float32, copy=True)  # Explicitly set copy=True\n",
      "C:\\Users\\ACER\\AppData\\Local\\Temp\\ipykernel_3680\\252492953.py:49: FutureWarning: The current default of copy=False will change to copy=True in 1.7. Set the value of copy explicitly to avoid this warning\n",
      "  X_epochs = epochs.get_data().astype(np.float32, copy=True)  # Explicitly set copy=True\n",
      "C:\\Users\\ACER\\AppData\\Local\\Temp\\ipykernel_3680\\252492953.py:49: FutureWarning: The current default of copy=False will change to copy=True in 1.7. Set the value of copy explicitly to avoid this warning\n",
      "  X_epochs = epochs.get_data().astype(np.float32, copy=True)  # Explicitly set copy=True\n",
      "C:\\Users\\ACER\\AppData\\Local\\Temp\\ipykernel_3680\\252492953.py:49: FutureWarning: The current default of copy=False will change to copy=True in 1.7. Set the value of copy explicitly to avoid this warning\n",
      "  X_epochs = epochs.get_data().astype(np.float32, copy=True)  # Explicitly set copy=True\n"
     ]
    },
    {
     "name": "stdout",
     "output_type": "stream",
     "text": [
      "Not setting metadata\n",
      "1301 matching events found\n",
      "No baseline correction applied\n",
      "0 projection items activated\n",
      "Using data from preloaded Raw for 1301 events and 640 original time points ...\n",
      "0 bad epochs dropped\n",
      "Label 1 generated 1301 epochs.\n",
      "Not setting metadata\n",
      "221 matching events found\n",
      "No baseline correction applied\n",
      "0 projection items activated\n",
      "Using data from preloaded Raw for 221 events and 640 original time points ...\n",
      "0 bad epochs dropped\n",
      "Label 1 generated 221 epochs.\n",
      "Not setting metadata\n",
      "441 matching events found\n",
      "No baseline correction applied\n",
      "0 projection items activated\n",
      "Using data from preloaded Raw for 441 events and 640 original time points ...\n",
      "0 bad epochs dropped\n"
     ]
    },
    {
     "name": "stderr",
     "output_type": "stream",
     "text": [
      "C:\\Users\\ACER\\AppData\\Local\\Temp\\ipykernel_3680\\252492953.py:49: FutureWarning: The current default of copy=False will change to copy=True in 1.7. Set the value of copy explicitly to avoid this warning\n",
      "  X_epochs = epochs.get_data().astype(np.float32, copy=True)  # Explicitly set copy=True\n",
      "C:\\Users\\ACER\\AppData\\Local\\Temp\\ipykernel_3680\\252492953.py:49: FutureWarning: The current default of copy=False will change to copy=True in 1.7. Set the value of copy explicitly to avoid this warning\n",
      "  X_epochs = epochs.get_data().astype(np.float32, copy=True)  # Explicitly set copy=True\n",
      "C:\\Users\\ACER\\AppData\\Local\\Temp\\ipykernel_3680\\252492953.py:49: FutureWarning: The current default of copy=False will change to copy=True in 1.7. Set the value of copy explicitly to avoid this warning\n",
      "  X_epochs = epochs.get_data().astype(np.float32, copy=True)  # Explicitly set copy=True\n"
     ]
    },
    {
     "name": "stdout",
     "output_type": "stream",
     "text": [
      "Label 1 generated 441 epochs.\n",
      "Not setting metadata\n",
      "241 matching events found\n",
      "No baseline correction applied\n",
      "0 projection items activated\n",
      "Using data from preloaded Raw for 241 events and 640 original time points ...\n",
      "0 bad epochs dropped\n",
      "Label 1 generated 241 epochs.\n",
      "Not setting metadata\n",
      "1221 matching events found\n",
      "No baseline correction applied\n",
      "0 projection items activated\n",
      "Using data from preloaded Raw for 1221 events and 640 original time points ...\n",
      "0 bad epochs dropped\n",
      "Label 1 generated 1221 epochs.\n"
     ]
    },
    {
     "name": "stderr",
     "output_type": "stream",
     "text": [
      "C:\\Users\\ACER\\AppData\\Local\\Temp\\ipykernel_3680\\252492953.py:49: FutureWarning: The current default of copy=False will change to copy=True in 1.7. Set the value of copy explicitly to avoid this warning\n",
      "  X_epochs = epochs.get_data().astype(np.float32, copy=True)  # Explicitly set copy=True\n",
      "C:\\Users\\ACER\\AppData\\Local\\Temp\\ipykernel_3680\\252492953.py:49: FutureWarning: The current default of copy=False will change to copy=True in 1.7. Set the value of copy explicitly to avoid this warning\n",
      "  X_epochs = epochs.get_data().astype(np.float32, copy=True)  # Explicitly set copy=True\n"
     ]
    },
    {
     "name": "stdout",
     "output_type": "stream",
     "text": [
      "Not setting metadata\n",
      "1261 matching events found\n",
      "No baseline correction applied\n",
      "0 projection items activated\n",
      "Using data from preloaded Raw for 1261 events and 640 original time points ...\n",
      "0 bad epochs dropped\n",
      "Label 1 generated 1261 epochs.\n"
     ]
    },
    {
     "name": "stderr",
     "output_type": "stream",
     "text": [
      "C:\\Users\\ACER\\AppData\\Local\\Temp\\ipykernel_3680\\252492953.py:49: FutureWarning: The current default of copy=False will change to copy=True in 1.7. Set the value of copy explicitly to avoid this warning\n",
      "  X_epochs = epochs.get_data().astype(np.float32, copy=True)  # Explicitly set copy=True\n"
     ]
    },
    {
     "name": "stdout",
     "output_type": "stream",
     "text": [
      "Not setting metadata\n",
      "720 matching events found\n",
      "No baseline correction applied\n",
      "0 projection items activated\n",
      "Using data from preloaded Raw for 720 events and 640 original time points ...\n",
      "0 bad epochs dropped\n",
      "Label 0 generated 720 epochs.\n"
     ]
    },
    {
     "name": "stderr",
     "output_type": "stream",
     "text": [
      "C:\\Users\\ACER\\AppData\\Local\\Temp\\ipykernel_3680\\252492953.py:49: FutureWarning: The current default of copy=False will change to copy=True in 1.7. Set the value of copy explicitly to avoid this warning\n",
      "  X_epochs = epochs.get_data().astype(np.float32, copy=True)  # Explicitly set copy=True\n"
     ]
    },
    {
     "name": "stdout",
     "output_type": "stream",
     "text": [
      "Not setting metadata\n",
      "720 matching events found\n",
      "No baseline correction applied\n",
      "0 projection items activated\n",
      "Using data from preloaded Raw for 720 events and 640 original time points ...\n",
      "0 bad epochs dropped\n",
      "Label 0 generated 720 epochs.\n"
     ]
    },
    {
     "name": "stderr",
     "output_type": "stream",
     "text": [
      "C:\\Users\\ACER\\AppData\\Local\\Temp\\ipykernel_3680\\252492953.py:49: FutureWarning: The current default of copy=False will change to copy=True in 1.7. Set the value of copy explicitly to avoid this warning\n",
      "  X_epochs = epochs.get_data().astype(np.float32, copy=True)  # Explicitly set copy=True\n"
     ]
    },
    {
     "name": "stdout",
     "output_type": "stream",
     "text": [
      "Not setting metadata\n",
      "720 matching events found\n",
      "No baseline correction applied\n",
      "0 projection items activated\n",
      "Using data from preloaded Raw for 720 events and 640 original time points ...\n",
      "0 bad epochs dropped\n",
      "Label 0 generated 720 epochs.\n"
     ]
    },
    {
     "name": "stderr",
     "output_type": "stream",
     "text": [
      "C:\\Users\\ACER\\AppData\\Local\\Temp\\ipykernel_3680\\252492953.py:49: FutureWarning: The current default of copy=False will change to copy=True in 1.7. Set the value of copy explicitly to avoid this warning\n",
      "  X_epochs = epochs.get_data().astype(np.float32, copy=True)  # Explicitly set copy=True\n"
     ]
    },
    {
     "name": "stdout",
     "output_type": "stream",
     "text": [
      "Not setting metadata\n",
      "720 matching events found\n",
      "No baseline correction applied\n",
      "0 projection items activated\n",
      "Using data from preloaded Raw for 720 events and 640 original time points ...\n",
      "0 bad epochs dropped\n",
      "Label 0 generated 720 epochs.\n"
     ]
    },
    {
     "name": "stderr",
     "output_type": "stream",
     "text": [
      "C:\\Users\\ACER\\AppData\\Local\\Temp\\ipykernel_3680\\252492953.py:49: FutureWarning: The current default of copy=False will change to copy=True in 1.7. Set the value of copy explicitly to avoid this warning\n",
      "  X_epochs = epochs.get_data().astype(np.float32, copy=True)  # Explicitly set copy=True\n"
     ]
    },
    {
     "name": "stdout",
     "output_type": "stream",
     "text": [
      "Not setting metadata\n",
      "720 matching events found\n",
      "No baseline correction applied\n",
      "0 projection items activated\n",
      "Using data from preloaded Raw for 720 events and 640 original time points ...\n",
      "0 bad epochs dropped\n",
      "Label 0 generated 720 epochs.\n"
     ]
    },
    {
     "name": "stderr",
     "output_type": "stream",
     "text": [
      "C:\\Users\\ACER\\AppData\\Local\\Temp\\ipykernel_3680\\252492953.py:49: FutureWarning: The current default of copy=False will change to copy=True in 1.7. Set the value of copy explicitly to avoid this warning\n",
      "  X_epochs = epochs.get_data().astype(np.float32, copy=True)  # Explicitly set copy=True\n"
     ]
    },
    {
     "name": "stdout",
     "output_type": "stream",
     "text": [
      "Not setting metadata\n",
      "720 matching events found\n",
      "No baseline correction applied\n",
      "0 projection items activated\n",
      "Using data from preloaded Raw for 720 events and 640 original time points ...\n",
      "0 bad epochs dropped\n",
      "Label 0 generated 720 epochs.\n"
     ]
    },
    {
     "name": "stderr",
     "output_type": "stream",
     "text": [
      "C:\\Users\\ACER\\AppData\\Local\\Temp\\ipykernel_3680\\252492953.py:49: FutureWarning: The current default of copy=False will change to copy=True in 1.7. Set the value of copy explicitly to avoid this warning\n",
      "  X_epochs = epochs.get_data().astype(np.float32, copy=True)  # Explicitly set copy=True\n"
     ]
    },
    {
     "name": "stdout",
     "output_type": "stream",
     "text": [
      "Not setting metadata\n",
      "720 matching events found\n",
      "No baseline correction applied\n",
      "0 projection items activated\n",
      "Using data from preloaded Raw for 720 events and 640 original time points ...\n",
      "0 bad epochs dropped\n",
      "Label 0 generated 720 epochs.\n"
     ]
    },
    {
     "name": "stderr",
     "output_type": "stream",
     "text": [
      "C:\\Users\\ACER\\AppData\\Local\\Temp\\ipykernel_3680\\252492953.py:49: FutureWarning: The current default of copy=False will change to copy=True in 1.7. Set the value of copy explicitly to avoid this warning\n",
      "  X_epochs = epochs.get_data().astype(np.float32, copy=True)  # Explicitly set copy=True\n"
     ]
    },
    {
     "name": "stdout",
     "output_type": "stream",
     "text": [
      "Not setting metadata\n",
      "720 matching events found\n",
      "No baseline correction applied\n",
      "0 projection items activated\n",
      "Using data from preloaded Raw for 720 events and 640 original time points ...\n",
      "0 bad epochs dropped\n",
      "Label 0 generated 720 epochs.\n"
     ]
    },
    {
     "name": "stderr",
     "output_type": "stream",
     "text": [
      "C:\\Users\\ACER\\AppData\\Local\\Temp\\ipykernel_3680\\252492953.py:49: FutureWarning: The current default of copy=False will change to copy=True in 1.7. Set the value of copy explicitly to avoid this warning\n",
      "  X_epochs = epochs.get_data().astype(np.float32, copy=True)  # Explicitly set copy=True\n"
     ]
    },
    {
     "name": "stdout",
     "output_type": "stream",
     "text": [
      "Not setting metadata\n",
      "720 matching events found\n",
      "No baseline correction applied\n",
      "0 projection items activated\n",
      "Using data from preloaded Raw for 720 events and 640 original time points ...\n",
      "0 bad epochs dropped\n",
      "Label 0 generated 720 epochs.\n"
     ]
    },
    {
     "name": "stderr",
     "output_type": "stream",
     "text": [
      "C:\\Users\\ACER\\AppData\\Local\\Temp\\ipykernel_3680\\252492953.py:49: FutureWarning: The current default of copy=False will change to copy=True in 1.7. Set the value of copy explicitly to avoid this warning\n",
      "  X_epochs = epochs.get_data().astype(np.float32, copy=True)  # Explicitly set copy=True\n"
     ]
    },
    {
     "name": "stdout",
     "output_type": "stream",
     "text": [
      "Not setting metadata\n",
      "213 matching events found\n",
      "No baseline correction applied\n",
      "0 projection items activated\n",
      "Using data from preloaded Raw for 213 events and 640 original time points ...\n",
      "0 bad epochs dropped\n",
      "Label 0 generated 213 epochs.\n"
     ]
    },
    {
     "name": "stderr",
     "output_type": "stream",
     "text": [
      "C:\\Users\\ACER\\AppData\\Local\\Temp\\ipykernel_3680\\252492953.py:49: FutureWarning: The current default of copy=False will change to copy=True in 1.7. Set the value of copy explicitly to avoid this warning\n",
      "  X_epochs = epochs.get_data().astype(np.float32, copy=True)  # Explicitly set copy=True\n"
     ]
    },
    {
     "name": "stdout",
     "output_type": "stream",
     "text": [
      "Not setting metadata\n",
      "596 matching events found\n",
      "No baseline correction applied\n",
      "0 projection items activated\n",
      "Using data from preloaded Raw for 596 events and 640 original time points ...\n",
      "0 bad epochs dropped\n",
      "Label 3 generated 596 epochs.\n"
     ]
    },
    {
     "name": "stderr",
     "output_type": "stream",
     "text": [
      "C:\\Users\\ACER\\AppData\\Local\\Temp\\ipykernel_3680\\252492953.py:49: FutureWarning: The current default of copy=False will change to copy=True in 1.7. Set the value of copy explicitly to avoid this warning\n",
      "  X_epochs = epochs.get_data().astype(np.float32, copy=True)  # Explicitly set copy=True\n"
     ]
    },
    {
     "name": "stdout",
     "output_type": "stream",
     "text": [
      "Not setting metadata\n",
      "596 matching events found\n",
      "No baseline correction applied\n",
      "0 projection items activated\n",
      "Using data from preloaded Raw for 596 events and 640 original time points ...\n",
      "0 bad epochs dropped\n",
      "Label 3 generated 596 epochs.\n"
     ]
    },
    {
     "name": "stderr",
     "output_type": "stream",
     "text": [
      "C:\\Users\\ACER\\AppData\\Local\\Temp\\ipykernel_3680\\252492953.py:49: FutureWarning: The current default of copy=False will change to copy=True in 1.7. Set the value of copy explicitly to avoid this warning\n",
      "  X_epochs = epochs.get_data().astype(np.float32, copy=True)  # Explicitly set copy=True\n"
     ]
    },
    {
     "name": "stdout",
     "output_type": "stream",
     "text": [
      "Not setting metadata\n",
      "596 matching events found\n",
      "No baseline correction applied\n",
      "0 projection items activated\n",
      "Using data from preloaded Raw for 596 events and 640 original time points ...\n",
      "0 bad epochs dropped\n",
      "Label 3 generated 596 epochs.\n"
     ]
    },
    {
     "name": "stderr",
     "output_type": "stream",
     "text": [
      "C:\\Users\\ACER\\AppData\\Local\\Temp\\ipykernel_3680\\252492953.py:49: FutureWarning: The current default of copy=False will change to copy=True in 1.7. Set the value of copy explicitly to avoid this warning\n",
      "  X_epochs = epochs.get_data().astype(np.float32, copy=True)  # Explicitly set copy=True\n"
     ]
    },
    {
     "name": "stdout",
     "output_type": "stream",
     "text": [
      "Not setting metadata\n",
      "596 matching events found\n",
      "No baseline correction applied\n",
      "0 projection items activated\n",
      "Using data from preloaded Raw for 596 events and 640 original time points ...\n",
      "0 bad epochs dropped\n",
      "Label 3 generated 596 epochs.\n"
     ]
    },
    {
     "name": "stderr",
     "output_type": "stream",
     "text": [
      "C:\\Users\\ACER\\AppData\\Local\\Temp\\ipykernel_3680\\252492953.py:49: FutureWarning: The current default of copy=False will change to copy=True in 1.7. Set the value of copy explicitly to avoid this warning\n",
      "  X_epochs = epochs.get_data().astype(np.float32, copy=True)  # Explicitly set copy=True\n"
     ]
    },
    {
     "name": "stdout",
     "output_type": "stream",
     "text": [
      "Not setting metadata\n",
      "596 matching events found\n",
      "No baseline correction applied\n",
      "0 projection items activated\n",
      "Using data from preloaded Raw for 596 events and 640 original time points ...\n",
      "0 bad epochs dropped\n",
      "Label 3 generated 596 epochs.\n"
     ]
    },
    {
     "name": "stderr",
     "output_type": "stream",
     "text": [
      "C:\\Users\\ACER\\AppData\\Local\\Temp\\ipykernel_3680\\252492953.py:49: FutureWarning: The current default of copy=False will change to copy=True in 1.7. Set the value of copy explicitly to avoid this warning\n",
      "  X_epochs = epochs.get_data().astype(np.float32, copy=True)  # Explicitly set copy=True\n"
     ]
    },
    {
     "name": "stdout",
     "output_type": "stream",
     "text": [
      "Not setting metadata\n",
      "596 matching events found\n",
      "No baseline correction applied\n",
      "0 projection items activated\n",
      "Using data from preloaded Raw for 596 events and 640 original time points ...\n",
      "0 bad epochs dropped\n",
      "Label 3 generated 596 epochs.\n"
     ]
    },
    {
     "name": "stderr",
     "output_type": "stream",
     "text": [
      "C:\\Users\\ACER\\AppData\\Local\\Temp\\ipykernel_3680\\252492953.py:49: FutureWarning: The current default of copy=False will change to copy=True in 1.7. Set the value of copy explicitly to avoid this warning\n",
      "  X_epochs = epochs.get_data().astype(np.float32, copy=True)  # Explicitly set copy=True\n"
     ]
    },
    {
     "name": "stdout",
     "output_type": "stream",
     "text": [
      "Not setting metadata\n",
      "596 matching events found\n",
      "No baseline correction applied\n",
      "0 projection items activated\n",
      "Using data from preloaded Raw for 596 events and 640 original time points ...\n",
      "0 bad epochs dropped\n",
      "Label 3 generated 596 epochs.\n"
     ]
    },
    {
     "name": "stderr",
     "output_type": "stream",
     "text": [
      "C:\\Users\\ACER\\AppData\\Local\\Temp\\ipykernel_3680\\252492953.py:49: FutureWarning: The current default of copy=False will change to copy=True in 1.7. Set the value of copy explicitly to avoid this warning\n",
      "  X_epochs = epochs.get_data().astype(np.float32, copy=True)  # Explicitly set copy=True\n"
     ]
    },
    {
     "name": "stdout",
     "output_type": "stream",
     "text": [
      "Not setting metadata\n",
      "596 matching events found\n",
      "No baseline correction applied\n",
      "0 projection items activated\n",
      "Using data from preloaded Raw for 596 events and 640 original time points ...\n",
      "0 bad epochs dropped\n",
      "Label 3 generated 596 epochs.\n",
      "Not setting metadata\n"
     ]
    },
    {
     "name": "stderr",
     "output_type": "stream",
     "text": [
      "C:\\Users\\ACER\\AppData\\Local\\Temp\\ipykernel_3680\\252492953.py:49: FutureWarning: The current default of copy=False will change to copy=True in 1.7. Set the value of copy explicitly to avoid this warning\n",
      "  X_epochs = epochs.get_data().astype(np.float32, copy=True)  # Explicitly set copy=True\n"
     ]
    },
    {
     "name": "stdout",
     "output_type": "stream",
     "text": [
      "292 matching events found\n",
      "No baseline correction applied\n",
      "0 projection items activated\n",
      "Using data from preloaded Raw for 292 events and 640 original time points ...\n",
      "0 bad epochs dropped\n",
      "Label 3 generated 292 epochs.\n"
     ]
    },
    {
     "name": "stderr",
     "output_type": "stream",
     "text": [
      "C:\\Users\\ACER\\AppData\\Local\\Temp\\ipykernel_3680\\252492953.py:49: FutureWarning: The current default of copy=False will change to copy=True in 1.7. Set the value of copy explicitly to avoid this warning\n",
      "  X_epochs = epochs.get_data().astype(np.float32, copy=True)  # Explicitly set copy=True\n"
     ]
    },
    {
     "name": "stdout",
     "output_type": "stream",
     "text": [
      "Not setting metadata\n",
      "596 matching events found\n",
      "No baseline correction applied\n",
      "0 projection items activated\n",
      "Using data from preloaded Raw for 596 events and 640 original time points ...\n",
      "0 bad epochs dropped\n",
      "Label 3 generated 596 epochs.\n",
      "Not setting metadata\n",
      "27 matching events found\n",
      "No baseline correction applied\n",
      "0 projection items activated\n",
      "Using data from preloaded Raw for 27 events and 640 original time points ...\n",
      "0 bad epochs dropped\n",
      "Label 3 generated 27 epochs.\n",
      "Not setting metadata\n",
      "15 matching events found\n",
      "No baseline correction applied\n",
      "0 projection items activated\n",
      "Using data from preloaded Raw for 15 events and 640 original time points ...\n",
      "0 bad epochs dropped\n",
      "Label 3 generated 15 epochs.\n"
     ]
    },
    {
     "name": "stderr",
     "output_type": "stream",
     "text": [
      "C:\\Users\\ACER\\AppData\\Local\\Temp\\ipykernel_3680\\252492953.py:49: FutureWarning: The current default of copy=False will change to copy=True in 1.7. Set the value of copy explicitly to avoid this warning\n",
      "  X_epochs = epochs.get_data().astype(np.float32, copy=True)  # Explicitly set copy=True\n",
      "C:\\Users\\ACER\\AppData\\Local\\Temp\\ipykernel_3680\\252492953.py:49: FutureWarning: The current default of copy=False will change to copy=True in 1.7. Set the value of copy explicitly to avoid this warning\n",
      "  X_epochs = epochs.get_data().astype(np.float32, copy=True)  # Explicitly set copy=True\n",
      "C:\\Users\\ACER\\AppData\\Local\\Temp\\ipykernel_3680\\252492953.py:49: FutureWarning: The current default of copy=False will change to copy=True in 1.7. Set the value of copy explicitly to avoid this warning\n",
      "  X_epochs = epochs.get_data().astype(np.float32, copy=True)  # Explicitly set copy=True\n"
     ]
    },
    {
     "name": "stdout",
     "output_type": "stream",
     "text": [
      "Not setting metadata\n",
      "596 matching events found\n",
      "No baseline correction applied\n",
      "0 projection items activated\n",
      "Using data from preloaded Raw for 596 events and 640 original time points ...\n",
      "0 bad epochs dropped\n",
      "Label 3 generated 596 epochs.\n"
     ]
    },
    {
     "name": "stderr",
     "output_type": "stream",
     "text": [
      "C:\\Users\\ACER\\AppData\\Local\\Temp\\ipykernel_3680\\252492953.py:49: FutureWarning: The current default of copy=False will change to copy=True in 1.7. Set the value of copy explicitly to avoid this warning\n",
      "  X_epochs = epochs.get_data().astype(np.float32, copy=True)  # Explicitly set copy=True\n"
     ]
    },
    {
     "name": "stdout",
     "output_type": "stream",
     "text": [
      "Not setting metadata\n",
      "191 matching events found\n",
      "No baseline correction applied\n",
      "0 projection items activated\n",
      "Using data from preloaded Raw for 191 events and 640 original time points ...\n",
      "0 bad epochs dropped\n",
      "Label 2 generated 191 epochs.\n",
      "Not setting metadata\n",
      "91 matching events found\n",
      "No baseline correction applied\n",
      "0 projection items activated\n",
      "Using data from preloaded Raw for 91 events and 640 original time points ...\n",
      "0 bad epochs dropped\n",
      "Label 2 generated 91 epochs.\n",
      "Not setting metadata\n"
     ]
    },
    {
     "name": "stderr",
     "output_type": "stream",
     "text": [
      "C:\\Users\\ACER\\AppData\\Local\\Temp\\ipykernel_3680\\252492953.py:49: FutureWarning: The current default of copy=False will change to copy=True in 1.7. Set the value of copy explicitly to avoid this warning\n",
      "  X_epochs = epochs.get_data().astype(np.float32, copy=True)  # Explicitly set copy=True\n",
      "C:\\Users\\ACER\\AppData\\Local\\Temp\\ipykernel_3680\\252492953.py:49: FutureWarning: The current default of copy=False will change to copy=True in 1.7. Set the value of copy explicitly to avoid this warning\n",
      "  X_epochs = epochs.get_data().astype(np.float32, copy=True)  # Explicitly set copy=True\n"
     ]
    },
    {
     "name": "stdout",
     "output_type": "stream",
     "text": [
      "88 matching events found\n",
      "No baseline correction applied\n",
      "0 projection items activated\n",
      "Using data from preloaded Raw for 88 events and 640 original time points ...\n",
      "0 bad epochs dropped\n",
      "Label 2 generated 88 epochs.\n"
     ]
    },
    {
     "name": "stderr",
     "output_type": "stream",
     "text": [
      "C:\\Users\\ACER\\AppData\\Local\\Temp\\ipykernel_3680\\252492953.py:49: FutureWarning: The current default of copy=False will change to copy=True in 1.7. Set the value of copy explicitly to avoid this warning\n",
      "  X_epochs = epochs.get_data().astype(np.float32, copy=True)  # Explicitly set copy=True\n"
     ]
    },
    {
     "name": "stdout",
     "output_type": "stream",
     "text": [
      "Not setting metadata\n",
      "434 matching events found\n",
      "No baseline correction applied\n",
      "0 projection items activated\n",
      "Using data from preloaded Raw for 434 events and 640 original time points ...\n",
      "0 bad epochs dropped\n",
      "Label 2 generated 434 epochs.\n"
     ]
    },
    {
     "name": "stderr",
     "output_type": "stream",
     "text": [
      "C:\\Users\\ACER\\AppData\\Local\\Temp\\ipykernel_3680\\252492953.py:49: FutureWarning: The current default of copy=False will change to copy=True in 1.7. Set the value of copy explicitly to avoid this warning\n",
      "  X_epochs = epochs.get_data().astype(np.float32, copy=True)  # Explicitly set copy=True\n"
     ]
    },
    {
     "name": "stdout",
     "output_type": "stream",
     "text": [
      "Not setting metadata\n",
      "490 matching events found\n",
      "No baseline correction applied\n",
      "0 projection items activated\n",
      "Using data from preloaded Raw for 490 events and 640 original time points ...\n",
      "0 bad epochs dropped\n",
      "Label 2 generated 490 epochs.\n",
      "Not setting metadata\n",
      "14 matching events found\n",
      "No baseline correction applied\n",
      "0 projection items activated\n",
      "Using data from preloaded Raw for 14 events and 640 original time points ...\n",
      "0 bad epochs dropped\n",
      "Label 2 generated 14 epochs.\n"
     ]
    },
    {
     "name": "stderr",
     "output_type": "stream",
     "text": [
      "C:\\Users\\ACER\\AppData\\Local\\Temp\\ipykernel_3680\\252492953.py:49: FutureWarning: The current default of copy=False will change to copy=True in 1.7. Set the value of copy explicitly to avoid this warning\n",
      "  X_epochs = epochs.get_data().astype(np.float32, copy=True)  # Explicitly set copy=True\n",
      "C:\\Users\\ACER\\AppData\\Local\\Temp\\ipykernel_3680\\252492953.py:49: FutureWarning: The current default of copy=False will change to copy=True in 1.7. Set the value of copy explicitly to avoid this warning\n",
      "  X_epochs = epochs.get_data().astype(np.float32, copy=True)  # Explicitly set copy=True\n"
     ]
    },
    {
     "name": "stdout",
     "output_type": "stream",
     "text": [
      "Not setting metadata\n",
      "697 matching events found\n",
      "No baseline correction applied\n",
      "0 projection items activated\n",
      "Using data from preloaded Raw for 697 events and 640 original time points ...\n",
      "0 bad epochs dropped\n",
      "Label 2 generated 697 epochs.\n"
     ]
    },
    {
     "name": "stderr",
     "output_type": "stream",
     "text": [
      "C:\\Users\\ACER\\AppData\\Local\\Temp\\ipykernel_3680\\252492953.py:49: FutureWarning: The current default of copy=False will change to copy=True in 1.7. Set the value of copy explicitly to avoid this warning\n",
      "  X_epochs = epochs.get_data().astype(np.float32, copy=True)  # Explicitly set copy=True\n"
     ]
    },
    {
     "name": "stdout",
     "output_type": "stream",
     "text": [
      "Not setting metadata\n",
      "719 matching events found\n",
      "No baseline correction applied\n",
      "0 projection items activated\n",
      "Using data from preloaded Raw for 719 events and 640 original time points ...\n",
      "0 bad epochs dropped\n",
      "Label 2 generated 719 epochs.\n"
     ]
    },
    {
     "name": "stderr",
     "output_type": "stream",
     "text": [
      "C:\\Users\\ACER\\AppData\\Local\\Temp\\ipykernel_3680\\252492953.py:49: FutureWarning: The current default of copy=False will change to copy=True in 1.7. Set the value of copy explicitly to avoid this warning\n",
      "  X_epochs = epochs.get_data().astype(np.float32, copy=True)  # Explicitly set copy=True\n"
     ]
    },
    {
     "name": "stdout",
     "output_type": "stream",
     "text": [
      "Not setting metadata\n",
      "719 matching events found\n",
      "No baseline correction applied\n",
      "0 projection items activated\n",
      "Using data from preloaded Raw for 719 events and 640 original time points ...\n",
      "0 bad epochs dropped\n",
      "Label 2 generated 719 epochs.\n"
     ]
    },
    {
     "name": "stderr",
     "output_type": "stream",
     "text": [
      "C:\\Users\\ACER\\AppData\\Local\\Temp\\ipykernel_3680\\252492953.py:49: FutureWarning: The current default of copy=False will change to copy=True in 1.7. Set the value of copy explicitly to avoid this warning\n",
      "  X_epochs = epochs.get_data().astype(np.float32, copy=True)  # Explicitly set copy=True\n"
     ]
    },
    {
     "name": "stdout",
     "output_type": "stream",
     "text": [
      "Not setting metadata\n",
      "719 matching events found\n",
      "No baseline correction applied\n",
      "0 projection items activated\n",
      "Using data from preloaded Raw for 719 events and 640 original time points ...\n",
      "0 bad epochs dropped\n",
      "Label 2 generated 719 epochs.\n"
     ]
    },
    {
     "name": "stderr",
     "output_type": "stream",
     "text": [
      "C:\\Users\\ACER\\AppData\\Local\\Temp\\ipykernel_3680\\252492953.py:49: FutureWarning: The current default of copy=False will change to copy=True in 1.7. Set the value of copy explicitly to avoid this warning\n",
      "  X_epochs = epochs.get_data().astype(np.float32, copy=True)  # Explicitly set copy=True\n"
     ]
    },
    {
     "name": "stdout",
     "output_type": "stream",
     "text": [
      "Not setting metadata\n",
      "719 matching events found\n",
      "No baseline correction applied\n",
      "0 projection items activated\n",
      "Using data from preloaded Raw for 719 events and 640 original time points ...\n",
      "0 bad epochs dropped\n",
      "Label 2 generated 719 epochs.\n"
     ]
    },
    {
     "name": "stderr",
     "output_type": "stream",
     "text": [
      "C:\\Users\\ACER\\AppData\\Local\\Temp\\ipykernel_3680\\252492953.py:49: FutureWarning: The current default of copy=False will change to copy=True in 1.7. Set the value of copy explicitly to avoid this warning\n",
      "  X_epochs = epochs.get_data().astype(np.float32, copy=True)  # Explicitly set copy=True\n"
     ]
    },
    {
     "name": "stdout",
     "output_type": "stream",
     "text": [
      "Not setting metadata\n",
      "719 matching events found\n",
      "No baseline correction applied\n",
      "0 projection items activated\n",
      "Using data from preloaded Raw for 719 events and 640 original time points ...\n",
      "0 bad epochs dropped\n",
      "Label 2 generated 719 epochs.\n"
     ]
    },
    {
     "name": "stderr",
     "output_type": "stream",
     "text": [
      "C:\\Users\\ACER\\AppData\\Local\\Temp\\ipykernel_3680\\252492953.py:49: FutureWarning: The current default of copy=False will change to copy=True in 1.7. Set the value of copy explicitly to avoid this warning\n",
      "  X_epochs = epochs.get_data().astype(np.float32, copy=True)  # Explicitly set copy=True\n"
     ]
    },
    {
     "name": "stdout",
     "output_type": "stream",
     "text": [
      "Not setting metadata\n",
      "719 matching events found\n",
      "No baseline correction applied\n",
      "0 projection items activated\n",
      "Using data from preloaded Raw for 719 events and 640 original time points ...\n",
      "0 bad epochs dropped\n",
      "Label 2 generated 719 epochs.\n"
     ]
    },
    {
     "name": "stderr",
     "output_type": "stream",
     "text": [
      "C:\\Users\\ACER\\AppData\\Local\\Temp\\ipykernel_3680\\252492953.py:49: FutureWarning: The current default of copy=False will change to copy=True in 1.7. Set the value of copy explicitly to avoid this warning\n",
      "  X_epochs = epochs.get_data().astype(np.float32, copy=True)  # Explicitly set copy=True\n"
     ]
    },
    {
     "name": "stdout",
     "output_type": "stream",
     "text": [
      "Final shapes: (27942, 21, 640) (27942,)\n"
     ]
    }
   ],
   "source": [
    "X, Y = process_eeg_data(data_dict,target_sfreq=128, epoch_duration=5.0)"
   ]
  },
  {
   "cell_type": "code",
   "execution_count": 8,
   "id": "6d97fdd0-9f11-4261-9994-a85c788d4cc3",
   "metadata": {
    "scrolled": true
   },
   "outputs": [
    {
     "data": {
      "text/plain": [
       "0\n",
       "1    8636\n",
       "0    6693\n",
       "2    6319\n",
       "3    6294\n",
       "Name: count, dtype: int64"
      ]
     },
     "execution_count": 8,
     "metadata": {},
     "output_type": "execute_result"
    }
   ],
   "source": [
    "pd.DataFrame(Y).value_counts()\n",
    "# # Y"
   ]
  },
  {
   "cell_type": "code",
   "execution_count": 9,
   "id": "f311abc6-13e7-40c4-9582-757c5ce66f0a",
   "metadata": {},
   "outputs": [
    {
     "data": {
      "text/plain": [
       "(27942, 21, 640)"
      ]
     },
     "execution_count": 9,
     "metadata": {},
     "output_type": "execute_result"
    }
   ],
   "source": [
    "X.shape"
   ]
  },
  {
   "cell_type": "code",
   "execution_count": 10,
   "id": "241bca83-b336-40fe-8809-0fce6b6e09cd",
   "metadata": {},
   "outputs": [
    {
     "data": {
      "text/plain": [
       "(27942, 640, 21)"
      ]
     },
     "execution_count": 10,
     "metadata": {},
     "output_type": "execute_result"
    }
   ],
   "source": [
    "X = np.moveaxis(X,1,2)\n",
    "X.shape"
   ]
  },
  {
   "cell_type": "code",
   "execution_count": 77,
   "id": "84410ffc-b478-4922-8bdd-3b2ae5fd4a2c",
   "metadata": {},
   "outputs": [],
   "source": [
    "np.savez(r'D:\\processed data for CHB\\chb24\\raw\\5sraw.npz',X=X, Y=Y)"
   ]
  },
  {
   "cell_type": "markdown",
   "id": "7d561f14-b277-4341-ae9c-df57e046bce4",
   "metadata": {},
   "source": [
    "# DWT data process different time segments\n"
   ]
  },
  {
   "cell_type": "code",
   "execution_count": 23,
   "id": "1c61038b-becd-4649-9883-ddebbf2810d3",
   "metadata": {},
   "outputs": [
    {
     "name": "stdout",
     "output_type": "stream",
     "text": [
      "Not setting metadata\n",
      "267 matching events found\n",
      "No baseline correction applied\n",
      "0 projection items activated\n",
      "Using data from preloaded Raw for 267 events and 640 original time points ...\n",
      "0 bad epochs dropped\n",
      "Not setting metadata\n",
      "267 matching events found\n",
      "No baseline correction applied\n",
      "0 projection items activated\n",
      "Using data from preloaded Raw for 267 events and 640 original time points ...\n",
      "0 bad epochs dropped\n",
      "Not setting metadata\n",
      "321 matching events found\n",
      "No baseline correction applied\n",
      "0 projection items activated\n",
      "Using data from preloaded Raw for 321 events and 640 original time points ...\n",
      "0 bad epochs dropped\n",
      "Not setting metadata\n",
      "267 matching events found\n",
      "No baseline correction applied\n",
      "0 projection items activated\n",
      "Using data from preloaded Raw for 267 events and 640 original time points ...\n",
      "0 bad epochs dropped\n"
     ]
    },
    {
     "name": "stderr",
     "output_type": "stream",
     "text": [
      "C:\\Users\\ACER\\AppData\\Local\\Temp\\ipykernel_2936\\2613639217.py:46: FutureWarning: The current default of copy=False will change to copy=True in 1.7. Set the value of copy explicitly to avoid this warning\n",
      "  X_epochs = epochs.get_data().astype(np.float32, copy=True)\n",
      "C:\\Users\\ACER\\AppData\\Local\\Temp\\ipykernel_2936\\2613639217.py:46: FutureWarning: The current default of copy=False will change to copy=True in 1.7. Set the value of copy explicitly to avoid this warning\n",
      "  X_epochs = epochs.get_data().astype(np.float32, copy=True)\n",
      "C:\\Users\\ACER\\AppData\\Local\\Temp\\ipykernel_2936\\2613639217.py:46: FutureWarning: The current default of copy=False will change to copy=True in 1.7. Set the value of copy explicitly to avoid this warning\n",
      "  X_epochs = epochs.get_data().astype(np.float32, copy=True)\n"
     ]
    },
    {
     "name": "stdout",
     "output_type": "stream",
     "text": [
      "Not setting metadata\n",
      "361 matching events found\n",
      "No baseline correction applied\n",
      "0 projection items activated\n",
      "Using data from preloaded Raw for 361 events and 640 original time points ...\n",
      "0 bad epochs dropped\n",
      "Not setting metadata\n",
      "294 matching events found\n",
      "No baseline correction applied\n",
      "0 projection items activated\n",
      "Using data from preloaded Raw for 294 events and 640 original time points ...\n",
      "0 bad epochs dropped\n",
      "Not setting metadata\n"
     ]
    },
    {
     "name": "stderr",
     "output_type": "stream",
     "text": [
      "C:\\Users\\ACER\\AppData\\Local\\Temp\\ipykernel_2936\\2613639217.py:46: FutureWarning: The current default of copy=False will change to copy=True in 1.7. Set the value of copy explicitly to avoid this warning\n",
      "  X_epochs = epochs.get_data().astype(np.float32, copy=True)\n",
      "C:\\Users\\ACER\\AppData\\Local\\Temp\\ipykernel_2936\\2613639217.py:46: FutureWarning: The current default of copy=False will change to copy=True in 1.7. Set the value of copy explicitly to avoid this warning\n",
      "  X_epochs = epochs.get_data().astype(np.float32, copy=True)\n",
      "C:\\Users\\ACER\\AppData\\Local\\Temp\\ipykernel_2936\\2613639217.py:46: FutureWarning: The current default of copy=False will change to copy=True in 1.7. Set the value of copy explicitly to avoid this warning\n",
      "  X_epochs = epochs.get_data().astype(np.float32, copy=True)\n"
     ]
    },
    {
     "name": "stdout",
     "output_type": "stream",
     "text": [
      "187 matching events found\n",
      "No baseline correction applied\n",
      "0 projection items activated\n",
      "Using data from preloaded Raw for 187 events and 640 original time points ...\n",
      "0 bad epochs dropped\n",
      "Not setting metadata\n",
      "254 matching events found\n",
      "No baseline correction applied\n",
      "0 projection items activated\n",
      "Using data from preloaded Raw for 254 events and 640 original time points ...\n",
      "0 bad epochs dropped\n",
      "Not setting metadata\n",
      "227 matching events found\n",
      "No baseline correction applied\n",
      "0 projection items activated\n",
      "Using data from preloaded Raw for 227 events and 640 original time points ...\n",
      "0 bad epochs dropped\n",
      "Not setting metadata\n",
      "187 matching events found\n",
      "No baseline correction applied\n",
      "0 projection items activated\n",
      "Using data from preloaded Raw for 187 events and 640 original time points ...\n",
      "0 bad epochs dropped\n",
      "Not setting metadata\n"
     ]
    },
    {
     "name": "stderr",
     "output_type": "stream",
     "text": [
      "C:\\Users\\ACER\\AppData\\Local\\Temp\\ipykernel_2936\\2613639217.py:46: FutureWarning: The current default of copy=False will change to copy=True in 1.7. Set the value of copy explicitly to avoid this warning\n",
      "  X_epochs = epochs.get_data().astype(np.float32, copy=True)\n",
      "C:\\Users\\ACER\\AppData\\Local\\Temp\\ipykernel_2936\\2613639217.py:46: FutureWarning: The current default of copy=False will change to copy=True in 1.7. Set the value of copy explicitly to avoid this warning\n",
      "  X_epochs = epochs.get_data().astype(np.float32, copy=True)\n",
      "C:\\Users\\ACER\\AppData\\Local\\Temp\\ipykernel_2936\\2613639217.py:46: FutureWarning: The current default of copy=False will change to copy=True in 1.7. Set the value of copy explicitly to avoid this warning\n",
      "  X_epochs = epochs.get_data().astype(np.float32, copy=True)\n",
      "C:\\Users\\ACER\\AppData\\Local\\Temp\\ipykernel_2936\\2613639217.py:46: FutureWarning: The current default of copy=False will change to copy=True in 1.7. Set the value of copy explicitly to avoid this warning\n",
      "  X_epochs = epochs.get_data().astype(np.float32, copy=True)\n"
     ]
    },
    {
     "name": "stdout",
     "output_type": "stream",
     "text": [
      "867 matching events found\n",
      "No baseline correction applied\n",
      "0 projection items activated\n",
      "Using data from preloaded Raw for 867 events and 640 original time points ...\n",
      "0 bad epochs dropped\n",
      "Not setting metadata\n",
      "147 matching events found\n",
      "No baseline correction applied\n",
      "0 projection items activated\n",
      "Using data from preloaded Raw for 147 events and 640 original time points ...\n",
      "0 bad epochs dropped\n",
      "Not setting metadata\n",
      "294 matching events found\n",
      "No baseline correction applied\n",
      "0 projection items activated\n",
      "Using data from preloaded Raw for 294 events and 640 original time points ...\n",
      "0 bad epochs dropped\n",
      "Not setting metadata\n",
      "161 matching events found\n",
      "No baseline correction applied\n",
      "0 projection items activated\n",
      "Using data from preloaded Raw for 161 events and 640 original time points ...\n",
      "0 bad epochs dropped\n",
      "Not setting metadata\n"
     ]
    },
    {
     "name": "stderr",
     "output_type": "stream",
     "text": [
      "C:\\Users\\ACER\\AppData\\Local\\Temp\\ipykernel_2936\\2613639217.py:46: FutureWarning: The current default of copy=False will change to copy=True in 1.7. Set the value of copy explicitly to avoid this warning\n",
      "  X_epochs = epochs.get_data().astype(np.float32, copy=True)\n",
      "C:\\Users\\ACER\\AppData\\Local\\Temp\\ipykernel_2936\\2613639217.py:46: FutureWarning: The current default of copy=False will change to copy=True in 1.7. Set the value of copy explicitly to avoid this warning\n",
      "  X_epochs = epochs.get_data().astype(np.float32, copy=True)\n",
      "C:\\Users\\ACER\\AppData\\Local\\Temp\\ipykernel_2936\\2613639217.py:46: FutureWarning: The current default of copy=False will change to copy=True in 1.7. Set the value of copy explicitly to avoid this warning\n",
      "  X_epochs = epochs.get_data().astype(np.float32, copy=True)\n",
      "C:\\Users\\ACER\\AppData\\Local\\Temp\\ipykernel_2936\\2613639217.py:46: FutureWarning: The current default of copy=False will change to copy=True in 1.7. Set the value of copy explicitly to avoid this warning\n",
      "  X_epochs = epochs.get_data().astype(np.float32, copy=True)\n"
     ]
    },
    {
     "name": "stdout",
     "output_type": "stream",
     "text": [
      "814 matching events found\n",
      "No baseline correction applied\n",
      "0 projection items activated\n",
      "Using data from preloaded Raw for 814 events and 640 original time points ...\n",
      "0 bad epochs dropped\n",
      "Not setting metadata\n",
      "841 matching events found\n",
      "No baseline correction applied\n",
      "0 projection items activated\n",
      "Using data from preloaded Raw for 841 events and 640 original time points ...\n",
      "0 bad epochs dropped\n"
     ]
    },
    {
     "name": "stderr",
     "output_type": "stream",
     "text": [
      "C:\\Users\\ACER\\AppData\\Local\\Temp\\ipykernel_2936\\2613639217.py:46: FutureWarning: The current default of copy=False will change to copy=True in 1.7. Set the value of copy explicitly to avoid this warning\n",
      "  X_epochs = epochs.get_data().astype(np.float32, copy=True)\n",
      "C:\\Users\\ACER\\AppData\\Local\\Temp\\ipykernel_2936\\2613639217.py:46: FutureWarning: The current default of copy=False will change to copy=True in 1.7. Set the value of copy explicitly to avoid this warning\n",
      "  X_epochs = epochs.get_data().astype(np.float32, copy=True)\n"
     ]
    },
    {
     "name": "stdout",
     "output_type": "stream",
     "text": [
      "Not setting metadata\n",
      "720 matching events found\n",
      "No baseline correction applied\n",
      "0 projection items activated\n",
      "Using data from preloaded Raw for 720 events and 640 original time points ...\n",
      "0 bad epochs dropped\n"
     ]
    },
    {
     "name": "stderr",
     "output_type": "stream",
     "text": [
      "C:\\Users\\ACER\\AppData\\Local\\Temp\\ipykernel_2936\\2613639217.py:46: FutureWarning: The current default of copy=False will change to copy=True in 1.7. Set the value of copy explicitly to avoid this warning\n",
      "  X_epochs = epochs.get_data().astype(np.float32, copy=True)\n"
     ]
    },
    {
     "name": "stdout",
     "output_type": "stream",
     "text": [
      "Not setting metadata\n",
      "720 matching events found\n",
      "No baseline correction applied\n",
      "0 projection items activated\n",
      "Using data from preloaded Raw for 720 events and 640 original time points ...\n",
      "0 bad epochs dropped\n"
     ]
    },
    {
     "name": "stderr",
     "output_type": "stream",
     "text": [
      "C:\\Users\\ACER\\AppData\\Local\\Temp\\ipykernel_2936\\2613639217.py:46: FutureWarning: The current default of copy=False will change to copy=True in 1.7. Set the value of copy explicitly to avoid this warning\n",
      "  X_epochs = epochs.get_data().astype(np.float32, copy=True)\n"
     ]
    },
    {
     "name": "stdout",
     "output_type": "stream",
     "text": [
      "Not setting metadata\n",
      "720 matching events found\n",
      "No baseline correction applied\n",
      "0 projection items activated\n",
      "Using data from preloaded Raw for 720 events and 640 original time points ...\n",
      "0 bad epochs dropped\n"
     ]
    },
    {
     "name": "stderr",
     "output_type": "stream",
     "text": [
      "C:\\Users\\ACER\\AppData\\Local\\Temp\\ipykernel_2936\\2613639217.py:46: FutureWarning: The current default of copy=False will change to copy=True in 1.7. Set the value of copy explicitly to avoid this warning\n",
      "  X_epochs = epochs.get_data().astype(np.float32, copy=True)\n"
     ]
    },
    {
     "name": "stdout",
     "output_type": "stream",
     "text": [
      "Not setting metadata\n",
      "720 matching events found\n",
      "No baseline correction applied\n",
      "0 projection items activated\n",
      "Using data from preloaded Raw for 720 events and 640 original time points ...\n",
      "0 bad epochs dropped\n"
     ]
    },
    {
     "name": "stderr",
     "output_type": "stream",
     "text": [
      "C:\\Users\\ACER\\AppData\\Local\\Temp\\ipykernel_2936\\2613639217.py:46: FutureWarning: The current default of copy=False will change to copy=True in 1.7. Set the value of copy explicitly to avoid this warning\n",
      "  X_epochs = epochs.get_data().astype(np.float32, copy=True)\n"
     ]
    },
    {
     "name": "stdout",
     "output_type": "stream",
     "text": [
      "Not setting metadata\n",
      "720 matching events found\n",
      "No baseline correction applied\n",
      "0 projection items activated\n",
      "Using data from preloaded Raw for 720 events and 640 original time points ...\n",
      "0 bad epochs dropped\n"
     ]
    },
    {
     "name": "stderr",
     "output_type": "stream",
     "text": [
      "C:\\Users\\ACER\\AppData\\Local\\Temp\\ipykernel_2936\\2613639217.py:46: FutureWarning: The current default of copy=False will change to copy=True in 1.7. Set the value of copy explicitly to avoid this warning\n",
      "  X_epochs = epochs.get_data().astype(np.float32, copy=True)\n"
     ]
    },
    {
     "name": "stdout",
     "output_type": "stream",
     "text": [
      "Not setting metadata\n",
      "720 matching events found\n",
      "No baseline correction applied\n",
      "0 projection items activated\n",
      "Using data from preloaded Raw for 720 events and 640 original time points ...\n",
      "0 bad epochs dropped\n"
     ]
    },
    {
     "name": "stderr",
     "output_type": "stream",
     "text": [
      "C:\\Users\\ACER\\AppData\\Local\\Temp\\ipykernel_2936\\2613639217.py:46: FutureWarning: The current default of copy=False will change to copy=True in 1.7. Set the value of copy explicitly to avoid this warning\n",
      "  X_epochs = epochs.get_data().astype(np.float32, copy=True)\n"
     ]
    },
    {
     "name": "stdout",
     "output_type": "stream",
     "text": [
      "Not setting metadata\n",
      "720 matching events found\n",
      "No baseline correction applied\n",
      "0 projection items activated\n",
      "Using data from preloaded Raw for 720 events and 640 original time points ...\n",
      "0 bad epochs dropped\n"
     ]
    },
    {
     "name": "stderr",
     "output_type": "stream",
     "text": [
      "C:\\Users\\ACER\\AppData\\Local\\Temp\\ipykernel_2936\\2613639217.py:46: FutureWarning: The current default of copy=False will change to copy=True in 1.7. Set the value of copy explicitly to avoid this warning\n",
      "  X_epochs = epochs.get_data().astype(np.float32, copy=True)\n"
     ]
    },
    {
     "name": "stdout",
     "output_type": "stream",
     "text": [
      "Not setting metadata\n",
      "720 matching events found\n",
      "No baseline correction applied\n",
      "0 projection items activated\n",
      "Using data from preloaded Raw for 720 events and 640 original time points ...\n",
      "0 bad epochs dropped\n"
     ]
    },
    {
     "name": "stderr",
     "output_type": "stream",
     "text": [
      "C:\\Users\\ACER\\AppData\\Local\\Temp\\ipykernel_2936\\2613639217.py:46: FutureWarning: The current default of copy=False will change to copy=True in 1.7. Set the value of copy explicitly to avoid this warning\n",
      "  X_epochs = epochs.get_data().astype(np.float32, copy=True)\n"
     ]
    },
    {
     "name": "stdout",
     "output_type": "stream",
     "text": [
      "Not setting metadata\n",
      "720 matching events found\n",
      "No baseline correction applied\n",
      "0 projection items activated\n",
      "Using data from preloaded Raw for 720 events and 640 original time points ...\n",
      "0 bad epochs dropped\n"
     ]
    },
    {
     "name": "stderr",
     "output_type": "stream",
     "text": [
      "C:\\Users\\ACER\\AppData\\Local\\Temp\\ipykernel_2936\\2613639217.py:46: FutureWarning: The current default of copy=False will change to copy=True in 1.7. Set the value of copy explicitly to avoid this warning\n",
      "  X_epochs = epochs.get_data().astype(np.float32, copy=True)\n"
     ]
    },
    {
     "name": "stdout",
     "output_type": "stream",
     "text": [
      "Not setting metadata\n",
      "213 matching events found\n",
      "No baseline correction applied\n",
      "0 projection items activated\n",
      "Using data from preloaded Raw for 213 events and 640 original time points ...\n",
      "0 bad epochs dropped\n"
     ]
    },
    {
     "name": "stderr",
     "output_type": "stream",
     "text": [
      "C:\\Users\\ACER\\AppData\\Local\\Temp\\ipykernel_2936\\2613639217.py:46: FutureWarning: The current default of copy=False will change to copy=True in 1.7. Set the value of copy explicitly to avoid this warning\n",
      "  X_epochs = epochs.get_data().astype(np.float32, copy=True)\n"
     ]
    },
    {
     "name": "stdout",
     "output_type": "stream",
     "text": [
      "Not setting metadata\n",
      "596 matching events found\n",
      "No baseline correction applied\n",
      "0 projection items activated\n",
      "Using data from preloaded Raw for 596 events and 640 original time points ...\n",
      "0 bad epochs dropped\n"
     ]
    },
    {
     "name": "stderr",
     "output_type": "stream",
     "text": [
      "C:\\Users\\ACER\\AppData\\Local\\Temp\\ipykernel_2936\\2613639217.py:46: FutureWarning: The current default of copy=False will change to copy=True in 1.7. Set the value of copy explicitly to avoid this warning\n",
      "  X_epochs = epochs.get_data().astype(np.float32, copy=True)\n"
     ]
    },
    {
     "name": "stdout",
     "output_type": "stream",
     "text": [
      "Not setting metadata\n",
      "596 matching events found\n",
      "No baseline correction applied\n",
      "0 projection items activated\n",
      "Using data from preloaded Raw for 596 events and 640 original time points ...\n",
      "0 bad epochs dropped\n"
     ]
    },
    {
     "name": "stderr",
     "output_type": "stream",
     "text": [
      "C:\\Users\\ACER\\AppData\\Local\\Temp\\ipykernel_2936\\2613639217.py:46: FutureWarning: The current default of copy=False will change to copy=True in 1.7. Set the value of copy explicitly to avoid this warning\n",
      "  X_epochs = epochs.get_data().astype(np.float32, copy=True)\n"
     ]
    },
    {
     "name": "stdout",
     "output_type": "stream",
     "text": [
      "Not setting metadata\n",
      "596 matching events found\n",
      "No baseline correction applied\n",
      "0 projection items activated\n",
      "Using data from preloaded Raw for 596 events and 640 original time points ...\n",
      "0 bad epochs dropped\n"
     ]
    },
    {
     "name": "stderr",
     "output_type": "stream",
     "text": [
      "C:\\Users\\ACER\\AppData\\Local\\Temp\\ipykernel_2936\\2613639217.py:46: FutureWarning: The current default of copy=False will change to copy=True in 1.7. Set the value of copy explicitly to avoid this warning\n",
      "  X_epochs = epochs.get_data().astype(np.float32, copy=True)\n"
     ]
    },
    {
     "name": "stdout",
     "output_type": "stream",
     "text": [
      "Not setting metadata\n",
      "596 matching events found\n",
      "No baseline correction applied\n",
      "0 projection items activated\n",
      "Using data from preloaded Raw for 596 events and 640 original time points ...\n",
      "0 bad epochs dropped\n"
     ]
    },
    {
     "name": "stderr",
     "output_type": "stream",
     "text": [
      "C:\\Users\\ACER\\AppData\\Local\\Temp\\ipykernel_2936\\2613639217.py:46: FutureWarning: The current default of copy=False will change to copy=True in 1.7. Set the value of copy explicitly to avoid this warning\n",
      "  X_epochs = epochs.get_data().astype(np.float32, copy=True)\n"
     ]
    },
    {
     "name": "stdout",
     "output_type": "stream",
     "text": [
      "Not setting metadata\n",
      "596 matching events found\n",
      "No baseline correction applied\n",
      "0 projection items activated\n",
      "Using data from preloaded Raw for 596 events and 640 original time points ...\n",
      "0 bad epochs dropped\n"
     ]
    },
    {
     "name": "stderr",
     "output_type": "stream",
     "text": [
      "C:\\Users\\ACER\\AppData\\Local\\Temp\\ipykernel_2936\\2613639217.py:46: FutureWarning: The current default of copy=False will change to copy=True in 1.7. Set the value of copy explicitly to avoid this warning\n",
      "  X_epochs = epochs.get_data().astype(np.float32, copy=True)\n"
     ]
    },
    {
     "name": "stdout",
     "output_type": "stream",
     "text": [
      "Not setting metadata\n",
      "596 matching events found\n",
      "No baseline correction applied\n",
      "0 projection items activated\n",
      "Using data from preloaded Raw for 596 events and 640 original time points ...\n",
      "0 bad epochs dropped\n"
     ]
    },
    {
     "name": "stderr",
     "output_type": "stream",
     "text": [
      "C:\\Users\\ACER\\AppData\\Local\\Temp\\ipykernel_2936\\2613639217.py:46: FutureWarning: The current default of copy=False will change to copy=True in 1.7. Set the value of copy explicitly to avoid this warning\n",
      "  X_epochs = epochs.get_data().astype(np.float32, copy=True)\n"
     ]
    },
    {
     "name": "stdout",
     "output_type": "stream",
     "text": [
      "Not setting metadata\n",
      "596 matching events found\n",
      "No baseline correction applied\n",
      "0 projection items activated\n",
      "Using data from preloaded Raw for 596 events and 640 original time points ...\n",
      "0 bad epochs dropped\n"
     ]
    },
    {
     "name": "stderr",
     "output_type": "stream",
     "text": [
      "C:\\Users\\ACER\\AppData\\Local\\Temp\\ipykernel_2936\\2613639217.py:46: FutureWarning: The current default of copy=False will change to copy=True in 1.7. Set the value of copy explicitly to avoid this warning\n",
      "  X_epochs = epochs.get_data().astype(np.float32, copy=True)\n"
     ]
    },
    {
     "name": "stdout",
     "output_type": "stream",
     "text": [
      "Not setting metadata\n",
      "596 matching events found\n",
      "No baseline correction applied\n",
      "0 projection items activated\n",
      "Using data from preloaded Raw for 596 events and 640 original time points ...\n",
      "0 bad epochs dropped\n",
      "Not setting metadata\n",
      "292 matching events found\n",
      "No baseline correction applied\n",
      "0 projection items activated\n",
      "Using data from preloaded Raw for 292 events and 640 original time points ...\n",
      "0 bad epochs dropped\n"
     ]
    },
    {
     "name": "stderr",
     "output_type": "stream",
     "text": [
      "C:\\Users\\ACER\\AppData\\Local\\Temp\\ipykernel_2936\\2613639217.py:46: FutureWarning: The current default of copy=False will change to copy=True in 1.7. Set the value of copy explicitly to avoid this warning\n",
      "  X_epochs = epochs.get_data().astype(np.float32, copy=True)\n",
      "C:\\Users\\ACER\\AppData\\Local\\Temp\\ipykernel_2936\\2613639217.py:46: FutureWarning: The current default of copy=False will change to copy=True in 1.7. Set the value of copy explicitly to avoid this warning\n",
      "  X_epochs = epochs.get_data().astype(np.float32, copy=True)\n"
     ]
    },
    {
     "name": "stdout",
     "output_type": "stream",
     "text": [
      "Not setting metadata\n",
      "596 matching events found\n",
      "No baseline correction applied\n",
      "0 projection items activated\n",
      "Using data from preloaded Raw for 596 events and 640 original time points ...\n",
      "0 bad epochs dropped\n",
      "Not setting metadata\n",
      "27 matching events found\n",
      "No baseline correction applied\n",
      "0 projection items activated\n",
      "Using data from preloaded Raw for 27 events and 640 original time points ...\n",
      "0 bad epochs dropped\n",
      "Not setting metadata\n",
      "15 matching events found\n",
      "No baseline correction applied\n",
      "0 projection items activated\n",
      "Using data from preloaded Raw for 15 events and 640 original time points ...\n",
      "0 bad epochs dropped\n"
     ]
    },
    {
     "name": "stderr",
     "output_type": "stream",
     "text": [
      "C:\\Users\\ACER\\AppData\\Local\\Temp\\ipykernel_2936\\2613639217.py:46: FutureWarning: The current default of copy=False will change to copy=True in 1.7. Set the value of copy explicitly to avoid this warning\n",
      "  X_epochs = epochs.get_data().astype(np.float32, copy=True)\n",
      "C:\\Users\\ACER\\AppData\\Local\\Temp\\ipykernel_2936\\2613639217.py:46: FutureWarning: The current default of copy=False will change to copy=True in 1.7. Set the value of copy explicitly to avoid this warning\n",
      "  X_epochs = epochs.get_data().astype(np.float32, copy=True)\n",
      "C:\\Users\\ACER\\AppData\\Local\\Temp\\ipykernel_2936\\2613639217.py:46: FutureWarning: The current default of copy=False will change to copy=True in 1.7. Set the value of copy explicitly to avoid this warning\n",
      "  X_epochs = epochs.get_data().astype(np.float32, copy=True)\n"
     ]
    },
    {
     "name": "stdout",
     "output_type": "stream",
     "text": [
      "Not setting metadata\n",
      "596 matching events found\n",
      "No baseline correction applied\n",
      "0 projection items activated\n",
      "Using data from preloaded Raw for 596 events and 640 original time points ...\n",
      "0 bad epochs dropped\n",
      "Not setting metadata\n",
      "191 matching events found\n",
      "No baseline correction applied\n",
      "0 projection items activated\n",
      "Using data from preloaded Raw for 191 events and 640 original time points ...\n",
      "0 bad epochs dropped\n"
     ]
    },
    {
     "name": "stderr",
     "output_type": "stream",
     "text": [
      "C:\\Users\\ACER\\AppData\\Local\\Temp\\ipykernel_2936\\2613639217.py:46: FutureWarning: The current default of copy=False will change to copy=True in 1.7. Set the value of copy explicitly to avoid this warning\n",
      "  X_epochs = epochs.get_data().astype(np.float32, copy=True)\n"
     ]
    },
    {
     "name": "stdout",
     "output_type": "stream",
     "text": [
      "Not setting metadata\n",
      "91 matching events found\n",
      "No baseline correction applied\n",
      "0 projection items activated\n",
      "Using data from preloaded Raw for 91 events and 640 original time points ...\n",
      "0 bad epochs dropped\n",
      "Not setting metadata\n",
      "88 matching events found\n",
      "No baseline correction applied\n",
      "0 projection items activated\n",
      "Using data from preloaded Raw for 88 events and 640 original time points ...\n",
      "0 bad epochs dropped\n"
     ]
    },
    {
     "name": "stderr",
     "output_type": "stream",
     "text": [
      "C:\\Users\\ACER\\AppData\\Local\\Temp\\ipykernel_2936\\2613639217.py:46: FutureWarning: The current default of copy=False will change to copy=True in 1.7. Set the value of copy explicitly to avoid this warning\n",
      "  X_epochs = epochs.get_data().astype(np.float32, copy=True)\n",
      "C:\\Users\\ACER\\AppData\\Local\\Temp\\ipykernel_2936\\2613639217.py:46: FutureWarning: The current default of copy=False will change to copy=True in 1.7. Set the value of copy explicitly to avoid this warning\n",
      "  X_epochs = epochs.get_data().astype(np.float32, copy=True)\n",
      "C:\\Users\\ACER\\AppData\\Local\\Temp\\ipykernel_2936\\2613639217.py:46: FutureWarning: The current default of copy=False will change to copy=True in 1.7. Set the value of copy explicitly to avoid this warning\n",
      "  X_epochs = epochs.get_data().astype(np.float32, copy=True)\n"
     ]
    },
    {
     "name": "stdout",
     "output_type": "stream",
     "text": [
      "Not setting metadata\n",
      "434 matching events found\n",
      "No baseline correction applied\n",
      "0 projection items activated\n",
      "Using data from preloaded Raw for 434 events and 640 original time points ...\n",
      "0 bad epochs dropped\n"
     ]
    },
    {
     "name": "stderr",
     "output_type": "stream",
     "text": [
      "C:\\Users\\ACER\\AppData\\Local\\Temp\\ipykernel_2936\\2613639217.py:46: FutureWarning: The current default of copy=False will change to copy=True in 1.7. Set the value of copy explicitly to avoid this warning\n",
      "  X_epochs = epochs.get_data().astype(np.float32, copy=True)\n"
     ]
    },
    {
     "name": "stdout",
     "output_type": "stream",
     "text": [
      "Not setting metadata\n",
      "490 matching events found\n",
      "No baseline correction applied\n",
      "0 projection items activated\n",
      "Using data from preloaded Raw for 490 events and 640 original time points ...\n",
      "0 bad epochs dropped\n",
      "Not setting metadata\n",
      "14 matching events found\n",
      "No baseline correction applied\n",
      "0 projection items activated\n",
      "Using data from preloaded Raw for 14 events and 640 original time points ...\n",
      "0 bad epochs dropped\n"
     ]
    },
    {
     "name": "stderr",
     "output_type": "stream",
     "text": [
      "C:\\Users\\ACER\\AppData\\Local\\Temp\\ipykernel_2936\\2613639217.py:46: FutureWarning: The current default of copy=False will change to copy=True in 1.7. Set the value of copy explicitly to avoid this warning\n",
      "  X_epochs = epochs.get_data().astype(np.float32, copy=True)\n",
      "C:\\Users\\ACER\\AppData\\Local\\Temp\\ipykernel_2936\\2613639217.py:46: FutureWarning: The current default of copy=False will change to copy=True in 1.7. Set the value of copy explicitly to avoid this warning\n",
      "  X_epochs = epochs.get_data().astype(np.float32, copy=True)\n"
     ]
    },
    {
     "name": "stdout",
     "output_type": "stream",
     "text": [
      "Not setting metadata\n",
      "697 matching events found\n",
      "No baseline correction applied\n",
      "0 projection items activated\n",
      "Using data from preloaded Raw for 697 events and 640 original time points ...\n",
      "0 bad epochs dropped\n"
     ]
    },
    {
     "name": "stderr",
     "output_type": "stream",
     "text": [
      "C:\\Users\\ACER\\AppData\\Local\\Temp\\ipykernel_2936\\2613639217.py:46: FutureWarning: The current default of copy=False will change to copy=True in 1.7. Set the value of copy explicitly to avoid this warning\n",
      "  X_epochs = epochs.get_data().astype(np.float32, copy=True)\n"
     ]
    },
    {
     "name": "stdout",
     "output_type": "stream",
     "text": [
      "Not setting metadata\n",
      "719 matching events found\n",
      "No baseline correction applied\n",
      "0 projection items activated\n",
      "Using data from preloaded Raw for 719 events and 640 original time points ...\n",
      "0 bad epochs dropped\n"
     ]
    },
    {
     "name": "stderr",
     "output_type": "stream",
     "text": [
      "C:\\Users\\ACER\\AppData\\Local\\Temp\\ipykernel_2936\\2613639217.py:46: FutureWarning: The current default of copy=False will change to copy=True in 1.7. Set the value of copy explicitly to avoid this warning\n",
      "  X_epochs = epochs.get_data().astype(np.float32, copy=True)\n"
     ]
    },
    {
     "name": "stdout",
     "output_type": "stream",
     "text": [
      "Not setting metadata\n",
      "719 matching events found\n",
      "No baseline correction applied\n",
      "0 projection items activated\n",
      "Using data from preloaded Raw for 719 events and 640 original time points ...\n",
      "0 bad epochs dropped\n"
     ]
    },
    {
     "name": "stderr",
     "output_type": "stream",
     "text": [
      "C:\\Users\\ACER\\AppData\\Local\\Temp\\ipykernel_2936\\2613639217.py:46: FutureWarning: The current default of copy=False will change to copy=True in 1.7. Set the value of copy explicitly to avoid this warning\n",
      "  X_epochs = epochs.get_data().astype(np.float32, copy=True)\n"
     ]
    },
    {
     "name": "stdout",
     "output_type": "stream",
     "text": [
      "Not setting metadata\n",
      "719 matching events found\n",
      "No baseline correction applied\n",
      "0 projection items activated\n",
      "Using data from preloaded Raw for 719 events and 640 original time points ...\n",
      "0 bad epochs dropped\n"
     ]
    },
    {
     "name": "stderr",
     "output_type": "stream",
     "text": [
      "C:\\Users\\ACER\\AppData\\Local\\Temp\\ipykernel_2936\\2613639217.py:46: FutureWarning: The current default of copy=False will change to copy=True in 1.7. Set the value of copy explicitly to avoid this warning\n",
      "  X_epochs = epochs.get_data().astype(np.float32, copy=True)\n"
     ]
    },
    {
     "name": "stdout",
     "output_type": "stream",
     "text": [
      "Not setting metadata\n",
      "719 matching events found\n",
      "No baseline correction applied\n",
      "0 projection items activated\n",
      "Using data from preloaded Raw for 719 events and 640 original time points ...\n",
      "0 bad epochs dropped\n"
     ]
    },
    {
     "name": "stderr",
     "output_type": "stream",
     "text": [
      "C:\\Users\\ACER\\AppData\\Local\\Temp\\ipykernel_2936\\2613639217.py:46: FutureWarning: The current default of copy=False will change to copy=True in 1.7. Set the value of copy explicitly to avoid this warning\n",
      "  X_epochs = epochs.get_data().astype(np.float32, copy=True)\n"
     ]
    },
    {
     "name": "stdout",
     "output_type": "stream",
     "text": [
      "Not setting metadata\n",
      "719 matching events found\n",
      "No baseline correction applied\n",
      "0 projection items activated\n",
      "Using data from preloaded Raw for 719 events and 640 original time points ...\n",
      "0 bad epochs dropped\n"
     ]
    },
    {
     "name": "stderr",
     "output_type": "stream",
     "text": [
      "C:\\Users\\ACER\\AppData\\Local\\Temp\\ipykernel_2936\\2613639217.py:46: FutureWarning: The current default of copy=False will change to copy=True in 1.7. Set the value of copy explicitly to avoid this warning\n",
      "  X_epochs = epochs.get_data().astype(np.float32, copy=True)\n"
     ]
    },
    {
     "name": "stdout",
     "output_type": "stream",
     "text": [
      "Not setting metadata\n",
      "719 matching events found\n",
      "No baseline correction applied\n",
      "0 projection items activated\n",
      "Using data from preloaded Raw for 719 events and 640 original time points ...\n",
      "0 bad epochs dropped\n"
     ]
    },
    {
     "name": "stderr",
     "output_type": "stream",
     "text": [
      "C:\\Users\\ACER\\AppData\\Local\\Temp\\ipykernel_2936\\2613639217.py:46: FutureWarning: The current default of copy=False will change to copy=True in 1.7. Set the value of copy explicitly to avoid this warning\n",
      "  X_epochs = epochs.get_data().astype(np.float32, copy=True)\n"
     ]
    },
    {
     "name": "stdout",
     "output_type": "stream",
     "text": [
      "Feature matrix shape: (25062, 21, 24)\n",
      "Labels shape: (25062,)\n"
     ]
    }
   ],
   "source": [
    "import numpy as np\n",
    "import mne\n",
    "import pywt\n",
    "from scipy.signal import welch\n",
    "\n",
    "def preprocess_eeg_data(data_dict, target_sfreq=128, epoch_duration=5.0,\n",
    "                        ictal_overlap=0.985, preictal_overlap=0.5, post_ictal=0.80):\n",
    "    \"\"\"\n",
    "    Preprocesses EEG data by downsampling and creating epochs with overlap.\n",
    "\n",
    "    Parameters:\n",
    "    - data_dict: Dictionary with (subject, state, file_name) as keys and raw EEG data as values.\n",
    "    - target_sfreq: Target sampling frequency for downsampling.\n",
    "    - epoch_duration: Duration of each epoch in seconds.\n",
    "\n",
    "    Returns:\n",
    "    - preprocessed_epochs: List of tuples containing epochs and corresponding labels.\n",
    "    \"\"\"\n",
    "\n",
    "    preprocessed_epochs = []\n",
    "    \n",
    "    for (subject, state, file_name), raw in data_dict.items():\n",
    "        # Downsample the data\n",
    "        raw.resample(target_sfreq)\n",
    "        \n",
    "        # Ensure that data is longer than the epoch duration\n",
    "        if raw.times[-1] < epoch_duration:\n",
    "            print(f\"Warning: Data length is shorter than the epoch duration for {file_name}.\")\n",
    "            continue\n",
    "\n",
    "        # Determine overlap and label based on state\n",
    "        overlap_fraction = {\n",
    "            'ictal': ictal_overlap,\n",
    "            'preictal': preictal_overlap,\n",
    "            'postictal': post_ictal\n",
    "        }.get(state, 0.0)\n",
    "        label = {'ictal': 1, 'preictal': 2, 'postictal': 3}.get(state, 0)\n",
    "\n",
    "        # Calculate overlap in seconds\n",
    "        overlap = epoch_duration * overlap_fraction\n",
    "        \n",
    "        # Create fixed-length epochs\n",
    "        epochs = mne.make_fixed_length_epochs(raw, duration=epoch_duration, preload=True, overlap=overlap)\n",
    "        \n",
    "        # Get data from the epochs (shape: epochs x channels x samples)\n",
    "        X_epochs = epochs.get_data().astype(np.float32, copy=True)\n",
    "        \n",
    "        # Store the epochs and their corresponding labels\n",
    "        preprocessed_epochs.append((X_epochs, label))\n",
    "    \n",
    "    return preprocessed_epochs\n",
    "\n",
    "import numpy as np\n",
    "\n",
    "def fuzzy_entropy(signal, m=2, r=0.2):\n",
    "    \"\"\"\n",
    "    Optimized fuzzy entropy calculation using vectorization.\n",
    "\n",
    "    Parameters:\n",
    "    - signal: 1D NumPy array of the time series signal.\n",
    "    - m: Embedding dimension.\n",
    "    - r: Similarity threshold.\n",
    "\n",
    "    Returns:\n",
    "    - Fuzzy entropy value.\n",
    "    \"\"\"\n",
    "    N = len(signal)\n",
    "    \n",
    "    # Create delayed vectors (embedded vectors of length m and m+1)\n",
    "    def _create_embedding(signal, m):\n",
    "        return np.array([signal[i:N-m+1+i] for i in range(m)]).T\n",
    "\n",
    "    # Embedding dimensions m and m+1\n",
    "    Xm = _create_embedding(signal, m)  # Shape: (N-m+1, m)\n",
    "    Xm1 = _create_embedding(signal, m+1)  # Shape: (N-m, m+1)\n",
    "    \n",
    "    # Compute pairwise Chebyshev distances for Xm and Xm1\n",
    "    def _fuzzy_count(X, r):\n",
    "        dist_matrix = np.max(np.abs(X[:, None] - X), axis=2)\n",
    "        return np.sum(dist_matrix < r, axis=0) - 1  # Subtract 1 to exclude self-matches\n",
    "\n",
    "    count_m = np.sum(_fuzzy_count(Xm, r))\n",
    "    count_m1 = np.sum(_fuzzy_count(Xm1, r))\n",
    "    \n",
    "    # Ensure no division by zero\n",
    "    if count_m == 0 or count_m1 == 0:\n",
    "        return 0\n",
    "\n",
    "    # Fuzzy entropy calculation\n",
    "    return -np.log(count_m1 / count_m)\n",
    "\n",
    "\n",
    "\n",
    "\n",
    "def extract_features(preprocessed_epochs, wavelet='db4', dwt_level=5):\n",
    "    \"\"\"\n",
    "    Extracts features from preprocessed EEG epochs.\n",
    "\n",
    "    Parameters:\n",
    "    - preprocessed_epochs: List of tuples containing epochs and corresponding labels.\n",
    "    - wavelet: Wavelet type to use for DWT.\n",
    "    - dwt_level: Decomposition level for DWT.\n",
    "\n",
    "    Returns:\n",
    "    - X: NumPy array of shape (samples, channels, features) containing the extracted features.\n",
    "    - Y: Corresponding labels for the epochs.\n",
    "    \"\"\"\n",
    "    \n",
    "    X = []  # Will hold all the samples\n",
    "    Y = []  # Will hold the corresponding labels\n",
    "    \n",
    "    for X_epochs, label in preprocessed_epochs:\n",
    "        for epoch in X_epochs:\n",
    "            epoch_channel_features = []  # To hold the features for each channel in the epoch\n",
    "            \n",
    "            # Loop over all channels in the epoch\n",
    "            for channel in epoch:\n",
    "                channel_features = []  # To hold features for the current channel\n",
    "                \n",
    "                # Perform DWT\n",
    "                dwt_coeffs = pywt.wavedec(channel, wavelet, level=dwt_level)\n",
    "                \n",
    "                # Loop over all DWT coefficients (approximation + details)\n",
    "                for coeff in dwt_coeffs:\n",
    "                    # Standard Deviation\n",
    "                    std = np.std(coeff)\n",
    "                    \n",
    "                    # Band Energy (sum of squares of the coefficients)\n",
    "                    energy = np.sum(np.square(coeff))\n",
    "                    \n",
    "                    # Fuzzy Entropy\n",
    "                    fuzzy_en = fuzzy_entropy(coeff, m=2, r=0.2)\n",
    "                    \n",
    "                    # Power Spectral Density (Welch)\n",
    "                    freqs, psd = welch(coeff, nperseg=min(256, len(coeff)))\n",
    "                    mean_psd = np.mean(psd)\n",
    "\n",
    "                    # Collect features for this coefficient and append to the channel's feature list\n",
    "                    channel_features.extend([std, mean_psd, energy, fuzzy_en])\n",
    "                \n",
    "                # After collecting features from all coefficients for this channel, append to epoch's channel list\n",
    "                epoch_channel_features.append(channel_features)\n",
    "\n",
    "            # Append the epoch's channel-wise features to the main feature matrix\n",
    "            X.append(np.array(epoch_channel_features))  # Shape: (channels, features) for this epoch\n",
    "        \n",
    "        # Append the corresponding label for each epoch\n",
    "        Y.extend([label] * len(X_epochs))\n",
    "\n",
    "    # Convert to NumPy arrays\n",
    "    X = np.array(X)  # Final shape: (samples, channels, features)\n",
    "    Y = np.array(Y)\n",
    "\n",
    "    return X, Y\n",
    "\n",
    "\n",
    "# Example usage:\n",
    "# data_dict = ...  # Your dictionary with EEG data (subject, state, file_name) keys\n",
    "preprocessed_epochs = preprocess_eeg_data(data_dict)\n",
    "\n",
    "X, Y = extract_features(preprocessed_epochs)\n",
    "\n",
    "print(\"Feature matrix shape:\", X.shape)\n",
    "print(\"Labels shape:\", Y.shape)\n"
   ]
  },
  {
   "cell_type": "code",
   "execution_count": 24,
   "id": "7be38a79-c5f0-4020-8c2e-7d589c766bcb",
   "metadata": {},
   "outputs": [
    {
     "data": {
      "text/plain": [
       "0\n",
       "0    6693\n",
       "2    6319\n",
       "3    6294\n",
       "1    5756\n",
       "Name: count, dtype: int64"
      ]
     },
     "execution_count": 24,
     "metadata": {},
     "output_type": "execute_result"
    }
   ],
   "source": [
    "pd.DataFrame(Y).value_counts()\n",
    "\n"
   ]
  },
  {
   "cell_type": "code",
   "execution_count": 25,
   "id": "3df5d9f2-e47b-4820-b744-2042391e20d6",
   "metadata": {},
   "outputs": [
    {
     "data": {
      "text/plain": [
       "(25062, 21, 24)"
      ]
     },
     "execution_count": 25,
     "metadata": {},
     "output_type": "execute_result"
    }
   ],
   "source": [
    "X.shape"
   ]
  },
  {
   "cell_type": "code",
   "execution_count": 30,
   "id": "9c0ffd02-b9cf-4d63-aa65-f69c7ce2b90f",
   "metadata": {},
   "outputs": [
    {
     "data": {
      "text/plain": [
       "(25062, 24, 21)"
      ]
     },
     "execution_count": 30,
     "metadata": {},
     "output_type": "execute_result"
    }
   ],
   "source": [
    "X = np.moveaxis(X,1,2)\n",
    "X.shape\n"
   ]
  },
  {
   "cell_type": "code",
   "execution_count": 44,
   "id": "28ed919f-45ad-4d5e-b8e1-a5fc41949920",
   "metadata": {},
   "outputs": [],
   "source": [
    "np.savez(r'D:\\processed data for CHB\\chb24\\raw\\5sraw.npz',X=X, Y=Y)"
   ]
  },
  {
   "cell_type": "markdown",
   "id": "fde1b0fd-0154-46f1-b30e-55bdf62916ac",
   "metadata": {},
   "source": [
    "# Model Run and test"
   ]
  },
  {
   "cell_type": "code",
   "execution_count": 31,
   "id": "c033a4c9-4f9a-4c01-8a9b-a6aada6788a6",
   "metadata": {},
   "outputs": [
    {
     "name": "stdout",
     "output_type": "stream",
     "text": [
      "Data scaling completed.\n"
     ]
    }
   ],
   "source": [
    "from sklearn.preprocessing import StandardScaler\n",
    "# c. Scale the data\n",
    "n_channels = X.shape[2]\n",
    "scalers = [StandardScaler() for _ in range(n_channels)]\n",
    "\n",
    "for ch in range(n_channels):\n",
    "    X[:, :, ch] = scalers[ch].fit_transform(X[:, :, ch])\n",
    "\n",
    "print(\"Data scaling completed.\")"
   ]
  },
  {
   "cell_type": "code",
   "execution_count": 32,
   "id": "14ebc00b-c424-4795-b5d1-aeb64f211a02",
   "metadata": {},
   "outputs": [
    {
     "name": "stdout",
     "output_type": "stream",
     "text": [
      "(25062, 24, 21, 1)\n"
     ]
    }
   ],
   "source": [
    "X = np.expand_dims(X, axis=-1)\n",
    "print(X.shape) "
   ]
  },
  {
   "cell_type": "code",
   "execution_count": 20,
   "id": "c683c482-e88f-4fcb-9332-96003771fd13",
   "metadata": {},
   "outputs": [],
   "source": [
    "# mask = (Y == 0) | (Y == 2)\n",
    "# mask"
   ]
  },
  {
   "cell_type": "code",
   "execution_count": 42,
   "id": "b79794e8-8f65-4efd-9b7e-ed14af02968b",
   "metadata": {
    "scrolled": true
   },
   "outputs": [
    {
     "name": "stdout",
     "output_type": "stream",
     "text": [
      "Class distribution after filtering:\n",
      "0    6693\n",
      "1    6319\n",
      "Name: count, dtype: int64\n",
      "Training samples: 10409\n",
      "Testing samples: 2603\n",
      "Class weights: {0: 0.9720769518117296, 1: 1.0295746785361028}\n"
     ]
    },
    {
     "data": {
      "text/html": [
       "<pre style=\"white-space:pre;overflow-x:auto;line-height:normal;font-family:Menlo,'DejaVu Sans Mono',consolas,'Courier New',monospace\"><span style=\"font-weight: bold\">Model: \"functional_9\"</span>\n",
       "</pre>\n"
      ],
      "text/plain": [
       "\u001b[1mModel: \"functional_9\"\u001b[0m\n"
      ]
     },
     "metadata": {},
     "output_type": "display_data"
    },
    {
     "data": {
      "text/html": [
       "<pre style=\"white-space:pre;overflow-x:auto;line-height:normal;font-family:Menlo,'DejaVu Sans Mono',consolas,'Courier New',monospace\">┏━━━━━━━━━━━━━━━━━━━━━━━━━━━━━━━┳━━━━━━━━━━━━━━━━━━━━━━━━━━━┳━━━━━━━━━━━━━━━━━┳━━━━━━━━━━━━━━━━━━━━━━━━━━━━┓\n",
       "┃<span style=\"font-weight: bold\"> Layer (type)                  </span>┃<span style=\"font-weight: bold\"> Output Shape              </span>┃<span style=\"font-weight: bold\">         Param # </span>┃<span style=\"font-weight: bold\"> Connected to               </span>┃\n",
       "┡━━━━━━━━━━━━━━━━━━━━━━━━━━━━━━━╇━━━━━━━━━━━━━━━━━━━━━━━━━━━╇━━━━━━━━━━━━━━━━━╇━━━━━━━━━━━━━━━━━━━━━━━━━━━━┩\n",
       "│ input_layer_9 (<span style=\"color: #0087ff; text-decoration-color: #0087ff\">InputLayer</span>)    │ (<span style=\"color: #00d7ff; text-decoration-color: #00d7ff\">None</span>, <span style=\"color: #00af00; text-decoration-color: #00af00\">24</span>, <span style=\"color: #00af00; text-decoration-color: #00af00\">21</span>, <span style=\"color: #00af00; text-decoration-color: #00af00\">1</span>)         │               <span style=\"color: #00af00; text-decoration-color: #00af00\">0</span> │ -                          │\n",
       "├───────────────────────────────┼───────────────────────────┼─────────────────┼────────────────────────────┤\n",
       "│ conv2d_18 (<span style=\"color: #0087ff; text-decoration-color: #0087ff\">Conv2D</span>)            │ (<span style=\"color: #00d7ff; text-decoration-color: #00d7ff\">None</span>, <span style=\"color: #00af00; text-decoration-color: #00af00\">22</span>, <span style=\"color: #00af00; text-decoration-color: #00af00\">21</span>, <span style=\"color: #00af00; text-decoration-color: #00af00\">32</span>)        │             <span style=\"color: #00af00; text-decoration-color: #00af00\">128</span> │ input_layer_9[<span style=\"color: #00af00; text-decoration-color: #00af00\">0</span>][<span style=\"color: #00af00; text-decoration-color: #00af00\">0</span>]        │\n",
       "├───────────────────────────────┼───────────────────────────┼─────────────────┼────────────────────────────┤\n",
       "│ max_pooling2d_18              │ (<span style=\"color: #00d7ff; text-decoration-color: #00d7ff\">None</span>, <span style=\"color: #00af00; text-decoration-color: #00af00\">20</span>, <span style=\"color: #00af00; text-decoration-color: #00af00\">21</span>, <span style=\"color: #00af00; text-decoration-color: #00af00\">32</span>)        │               <span style=\"color: #00af00; text-decoration-color: #00af00\">0</span> │ conv2d_18[<span style=\"color: #00af00; text-decoration-color: #00af00\">0</span>][<span style=\"color: #00af00; text-decoration-color: #00af00\">0</span>]            │\n",
       "│ (<span style=\"color: #0087ff; text-decoration-color: #0087ff\">MaxPooling2D</span>)                │                           │                 │                            │\n",
       "├───────────────────────────────┼───────────────────────────┼─────────────────┼────────────────────────────┤\n",
       "│ conv2d_19 (<span style=\"color: #0087ff; text-decoration-color: #0087ff\">Conv2D</span>)            │ (<span style=\"color: #00d7ff; text-decoration-color: #00d7ff\">None</span>, <span style=\"color: #00af00; text-decoration-color: #00af00\">18</span>, <span style=\"color: #00af00; text-decoration-color: #00af00\">21</span>, <span style=\"color: #00af00; text-decoration-color: #00af00\">64</span>)        │           <span style=\"color: #00af00; text-decoration-color: #00af00\">6,208</span> │ max_pooling2d_18[<span style=\"color: #00af00; text-decoration-color: #00af00\">0</span>][<span style=\"color: #00af00; text-decoration-color: #00af00\">0</span>]     │\n",
       "├───────────────────────────────┼───────────────────────────┼─────────────────┼────────────────────────────┤\n",
       "│ max_pooling2d_19              │ (<span style=\"color: #00d7ff; text-decoration-color: #00d7ff\">None</span>, <span style=\"color: #00af00; text-decoration-color: #00af00\">16</span>, <span style=\"color: #00af00; text-decoration-color: #00af00\">21</span>, <span style=\"color: #00af00; text-decoration-color: #00af00\">64</span>)        │               <span style=\"color: #00af00; text-decoration-color: #00af00\">0</span> │ conv2d_19[<span style=\"color: #00af00; text-decoration-color: #00af00\">0</span>][<span style=\"color: #00af00; text-decoration-color: #00af00\">0</span>]            │\n",
       "│ (<span style=\"color: #0087ff; text-decoration-color: #0087ff\">MaxPooling2D</span>)                │                           │                 │                            │\n",
       "├───────────────────────────────┼───────────────────────────┼─────────────────┼────────────────────────────┤\n",
       "│ reshape_9 (<span style=\"color: #0087ff; text-decoration-color: #0087ff\">Reshape</span>)           │ (<span style=\"color: #00d7ff; text-decoration-color: #00d7ff\">None</span>, <span style=\"color: #00af00; text-decoration-color: #00af00\">16</span>, <span style=\"color: #00af00; text-decoration-color: #00af00\">1344</span>)          │               <span style=\"color: #00af00; text-decoration-color: #00af00\">0</span> │ max_pooling2d_19[<span style=\"color: #00af00; text-decoration-color: #00af00\">0</span>][<span style=\"color: #00af00; text-decoration-color: #00af00\">0</span>]     │\n",
       "├───────────────────────────────┼───────────────────────────┼─────────────────┼────────────────────────────┤\n",
       "│ gru_9 (<span style=\"color: #0087ff; text-decoration-color: #0087ff\">GRU</span>)                   │ (<span style=\"color: #00d7ff; text-decoration-color: #00d7ff\">None</span>, <span style=\"color: #00af00; text-decoration-color: #00af00\">16</span>, <span style=\"color: #00af00; text-decoration-color: #00af00\">10</span>)            │          <span style=\"color: #00af00; text-decoration-color: #00af00\">40,680</span> │ reshape_9[<span style=\"color: #00af00; text-decoration-color: #00af00\">0</span>][<span style=\"color: #00af00; text-decoration-color: #00af00\">0</span>]            │\n",
       "├───────────────────────────────┼───────────────────────────┼─────────────────┼────────────────────────────┤\n",
       "│ attention_9 (<span style=\"color: #0087ff; text-decoration-color: #0087ff\">Attention</span>)       │ (<span style=\"color: #00d7ff; text-decoration-color: #00d7ff\">None</span>, <span style=\"color: #00af00; text-decoration-color: #00af00\">16</span>, <span style=\"color: #00af00; text-decoration-color: #00af00\">10</span>)            │               <span style=\"color: #00af00; text-decoration-color: #00af00\">0</span> │ gru_9[<span style=\"color: #00af00; text-decoration-color: #00af00\">0</span>][<span style=\"color: #00af00; text-decoration-color: #00af00\">0</span>], gru_9[<span style=\"color: #00af00; text-decoration-color: #00af00\">0</span>][<span style=\"color: #00af00; text-decoration-color: #00af00\">0</span>]   │\n",
       "├───────────────────────────────┼───────────────────────────┼─────────────────┼────────────────────────────┤\n",
       "│ multiply_9 (<span style=\"color: #0087ff; text-decoration-color: #0087ff\">Multiply</span>)         │ (<span style=\"color: #00d7ff; text-decoration-color: #00d7ff\">None</span>, <span style=\"color: #00af00; text-decoration-color: #00af00\">16</span>, <span style=\"color: #00af00; text-decoration-color: #00af00\">10</span>)            │               <span style=\"color: #00af00; text-decoration-color: #00af00\">0</span> │ gru_9[<span style=\"color: #00af00; text-decoration-color: #00af00\">0</span>][<span style=\"color: #00af00; text-decoration-color: #00af00\">0</span>],               │\n",
       "│                               │                           │                 │ attention_9[<span style=\"color: #00af00; text-decoration-color: #00af00\">0</span>][<span style=\"color: #00af00; text-decoration-color: #00af00\">0</span>]          │\n",
       "├───────────────────────────────┼───────────────────────────┼─────────────────┼────────────────────────────┤\n",
       "│ add_9 (<span style=\"color: #0087ff; text-decoration-color: #0087ff\">Add</span>)                   │ (<span style=\"color: #00d7ff; text-decoration-color: #00d7ff\">None</span>, <span style=\"color: #00af00; text-decoration-color: #00af00\">16</span>, <span style=\"color: #00af00; text-decoration-color: #00af00\">10</span>)            │               <span style=\"color: #00af00; text-decoration-color: #00af00\">0</span> │ multiply_9[<span style=\"color: #00af00; text-decoration-color: #00af00\">0</span>][<span style=\"color: #00af00; text-decoration-color: #00af00\">0</span>],          │\n",
       "│                               │                           │                 │ gru_9[<span style=\"color: #00af00; text-decoration-color: #00af00\">0</span>][<span style=\"color: #00af00; text-decoration-color: #00af00\">0</span>]                │\n",
       "├───────────────────────────────┼───────────────────────────┼─────────────────┼────────────────────────────┤\n",
       "│ flatten_9 (<span style=\"color: #0087ff; text-decoration-color: #0087ff\">Flatten</span>)           │ (<span style=\"color: #00d7ff; text-decoration-color: #00d7ff\">None</span>, <span style=\"color: #00af00; text-decoration-color: #00af00\">160</span>)               │               <span style=\"color: #00af00; text-decoration-color: #00af00\">0</span> │ add_9[<span style=\"color: #00af00; text-decoration-color: #00af00\">0</span>][<span style=\"color: #00af00; text-decoration-color: #00af00\">0</span>]                │\n",
       "├───────────────────────────────┼───────────────────────────┼─────────────────┼────────────────────────────┤\n",
       "│ dense_18 (<span style=\"color: #0087ff; text-decoration-color: #0087ff\">Dense</span>)              │ (<span style=\"color: #00d7ff; text-decoration-color: #00d7ff\">None</span>, <span style=\"color: #00af00; text-decoration-color: #00af00\">128</span>)               │          <span style=\"color: #00af00; text-decoration-color: #00af00\">20,608</span> │ flatten_9[<span style=\"color: #00af00; text-decoration-color: #00af00\">0</span>][<span style=\"color: #00af00; text-decoration-color: #00af00\">0</span>]            │\n",
       "├───────────────────────────────┼───────────────────────────┼─────────────────┼────────────────────────────┤\n",
       "│ dense_19 (<span style=\"color: #0087ff; text-decoration-color: #0087ff\">Dense</span>)              │ (<span style=\"color: #00d7ff; text-decoration-color: #00d7ff\">None</span>, <span style=\"color: #00af00; text-decoration-color: #00af00\">1</span>)                 │             <span style=\"color: #00af00; text-decoration-color: #00af00\">129</span> │ dense_18[<span style=\"color: #00af00; text-decoration-color: #00af00\">0</span>][<span style=\"color: #00af00; text-decoration-color: #00af00\">0</span>]             │\n",
       "└───────────────────────────────┴───────────────────────────┴─────────────────┴────────────────────────────┘\n",
       "</pre>\n"
      ],
      "text/plain": [
       "┏━━━━━━━━━━━━━━━━━━━━━━━━━━━━━━━┳━━━━━━━━━━━━━━━━━━━━━━━━━━━┳━━━━━━━━━━━━━━━━━┳━━━━━━━━━━━━━━━━━━━━━━━━━━━━┓\n",
       "┃\u001b[1m \u001b[0m\u001b[1mLayer (type)                 \u001b[0m\u001b[1m \u001b[0m┃\u001b[1m \u001b[0m\u001b[1mOutput Shape             \u001b[0m\u001b[1m \u001b[0m┃\u001b[1m \u001b[0m\u001b[1m        Param #\u001b[0m\u001b[1m \u001b[0m┃\u001b[1m \u001b[0m\u001b[1mConnected to              \u001b[0m\u001b[1m \u001b[0m┃\n",
       "┡━━━━━━━━━━━━━━━━━━━━━━━━━━━━━━━╇━━━━━━━━━━━━━━━━━━━━━━━━━━━╇━━━━━━━━━━━━━━━━━╇━━━━━━━━━━━━━━━━━━━━━━━━━━━━┩\n",
       "│ input_layer_9 (\u001b[38;5;33mInputLayer\u001b[0m)    │ (\u001b[38;5;45mNone\u001b[0m, \u001b[38;5;34m24\u001b[0m, \u001b[38;5;34m21\u001b[0m, \u001b[38;5;34m1\u001b[0m)         │               \u001b[38;5;34m0\u001b[0m │ -                          │\n",
       "├───────────────────────────────┼───────────────────────────┼─────────────────┼────────────────────────────┤\n",
       "│ conv2d_18 (\u001b[38;5;33mConv2D\u001b[0m)            │ (\u001b[38;5;45mNone\u001b[0m, \u001b[38;5;34m22\u001b[0m, \u001b[38;5;34m21\u001b[0m, \u001b[38;5;34m32\u001b[0m)        │             \u001b[38;5;34m128\u001b[0m │ input_layer_9[\u001b[38;5;34m0\u001b[0m][\u001b[38;5;34m0\u001b[0m]        │\n",
       "├───────────────────────────────┼───────────────────────────┼─────────────────┼────────────────────────────┤\n",
       "│ max_pooling2d_18              │ (\u001b[38;5;45mNone\u001b[0m, \u001b[38;5;34m20\u001b[0m, \u001b[38;5;34m21\u001b[0m, \u001b[38;5;34m32\u001b[0m)        │               \u001b[38;5;34m0\u001b[0m │ conv2d_18[\u001b[38;5;34m0\u001b[0m][\u001b[38;5;34m0\u001b[0m]            │\n",
       "│ (\u001b[38;5;33mMaxPooling2D\u001b[0m)                │                           │                 │                            │\n",
       "├───────────────────────────────┼───────────────────────────┼─────────────────┼────────────────────────────┤\n",
       "│ conv2d_19 (\u001b[38;5;33mConv2D\u001b[0m)            │ (\u001b[38;5;45mNone\u001b[0m, \u001b[38;5;34m18\u001b[0m, \u001b[38;5;34m21\u001b[0m, \u001b[38;5;34m64\u001b[0m)        │           \u001b[38;5;34m6,208\u001b[0m │ max_pooling2d_18[\u001b[38;5;34m0\u001b[0m][\u001b[38;5;34m0\u001b[0m]     │\n",
       "├───────────────────────────────┼───────────────────────────┼─────────────────┼────────────────────────────┤\n",
       "│ max_pooling2d_19              │ (\u001b[38;5;45mNone\u001b[0m, \u001b[38;5;34m16\u001b[0m, \u001b[38;5;34m21\u001b[0m, \u001b[38;5;34m64\u001b[0m)        │               \u001b[38;5;34m0\u001b[0m │ conv2d_19[\u001b[38;5;34m0\u001b[0m][\u001b[38;5;34m0\u001b[0m]            │\n",
       "│ (\u001b[38;5;33mMaxPooling2D\u001b[0m)                │                           │                 │                            │\n",
       "├───────────────────────────────┼───────────────────────────┼─────────────────┼────────────────────────────┤\n",
       "│ reshape_9 (\u001b[38;5;33mReshape\u001b[0m)           │ (\u001b[38;5;45mNone\u001b[0m, \u001b[38;5;34m16\u001b[0m, \u001b[38;5;34m1344\u001b[0m)          │               \u001b[38;5;34m0\u001b[0m │ max_pooling2d_19[\u001b[38;5;34m0\u001b[0m][\u001b[38;5;34m0\u001b[0m]     │\n",
       "├───────────────────────────────┼───────────────────────────┼─────────────────┼────────────────────────────┤\n",
       "│ gru_9 (\u001b[38;5;33mGRU\u001b[0m)                   │ (\u001b[38;5;45mNone\u001b[0m, \u001b[38;5;34m16\u001b[0m, \u001b[38;5;34m10\u001b[0m)            │          \u001b[38;5;34m40,680\u001b[0m │ reshape_9[\u001b[38;5;34m0\u001b[0m][\u001b[38;5;34m0\u001b[0m]            │\n",
       "├───────────────────────────────┼───────────────────────────┼─────────────────┼────────────────────────────┤\n",
       "│ attention_9 (\u001b[38;5;33mAttention\u001b[0m)       │ (\u001b[38;5;45mNone\u001b[0m, \u001b[38;5;34m16\u001b[0m, \u001b[38;5;34m10\u001b[0m)            │               \u001b[38;5;34m0\u001b[0m │ gru_9[\u001b[38;5;34m0\u001b[0m][\u001b[38;5;34m0\u001b[0m], gru_9[\u001b[38;5;34m0\u001b[0m][\u001b[38;5;34m0\u001b[0m]   │\n",
       "├───────────────────────────────┼───────────────────────────┼─────────────────┼────────────────────────────┤\n",
       "│ multiply_9 (\u001b[38;5;33mMultiply\u001b[0m)         │ (\u001b[38;5;45mNone\u001b[0m, \u001b[38;5;34m16\u001b[0m, \u001b[38;5;34m10\u001b[0m)            │               \u001b[38;5;34m0\u001b[0m │ gru_9[\u001b[38;5;34m0\u001b[0m][\u001b[38;5;34m0\u001b[0m],               │\n",
       "│                               │                           │                 │ attention_9[\u001b[38;5;34m0\u001b[0m][\u001b[38;5;34m0\u001b[0m]          │\n",
       "├───────────────────────────────┼───────────────────────────┼─────────────────┼────────────────────────────┤\n",
       "│ add_9 (\u001b[38;5;33mAdd\u001b[0m)                   │ (\u001b[38;5;45mNone\u001b[0m, \u001b[38;5;34m16\u001b[0m, \u001b[38;5;34m10\u001b[0m)            │               \u001b[38;5;34m0\u001b[0m │ multiply_9[\u001b[38;5;34m0\u001b[0m][\u001b[38;5;34m0\u001b[0m],          │\n",
       "│                               │                           │                 │ gru_9[\u001b[38;5;34m0\u001b[0m][\u001b[38;5;34m0\u001b[0m]                │\n",
       "├───────────────────────────────┼───────────────────────────┼─────────────────┼────────────────────────────┤\n",
       "│ flatten_9 (\u001b[38;5;33mFlatten\u001b[0m)           │ (\u001b[38;5;45mNone\u001b[0m, \u001b[38;5;34m160\u001b[0m)               │               \u001b[38;5;34m0\u001b[0m │ add_9[\u001b[38;5;34m0\u001b[0m][\u001b[38;5;34m0\u001b[0m]                │\n",
       "├───────────────────────────────┼───────────────────────────┼─────────────────┼────────────────────────────┤\n",
       "│ dense_18 (\u001b[38;5;33mDense\u001b[0m)              │ (\u001b[38;5;45mNone\u001b[0m, \u001b[38;5;34m128\u001b[0m)               │          \u001b[38;5;34m20,608\u001b[0m │ flatten_9[\u001b[38;5;34m0\u001b[0m][\u001b[38;5;34m0\u001b[0m]            │\n",
       "├───────────────────────────────┼───────────────────────────┼─────────────────┼────────────────────────────┤\n",
       "│ dense_19 (\u001b[38;5;33mDense\u001b[0m)              │ (\u001b[38;5;45mNone\u001b[0m, \u001b[38;5;34m1\u001b[0m)                 │             \u001b[38;5;34m129\u001b[0m │ dense_18[\u001b[38;5;34m0\u001b[0m][\u001b[38;5;34m0\u001b[0m]             │\n",
       "└───────────────────────────────┴───────────────────────────┴─────────────────┴────────────────────────────┘\n"
      ]
     },
     "metadata": {},
     "output_type": "display_data"
    },
    {
     "data": {
      "text/html": [
       "<pre style=\"white-space:pre;overflow-x:auto;line-height:normal;font-family:Menlo,'DejaVu Sans Mono',consolas,'Courier New',monospace\"><span style=\"font-weight: bold\"> Total params: </span><span style=\"color: #00af00; text-decoration-color: #00af00\">67,753</span> (264.66 KB)\n",
       "</pre>\n"
      ],
      "text/plain": [
       "\u001b[1m Total params: \u001b[0m\u001b[38;5;34m67,753\u001b[0m (264.66 KB)\n"
      ]
     },
     "metadata": {},
     "output_type": "display_data"
    },
    {
     "data": {
      "text/html": [
       "<pre style=\"white-space:pre;overflow-x:auto;line-height:normal;font-family:Menlo,'DejaVu Sans Mono',consolas,'Courier New',monospace\"><span style=\"font-weight: bold\"> Trainable params: </span><span style=\"color: #00af00; text-decoration-color: #00af00\">67,753</span> (264.66 KB)\n",
       "</pre>\n"
      ],
      "text/plain": [
       "\u001b[1m Trainable params: \u001b[0m\u001b[38;5;34m67,753\u001b[0m (264.66 KB)\n"
      ]
     },
     "metadata": {},
     "output_type": "display_data"
    },
    {
     "data": {
      "text/html": [
       "<pre style=\"white-space:pre;overflow-x:auto;line-height:normal;font-family:Menlo,'DejaVu Sans Mono',consolas,'Courier New',monospace\"><span style=\"font-weight: bold\"> Non-trainable params: </span><span style=\"color: #00af00; text-decoration-color: #00af00\">0</span> (0.00 B)\n",
       "</pre>\n"
      ],
      "text/plain": [
       "\u001b[1m Non-trainable params: \u001b[0m\u001b[38;5;34m0\u001b[0m (0.00 B)\n"
      ]
     },
     "metadata": {},
     "output_type": "display_data"
    },
    {
     "name": "stdout",
     "output_type": "stream",
     "text": [
      "Epoch 1/100\n",
      "\u001b[1m41/41\u001b[0m \u001b[32m━━━━━━━━━━━━━━━━━━━━\u001b[0m\u001b[37m\u001b[0m \u001b[1m6s\u001b[0m 85ms/step - accuracy: 0.5603 - auc: 0.5823 - loss: 0.7095 - val_accuracy: 0.6270 - val_auc: 0.7210 - val_loss: 0.6846\n",
      "Epoch 2/100\n",
      "\u001b[1m41/41\u001b[0m \u001b[32m━━━━━━━━━━━━━━━━━━━━\u001b[0m\u001b[37m\u001b[0m \u001b[1m3s\u001b[0m 77ms/step - accuracy: 0.6298 - auc: 0.7203 - loss: 0.6746 - val_accuracy: 0.6808 - val_auc: 0.7354 - val_loss: 0.6604\n",
      "Epoch 3/100\n",
      "\u001b[1m41/41\u001b[0m \u001b[32m━━━━━━━━━━━━━━━━━━━━\u001b[0m\u001b[37m\u001b[0m \u001b[1m3s\u001b[0m 77ms/step - accuracy: 0.6743 - auc: 0.7465 - loss: 0.6446 - val_accuracy: 0.6704 - val_auc: 0.7523 - val_loss: 0.6340\n",
      "Epoch 4/100\n",
      "\u001b[1m41/41\u001b[0m \u001b[32m━━━━━━━━━━━━━━━━━━━━\u001b[0m\u001b[37m\u001b[0m \u001b[1m3s\u001b[0m 78ms/step - accuracy: 0.6979 - auc: 0.7749 - loss: 0.6114 - val_accuracy: 0.7092 - val_auc: 0.7833 - val_loss: 0.6047\n",
      "Epoch 5/100\n",
      "\u001b[1m41/41\u001b[0m \u001b[32m━━━━━━━━━━━━━━━━━━━━\u001b[0m\u001b[37m\u001b[0m \u001b[1m3s\u001b[0m 77ms/step - accuracy: 0.7286 - auc: 0.8021 - loss: 0.5851 - val_accuracy: 0.7142 - val_auc: 0.8095 - val_loss: 0.5861\n",
      "Epoch 6/100\n",
      "\u001b[1m41/41\u001b[0m \u001b[32m━━━━━━━━━━━━━━━━━━━━\u001b[0m\u001b[37m\u001b[0m \u001b[1m3s\u001b[0m 78ms/step - accuracy: 0.7461 - auc: 0.8258 - loss: 0.5561 - val_accuracy: 0.7380 - val_auc: 0.8274 - val_loss: 0.5601\n",
      "Epoch 7/100\n",
      "\u001b[1m41/41\u001b[0m \u001b[32m━━━━━━━━━━━━━━━━━━━━\u001b[0m\u001b[37m\u001b[0m \u001b[1m3s\u001b[0m 77ms/step - accuracy: 0.7571 - auc: 0.8400 - loss: 0.5425 - val_accuracy: 0.7683 - val_auc: 0.8497 - val_loss: 0.5353\n",
      "Epoch 8/100\n",
      "\u001b[1m41/41\u001b[0m \u001b[32m━━━━━━━━━━━━━━━━━━━━\u001b[0m\u001b[37m\u001b[0m \u001b[1m3s\u001b[0m 78ms/step - accuracy: 0.7816 - auc: 0.8616 - loss: 0.5136 - val_accuracy: 0.7864 - val_auc: 0.8705 - val_loss: 0.5087\n",
      "Epoch 9/100\n",
      "\u001b[1m41/41\u001b[0m \u001b[32m━━━━━━━━━━━━━━━━━━━━\u001b[0m\u001b[37m\u001b[0m \u001b[1m3s\u001b[0m 78ms/step - accuracy: 0.7929 - auc: 0.8701 - loss: 0.4963 - val_accuracy: 0.7852 - val_auc: 0.8892 - val_loss: 0.4869\n",
      "Epoch 10/100\n",
      "\u001b[1m41/41\u001b[0m \u001b[32m━━━━━━━━━━━━━━━━━━━━\u001b[0m\u001b[37m\u001b[0m \u001b[1m3s\u001b[0m 77ms/step - accuracy: 0.8188 - auc: 0.8957 - loss: 0.4635 - val_accuracy: 0.8379 - val_auc: 0.9050 - val_loss: 0.4544\n",
      "Epoch 11/100\n",
      "\u001b[1m41/41\u001b[0m \u001b[32m━━━━━━━━━━━━━━━━━━━━\u001b[0m\u001b[37m\u001b[0m \u001b[1m3s\u001b[0m 79ms/step - accuracy: 0.8325 - auc: 0.9040 - loss: 0.4465 - val_accuracy: 0.8321 - val_auc: 0.9188 - val_loss: 0.4289\n",
      "Epoch 12/100\n",
      "\u001b[1m41/41\u001b[0m \u001b[32m━━━━━━━━━━━━━━━━━━━━\u001b[0m\u001b[37m\u001b[0m \u001b[1m3s\u001b[0m 77ms/step - accuracy: 0.8604 - auc: 0.9275 - loss: 0.4027 - val_accuracy: 0.8390 - val_auc: 0.9323 - val_loss: 0.4014\n",
      "Epoch 13/100\n",
      "\u001b[1m41/41\u001b[0m \u001b[32m━━━━━━━━━━━━━━━━━━━━\u001b[0m\u001b[37m\u001b[0m \u001b[1m3s\u001b[0m 78ms/step - accuracy: 0.8727 - auc: 0.9378 - loss: 0.3765 - val_accuracy: 0.8844 - val_auc: 0.9416 - val_loss: 0.3723\n",
      "Epoch 14/100\n",
      "\u001b[1m41/41\u001b[0m \u001b[32m━━━━━━━━━━━━━━━━━━━━\u001b[0m\u001b[37m\u001b[0m \u001b[1m3s\u001b[0m 77ms/step - accuracy: 0.8951 - auc: 0.9477 - loss: 0.3480 - val_accuracy: 0.8997 - val_auc: 0.9500 - val_loss: 0.3401\n",
      "Epoch 15/100\n",
      "\u001b[1m41/41\u001b[0m \u001b[32m━━━━━━━━━━━━━━━━━━━━\u001b[0m\u001b[37m\u001b[0m \u001b[1m3s\u001b[0m 79ms/step - accuracy: 0.9057 - auc: 0.9550 - loss: 0.3229 - val_accuracy: 0.8986 - val_auc: 0.9567 - val_loss: 0.3161\n",
      "Epoch 16/100\n",
      "\u001b[1m41/41\u001b[0m \u001b[32m━━━━━━━━━━━━━━━━━━━━\u001b[0m\u001b[37m\u001b[0m \u001b[1m3s\u001b[0m 78ms/step - accuracy: 0.9085 - auc: 0.9595 - loss: 0.3025 - val_accuracy: 0.9113 - val_auc: 0.9635 - val_loss: 0.2925\n",
      "Epoch 17/100\n",
      "\u001b[1m41/41\u001b[0m \u001b[32m━━━━━━━━━━━━━━━━━━━━\u001b[0m\u001b[37m\u001b[0m \u001b[1m3s\u001b[0m 77ms/step - accuracy: 0.9220 - auc: 0.9675 - loss: 0.2747 - val_accuracy: 0.9255 - val_auc: 0.9697 - val_loss: 0.2668\n",
      "Epoch 18/100\n",
      "\u001b[1m41/41\u001b[0m \u001b[32m━━━━━━━━━━━━━━━━━━━━\u001b[0m\u001b[37m\u001b[0m \u001b[1m3s\u001b[0m 79ms/step - accuracy: 0.9361 - auc: 0.9758 - loss: 0.2443 - val_accuracy: 0.9293 - val_auc: 0.9731 - val_loss: 0.2497\n",
      "Epoch 19/100\n",
      "\u001b[1m41/41\u001b[0m \u001b[32m━━━━━━━━━━━━━━━━━━━━\u001b[0m\u001b[37m\u001b[0m \u001b[1m3s\u001b[0m 78ms/step - accuracy: 0.9348 - auc: 0.9765 - loss: 0.2345 - val_accuracy: 0.9355 - val_auc: 0.9771 - val_loss: 0.2356\n",
      "Epoch 20/100\n",
      "\u001b[1m41/41\u001b[0m \u001b[32m━━━━━━━━━━━━━━━━━━━━\u001b[0m\u001b[37m\u001b[0m \u001b[1m3s\u001b[0m 71ms/step - accuracy: 0.9382 - auc: 0.9809 - loss: 0.2162 - val_accuracy: 0.9401 - val_auc: 0.9777 - val_loss: 0.2207\n",
      "Epoch 21/100\n",
      "\u001b[1m41/41\u001b[0m \u001b[32m━━━━━━━━━━━━━━━━━━━━\u001b[0m\u001b[37m\u001b[0m \u001b[1m3s\u001b[0m 70ms/step - accuracy: 0.9433 - auc: 0.9845 - loss: 0.1973 - val_accuracy: 0.9485 - val_auc: 0.9820 - val_loss: 0.2031\n",
      "Epoch 22/100\n",
      "\u001b[1m41/41\u001b[0m \u001b[32m━━━━━━━━━━━━━━━━━━━━\u001b[0m\u001b[37m\u001b[0m \u001b[1m3s\u001b[0m 70ms/step - accuracy: 0.9473 - auc: 0.9874 - loss: 0.1859 - val_accuracy: 0.9481 - val_auc: 0.9835 - val_loss: 0.1957\n",
      "Epoch 23/100\n",
      "\u001b[1m41/41\u001b[0m \u001b[32m━━━━━━━━━━━━━━━━━━━━\u001b[0m\u001b[37m\u001b[0m \u001b[1m3s\u001b[0m 71ms/step - accuracy: 0.9490 - auc: 0.9877 - loss: 0.1783 - val_accuracy: 0.9481 - val_auc: 0.9852 - val_loss: 0.1885\n",
      "Epoch 24/100\n",
      "\u001b[1m41/41\u001b[0m \u001b[32m━━━━━━━━━━━━━━━━━━━━\u001b[0m\u001b[37m\u001b[0m \u001b[1m3s\u001b[0m 70ms/step - accuracy: 0.9530 - auc: 0.9894 - loss: 0.1677 - val_accuracy: 0.9543 - val_auc: 0.9865 - val_loss: 0.1769\n",
      "Epoch 25/100\n",
      "\u001b[1m41/41\u001b[0m \u001b[32m━━━━━━━━━━━━━━━━━━━━\u001b[0m\u001b[37m\u001b[0m \u001b[1m3s\u001b[0m 71ms/step - accuracy: 0.9533 - auc: 0.9891 - loss: 0.1642 - val_accuracy: 0.9520 - val_auc: 0.9861 - val_loss: 0.1723\n",
      "Epoch 26/100\n",
      "\u001b[1m41/41\u001b[0m \u001b[32m━━━━━━━━━━━━━━━━━━━━\u001b[0m\u001b[37m\u001b[0m \u001b[1m3s\u001b[0m 70ms/step - accuracy: 0.9569 - auc: 0.9912 - loss: 0.1527 - val_accuracy: 0.9570 - val_auc: 0.9888 - val_loss: 0.1604\n",
      "Epoch 27/100\n",
      "\u001b[1m41/41\u001b[0m \u001b[32m━━━━━━━━━━━━━━━━━━━━\u001b[0m\u001b[37m\u001b[0m \u001b[1m3s\u001b[0m 70ms/step - accuracy: 0.9615 - auc: 0.9934 - loss: 0.1390 - val_accuracy: 0.9593 - val_auc: 0.9896 - val_loss: 0.1560\n",
      "Epoch 28/100\n",
      "\u001b[1m41/41\u001b[0m \u001b[32m━━━━━━━━━━━━━━━━━━━━\u001b[0m\u001b[37m\u001b[0m \u001b[1m3s\u001b[0m 71ms/step - accuracy: 0.9612 - auc: 0.9930 - loss: 0.1390 - val_accuracy: 0.9551 - val_auc: 0.9882 - val_loss: 0.1582\n",
      "Epoch 29/100\n",
      "\u001b[1m41/41\u001b[0m \u001b[32m━━━━━━━━━━━━━━━━━━━━\u001b[0m\u001b[37m\u001b[0m \u001b[1m3s\u001b[0m 70ms/step - accuracy: 0.9593 - auc: 0.9925 - loss: 0.1415 - val_accuracy: 0.9616 - val_auc: 0.9909 - val_loss: 0.1442\n",
      "Epoch 30/100\n",
      "\u001b[1m41/41\u001b[0m \u001b[32m━━━━━━━━━━━━━━━━━━━━\u001b[0m\u001b[37m\u001b[0m \u001b[1m3s\u001b[0m 71ms/step - accuracy: 0.9634 - auc: 0.9940 - loss: 0.1297 - val_accuracy: 0.9581 - val_auc: 0.9914 - val_loss: 0.1471\n",
      "Epoch 31/100\n",
      "\u001b[1m41/41\u001b[0m \u001b[32m━━━━━━━━━━━━━━━━━━━━\u001b[0m\u001b[37m\u001b[0m \u001b[1m3s\u001b[0m 70ms/step - accuracy: 0.9641 - auc: 0.9947 - loss: 0.1249 - val_accuracy: 0.9600 - val_auc: 0.9918 - val_loss: 0.1387\n",
      "Epoch 32/100\n",
      "\u001b[1m41/41\u001b[0m \u001b[32m━━━━━━━━━━━━━━━━━━━━\u001b[0m\u001b[37m\u001b[0m \u001b[1m3s\u001b[0m 71ms/step - accuracy: 0.9647 - auc: 0.9945 - loss: 0.1242 - val_accuracy: 0.9624 - val_auc: 0.9917 - val_loss: 0.1379\n",
      "Epoch 33/100\n",
      "\u001b[1m41/41\u001b[0m \u001b[32m━━━━━━━━━━━━━━━━━━━━\u001b[0m\u001b[37m\u001b[0m \u001b[1m3s\u001b[0m 71ms/step - accuracy: 0.9675 - auc: 0.9948 - loss: 0.1195 - val_accuracy: 0.9612 - val_auc: 0.9924 - val_loss: 0.1346\n",
      "Epoch 34/100\n",
      "\u001b[1m41/41\u001b[0m \u001b[32m━━━━━━━━━━━━━━━━━━━━\u001b[0m\u001b[37m\u001b[0m \u001b[1m3s\u001b[0m 70ms/step - accuracy: 0.9632 - auc: 0.9945 - loss: 0.1222 - val_accuracy: 0.9643 - val_auc: 0.9929 - val_loss: 0.1285\n",
      "Epoch 35/100\n",
      "\u001b[1m41/41\u001b[0m \u001b[32m━━━━━━━━━━━━━━━━━━━━\u001b[0m\u001b[37m\u001b[0m \u001b[1m3s\u001b[0m 71ms/step - accuracy: 0.9690 - auc: 0.9954 - loss: 0.1134 - val_accuracy: 0.9616 - val_auc: 0.9930 - val_loss: 0.1346\n",
      "Epoch 36/100\n",
      "\u001b[1m41/41\u001b[0m \u001b[32m━━━━━━━━━━━━━━━━━━━━\u001b[0m\u001b[37m\u001b[0m \u001b[1m3s\u001b[0m 72ms/step - accuracy: 0.9678 - auc: 0.9953 - loss: 0.1144 - val_accuracy: 0.9631 - val_auc: 0.9922 - val_loss: 0.1304\n",
      "Epoch 37/100\n",
      "\u001b[1m41/41\u001b[0m \u001b[32m━━━━━━━━━━━━━━━━━━━━\u001b[0m\u001b[37m\u001b[0m \u001b[1m3s\u001b[0m 71ms/step - accuracy: 0.9676 - auc: 0.9956 - loss: 0.1119 - val_accuracy: 0.9650 - val_auc: 0.9935 - val_loss: 0.1221\n",
      "Epoch 38/100\n",
      "\u001b[1m41/41\u001b[0m \u001b[32m━━━━━━━━━━━━━━━━━━━━\u001b[0m\u001b[37m\u001b[0m \u001b[1m3s\u001b[0m 70ms/step - accuracy: 0.9692 - auc: 0.9956 - loss: 0.1091 - val_accuracy: 0.9639 - val_auc: 0.9936 - val_loss: 0.1215\n",
      "Epoch 39/100\n",
      "\u001b[1m41/41\u001b[0m \u001b[32m━━━━━━━━━━━━━━━━━━━━\u001b[0m\u001b[37m\u001b[0m \u001b[1m3s\u001b[0m 71ms/step - accuracy: 0.9696 - auc: 0.9958 - loss: 0.1088 - val_accuracy: 0.9631 - val_auc: 0.9935 - val_loss: 0.1200\n",
      "Epoch 40/100\n",
      "\u001b[1m41/41\u001b[0m \u001b[32m━━━━━━━━━━━━━━━━━━━━\u001b[0m\u001b[37m\u001b[0m \u001b[1m3s\u001b[0m 72ms/step - accuracy: 0.9712 - auc: 0.9960 - loss: 0.1049 - val_accuracy: 0.9658 - val_auc: 0.9941 - val_loss: 0.1167\n",
      "Epoch 41/100\n",
      "\u001b[1m41/41\u001b[0m \u001b[32m━━━━━━━━━━━━━━━━━━━━\u001b[0m\u001b[37m\u001b[0m \u001b[1m3s\u001b[0m 71ms/step - accuracy: 0.9724 - auc: 0.9963 - loss: 0.1040 - val_accuracy: 0.9624 - val_auc: 0.9936 - val_loss: 0.1204\n",
      "Epoch 42/100\n",
      "\u001b[1m41/41\u001b[0m \u001b[32m━━━━━━━━━━━━━━━━━━━━\u001b[0m\u001b[37m\u001b[0m \u001b[1m3s\u001b[0m 70ms/step - accuracy: 0.9738 - auc: 0.9969 - loss: 0.0975 - val_accuracy: 0.9654 - val_auc: 0.9941 - val_loss: 0.1159\n",
      "Epoch 43/100\n",
      "\u001b[1m41/41\u001b[0m \u001b[32m━━━━━━━━━━━━━━━━━━━━\u001b[0m\u001b[37m\u001b[0m \u001b[1m3s\u001b[0m 72ms/step - accuracy: 0.9730 - auc: 0.9968 - loss: 0.0985 - val_accuracy: 0.9666 - val_auc: 0.9944 - val_loss: 0.1115\n",
      "Epoch 44/100\n",
      "\u001b[1m41/41\u001b[0m \u001b[32m━━━━━━━━━━━━━━━━━━━━\u001b[0m\u001b[37m\u001b[0m \u001b[1m3s\u001b[0m 72ms/step - accuracy: 0.9746 - auc: 0.9967 - loss: 0.0952 - val_accuracy: 0.9666 - val_auc: 0.9948 - val_loss: 0.1183\n",
      "Epoch 45/100\n",
      "\u001b[1m41/41\u001b[0m \u001b[32m━━━━━━━━━━━━━━━━━━━━\u001b[0m\u001b[37m\u001b[0m \u001b[1m3s\u001b[0m 72ms/step - accuracy: 0.9731 - auc: 0.9965 - loss: 0.0995 - val_accuracy: 0.9677 - val_auc: 0.9950 - val_loss: 0.1130\n",
      "Epoch 46/100\n",
      "\u001b[1m41/41\u001b[0m \u001b[32m━━━━━━━━━━━━━━━━━━━━\u001b[0m\u001b[37m\u001b[0m \u001b[1m3s\u001b[0m 72ms/step - accuracy: 0.9729 - auc: 0.9971 - loss: 0.0948 - val_accuracy: 0.9685 - val_auc: 0.9946 - val_loss: 0.1087\n",
      "Epoch 47/100\n",
      "\u001b[1m41/41\u001b[0m \u001b[32m━━━━━━━━━━━━━━━━━━━━\u001b[0m\u001b[37m\u001b[0m \u001b[1m3s\u001b[0m 72ms/step - accuracy: 0.9733 - auc: 0.9968 - loss: 0.0966 - val_accuracy: 0.9700 - val_auc: 0.9949 - val_loss: 0.1084\n",
      "Epoch 48/100\n",
      "\u001b[1m41/41\u001b[0m \u001b[32m━━━━━━━━━━━━━━━━━━━━\u001b[0m\u001b[37m\u001b[0m \u001b[1m3s\u001b[0m 72ms/step - accuracy: 0.9730 - auc: 0.9971 - loss: 0.0954 - val_accuracy: 0.9673 - val_auc: 0.9948 - val_loss: 0.1072\n",
      "Epoch 49/100\n",
      "\u001b[1m41/41\u001b[0m \u001b[32m━━━━━━━━━━━━━━━━━━━━\u001b[0m\u001b[37m\u001b[0m \u001b[1m3s\u001b[0m 72ms/step - accuracy: 0.9759 - auc: 0.9971 - loss: 0.0918 - val_accuracy: 0.9704 - val_auc: 0.9952 - val_loss: 0.1060\n",
      "Epoch 50/100\n",
      "\u001b[1m41/41\u001b[0m \u001b[32m━━━━━━━━━━━━━━━━━━━━\u001b[0m\u001b[37m\u001b[0m \u001b[1m3s\u001b[0m 72ms/step - accuracy: 0.9748 - auc: 0.9967 - loss: 0.0942 - val_accuracy: 0.9704 - val_auc: 0.9954 - val_loss: 0.1056\n",
      "Epoch 51/100\n",
      "\u001b[1m41/41\u001b[0m \u001b[32m━━━━━━━━━━━━━━━━━━━━\u001b[0m\u001b[37m\u001b[0m \u001b[1m3s\u001b[0m 71ms/step - accuracy: 0.9745 - auc: 0.9975 - loss: 0.0893 - val_accuracy: 0.9727 - val_auc: 0.9955 - val_loss: 0.1028\n",
      "Epoch 52/100\n",
      "\u001b[1m41/41\u001b[0m \u001b[32m━━━━━━━━━━━━━━━━━━━━\u001b[0m\u001b[37m\u001b[0m \u001b[1m3s\u001b[0m 72ms/step - accuracy: 0.9790 - auc: 0.9979 - loss: 0.0840 - val_accuracy: 0.9712 - val_auc: 0.9956 - val_loss: 0.1024\n",
      "Epoch 53/100\n",
      "\u001b[1m41/41\u001b[0m \u001b[32m━━━━━━━━━━━━━━━━━━━━\u001b[0m\u001b[37m\u001b[0m \u001b[1m3s\u001b[0m 72ms/step - accuracy: 0.9743 - auc: 0.9974 - loss: 0.0889 - val_accuracy: 0.9716 - val_auc: 0.9958 - val_loss: 0.1024\n",
      "Epoch 54/100\n",
      "\u001b[1m41/41\u001b[0m \u001b[32m━━━━━━━━━━━━━━━━━━━━\u001b[0m\u001b[37m\u001b[0m \u001b[1m3s\u001b[0m 72ms/step - accuracy: 0.9772 - auc: 0.9975 - loss: 0.0880 - val_accuracy: 0.9720 - val_auc: 0.9957 - val_loss: 0.0997\n",
      "Epoch 55/100\n",
      "\u001b[1m41/41\u001b[0m \u001b[32m━━━━━━━━━━━━━━━━━━━━\u001b[0m\u001b[37m\u001b[0m \u001b[1m3s\u001b[0m 72ms/step - accuracy: 0.9766 - auc: 0.9973 - loss: 0.0891 - val_accuracy: 0.9743 - val_auc: 0.9957 - val_loss: 0.1000\n",
      "Epoch 56/100\n",
      "\u001b[1m41/41\u001b[0m \u001b[32m━━━━━━━━━━━━━━━━━━━━\u001b[0m\u001b[37m\u001b[0m \u001b[1m3s\u001b[0m 72ms/step - accuracy: 0.9755 - auc: 0.9975 - loss: 0.0890 - val_accuracy: 0.9746 - val_auc: 0.9958 - val_loss: 0.0982\n",
      "Epoch 57/100\n",
      "\u001b[1m41/41\u001b[0m \u001b[32m━━━━━━━━━━━━━━━━━━━━\u001b[0m\u001b[37m\u001b[0m \u001b[1m3s\u001b[0m 72ms/step - accuracy: 0.9768 - auc: 0.9976 - loss: 0.0867 - val_accuracy: 0.9746 - val_auc: 0.9960 - val_loss: 0.0974\n",
      "Epoch 58/100\n",
      "\u001b[1m41/41\u001b[0m \u001b[32m━━━━━━━━━━━━━━━━━━━━\u001b[0m\u001b[37m\u001b[0m \u001b[1m3s\u001b[0m 72ms/step - accuracy: 0.9797 - auc: 0.9979 - loss: 0.0818 - val_accuracy: 0.9754 - val_auc: 0.9960 - val_loss: 0.0972\n",
      "Epoch 59/100\n",
      "\u001b[1m41/41\u001b[0m \u001b[32m━━━━━━━━━━━━━━━━━━━━\u001b[0m\u001b[37m\u001b[0m \u001b[1m3s\u001b[0m 72ms/step - accuracy: 0.9809 - auc: 0.9983 - loss: 0.0781 - val_accuracy: 0.9750 - val_auc: 0.9961 - val_loss: 0.0965\n",
      "Epoch 60/100\n",
      "\u001b[1m41/41\u001b[0m \u001b[32m━━━━━━━━━━━━━━━━━━━━\u001b[0m\u001b[37m\u001b[0m \u001b[1m3s\u001b[0m 73ms/step - accuracy: 0.9798 - auc: 0.9982 - loss: 0.0786 - val_accuracy: 0.9754 - val_auc: 0.9963 - val_loss: 0.0975\n",
      "Epoch 61/100\n",
      "\u001b[1m41/41\u001b[0m \u001b[32m━━━━━━━━━━━━━━━━━━━━\u001b[0m\u001b[37m\u001b[0m \u001b[1m3s\u001b[0m 72ms/step - accuracy: 0.9789 - auc: 0.9979 - loss: 0.0799 - val_accuracy: 0.9731 - val_auc: 0.9962 - val_loss: 0.0953\n",
      "Epoch 62/100\n",
      "\u001b[1m41/41\u001b[0m \u001b[32m━━━━━━━━━━━━━━━━━━━━\u001b[0m\u001b[37m\u001b[0m \u001b[1m3s\u001b[0m 72ms/step - accuracy: 0.9804 - auc: 0.9982 - loss: 0.0781 - val_accuracy: 0.9750 - val_auc: 0.9962 - val_loss: 0.0942\n",
      "Epoch 63/100\n",
      "\u001b[1m41/41\u001b[0m \u001b[32m━━━━━━━━━━━━━━━━━━━━\u001b[0m\u001b[37m\u001b[0m \u001b[1m3s\u001b[0m 73ms/step - accuracy: 0.9825 - auc: 0.9984 - loss: 0.0759 - val_accuracy: 0.9754 - val_auc: 0.9964 - val_loss: 0.0945\n",
      "Epoch 64/100\n",
      "\u001b[1m41/41\u001b[0m \u001b[32m━━━━━━━━━━━━━━━━━━━━\u001b[0m\u001b[37m\u001b[0m \u001b[1m3s\u001b[0m 72ms/step - accuracy: 0.9791 - auc: 0.9981 - loss: 0.0798 - val_accuracy: 0.9735 - val_auc: 0.9964 - val_loss: 0.0930\n",
      "Epoch 65/100\n",
      "\u001b[1m41/41\u001b[0m \u001b[32m━━━━━━━━━━━━━━━━━━━━\u001b[0m\u001b[37m\u001b[0m \u001b[1m3s\u001b[0m 73ms/step - accuracy: 0.9820 - auc: 0.9984 - loss: 0.0759 - val_accuracy: 0.9762 - val_auc: 0.9964 - val_loss: 0.0923\n",
      "Epoch 66/100\n",
      "\u001b[1m41/41\u001b[0m \u001b[32m━━━━━━━━━━━━━━━━━━━━\u001b[0m\u001b[37m\u001b[0m \u001b[1m3s\u001b[0m 72ms/step - accuracy: 0.9796 - auc: 0.9982 - loss: 0.0771 - val_accuracy: 0.9743 - val_auc: 0.9963 - val_loss: 0.0963\n",
      "Epoch 67/100\n",
      "\u001b[1m41/41\u001b[0m \u001b[32m━━━━━━━━━━━━━━━━━━━━\u001b[0m\u001b[37m\u001b[0m \u001b[1m3s\u001b[0m 72ms/step - accuracy: 0.9801 - auc: 0.9982 - loss: 0.0778 - val_accuracy: 0.9766 - val_auc: 0.9963 - val_loss: 0.0920\n",
      "Epoch 68/100\n",
      "\u001b[1m41/41\u001b[0m \u001b[32m━━━━━━━━━━━━━━━━━━━━\u001b[0m\u001b[37m\u001b[0m \u001b[1m3s\u001b[0m 74ms/step - accuracy: 0.9814 - auc: 0.9984 - loss: 0.0759 - val_accuracy: 0.9754 - val_auc: 0.9964 - val_loss: 0.0920\n",
      "Epoch 69/100\n",
      "\u001b[1m41/41\u001b[0m \u001b[32m━━━━━━━━━━━━━━━━━━━━\u001b[0m\u001b[37m\u001b[0m \u001b[1m3s\u001b[0m 72ms/step - accuracy: 0.9821 - auc: 0.9983 - loss: 0.0755 - val_accuracy: 0.9758 - val_auc: 0.9967 - val_loss: 0.0904\n",
      "Epoch 70/100\n",
      "\u001b[1m41/41\u001b[0m \u001b[32m━━━━━━━━━━━━━━━━━━━━\u001b[0m\u001b[37m\u001b[0m \u001b[1m3s\u001b[0m 73ms/step - accuracy: 0.9812 - auc: 0.9983 - loss: 0.0768 - val_accuracy: 0.9785 - val_auc: 0.9966 - val_loss: 0.0894\n",
      "Epoch 71/100\n",
      "\u001b[1m41/41\u001b[0m \u001b[32m━━━━━━━━━━━━━━━━━━━━\u001b[0m\u001b[37m\u001b[0m \u001b[1m3s\u001b[0m 74ms/step - accuracy: 0.9820 - auc: 0.9985 - loss: 0.0731 - val_accuracy: 0.9697 - val_auc: 0.9962 - val_loss: 0.1055\n",
      "Epoch 72/100\n",
      "\u001b[1m41/41\u001b[0m \u001b[32m━━━━━━━━━━━━━━━━━━━━\u001b[0m\u001b[37m\u001b[0m \u001b[1m3s\u001b[0m 72ms/step - accuracy: 0.9792 - auc: 0.9980 - loss: 0.0814 - val_accuracy: 0.9789 - val_auc: 0.9966 - val_loss: 0.0883\n",
      "Epoch 73/100\n",
      "\u001b[1m41/41\u001b[0m \u001b[32m━━━━━━━━━━━━━━━━━━━━\u001b[0m\u001b[37m\u001b[0m \u001b[1m3s\u001b[0m 72ms/step - accuracy: 0.9837 - auc: 0.9986 - loss: 0.0706 - val_accuracy: 0.9773 - val_auc: 0.9966 - val_loss: 0.0886\n",
      "Epoch 74/100\n",
      "\u001b[1m41/41\u001b[0m \u001b[32m━━━━━━━━━━━━━━━━━━━━\u001b[0m\u001b[37m\u001b[0m \u001b[1m3s\u001b[0m 74ms/step - accuracy: 0.9824 - auc: 0.9987 - loss: 0.0700 - val_accuracy: 0.9781 - val_auc: 0.9968 - val_loss: 0.0869\n",
      "Epoch 75/100\n",
      "\u001b[1m41/41\u001b[0m \u001b[32m━━━━━━━━━━━━━━━━━━━━\u001b[0m\u001b[37m\u001b[0m \u001b[1m3s\u001b[0m 72ms/step - accuracy: 0.9842 - auc: 0.9987 - loss: 0.0697 - val_accuracy: 0.9789 - val_auc: 0.9964 - val_loss: 0.0875\n",
      "Epoch 76/100\n",
      "\u001b[1m41/41\u001b[0m \u001b[32m━━━━━━━━━━━━━━━━━━━━\u001b[0m\u001b[37m\u001b[0m \u001b[1m3s\u001b[0m 73ms/step - accuracy: 0.9842 - auc: 0.9987 - loss: 0.0690 - val_accuracy: 0.9731 - val_auc: 0.9961 - val_loss: 0.0984\n",
      "Epoch 77/100\n",
      "\u001b[1m41/41\u001b[0m \u001b[32m━━━━━━━━━━━━━━━━━━━━\u001b[0m\u001b[37m\u001b[0m \u001b[1m3s\u001b[0m 72ms/step - accuracy: 0.9837 - auc: 0.9989 - loss: 0.0677 - val_accuracy: 0.9762 - val_auc: 0.9966 - val_loss: 0.0898\n",
      "Epoch 78/100\n",
      "\u001b[1m41/41\u001b[0m \u001b[32m━━━━━━━━━━━━━━━━━━━━\u001b[0m\u001b[37m\u001b[0m \u001b[1m3s\u001b[0m 74ms/step - accuracy: 0.9829 - auc: 0.9987 - loss: 0.0693 - val_accuracy: 0.9789 - val_auc: 0.9970 - val_loss: 0.0850\n",
      "Epoch 79/100\n",
      "\u001b[1m41/41\u001b[0m \u001b[32m━━━━━━━━━━━━━━━━━━━━\u001b[0m\u001b[37m\u001b[0m \u001b[1m3s\u001b[0m 73ms/step - accuracy: 0.9865 - auc: 0.9990 - loss: 0.0634 - val_accuracy: 0.9762 - val_auc: 0.9968 - val_loss: 0.0884\n",
      "Epoch 80/100\n",
      "\u001b[1m41/41\u001b[0m \u001b[32m━━━━━━━━━━━━━━━━━━━━\u001b[0m\u001b[37m\u001b[0m \u001b[1m3s\u001b[0m 73ms/step - accuracy: 0.9821 - auc: 0.9989 - loss: 0.0688 - val_accuracy: 0.9781 - val_auc: 0.9967 - val_loss: 0.0858\n",
      "Epoch 81/100\n",
      "\u001b[1m41/41\u001b[0m \u001b[32m━━━━━━━━━━━━━━━━━━━━\u001b[0m\u001b[37m\u001b[0m \u001b[1m3s\u001b[0m 74ms/step - accuracy: 0.9849 - auc: 0.9987 - loss: 0.0693 - val_accuracy: 0.9800 - val_auc: 0.9970 - val_loss: 0.0853\n",
      "Epoch 82/100\n",
      "\u001b[1m41/41\u001b[0m \u001b[32m━━━━━━━━━━━━━━━━━━━━\u001b[0m\u001b[37m\u001b[0m \u001b[1m3s\u001b[0m 73ms/step - accuracy: 0.9859 - auc: 0.9990 - loss: 0.0640 - val_accuracy: 0.9800 - val_auc: 0.9971 - val_loss: 0.0853\n",
      "Epoch 83/100\n",
      "\u001b[1m41/41\u001b[0m \u001b[32m━━━━━━━━━━━━━━━━━━━━\u001b[0m\u001b[37m\u001b[0m \u001b[1m3s\u001b[0m 74ms/step - accuracy: 0.9876 - auc: 0.9992 - loss: 0.0598 - val_accuracy: 0.9804 - val_auc: 0.9971 - val_loss: 0.0818\n",
      "Epoch 84/100\n",
      "\u001b[1m41/41\u001b[0m \u001b[32m━━━━━━━━━━━━━━━━━━━━\u001b[0m\u001b[37m\u001b[0m \u001b[1m3s\u001b[0m 73ms/step - accuracy: 0.9879 - auc: 0.9992 - loss: 0.0616 - val_accuracy: 0.9789 - val_auc: 0.9970 - val_loss: 0.0831\n",
      "Epoch 85/100\n",
      "\u001b[1m41/41\u001b[0m \u001b[32m━━━━━━━━━━━━━━━━━━━━\u001b[0m\u001b[37m\u001b[0m \u001b[1m3s\u001b[0m 74ms/step - accuracy: 0.9854 - auc: 0.9990 - loss: 0.0650 - val_accuracy: 0.9804 - val_auc: 0.9973 - val_loss: 0.0803\n",
      "Epoch 86/100\n",
      "\u001b[1m41/41\u001b[0m \u001b[32m━━━━━━━━━━━━━━━━━━━━\u001b[0m\u001b[37m\u001b[0m \u001b[1m3s\u001b[0m 74ms/step - accuracy: 0.9875 - auc: 0.9990 - loss: 0.0633 - val_accuracy: 0.9800 - val_auc: 0.9972 - val_loss: 0.0808\n",
      "Epoch 87/100\n",
      "\u001b[1m41/41\u001b[0m \u001b[32m━━━━━━━━━━━━━━━━━━━━\u001b[0m\u001b[37m\u001b[0m \u001b[1m3s\u001b[0m 73ms/step - accuracy: 0.9868 - auc: 0.9991 - loss: 0.0620 - val_accuracy: 0.9808 - val_auc: 0.9972 - val_loss: 0.0802\n",
      "Epoch 88/100\n",
      "\u001b[1m41/41\u001b[0m \u001b[32m━━━━━━━━━━━━━━━━━━━━\u001b[0m\u001b[37m\u001b[0m \u001b[1m3s\u001b[0m 74ms/step - accuracy: 0.9865 - auc: 0.9991 - loss: 0.0618 - val_accuracy: 0.9789 - val_auc: 0.9973 - val_loss: 0.0797\n",
      "Epoch 89/100\n",
      "\u001b[1m41/41\u001b[0m \u001b[32m━━━━━━━━━━━━━━━━━━━━\u001b[0m\u001b[37m\u001b[0m \u001b[1m3s\u001b[0m 74ms/step - accuracy: 0.9868 - auc: 0.9993 - loss: 0.0599 - val_accuracy: 0.9808 - val_auc: 0.9970 - val_loss: 0.0828\n",
      "Epoch 90/100\n",
      "\u001b[1m41/41\u001b[0m \u001b[32m━━━━━━━━━━━━━━━━━━━━\u001b[0m\u001b[37m\u001b[0m \u001b[1m3s\u001b[0m 73ms/step - accuracy: 0.9889 - auc: 0.9993 - loss: 0.0573 - val_accuracy: 0.9804 - val_auc: 0.9971 - val_loss: 0.0785\n",
      "Epoch 91/100\n",
      "\u001b[1m41/41\u001b[0m \u001b[32m━━━━━━━━━━━━━━━━━━━━\u001b[0m\u001b[37m\u001b[0m \u001b[1m3s\u001b[0m 75ms/step - accuracy: 0.9859 - auc: 0.9992 - loss: 0.0618 - val_accuracy: 0.9796 - val_auc: 0.9975 - val_loss: 0.0798\n",
      "Epoch 92/100\n",
      "\u001b[1m41/41\u001b[0m \u001b[32m━━━━━━━━━━━━━━━━━━━━\u001b[0m\u001b[37m\u001b[0m \u001b[1m3s\u001b[0m 74ms/step - accuracy: 0.9856 - auc: 0.9990 - loss: 0.0639 - val_accuracy: 0.9800 - val_auc: 0.9970 - val_loss: 0.0873\n",
      "Epoch 93/100\n",
      "\u001b[1m41/41\u001b[0m \u001b[32m━━━━━━━━━━━━━━━━━━━━\u001b[0m\u001b[37m\u001b[0m \u001b[1m3s\u001b[0m 74ms/step - accuracy: 0.9851 - auc: 0.9990 - loss: 0.0651 - val_accuracy: 0.9796 - val_auc: 0.9966 - val_loss: 0.0843\n",
      "Epoch 94/100\n",
      "\u001b[1m41/41\u001b[0m \u001b[32m━━━━━━━━━━━━━━━━━━━━\u001b[0m\u001b[37m\u001b[0m \u001b[1m3s\u001b[0m 74ms/step - accuracy: 0.9856 - auc: 0.9991 - loss: 0.0631 - val_accuracy: 0.9816 - val_auc: 0.9970 - val_loss: 0.0784\n",
      "Epoch 95/100\n",
      "\u001b[1m41/41\u001b[0m \u001b[32m━━━━━━━━━━━━━━━━━━━━\u001b[0m\u001b[37m\u001b[0m \u001b[1m3s\u001b[0m 74ms/step - accuracy: 0.9850 - auc: 0.9991 - loss: 0.0619 - val_accuracy: 0.9793 - val_auc: 0.9974 - val_loss: 0.0809\n",
      "Epoch 96/100\n",
      "\u001b[1m41/41\u001b[0m \u001b[32m━━━━━━━━━━━━━━━━━━━━\u001b[0m\u001b[37m\u001b[0m \u001b[1m3s\u001b[0m 75ms/step - accuracy: 0.9863 - auc: 0.9993 - loss: 0.0598 - val_accuracy: 0.9796 - val_auc: 0.9977 - val_loss: 0.0787\n",
      "Epoch 97/100\n",
      "\u001b[1m41/41\u001b[0m \u001b[32m━━━━━━━━━━━━━━━━━━━━\u001b[0m\u001b[37m\u001b[0m \u001b[1m3s\u001b[0m 75ms/step - accuracy: 0.9841 - auc: 0.9991 - loss: 0.0622 - val_accuracy: 0.9819 - val_auc: 0.9974 - val_loss: 0.0767\n",
      "Epoch 98/100\n",
      "\u001b[1m41/41\u001b[0m \u001b[32m━━━━━━━━━━━━━━━━━━━━\u001b[0m\u001b[37m\u001b[0m \u001b[1m3s\u001b[0m 74ms/step - accuracy: 0.9867 - auc: 0.9993 - loss: 0.0587 - val_accuracy: 0.9812 - val_auc: 0.9972 - val_loss: 0.0755\n",
      "Epoch 99/100\n",
      "\u001b[1m41/41\u001b[0m \u001b[32m━━━━━━━━━━━━━━━━━━━━\u001b[0m\u001b[37m\u001b[0m \u001b[1m3s\u001b[0m 76ms/step - accuracy: 0.9894 - auc: 0.9993 - loss: 0.0572 - val_accuracy: 0.9808 - val_auc: 0.9975 - val_loss: 0.0801\n",
      "Epoch 100/100\n",
      "\u001b[1m41/41\u001b[0m \u001b[32m━━━━━━━━━━━━━━━━━━━━\u001b[0m\u001b[37m\u001b[0m \u001b[1m3s\u001b[0m 81ms/step - accuracy: 0.9874 - auc: 0.9992 - loss: 0.0587 - val_accuracy: 0.9793 - val_auc: 0.9971 - val_loss: 0.0831\n",
      "Test Loss: 0.0755\n",
      "Test Accuracy: 0.9812\n",
      "Test AUC: 0.9972\n"
     ]
    }
   ],
   "source": [
    "import os\n",
    "import numpy as np\n",
    "import pandas as pd\n",
    "import mne\n",
    "from sklearn.model_selection import train_test_split\n",
    "from sklearn.preprocessing import StandardScaler\n",
    "from sklearn.utils import class_weight\n",
    "import tensorflow as tf\n",
    "from tensorflow.keras.models import Sequential\n",
    "from tensorflow.keras.layers import Conv2D, MaxPooling2D, GRU, Dense, Flatten, Attention, Input, Multiply, Add,Reshape\n",
    "from tensorflow.keras.callbacks import EarlyStopping\n",
    "import matplotlib.pyplot as plt\n",
    "from sklearn.metrics import classification_report, confusion_matrix\n",
    "import seaborn as sns\n",
    "from tensorflow.keras.models import Model\n",
    "from tensorflow.keras.optimizers import Adam\n",
    "from tensorflow.keras.regularizers import l2\n",
    "from tensorflow.keras.metrics import AUC\n",
    "# Assuming X and Y are already defined and preprocessed up to X.shape = (10770, 2560, 21)\n",
    "\n",
    "# 1. Data Preparation\n",
    "# a. Filter for interictal (0) and preictal (2)\n",
    "mask = (Y == 0) | (Y == 2)\n",
    "X_filtered = X[mask]\n",
    "Y_filtered = Y[mask]\n",
    "Y_filtered = np.where(Y_filtered == 0, 0, 1)  # Relabel\n",
    "\n",
    "print(\"Class distribution after filtering:\")\n",
    "print(pd.Series(Y_filtered).value_counts())\n",
    "\n",
    "# b. Split the data\n",
    "X_train, X_test, Y_train, Y_test = train_test_split(\n",
    "    X_filtered, Y_filtered, test_size=0.2, random_state=42, stratify=Y_filtered\n",
    ")\n",
    "\n",
    "print(f\"Training samples: {X_train.shape[0]}\")\n",
    "print(f\"Testing samples: {X_test.shape[0]}\")\n",
    "\n",
    "# # c. Scale the data\n",
    "# n_channels = X_train.shape[2]\n",
    "# scalers = [StandardScaler() for _ in range(n_channels)]\n",
    "\n",
    "# for ch in range(n_channels):\n",
    "#     X_train[:, :, ch] = scalers[ch].fit_transform(X_train[:, :, ch])\n",
    "#     X_test[:, :, ch] = scalers[ch].transform(X_test[:, :, ch])\n",
    "\n",
    "# print(\"Data scaling completed.\")\n",
    "\n",
    "# 2. Handling Class Imbalance\n",
    "class_weights = class_weight.compute_class_weight(\n",
    "    class_weight='balanced',\n",
    "    classes=np.unique(Y_train),\n",
    "    y=Y_train\n",
    ")\n",
    "class_weights_dict = {0: class_weights[0], 1: class_weights[1]}\n",
    "print(\"Class weights:\", class_weights_dict)\n",
    "\n",
    "# 3. Building the Model\n",
    "input_shape = X_train.shape[1:]  # (2560, 21)\n",
    "num_classes = 1  # Binary classification\n",
    "\n",
    "# model = Sequential([\n",
    "#     Conv1D(filters=32, kernel_size=3, activation='relu', input_shape=input_shape),\n",
    "#     BatchNormalization(),\n",
    "#     MaxPooling1D(pool_size=3),\n",
    "#     # Dropout(0.3),\n",
    "\n",
    "#     Conv1D(filters=64, kernel_size=3, activation='relu'),\n",
    "#     BatchNormalization(),\n",
    "#     MaxPooling1D(pool_size=3),\n",
    "#     # Dropout(0.3),\n",
    "\n",
    "#     # Conv1D(filters=128, kernel_size=10, activation='relu'),\n",
    "\n",
    "\n",
    "#     Flatten(),\n",
    "#     Dense(256, activation='relu'),\n",
    "#     Dense(256, activation='relu'),\n",
    "#     Dropout(0.5),\n",
    "#     Dense(num_classes, activation='sigmoid')\n",
    "# ])\n",
    "\n",
    "# model.compile(\n",
    "#     optimizer='adam',\n",
    "#     loss='binary_crossentropy',\n",
    "#     metrics=['accuracy', tf.keras.metrics.AUC(name='auc')]\n",
    "# )\n",
    "# Input layer\n",
    "# Input layer\n",
    "# Define the input shape (you mentioned X_train has shape (2560, 21))\n",
    "input_shape = X_train.shape[1:]  # (2560, 21)\n",
    "\n",
    "# Define the L2 regularization factor\n",
    "l2_reg = 0.0001\n",
    "\n",
    "# Input layer\n",
    "input_layer = Input(shape=input_shape)\n",
    "\n",
    "# Conv2D and Pooling layers with L2 regularization\n",
    "conv1 = Conv2D(filters=32, kernel_size=(3, 1), strides=(1, 1), activation='relu', \n",
    "               kernel_regularizer=l2(l2_reg))(input_layer)\n",
    "maxpool1 = MaxPooling2D(pool_size=(3, 1), strides=(1, 1))(conv1)\n",
    "\n",
    "conv2 = Conv2D(filters=64, kernel_size=(3, 1), strides=(1, 1), activation='relu',\n",
    "               kernel_regularizer=l2(l2_reg))(maxpool1)\n",
    "maxpool2 = MaxPooling2D(pool_size=(3, 1), strides=(1, 1))(conv2)\n",
    "\n",
    "# Reshape for GRU input\n",
    "reshaped = Reshape((maxpool2.shape[1], -1))(maxpool2)\n",
    "\n",
    "# GRU Layer with L2 regularization\n",
    "gru = GRU(10, return_sequences=True, kernel_regularizer=l2(l2_reg))(reshaped)\n",
    "\n",
    "# Attention Layer\n",
    "attention = Attention()([gru, gru])\n",
    "\n",
    "# Multiply GRU output by attention scores\n",
    "context_vector = Multiply()([gru, attention])\n",
    "\n",
    "# Add context vector and GRU output\n",
    "output = Add()([context_vector, gru])\n",
    "\n",
    "# Fully connected layers with L2 regularization\n",
    "fc = Flatten()(output)\n",
    "fc = Dense(128, activation='relu', kernel_regularizer=l2(l2_reg))(fc)\n",
    "output_layer = Dense(1, activation='sigmoid', kernel_regularizer=l2(l2_reg))(fc)  # Output layer for binary classification\n",
    "\n",
    "# Create model\n",
    "model = Model(inputs=input_layer, outputs=output_layer)\n",
    "\n",
    "# Compile the model\n",
    "model.compile(optimizer=Adam(learning_rate=0.0001), loss='binary_crossentropy', metrics=['accuracy', AUC()])\n",
    "\n",
    "# Print model summary\n",
    "model.summary()\n",
    "# Hyperparameters configuration\n",
    "\n",
    "l2_reg = 0.0001\n",
    "\n",
    "\n",
    "\n",
    "# 4. Training the Model\n",
    "early_stop = EarlyStopping(\n",
    "    monitor='val_loss',\n",
    "    patience=10,\n",
    "    restore_best_weights=True\n",
    ")\n",
    "\n",
    "history = model.fit(\n",
    "    X_train, Y_train,\n",
    "    epochs=100,\n",
    "    batch_size=256,\n",
    "    validation_data=(X_test, Y_test),\n",
    "    class_weight=class_weights_dict,\n",
    "    callbacks=[early_stop],\n",
    "    verbose=1\n",
    ")\n",
    "\n",
    "# 5. Evaluating the Model\n",
    "# Evaluate the model and unpack three values\n",
    "test_loss, test_accuracy, test_auc = model.evaluate(X_test, Y_test, verbose=0)\n",
    "print(f\"Test Loss: {test_loss:.4f}\")\n",
    "print(f\"Test Accuracy: {test_accuracy:.4f}\")\n",
    "print(f\"Test AUC: {test_auc:.4f}\")\n",
    "\n"
   ]
  },
  {
   "cell_type": "code",
   "execution_count": 43,
   "id": "a8f16389-96de-4091-b314-a9856069f264",
   "metadata": {},
   "outputs": [
    {
     "name": "stdout",
     "output_type": "stream",
     "text": [
      "\u001b[1m82/82\u001b[0m \u001b[32m━━━━━━━━━━━━━━━━━━━━\u001b[0m\u001b[37m\u001b[0m \u001b[1m1s\u001b[0m 5ms/step\n",
      "Classification Report:\n",
      "              precision    recall  f1-score   support\n",
      "\n",
      "  Interictal       0.98      0.98      0.98      1339\n",
      "    Preictal       0.98      0.98      0.98      1264\n",
      "\n",
      "    accuracy                           0.98      2603\n",
      "   macro avg       0.98      0.98      0.98      2603\n",
      "weighted avg       0.98      0.98      0.98      2603\n",
      "\n",
      "Confusion Matrix:\n",
      "[[1317   22]\n",
      " [  27 1237]]\n"
     ]
    },
    {
     "data": {
      "image/png": "[encoded data removed]",
      "text/plain": [
       "<Figure size 600x500 with 2 Axes>"
      ]
     },
     "metadata": {},
     "output_type": "display_data"
    },
    {
     "data": {
      "image/png": "[encoded data removed]",
      "text/plain": [
       "<Figure size 1400x500 with 2 Axes>"
      ]
     },
     "metadata": {},
     "output_type": "display_data"
    }
   ],
   "source": [
    "Y_pred_prob = model.predict(X_test).ravel()\n",
    "Y_pred = (Y_pred_prob >= 0.5).astype(int)\n",
    "\n",
    "print(\"Classification Report:\")\n",
    "print(classification_report(Y_test, Y_pred, target_names=['Interictal', 'Preictal']))\n",
    "\n",
    "conf_matrix = confusion_matrix(Y_test, Y_pred)\n",
    "print(\"Confusion Matrix:\")\n",
    "print(conf_matrix)\n",
    "\n",
    "plt.figure(figsize=(6,5))\n",
    "sns.heatmap(conf_matrix, annot=True, fmt='d', cmap='Blues',\n",
    "            xticklabels=['Interictal', 'Preictal'],\n",
    "            yticklabels=['Interictal', 'Preictal'])\n",
    "plt.ylabel('Actual')\n",
    "plt.xlabel('Predicted')\n",
    "plt.title('Confusion Matrix')\n",
    "plt.show()\n",
    "\n",
    "# Plot Training History\n",
    "plt.figure(figsize=(14,5))\n",
    "\n",
    "# Plot loss\n",
    "plt.subplot(1, 2, 1)\n",
    "plt.plot(history.history['loss'], label='Train Loss')\n",
    "plt.plot(history.history['val_loss'], label='Validation Loss')\n",
    "plt.xlabel('Epoch')\n",
    "plt.ylabel('Loss')\n",
    "plt.title('Loss Over Epochs')\n",
    "plt.legend()\n",
    "\n",
    "# Plot accuracy\n",
    "plt.subplot(1, 2, 2)\n",
    "plt.plot(history.history['accuracy'], label='Train Accuracy')\n",
    "plt.plot(history.history['val_accuracy'], label='Validation Accuracy')\n",
    "plt.xlabel('Epoch')\n",
    "plt.ylabel('Accuracy')\n",
    "plt.title('Accuracy Over Epochs')\n",
    "plt.legend()\n",
    "\n",
    "plt.show()\n"
   ]
  },
  {
   "cell_type": "code",
   "execution_count": null,
   "id": "39b5f12c-4908-4bbd-9736-fd69b29e5c17",
   "metadata": {},
   "outputs": [],
   "source": []
  }
 ],
 "metadata": {
  "kernelspec": {
   "display_name": "Python 3 (ipykernel)",
   "language": "python",
   "name": "python3"
  },
  "language_info": {
   "codemirror_mode": {
    "name": "ipython",
    "version": 3
   },
   "file_extension": ".py",
   "mimetype": "text/x-python",
   "name": "python",
   "nbconvert_exporter": "python",
   "pygments_lexer": "ipython3",
   "version": "3.12.2"
  }
 },
 "nbformat": 4,
 "nbformat_minor": 5
}
