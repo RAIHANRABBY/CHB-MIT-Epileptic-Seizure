{
 "cells": [
  {
   "cell_type": "code",
   "execution_count": 1,
   "id": "04f7b1b5-0e25-442c-ab36-10d2110e2de6",
   "metadata": {},
   "outputs": [],
   "source": [
    "# pip install pywavelets"
   ]
  },
  {
   "cell_type": "code",
   "execution_count": 18,
   "id": "41f4fa45-4f09-4127-beb8-7829dfe125c4",
   "metadata": {},
   "outputs": [],
   "source": [
    "import numpy as np \n",
    "import pandas as pd    \n",
    "import matplotlib.pyplot as plt\n",
    "import mne\n",
    "import seaborn as sns\n",
    "import os"
   ]
  },
  {
   "cell_type": "markdown",
   "id": "3a37c1eb-fdb2-405d-9b40-c6b38dd81bec",
   "metadata": {
    "jp-MarkdownHeadingCollapsed": true
   },
   "source": [
    "# Manally controlling the process. "
   ]
  },
  {
   "cell_type": "code",
   "execution_count": 11,
   "id": "298e074f-4a00-4110-80be-26f11de93fe5",
   "metadata": {},
   "outputs": [],
   "source": [
    "import os\n",
    "import mne\n",
    "\n",
    "# Load and Parse Data\n",
    "\n",
    "\n",
    "def load_and_parse_data(P_folder):\n",
    "    all_edf_file_paths = [os.path.join(P_folder, f) for f in os.listdir(P_folder) if f.endswith('.edf')]\n",
    "    summary_file_path = [os.path.join(P_folder, f) for f in os.listdir(P_folder) if f.endswith('.txt')][0]\n",
    "    \n",
    "    with open(summary_file_path, 'r') as file:\n",
    "        summary_content = file.readlines()\n",
    "\n",
    "    seizure_times = parse_seizure_times(summary_content)\n",
    "    return all_edf_file_paths, seizure_times\n",
    "\n",
    "\n",
    "def parse_seizure_times(summary_content):\n",
    "    seizure_times = {}\n",
    "    current_file = None\n",
    "    summary_iterator = iter(summary_content)  # Convert list to iterator\n",
    "\n",
    "    for line in summary_iterator:\n",
    "        if 'File Name' in line:\n",
    "            current_file = line.split(':')[-1].strip()\n",
    "            seizure_times[current_file] = []\n",
    "        elif 'Seizure' in line and 'Start Time' in line:\n",
    "            start_time = int(line.split(':')[-1].strip().split(' ')[0])\n",
    "            end_time_line = next(summary_iterator)\n",
    "            if 'End Time' in end_time_line:\n",
    "                end_time = int(end_time_line.split(':')[-1].strip().split(' ')[0])\n",
    "                seizure_times[current_file].append((start_time, end_time))\n",
    "    \n",
    "    return seizure_times\n",
    "\n",
    "# Annotate EEG Data\n",
    "def annotate_eeg_data(raw, seizure_times, preictal_duration=30*60, postictal_duration=10*60, buffer_duration=30*60):\n",
    "    file_name = os.path.basename(raw.filenames[0])\n",
    "\n",
    "    if file_name in seizure_times:\n",
    "        last_end = 0\n",
    "        for start, end in seizure_times[file_name]:\n",
    "            if start - preictal_duration - buffer_duration > 0 and last_end < start - preictal_duration - buffer_duration:\n",
    "                raw.annotations.append(onset=start - preictal_duration - buffer_duration, duration=buffer_duration, description='buffer_before_preictal')\n",
    "            \n",
    "            preictal_start = max(last_end, start - preictal_duration)\n",
    "            preictal_duration_actual = start - preictal_start\n",
    "            if preictal_duration_actual > 0:  # Ensure positive duration\n",
    "                raw.annotations.append(onset=preictal_start, duration=preictal_duration_actual, description='preictal')\n",
    "            \n",
    "            duration = end - start\n",
    "            raw.annotations.append(onset=start, duration=duration, description='ictal')\n",
    "            \n",
    "            postictal_start = end\n",
    "            postictal_duration_actual = min(postictal_duration, raw.times[-1] - postictal_start)\n",
    "            if postictal_duration_actual > 0:  # Ensure positive duration\n",
    "                raw.annotations.append(onset=postictal_start, duration=postictal_duration_actual, description='postictal')\n",
    "\n",
    "            last_end = postictal_start + postictal_duration_actual + buffer_duration\n",
    "        \n",
    "        if last_end < raw.times[-1]:\n",
    "            interictal_duration = raw.times[-1] - last_end\n",
    "            if interictal_duration > 0:  # Ensure positive duration\n",
    "                raw.annotations.append(onset=last_end, duration=interictal_duration, description='interictal')\n",
    "    else:\n",
    "        raw.annotations.append(onset=0, duration=raw.times[-1], description='interictal')\n",
    "\n",
    "    return raw"
   ]
  },
  {
   "cell_type": "code",
   "execution_count": 12,
   "id": "2537b25c-b7ba-45bd-b79f-6c6c2ddaa732",
   "metadata": {},
   "outputs": [],
   "source": [
    "# Preprocess the EEG Data\n",
    "def preprocess_eeg_data(raw):\n",
    "    # raw = ChannelSelection(raw)\n",
    "    raw.filter(l_freq=0.5, h_freq=100)\n",
    "    raw_notch = raw.copy().notch_filter(freqs=[60], notch_widths=6)\n",
    "    return raw_notch\n",
    "\n",
    "\n",
    "\n",
    "# Function to crop and save annotations\n",
    "def crop_and_save_annotations(raw, subject_folder, file_name):\n",
    "    # Initialize a counter dictionary to keep track of file numbers for each description\n",
    "    description_count = {}\n",
    "\n",
    "    for ann in raw.annotations:\n",
    "        description = ann['description']\n",
    "        onset = ann['onset']\n",
    "        duration = ann['duration']\n",
    "        \n",
    "        # Increment the counter for the description\n",
    "        if description in description_count:\n",
    "            description_count[description] += 1\n",
    "        else:\n",
    "            description_count[description] = 1\n",
    "\n",
    "        # Crop the raw data based on the annotation's onset and duration\n",
    "        cropped_raw = raw.copy().crop(tmin=onset, tmax=onset + duration)\n",
    "        cropped_raw.set_meas_date(None)\n",
    "        \n",
    "        # Create output folder for this annotation type if it doesn't exist\n",
    "        annotation_folder = os.path.join(subject_folder, description)\n",
    "        if not os.path.exists(annotation_folder):\n",
    "            os.makedirs(annotation_folder)\n",
    "        \n",
    "        # Construct a unique filename using the counter\n",
    "        output_file = os.path.join(annotation_folder, f\"{file_name}_{description}_{description_count[description]}_raw.fif\")\n",
    "        \n",
    "        # Save the cropped data\n",
    "        cropped_raw.save(output_file, overwrite=True)\n",
    "        print(f\"Saved {description} segment to {output_file}\")\n",
    "\n",
    "# Process and save the EEG data\n",
    "def process_and_save(edf_file, raw, seizure_times):\n",
    "    raw = preprocess_eeg_data(raw)\n",
    "    raw.set_meas_date(None)\n",
    "    file_name = os.path.basename(edf_file)\n",
    "    subject_name = file_name.split('_')[0]\n",
    "    subject_folder = os.path.join(P_folder, subject_name)\n",
    "\n",
    "    # Check if the file contains seizures\n",
    "    if file_name in seizure_times and len(seizure_times[file_name]) > 0:\n",
    "        crop_and_save_annotations(raw, subject_folder, file_name)\n",
    "    else:\n",
    "        # Move to normal folder\n",
    "        normal_folder = os.path.join(subject_folder, 'interictal')\n",
    "        if not os.path.exists(normal_folder):\n",
    "            os.makedirs(normal_folder)\n",
    "        output_file = os.path.join(normal_folder, file_name.replace('.edf', '_normal_raw.fif'))\n",
    "        raw.save(output_file, overwrite=True)\n",
    "        print(f\"Saved interictal segment to {output_file}\")"
   ]
  },
  {
   "cell_type": "markdown",
   "id": "8d599076-6d04-4f75-a934-c38b828812e1",
   "metadata": {},
   "source": [
    "##### not considered yet: 12-27,28,29"
   ]
  },
  {
   "cell_type": "code",
   "execution_count": 13,
   "id": "c5b0c7af-a3ce-400e-b916-5581c5e7508e",
   "metadata": {},
   "outputs": [
    {
     "data": {
      "text/plain": [
       "{'chb24_01.edf': [(480, 505), (2451, 2476)],\n",
       " 'chb24_03.edf': [(231, 260), (2883, 2908)],\n",
       " 'chb24_04.edf': [(1088, 1120), (1411, 1438), (1745, 1764)],\n",
       " 'chb24_06.edf': [(1229, 1253)],\n",
       " 'chb24_07.edf': [(38, 60)],\n",
       " 'chb24_09.edf': [(1745, 1764)],\n",
       " 'chb24_11.edf': [(3527, 3597)],\n",
       " 'chb24_13.edf': [(3288, 3304)],\n",
       " 'chb24_14.edf': [(1939, 1966)],\n",
       " 'chb24_15.edf': [(3552, 3569)],\n",
       " 'chb24_17.edf': [(3515, 3581)],\n",
       " 'chb24_21.edf': [(2804, 2872)]}"
      ]
     },
     "execution_count": 13,
     "metadata": {},
     "output_type": "execute_result"
    }
   ],
   "source": [
    "# Example usage\n",
    "P_folder = r'E:\\New folder\\chb24'\n",
    "all_edf_file_paths, seizure_times = load_and_parse_data(P_folder)\n",
    "seizure_times"
   ]
  },
  {
   "cell_type": "code",
   "execution_count": 15,
   "id": "fa7c833f-6dfc-45cd-9afd-b625ca01374d",
   "metadata": {},
   "outputs": [
    {
     "name": "stdout",
     "output_type": "stream",
     "text": [
      "Extracting EDF parameters from E:\\New folder\\chb24\\chb24_04.edf...\n",
      "EDF file detected\n",
      "Setting channel info structure...\n",
      "Creating raw.info structure...\n",
      "Reading 0 ... 921599  =      0.000 ...  3599.996 secs...\n"
     ]
    },
    {
     "name": "stderr",
     "output_type": "stream",
     "text": [
      "C:\\Users\\pc\\AppData\\Local\\Temp\\ipykernel_14248\\2824424209.py:2: RuntimeWarning: Channel names are not unique, found duplicates for: {'T8-P8'}. Applying running numbers for duplicates.\n",
      "  raw = mne.io.read_raw_edf(run_process, preload=True)\n"
     ]
    },
    {
     "data": {
      "text/plain": [
       "<mne_qt_browser._pg_figure.MNEQtBrowser at 0x1ce6de5f530>"
      ]
     },
     "execution_count": 15,
     "metadata": {},
     "output_type": "execute_result"
    },
    {
     "name": "stdout",
     "output_type": "stream",
     "text": [
      "Channels marked as bad:\n",
      "none\n"
     ]
    }
   ],
   "source": [
    "run_process = all_edf_file_paths[3]\n",
    "raw = mne.io.read_raw_edf(run_process, preload=True)\n",
    "raw = annotate_eeg_data(raw, seizure_times)\n",
    "raw.plot()"
   ]
  },
  {
   "cell_type": "code",
   "execution_count": 16,
   "id": "f8e8625f-166b-4d6c-9b2c-692a29625e49",
   "metadata": {},
   "outputs": [
    {
     "name": "stdout",
     "output_type": "stream",
     "text": [
      "NOTE: pick_channels() is a legacy function. New code should use inst.pick(...).\n"
     ]
    },
    {
     "data": {
      "text/plain": [
       "<mne_qt_browser._pg_figure.MNEQtBrowser at 0x1ce6dc88200>"
      ]
     },
     "execution_count": 16,
     "metadata": {},
     "output_type": "execute_result"
    },
    {
     "name": "stdout",
     "output_type": "stream",
     "text": [
      "Channels marked as bad:\n",
      "none\n"
     ]
    }
   ],
   "source": [
    "def ChannelSelection(signal):\n",
    "\n",
    "    # List of channels to retain\n",
    "    desired_channels = [\n",
    "        'FP1-F7', 'F7-T7', 'T7-P7', 'P7-O1',\n",
    "        'FP1-F3', 'F3-C3', 'C3-P3', 'P3-O1',\n",
    "        'FP2-F4', 'F4-C4', 'C4-P4', 'P4-O2',\n",
    "        'FP2-F8', 'F8-T8', 'T8-P8-0','T8-P8', 'P8-O2',\n",
    "        'FZ-CZ', 'CZ-PZ', 'T7-FT9',\n",
    "        'FT9-FT10', 'FT10-T8'\n",
    "    ]\n",
    "\n",
    "    # Check existing channels in the signal\n",
    "    available_channels = signal.info['ch_names']\n",
    "\n",
    "    # Filter desired channels based on availability in the signal\n",
    "    selected_channels = [ch for ch in desired_channels if ch in available_channels]\n",
    "\n",
    "    # Pick only the selected channels\n",
    "    signal.pick_channels(selected_channels)\n",
    "\n",
    "    # Rename channel if needed\n",
    "    if 'T8-P8-0' in signal.info['ch_names']:\n",
    "        channel_mapping = {'T8-P8-0': 'T8-P8'}\n",
    "        mne.rename_channels(signal.info, channel_mapping)\n",
    "\n",
    "    return signal\n",
    "raw = ChannelSelection(raw)\n",
    "raw.plot()"
   ]
  },
  {
   "cell_type": "code",
   "execution_count": 17,
   "id": "70522f1b-b4be-42be-9056-abc6e4064246",
   "metadata": {},
   "outputs": [
    {
     "name": "stdout",
     "output_type": "stream",
     "text": [
      "Filtering raw data in 1 contiguous segment\n",
      "Setting up band-pass filter from 0.5 - 1e+02 Hz\n",
      "\n",
      "FIR filter parameters\n",
      "---------------------\n",
      "Designing a one-pass, zero-phase, non-causal bandpass filter:\n",
      "- Windowed time-domain design (firwin) method\n",
      "- Hamming window with 0.0194 passband ripple and 53 dB stopband attenuation\n",
      "- Lower passband edge: 0.50\n",
      "- Lower transition bandwidth: 0.50 Hz (-6 dB cutoff frequency: 0.25 Hz)\n",
      "- Upper passband edge: 100.00 Hz\n",
      "- Upper transition bandwidth: 25.00 Hz (-6 dB cutoff frequency: 112.50 Hz)\n",
      "- Filter length: 1691 samples (6.605 s)\n",
      "\n"
     ]
    },
    {
     "name": "stderr",
     "output_type": "stream",
     "text": [
      "[Parallel(n_jobs=1)]: Done  17 tasks      | elapsed:    0.7s\n"
     ]
    },
    {
     "name": "stdout",
     "output_type": "stream",
     "text": [
      "Filtering raw data in 1 contiguous segment\n",
      "Setting up band-stop filter from 56 - 64 Hz\n",
      "\n",
      "FIR filter parameters\n",
      "---------------------\n",
      "Designing a one-pass, zero-phase, non-causal bandstop filter:\n",
      "- Windowed time-domain design (firwin) method\n",
      "- Hamming window with 0.0194 passband ripple and 53 dB stopband attenuation\n",
      "- Lower passband edge: 56.50\n",
      "- Lower transition bandwidth: 0.50 Hz (-6 dB cutoff frequency: 56.25 Hz)\n",
      "- Upper passband edge: 63.50 Hz\n",
      "- Upper transition bandwidth: 0.50 Hz (-6 dB cutoff frequency: 63.75 Hz)\n",
      "- Filter length: 1691 samples (6.605 s)\n",
      "\n"
     ]
    },
    {
     "name": "stderr",
     "output_type": "stream",
     "text": [
      "[Parallel(n_jobs=1)]: Done  17 tasks      | elapsed:    0.5s\n"
     ]
    },
    {
     "name": "stdout",
     "output_type": "stream",
     "text": [
      "Writing E:\\New folder\\chb24\\chb24\\preictal\\chb24_04.edf_preictal_1_raw.fif\n",
      "Closing E:\\New folder\\chb24\\chb24\\preictal\\chb24_04.edf_preictal_1_raw.fif\n",
      "[done]\n",
      "Saved preictal segment to E:\\New folder\\chb24\\chb24\\preictal\\chb24_04.edf_preictal_1_raw.fif\n",
      "Writing E:\\New folder\\chb24\\chb24\\ictal\\chb24_04.edf_ictal_1_raw.fif\n",
      "Closing E:\\New folder\\chb24\\chb24\\ictal\\chb24_04.edf_ictal_1_raw.fif\n",
      "[done]\n",
      "Saved ictal segment to E:\\New folder\\chb24\\chb24\\ictal\\chb24_04.edf_ictal_1_raw.fif\n",
      "Writing E:\\New folder\\chb24\\chb24\\ictal\\chb24_04.edf_ictal_2_raw.fif\n",
      "Closing E:\\New folder\\chb24\\chb24\\ictal\\chb24_04.edf_ictal_2_raw.fif\n",
      "[done]\n",
      "Saved ictal segment to E:\\New folder\\chb24\\chb24\\ictal\\chb24_04.edf_ictal_2_raw.fif\n",
      "Writing E:\\New folder\\chb24\\chb24\\ictal\\chb24_04.edf_ictal_3_raw.fif\n",
      "Closing E:\\New folder\\chb24\\chb24\\ictal\\chb24_04.edf_ictal_3_raw.fif\n",
      "[done]\n",
      "Saved ictal segment to E:\\New folder\\chb24\\chb24\\ictal\\chb24_04.edf_ictal_3_raw.fif\n",
      "Writing E:\\New folder\\chb24\\chb24\\postictal\\chb24_04.edf_postictal_1_raw.fif\n",
      "Closing E:\\New folder\\chb24\\chb24\\postictal\\chb24_04.edf_postictal_1_raw.fif\n",
      "[done]\n",
      "Saved postictal segment to E:\\New folder\\chb24\\chb24\\postictal\\chb24_04.edf_postictal_1_raw.fif\n"
     ]
    }
   ],
   "source": [
    "process_and_save(run_process, raw, seizure_times)"
   ]
  },
  {
   "cell_type": "markdown",
   "id": "6ca8f96c-cc95-404c-b868-4cb11cfc9dc9",
   "metadata": {
    "jp-MarkdownHeadingCollapsed": true
   },
   "source": [
    "# File in Loop"
   ]
  },
  {
   "cell_type": "code",
   "execution_count": 19,
   "id": "28b7f280-1630-4e9d-a462-d49a724fdd66",
   "metadata": {},
   "outputs": [
    {
     "name": "stdout",
     "output_type": "stream",
     "text": [
      ">>>>>>>>>>>>>>>>>>>>>>>>>>>>>>>>>>>>>>>>>>>>>>>>>>>>>>>>>>>>>>>>>>>>>>>>>>{'chb11_01.edf': [], 'chb11_02.edf': [], 'chb11_03.edf': [], 'chb11_04.edf': [], 'chb11_05.edf': [], 'chb11_06.edf': [], 'chb11_07.edf': [], 'chb11_08.edf': [], 'chb11_09.edf': [], 'chb11_10.edf': [], 'chb11_11.edf': [], 'chb11_12.edf': [], 'chb11_13.edf': [], 'chb11_14.edf': [], 'chb11_15.edf': [], 'chb11_16.edf': [], 'chb11_17.edf': [], 'chb11_18.edf': [], 'chb11_19.edf': [], 'chb11_24.edf': [], 'chb11_25.edf': [], 'chb11_26.edf': [], 'chb11_27.edf': [], 'chb11_53.edf': [], 'chb11_54.edf': [], 'chb11_55.edf': [], 'chb11_56.edf': [], 'chb11_58.edf': [], 'chb11_60.edf': [], 'chb11_61.edf': [], 'chb11_62.edf': [], 'chb11_63.edf': [], 'chb11_82.edf': [(298, 320)], 'chb11_92.edf': [(2695, 2727)], 'chb11_99.edf': [(1454, 2206)]}\n",
      "Processing E:\\New folder\\chb11\\chb11_01.edf...\n",
      "Extracting EDF parameters from E:\\New folder\\chb11\\chb11_01.edf...\n",
      "EDF file detected\n",
      "Setting channel info structure...\n",
      "Creating raw.info structure...\n",
      "Reading 0 ... 921087  =      0.000 ...  3597.996 secs...\n"
     ]
    },
    {
     "name": "stderr",
     "output_type": "stream",
     "text": [
      "C:\\Users\\pc\\AppData\\Local\\Temp\\ipykernel_14248\\298778749.py:152: RuntimeWarning: Channel names are not unique, found duplicates for: {'T8-P8'}. Applying running numbers for duplicates.\n",
      "  raw = mne.io.read_raw_edf(edf_file, preload=True)\n"
     ]
    },
    {
     "name": "stdout",
     "output_type": "stream",
     "text": [
      "NOTE: pick_channels() is a legacy function. New code should use inst.pick(...).\n",
      "Filtering raw data in 1 contiguous segment\n",
      "Setting up band-pass filter from 0.5 - 1e+02 Hz\n",
      "\n",
      "FIR filter parameters\n",
      "---------------------\n",
      "Designing a one-pass, zero-phase, non-causal bandpass filter:\n",
      "- Windowed time-domain design (firwin) method\n",
      "- Hamming window with 0.0194 passband ripple and 53 dB stopband attenuation\n",
      "- Lower passband edge: 0.50\n",
      "- Lower transition bandwidth: 0.50 Hz (-6 dB cutoff frequency: 0.25 Hz)\n",
      "- Upper passband edge: 100.00 Hz\n",
      "- Upper transition bandwidth: 25.00 Hz (-6 dB cutoff frequency: 112.50 Hz)\n",
      "- Filter length: 1691 samples (6.605 s)\n",
      "\n"
     ]
    },
    {
     "name": "stderr",
     "output_type": "stream",
     "text": [
      "[Parallel(n_jobs=1)]: Done  17 tasks      | elapsed:    0.7s\n"
     ]
    },
    {
     "name": "stdout",
     "output_type": "stream",
     "text": [
      "Filtering raw data in 1 contiguous segment\n",
      "Setting up band-stop filter from 56 - 64 Hz\n",
      "\n",
      "FIR filter parameters\n",
      "---------------------\n",
      "Designing a one-pass, zero-phase, non-causal bandstop filter:\n",
      "- Windowed time-domain design (firwin) method\n",
      "- Hamming window with 0.0194 passband ripple and 53 dB stopband attenuation\n",
      "- Lower passband edge: 56.50\n",
      "- Lower transition bandwidth: 0.50 Hz (-6 dB cutoff frequency: 56.25 Hz)\n",
      "- Upper passband edge: 63.50 Hz\n",
      "- Upper transition bandwidth: 0.50 Hz (-6 dB cutoff frequency: 63.75 Hz)\n",
      "- Filter length: 1691 samples (6.605 s)\n",
      "\n"
     ]
    },
    {
     "name": "stderr",
     "output_type": "stream",
     "text": [
      "[Parallel(n_jobs=1)]: Done  17 tasks      | elapsed:    0.7s\n"
     ]
    },
    {
     "name": "stdout",
     "output_type": "stream",
     "text": [
      "Writing E:\\New folder\\chb11\\chb11\\interictal\\chb11_01_normal_raw.fif\n",
      "Closing E:\\New folder\\chb11\\chb11\\interictal\\chb11_01_normal_raw.fif\n",
      "[done]\n",
      "Processing E:\\New folder\\chb11\\chb11_02.edf...\n",
      "Extracting EDF parameters from E:\\New folder\\chb11\\chb11_02.edf...\n",
      "EDF file detected\n",
      "Setting channel info structure...\n",
      "Creating raw.info structure...\n",
      "Reading 0 ... 921599  =      0.000 ...  3599.996 secs...\n"
     ]
    },
    {
     "name": "stderr",
     "output_type": "stream",
     "text": [
      "C:\\Users\\pc\\AppData\\Local\\Temp\\ipykernel_14248\\298778749.py:152: RuntimeWarning: Channel names are not unique, found duplicates for: {'T8-P8', '-'}. Applying running numbers for duplicates.\n",
      "  raw = mne.io.read_raw_edf(edf_file, preload=True)\n"
     ]
    },
    {
     "name": "stdout",
     "output_type": "stream",
     "text": [
      "NOTE: pick_channels() is a legacy function. New code should use inst.pick(...).\n",
      "Filtering raw data in 1 contiguous segment\n",
      "Setting up band-pass filter from 0.5 - 1e+02 Hz\n",
      "\n",
      "FIR filter parameters\n",
      "---------------------\n",
      "Designing a one-pass, zero-phase, non-causal bandpass filter:\n",
      "- Windowed time-domain design (firwin) method\n",
      "- Hamming window with 0.0194 passband ripple and 53 dB stopband attenuation\n",
      "- Lower passband edge: 0.50\n",
      "- Lower transition bandwidth: 0.50 Hz (-6 dB cutoff frequency: 0.25 Hz)\n",
      "- Upper passband edge: 100.00 Hz\n",
      "- Upper transition bandwidth: 25.00 Hz (-6 dB cutoff frequency: 112.50 Hz)\n",
      "- Filter length: 1691 samples (6.605 s)\n",
      "\n"
     ]
    },
    {
     "name": "stderr",
     "output_type": "stream",
     "text": [
      "[Parallel(n_jobs=1)]: Done  17 tasks      | elapsed:    0.9s\n"
     ]
    },
    {
     "name": "stdout",
     "output_type": "stream",
     "text": [
      "Filtering raw data in 1 contiguous segment\n",
      "Setting up band-stop filter from 56 - 64 Hz\n",
      "\n",
      "FIR filter parameters\n",
      "---------------------\n",
      "Designing a one-pass, zero-phase, non-causal bandstop filter:\n",
      "- Windowed time-domain design (firwin) method\n",
      "- Hamming window with 0.0194 passband ripple and 53 dB stopband attenuation\n",
      "- Lower passband edge: 56.50\n",
      "- Lower transition bandwidth: 0.50 Hz (-6 dB cutoff frequency: 56.25 Hz)\n",
      "- Upper passband edge: 63.50 Hz\n",
      "- Upper transition bandwidth: 0.50 Hz (-6 dB cutoff frequency: 63.75 Hz)\n",
      "- Filter length: 1691 samples (6.605 s)\n",
      "\n"
     ]
    },
    {
     "name": "stderr",
     "output_type": "stream",
     "text": [
      "[Parallel(n_jobs=1)]: Done  17 tasks      | elapsed:    0.6s\n"
     ]
    },
    {
     "name": "stdout",
     "output_type": "stream",
     "text": [
      "Writing E:\\New folder\\chb11\\chb11\\interictal\\chb11_02_normal_raw.fif\n",
      "Closing E:\\New folder\\chb11\\chb11\\interictal\\chb11_02_normal_raw.fif\n",
      "[done]\n",
      "Processing E:\\New folder\\chb11\\chb11_03.edf...\n",
      "Extracting EDF parameters from E:\\New folder\\chb11\\chb11_03.edf...\n",
      "EDF file detected\n",
      "Setting channel info structure...\n",
      "Creating raw.info structure...\n",
      "Reading 0 ... 921599  =      0.000 ...  3599.996 secs...\n"
     ]
    },
    {
     "name": "stderr",
     "output_type": "stream",
     "text": [
      "C:\\Users\\pc\\AppData\\Local\\Temp\\ipykernel_14248\\298778749.py:152: RuntimeWarning: Channel names are not unique, found duplicates for: {'T8-P8', '-'}. Applying running numbers for duplicates.\n",
      "  raw = mne.io.read_raw_edf(edf_file, preload=True)\n"
     ]
    },
    {
     "name": "stdout",
     "output_type": "stream",
     "text": [
      "NOTE: pick_channels() is a legacy function. New code should use inst.pick(...).\n",
      "Filtering raw data in 1 contiguous segment\n",
      "Setting up band-pass filter from 0.5 - 1e+02 Hz\n",
      "\n",
      "FIR filter parameters\n",
      "---------------------\n",
      "Designing a one-pass, zero-phase, non-causal bandpass filter:\n",
      "- Windowed time-domain design (firwin) method\n",
      "- Hamming window with 0.0194 passband ripple and 53 dB stopband attenuation\n",
      "- Lower passband edge: 0.50\n",
      "- Lower transition bandwidth: 0.50 Hz (-6 dB cutoff frequency: 0.25 Hz)\n",
      "- Upper passband edge: 100.00 Hz\n",
      "- Upper transition bandwidth: 25.00 Hz (-6 dB cutoff frequency: 112.50 Hz)\n",
      "- Filter length: 1691 samples (6.605 s)\n",
      "\n"
     ]
    },
    {
     "name": "stderr",
     "output_type": "stream",
     "text": [
      "[Parallel(n_jobs=1)]: Done  17 tasks      | elapsed:    0.7s\n"
     ]
    },
    {
     "name": "stdout",
     "output_type": "stream",
     "text": [
      "Filtering raw data in 1 contiguous segment\n",
      "Setting up band-stop filter from 56 - 64 Hz\n",
      "\n",
      "FIR filter parameters\n",
      "---------------------\n",
      "Designing a one-pass, zero-phase, non-causal bandstop filter:\n",
      "- Windowed time-domain design (firwin) method\n",
      "- Hamming window with 0.0194 passband ripple and 53 dB stopband attenuation\n",
      "- Lower passband edge: 56.50\n",
      "- Lower transition bandwidth: 0.50 Hz (-6 dB cutoff frequency: 56.25 Hz)\n",
      "- Upper passband edge: 63.50 Hz\n",
      "- Upper transition bandwidth: 0.50 Hz (-6 dB cutoff frequency: 63.75 Hz)\n",
      "- Filter length: 1691 samples (6.605 s)\n",
      "\n"
     ]
    },
    {
     "name": "stderr",
     "output_type": "stream",
     "text": [
      "[Parallel(n_jobs=1)]: Done  17 tasks      | elapsed:    0.7s\n"
     ]
    },
    {
     "name": "stdout",
     "output_type": "stream",
     "text": [
      "Writing E:\\New folder\\chb11\\chb11\\interictal\\chb11_03_normal_raw.fif\n",
      "Closing E:\\New folder\\chb11\\chb11\\interictal\\chb11_03_normal_raw.fif\n",
      "[done]\n",
      "Processing E:\\New folder\\chb11\\chb11_04.edf...\n",
      "Extracting EDF parameters from E:\\New folder\\chb11\\chb11_04.edf...\n",
      "EDF file detected\n",
      "Setting channel info structure...\n",
      "Creating raw.info structure...\n",
      "Reading 0 ... 921599  =      0.000 ...  3599.996 secs...\n"
     ]
    },
    {
     "name": "stderr",
     "output_type": "stream",
     "text": [
      "C:\\Users\\pc\\AppData\\Local\\Temp\\ipykernel_14248\\298778749.py:152: RuntimeWarning: Channel names are not unique, found duplicates for: {'T8-P8', '-'}. Applying running numbers for duplicates.\n",
      "  raw = mne.io.read_raw_edf(edf_file, preload=True)\n"
     ]
    },
    {
     "name": "stdout",
     "output_type": "stream",
     "text": [
      "NOTE: pick_channels() is a legacy function. New code should use inst.pick(...).\n",
      "Filtering raw data in 1 contiguous segment\n",
      "Setting up band-pass filter from 0.5 - 1e+02 Hz\n",
      "\n",
      "FIR filter parameters\n",
      "---------------------\n",
      "Designing a one-pass, zero-phase, non-causal bandpass filter:\n",
      "- Windowed time-domain design (firwin) method\n",
      "- Hamming window with 0.0194 passband ripple and 53 dB stopband attenuation\n",
      "- Lower passband edge: 0.50\n",
      "- Lower transition bandwidth: 0.50 Hz (-6 dB cutoff frequency: 0.25 Hz)\n",
      "- Upper passband edge: 100.00 Hz\n",
      "- Upper transition bandwidth: 25.00 Hz (-6 dB cutoff frequency: 112.50 Hz)\n",
      "- Filter length: 1691 samples (6.605 s)\n",
      "\n"
     ]
    },
    {
     "name": "stderr",
     "output_type": "stream",
     "text": [
      "[Parallel(n_jobs=1)]: Done  17 tasks      | elapsed:    0.6s\n"
     ]
    },
    {
     "name": "stdout",
     "output_type": "stream",
     "text": [
      "Filtering raw data in 1 contiguous segment\n",
      "Setting up band-stop filter from 56 - 64 Hz\n",
      "\n",
      "FIR filter parameters\n",
      "---------------------\n",
      "Designing a one-pass, zero-phase, non-causal bandstop filter:\n",
      "- Windowed time-domain design (firwin) method\n",
      "- Hamming window with 0.0194 passband ripple and 53 dB stopband attenuation\n",
      "- Lower passband edge: 56.50\n",
      "- Lower transition bandwidth: 0.50 Hz (-6 dB cutoff frequency: 56.25 Hz)\n",
      "- Upper passband edge: 63.50 Hz\n",
      "- Upper transition bandwidth: 0.50 Hz (-6 dB cutoff frequency: 63.75 Hz)\n",
      "- Filter length: 1691 samples (6.605 s)\n",
      "\n"
     ]
    },
    {
     "name": "stderr",
     "output_type": "stream",
     "text": [
      "[Parallel(n_jobs=1)]: Done  17 tasks      | elapsed:    0.6s\n"
     ]
    },
    {
     "name": "stdout",
     "output_type": "stream",
     "text": [
      "Writing E:\\New folder\\chb11\\chb11\\interictal\\chb11_04_normal_raw.fif\n",
      "Closing E:\\New folder\\chb11\\chb11\\interictal\\chb11_04_normal_raw.fif\n",
      "[done]\n",
      "Processing E:\\New folder\\chb11\\chb11_05.edf...\n",
      "Extracting EDF parameters from E:\\New folder\\chb11\\chb11_05.edf...\n",
      "EDF file detected\n",
      "Setting channel info structure...\n",
      "Creating raw.info structure...\n",
      "Reading 0 ... 921599  =      0.000 ...  3599.996 secs...\n"
     ]
    },
    {
     "name": "stderr",
     "output_type": "stream",
     "text": [
      "C:\\Users\\pc\\AppData\\Local\\Temp\\ipykernel_14248\\298778749.py:152: RuntimeWarning: Channel names are not unique, found duplicates for: {'T8-P8', '-'}. Applying running numbers for duplicates.\n",
      "  raw = mne.io.read_raw_edf(edf_file, preload=True)\n"
     ]
    },
    {
     "name": "stdout",
     "output_type": "stream",
     "text": [
      "NOTE: pick_channels() is a legacy function. New code should use inst.pick(...).\n",
      "Filtering raw data in 1 contiguous segment\n",
      "Setting up band-pass filter from 0.5 - 1e+02 Hz\n",
      "\n",
      "FIR filter parameters\n",
      "---------------------\n",
      "Designing a one-pass, zero-phase, non-causal bandpass filter:\n",
      "- Windowed time-domain design (firwin) method\n",
      "- Hamming window with 0.0194 passband ripple and 53 dB stopband attenuation\n",
      "- Lower passband edge: 0.50\n",
      "- Lower transition bandwidth: 0.50 Hz (-6 dB cutoff frequency: 0.25 Hz)\n",
      "- Upper passband edge: 100.00 Hz\n",
      "- Upper transition bandwidth: 25.00 Hz (-6 dB cutoff frequency: 112.50 Hz)\n",
      "- Filter length: 1691 samples (6.605 s)\n",
      "\n"
     ]
    },
    {
     "name": "stderr",
     "output_type": "stream",
     "text": [
      "[Parallel(n_jobs=1)]: Done  17 tasks      | elapsed:    0.7s\n"
     ]
    },
    {
     "name": "stdout",
     "output_type": "stream",
     "text": [
      "Filtering raw data in 1 contiguous segment\n",
      "Setting up band-stop filter from 56 - 64 Hz\n",
      "\n",
      "FIR filter parameters\n",
      "---------------------\n",
      "Designing a one-pass, zero-phase, non-causal bandstop filter:\n",
      "- Windowed time-domain design (firwin) method\n",
      "- Hamming window with 0.0194 passband ripple and 53 dB stopband attenuation\n",
      "- Lower passband edge: 56.50\n",
      "- Lower transition bandwidth: 0.50 Hz (-6 dB cutoff frequency: 56.25 Hz)\n",
      "- Upper passband edge: 63.50 Hz\n",
      "- Upper transition bandwidth: 0.50 Hz (-6 dB cutoff frequency: 63.75 Hz)\n",
      "- Filter length: 1691 samples (6.605 s)\n",
      "\n"
     ]
    },
    {
     "name": "stderr",
     "output_type": "stream",
     "text": [
      "[Parallel(n_jobs=1)]: Done  17 tasks      | elapsed:    0.6s\n"
     ]
    },
    {
     "name": "stdout",
     "output_type": "stream",
     "text": [
      "Writing E:\\New folder\\chb11\\chb11\\interictal\\chb11_05_normal_raw.fif\n",
      "Closing E:\\New folder\\chb11\\chb11\\interictal\\chb11_05_normal_raw.fif\n",
      "[done]\n",
      "Processing E:\\New folder\\chb11\\chb11_06.edf...\n",
      "Extracting EDF parameters from E:\\New folder\\chb11\\chb11_06.edf...\n",
      "EDF file detected\n",
      "Setting channel info structure...\n",
      "Creating raw.info structure...\n",
      "Reading 0 ... 921599  =      0.000 ...  3599.996 secs...\n"
     ]
    },
    {
     "name": "stderr",
     "output_type": "stream",
     "text": [
      "C:\\Users\\pc\\AppData\\Local\\Temp\\ipykernel_14248\\298778749.py:152: RuntimeWarning: Channel names are not unique, found duplicates for: {'T8-P8', '-'}. Applying running numbers for duplicates.\n",
      "  raw = mne.io.read_raw_edf(edf_file, preload=True)\n"
     ]
    },
    {
     "name": "stdout",
     "output_type": "stream",
     "text": [
      "NOTE: pick_channels() is a legacy function. New code should use inst.pick(...).\n",
      "Filtering raw data in 1 contiguous segment\n",
      "Setting up band-pass filter from 0.5 - 1e+02 Hz\n",
      "\n",
      "FIR filter parameters\n",
      "---------------------\n",
      "Designing a one-pass, zero-phase, non-causal bandpass filter:\n",
      "- Windowed time-domain design (firwin) method\n",
      "- Hamming window with 0.0194 passband ripple and 53 dB stopband attenuation\n",
      "- Lower passband edge: 0.50\n",
      "- Lower transition bandwidth: 0.50 Hz (-6 dB cutoff frequency: 0.25 Hz)\n",
      "- Upper passband edge: 100.00 Hz\n",
      "- Upper transition bandwidth: 25.00 Hz (-6 dB cutoff frequency: 112.50 Hz)\n",
      "- Filter length: 1691 samples (6.605 s)\n",
      "\n"
     ]
    },
    {
     "name": "stderr",
     "output_type": "stream",
     "text": [
      "[Parallel(n_jobs=1)]: Done  17 tasks      | elapsed:    0.6s\n"
     ]
    },
    {
     "name": "stdout",
     "output_type": "stream",
     "text": [
      "Filtering raw data in 1 contiguous segment\n",
      "Setting up band-stop filter from 56 - 64 Hz\n",
      "\n",
      "FIR filter parameters\n",
      "---------------------\n",
      "Designing a one-pass, zero-phase, non-causal bandstop filter:\n",
      "- Windowed time-domain design (firwin) method\n",
      "- Hamming window with 0.0194 passband ripple and 53 dB stopband attenuation\n",
      "- Lower passband edge: 56.50\n",
      "- Lower transition bandwidth: 0.50 Hz (-6 dB cutoff frequency: 56.25 Hz)\n",
      "- Upper passband edge: 63.50 Hz\n",
      "- Upper transition bandwidth: 0.50 Hz (-6 dB cutoff frequency: 63.75 Hz)\n",
      "- Filter length: 1691 samples (6.605 s)\n",
      "\n"
     ]
    },
    {
     "name": "stderr",
     "output_type": "stream",
     "text": [
      "[Parallel(n_jobs=1)]: Done  17 tasks      | elapsed:    0.7s\n"
     ]
    },
    {
     "name": "stdout",
     "output_type": "stream",
     "text": [
      "Writing E:\\New folder\\chb11\\chb11\\interictal\\chb11_06_normal_raw.fif\n",
      "Closing E:\\New folder\\chb11\\chb11\\interictal\\chb11_06_normal_raw.fif\n",
      "[done]\n",
      "Processing E:\\New folder\\chb11\\chb11_07.edf...\n",
      "Extracting EDF parameters from E:\\New folder\\chb11\\chb11_07.edf...\n",
      "EDF file detected\n",
      "Setting channel info structure...\n",
      "Creating raw.info structure...\n",
      "Reading 0 ... 921599  =      0.000 ...  3599.996 secs...\n"
     ]
    },
    {
     "name": "stderr",
     "output_type": "stream",
     "text": [
      "C:\\Users\\pc\\AppData\\Local\\Temp\\ipykernel_14248\\298778749.py:152: RuntimeWarning: Channel names are not unique, found duplicates for: {'T8-P8', '-'}. Applying running numbers for duplicates.\n",
      "  raw = mne.io.read_raw_edf(edf_file, preload=True)\n"
     ]
    },
    {
     "name": "stdout",
     "output_type": "stream",
     "text": [
      "NOTE: pick_channels() is a legacy function. New code should use inst.pick(...).\n",
      "Filtering raw data in 1 contiguous segment\n",
      "Setting up band-pass filter from 0.5 - 1e+02 Hz\n",
      "\n",
      "FIR filter parameters\n",
      "---------------------\n",
      "Designing a one-pass, zero-phase, non-causal bandpass filter:\n",
      "- Windowed time-domain design (firwin) method\n",
      "- Hamming window with 0.0194 passband ripple and 53 dB stopband attenuation\n",
      "- Lower passband edge: 0.50\n",
      "- Lower transition bandwidth: 0.50 Hz (-6 dB cutoff frequency: 0.25 Hz)\n",
      "- Upper passband edge: 100.00 Hz\n",
      "- Upper transition bandwidth: 25.00 Hz (-6 dB cutoff frequency: 112.50 Hz)\n",
      "- Filter length: 1691 samples (6.605 s)\n",
      "\n"
     ]
    },
    {
     "name": "stderr",
     "output_type": "stream",
     "text": [
      "[Parallel(n_jobs=1)]: Done  17 tasks      | elapsed:    0.7s\n"
     ]
    },
    {
     "name": "stdout",
     "output_type": "stream",
     "text": [
      "Filtering raw data in 1 contiguous segment\n",
      "Setting up band-stop filter from 56 - 64 Hz\n",
      "\n",
      "FIR filter parameters\n",
      "---------------------\n",
      "Designing a one-pass, zero-phase, non-causal bandstop filter:\n",
      "- Windowed time-domain design (firwin) method\n",
      "- Hamming window with 0.0194 passband ripple and 53 dB stopband attenuation\n",
      "- Lower passband edge: 56.50\n",
      "- Lower transition bandwidth: 0.50 Hz (-6 dB cutoff frequency: 56.25 Hz)\n",
      "- Upper passband edge: 63.50 Hz\n",
      "- Upper transition bandwidth: 0.50 Hz (-6 dB cutoff frequency: 63.75 Hz)\n",
      "- Filter length: 1691 samples (6.605 s)\n",
      "\n"
     ]
    },
    {
     "name": "stderr",
     "output_type": "stream",
     "text": [
      "[Parallel(n_jobs=1)]: Done  17 tasks      | elapsed:    0.9s\n"
     ]
    },
    {
     "name": "stdout",
     "output_type": "stream",
     "text": [
      "Writing E:\\New folder\\chb11\\chb11\\interictal\\chb11_07_normal_raw.fif\n",
      "Closing E:\\New folder\\chb11\\chb11\\interictal\\chb11_07_normal_raw.fif\n",
      "[done]\n",
      "Processing E:\\New folder\\chb11\\chb11_08.edf...\n",
      "Extracting EDF parameters from E:\\New folder\\chb11\\chb11_08.edf...\n",
      "EDF file detected\n",
      "Setting channel info structure...\n",
      "Creating raw.info structure...\n",
      "Reading 0 ... 921599  =      0.000 ...  3599.996 secs...\n"
     ]
    },
    {
     "name": "stderr",
     "output_type": "stream",
     "text": [
      "C:\\Users\\pc\\AppData\\Local\\Temp\\ipykernel_14248\\298778749.py:152: RuntimeWarning: Channel names are not unique, found duplicates for: {'T8-P8', '-'}. Applying running numbers for duplicates.\n",
      "  raw = mne.io.read_raw_edf(edf_file, preload=True)\n"
     ]
    },
    {
     "name": "stdout",
     "output_type": "stream",
     "text": [
      "NOTE: pick_channels() is a legacy function. New code should use inst.pick(...).\n",
      "Filtering raw data in 1 contiguous segment\n",
      "Setting up band-pass filter from 0.5 - 1e+02 Hz\n",
      "\n",
      "FIR filter parameters\n",
      "---------------------\n",
      "Designing a one-pass, zero-phase, non-causal bandpass filter:\n",
      "- Windowed time-domain design (firwin) method\n",
      "- Hamming window with 0.0194 passband ripple and 53 dB stopband attenuation\n",
      "- Lower passband edge: 0.50\n",
      "- Lower transition bandwidth: 0.50 Hz (-6 dB cutoff frequency: 0.25 Hz)\n",
      "- Upper passband edge: 100.00 Hz\n",
      "- Upper transition bandwidth: 25.00 Hz (-6 dB cutoff frequency: 112.50 Hz)\n",
      "- Filter length: 1691 samples (6.605 s)\n",
      "\n"
     ]
    },
    {
     "name": "stderr",
     "output_type": "stream",
     "text": [
      "[Parallel(n_jobs=1)]: Done  17 tasks      | elapsed:    0.9s\n"
     ]
    },
    {
     "name": "stdout",
     "output_type": "stream",
     "text": [
      "Filtering raw data in 1 contiguous segment\n",
      "Setting up band-stop filter from 56 - 64 Hz\n",
      "\n",
      "FIR filter parameters\n",
      "---------------------\n",
      "Designing a one-pass, zero-phase, non-causal bandstop filter:\n",
      "- Windowed time-domain design (firwin) method\n",
      "- Hamming window with 0.0194 passband ripple and 53 dB stopband attenuation\n",
      "- Lower passband edge: 56.50\n",
      "- Lower transition bandwidth: 0.50 Hz (-6 dB cutoff frequency: 56.25 Hz)\n",
      "- Upper passband edge: 63.50 Hz\n",
      "- Upper transition bandwidth: 0.50 Hz (-6 dB cutoff frequency: 63.75 Hz)\n",
      "- Filter length: 1691 samples (6.605 s)\n",
      "\n"
     ]
    },
    {
     "name": "stderr",
     "output_type": "stream",
     "text": [
      "[Parallel(n_jobs=1)]: Done  17 tasks      | elapsed:    0.8s\n"
     ]
    },
    {
     "name": "stdout",
     "output_type": "stream",
     "text": [
      "Writing E:\\New folder\\chb11\\chb11\\interictal\\chb11_08_normal_raw.fif\n",
      "Closing E:\\New folder\\chb11\\chb11\\interictal\\chb11_08_normal_raw.fif\n",
      "[done]\n",
      "Processing E:\\New folder\\chb11\\chb11_09.edf...\n",
      "Extracting EDF parameters from E:\\New folder\\chb11\\chb11_09.edf...\n",
      "EDF file detected\n",
      "Setting channel info structure...\n",
      "Creating raw.info structure...\n",
      "Reading 0 ... 921599  =      0.000 ...  3599.996 secs...\n"
     ]
    },
    {
     "name": "stderr",
     "output_type": "stream",
     "text": [
      "C:\\Users\\pc\\AppData\\Local\\Temp\\ipykernel_14248\\298778749.py:152: RuntimeWarning: Channel names are not unique, found duplicates for: {'T8-P8', '-'}. Applying running numbers for duplicates.\n",
      "  raw = mne.io.read_raw_edf(edf_file, preload=True)\n"
     ]
    },
    {
     "name": "stdout",
     "output_type": "stream",
     "text": [
      "NOTE: pick_channels() is a legacy function. New code should use inst.pick(...).\n",
      "Filtering raw data in 1 contiguous segment\n",
      "Setting up band-pass filter from 0.5 - 1e+02 Hz\n",
      "\n",
      "FIR filter parameters\n",
      "---------------------\n",
      "Designing a one-pass, zero-phase, non-causal bandpass filter:\n",
      "- Windowed time-domain design (firwin) method\n",
      "- Hamming window with 0.0194 passband ripple and 53 dB stopband attenuation\n",
      "- Lower passband edge: 0.50\n",
      "- Lower transition bandwidth: 0.50 Hz (-6 dB cutoff frequency: 0.25 Hz)\n",
      "- Upper passband edge: 100.00 Hz\n",
      "- Upper transition bandwidth: 25.00 Hz (-6 dB cutoff frequency: 112.50 Hz)\n",
      "- Filter length: 1691 samples (6.605 s)\n",
      "\n"
     ]
    },
    {
     "name": "stderr",
     "output_type": "stream",
     "text": [
      "[Parallel(n_jobs=1)]: Done  17 tasks      | elapsed:    1.0s\n"
     ]
    },
    {
     "name": "stdout",
     "output_type": "stream",
     "text": [
      "Filtering raw data in 1 contiguous segment\n",
      "Setting up band-stop filter from 56 - 64 Hz\n",
      "\n",
      "FIR filter parameters\n",
      "---------------------\n",
      "Designing a one-pass, zero-phase, non-causal bandstop filter:\n",
      "- Windowed time-domain design (firwin) method\n",
      "- Hamming window with 0.0194 passband ripple and 53 dB stopband attenuation\n",
      "- Lower passband edge: 56.50\n",
      "- Lower transition bandwidth: 0.50 Hz (-6 dB cutoff frequency: 56.25 Hz)\n",
      "- Upper passband edge: 63.50 Hz\n",
      "- Upper transition bandwidth: 0.50 Hz (-6 dB cutoff frequency: 63.75 Hz)\n",
      "- Filter length: 1691 samples (6.605 s)\n",
      "\n"
     ]
    },
    {
     "name": "stderr",
     "output_type": "stream",
     "text": [
      "[Parallel(n_jobs=1)]: Done  17 tasks      | elapsed:    0.9s\n"
     ]
    },
    {
     "name": "stdout",
     "output_type": "stream",
     "text": [
      "Writing E:\\New folder\\chb11\\chb11\\interictal\\chb11_09_normal_raw.fif\n",
      "Closing E:\\New folder\\chb11\\chb11\\interictal\\chb11_09_normal_raw.fif\n",
      "[done]\n",
      "Processing E:\\New folder\\chb11\\chb11_10.edf...\n",
      "Extracting EDF parameters from E:\\New folder\\chb11\\chb11_10.edf...\n",
      "EDF file detected\n",
      "Setting channel info structure...\n",
      "Creating raw.info structure...\n",
      "Reading 0 ... 921599  =      0.000 ...  3599.996 secs...\n"
     ]
    },
    {
     "name": "stderr",
     "output_type": "stream",
     "text": [
      "C:\\Users\\pc\\AppData\\Local\\Temp\\ipykernel_14248\\298778749.py:152: RuntimeWarning: Channel names are not unique, found duplicates for: {'T8-P8', '-'}. Applying running numbers for duplicates.\n",
      "  raw = mne.io.read_raw_edf(edf_file, preload=True)\n"
     ]
    },
    {
     "name": "stdout",
     "output_type": "stream",
     "text": [
      "NOTE: pick_channels() is a legacy function. New code should use inst.pick(...).\n",
      "Filtering raw data in 1 contiguous segment\n",
      "Setting up band-pass filter from 0.5 - 1e+02 Hz\n",
      "\n",
      "FIR filter parameters\n",
      "---------------------\n",
      "Designing a one-pass, zero-phase, non-causal bandpass filter:\n",
      "- Windowed time-domain design (firwin) method\n",
      "- Hamming window with 0.0194 passband ripple and 53 dB stopband attenuation\n",
      "- Lower passband edge: 0.50\n",
      "- Lower transition bandwidth: 0.50 Hz (-6 dB cutoff frequency: 0.25 Hz)\n",
      "- Upper passband edge: 100.00 Hz\n",
      "- Upper transition bandwidth: 25.00 Hz (-6 dB cutoff frequency: 112.50 Hz)\n",
      "- Filter length: 1691 samples (6.605 s)\n",
      "\n"
     ]
    },
    {
     "name": "stderr",
     "output_type": "stream",
     "text": [
      "[Parallel(n_jobs=1)]: Done  17 tasks      | elapsed:    1.0s\n"
     ]
    },
    {
     "name": "stdout",
     "output_type": "stream",
     "text": [
      "Filtering raw data in 1 contiguous segment\n",
      "Setting up band-stop filter from 56 - 64 Hz\n",
      "\n",
      "FIR filter parameters\n",
      "---------------------\n",
      "Designing a one-pass, zero-phase, non-causal bandstop filter:\n",
      "- Windowed time-domain design (firwin) method\n",
      "- Hamming window with 0.0194 passband ripple and 53 dB stopband attenuation\n",
      "- Lower passband edge: 56.50\n",
      "- Lower transition bandwidth: 0.50 Hz (-6 dB cutoff frequency: 56.25 Hz)\n",
      "- Upper passband edge: 63.50 Hz\n",
      "- Upper transition bandwidth: 0.50 Hz (-6 dB cutoff frequency: 63.75 Hz)\n",
      "- Filter length: 1691 samples (6.605 s)\n",
      "\n"
     ]
    },
    {
     "name": "stderr",
     "output_type": "stream",
     "text": [
      "[Parallel(n_jobs=1)]: Done  17 tasks      | elapsed:    1.0s\n"
     ]
    },
    {
     "name": "stdout",
     "output_type": "stream",
     "text": [
      "Writing E:\\New folder\\chb11\\chb11\\interictal\\chb11_10_normal_raw.fif\n",
      "Closing E:\\New folder\\chb11\\chb11\\interictal\\chb11_10_normal_raw.fif\n",
      "[done]\n",
      "Processing E:\\New folder\\chb11\\chb11_11.edf...\n",
      "Extracting EDF parameters from E:\\New folder\\chb11\\chb11_11.edf...\n",
      "EDF file detected\n",
      "Setting channel info structure...\n",
      "Creating raw.info structure...\n",
      "Reading 0 ... 921599  =      0.000 ...  3599.996 secs...\n"
     ]
    },
    {
     "name": "stderr",
     "output_type": "stream",
     "text": [
      "C:\\Users\\pc\\AppData\\Local\\Temp\\ipykernel_14248\\298778749.py:152: RuntimeWarning: Channel names are not unique, found duplicates for: {'T8-P8', '-'}. Applying running numbers for duplicates.\n",
      "  raw = mne.io.read_raw_edf(edf_file, preload=True)\n"
     ]
    },
    {
     "name": "stdout",
     "output_type": "stream",
     "text": [
      "NOTE: pick_channels() is a legacy function. New code should use inst.pick(...).\n",
      "Filtering raw data in 1 contiguous segment\n",
      "Setting up band-pass filter from 0.5 - 1e+02 Hz\n",
      "\n",
      "FIR filter parameters\n",
      "---------------------\n",
      "Designing a one-pass, zero-phase, non-causal bandpass filter:\n",
      "- Windowed time-domain design (firwin) method\n",
      "- Hamming window with 0.0194 passband ripple and 53 dB stopband attenuation\n",
      "- Lower passband edge: 0.50\n",
      "- Lower transition bandwidth: 0.50 Hz (-6 dB cutoff frequency: 0.25 Hz)\n",
      "- Upper passband edge: 100.00 Hz\n",
      "- Upper transition bandwidth: 25.00 Hz (-6 dB cutoff frequency: 112.50 Hz)\n",
      "- Filter length: 1691 samples (6.605 s)\n",
      "\n"
     ]
    },
    {
     "name": "stderr",
     "output_type": "stream",
     "text": [
      "[Parallel(n_jobs=1)]: Done  17 tasks      | elapsed:    0.9s\n"
     ]
    },
    {
     "name": "stdout",
     "output_type": "stream",
     "text": [
      "Filtering raw data in 1 contiguous segment\n",
      "Setting up band-stop filter from 56 - 64 Hz\n",
      "\n",
      "FIR filter parameters\n",
      "---------------------\n",
      "Designing a one-pass, zero-phase, non-causal bandstop filter:\n",
      "- Windowed time-domain design (firwin) method\n",
      "- Hamming window with 0.0194 passband ripple and 53 dB stopband attenuation\n",
      "- Lower passband edge: 56.50\n",
      "- Lower transition bandwidth: 0.50 Hz (-6 dB cutoff frequency: 56.25 Hz)\n",
      "- Upper passband edge: 63.50 Hz\n",
      "- Upper transition bandwidth: 0.50 Hz (-6 dB cutoff frequency: 63.75 Hz)\n",
      "- Filter length: 1691 samples (6.605 s)\n",
      "\n"
     ]
    },
    {
     "name": "stderr",
     "output_type": "stream",
     "text": [
      "[Parallel(n_jobs=1)]: Done  17 tasks      | elapsed:    0.8s\n"
     ]
    },
    {
     "name": "stdout",
     "output_type": "stream",
     "text": [
      "Writing E:\\New folder\\chb11\\chb11\\interictal\\chb11_11_normal_raw.fif\n",
      "Closing E:\\New folder\\chb11\\chb11\\interictal\\chb11_11_normal_raw.fif\n",
      "[done]\n",
      "Processing E:\\New folder\\chb11\\chb11_12.edf...\n",
      "Extracting EDF parameters from E:\\New folder\\chb11\\chb11_12.edf...\n",
      "EDF file detected\n",
      "Setting channel info structure...\n",
      "Creating raw.info structure...\n",
      "Reading 0 ... 921599  =      0.000 ...  3599.996 secs...\n"
     ]
    },
    {
     "name": "stderr",
     "output_type": "stream",
     "text": [
      "C:\\Users\\pc\\AppData\\Local\\Temp\\ipykernel_14248\\298778749.py:152: RuntimeWarning: Channel names are not unique, found duplicates for: {'T8-P8', '-'}. Applying running numbers for duplicates.\n",
      "  raw = mne.io.read_raw_edf(edf_file, preload=True)\n"
     ]
    },
    {
     "name": "stdout",
     "output_type": "stream",
     "text": [
      "NOTE: pick_channels() is a legacy function. New code should use inst.pick(...).\n",
      "Filtering raw data in 1 contiguous segment\n",
      "Setting up band-pass filter from 0.5 - 1e+02 Hz\n",
      "\n",
      "FIR filter parameters\n",
      "---------------------\n",
      "Designing a one-pass, zero-phase, non-causal bandpass filter:\n",
      "- Windowed time-domain design (firwin) method\n",
      "- Hamming window with 0.0194 passband ripple and 53 dB stopband attenuation\n",
      "- Lower passband edge: 0.50\n",
      "- Lower transition bandwidth: 0.50 Hz (-6 dB cutoff frequency: 0.25 Hz)\n",
      "- Upper passband edge: 100.00 Hz\n",
      "- Upper transition bandwidth: 25.00 Hz (-6 dB cutoff frequency: 112.50 Hz)\n",
      "- Filter length: 1691 samples (6.605 s)\n",
      "\n"
     ]
    },
    {
     "name": "stderr",
     "output_type": "stream",
     "text": [
      "[Parallel(n_jobs=1)]: Done  17 tasks      | elapsed:    1.1s\n"
     ]
    },
    {
     "name": "stdout",
     "output_type": "stream",
     "text": [
      "Filtering raw data in 1 contiguous segment\n",
      "Setting up band-stop filter from 56 - 64 Hz\n",
      "\n",
      "FIR filter parameters\n",
      "---------------------\n",
      "Designing a one-pass, zero-phase, non-causal bandstop filter:\n",
      "- Windowed time-domain design (firwin) method\n",
      "- Hamming window with 0.0194 passband ripple and 53 dB stopband attenuation\n",
      "- Lower passband edge: 56.50\n",
      "- Lower transition bandwidth: 0.50 Hz (-6 dB cutoff frequency: 56.25 Hz)\n",
      "- Upper passband edge: 63.50 Hz\n",
      "- Upper transition bandwidth: 0.50 Hz (-6 dB cutoff frequency: 63.75 Hz)\n",
      "- Filter length: 1691 samples (6.605 s)\n",
      "\n"
     ]
    },
    {
     "name": "stderr",
     "output_type": "stream",
     "text": [
      "[Parallel(n_jobs=1)]: Done  17 tasks      | elapsed:    0.8s\n"
     ]
    },
    {
     "name": "stdout",
     "output_type": "stream",
     "text": [
      "Writing E:\\New folder\\chb11\\chb11\\interictal\\chb11_12_normal_raw.fif\n",
      "Closing E:\\New folder\\chb11\\chb11\\interictal\\chb11_12_normal_raw.fif\n",
      "[done]\n",
      "Processing E:\\New folder\\chb11\\chb11_13.edf...\n",
      "Extracting EDF parameters from E:\\New folder\\chb11\\chb11_13.edf...\n",
      "EDF file detected\n",
      "Setting channel info structure...\n",
      "Creating raw.info structure...\n",
      "Reading 0 ... 921599  =      0.000 ...  3599.996 secs...\n"
     ]
    },
    {
     "name": "stderr",
     "output_type": "stream",
     "text": [
      "C:\\Users\\pc\\AppData\\Local\\Temp\\ipykernel_14248\\298778749.py:152: RuntimeWarning: Channel names are not unique, found duplicates for: {'T8-P8', '-'}. Applying running numbers for duplicates.\n",
      "  raw = mne.io.read_raw_edf(edf_file, preload=True)\n"
     ]
    },
    {
     "name": "stdout",
     "output_type": "stream",
     "text": [
      "NOTE: pick_channels() is a legacy function. New code should use inst.pick(...).\n",
      "Filtering raw data in 1 contiguous segment\n",
      "Setting up band-pass filter from 0.5 - 1e+02 Hz\n",
      "\n",
      "FIR filter parameters\n",
      "---------------------\n",
      "Designing a one-pass, zero-phase, non-causal bandpass filter:\n",
      "- Windowed time-domain design (firwin) method\n",
      "- Hamming window with 0.0194 passband ripple and 53 dB stopband attenuation\n",
      "- Lower passband edge: 0.50\n",
      "- Lower transition bandwidth: 0.50 Hz (-6 dB cutoff frequency: 0.25 Hz)\n",
      "- Upper passband edge: 100.00 Hz\n",
      "- Upper transition bandwidth: 25.00 Hz (-6 dB cutoff frequency: 112.50 Hz)\n",
      "- Filter length: 1691 samples (6.605 s)\n",
      "\n"
     ]
    },
    {
     "name": "stderr",
     "output_type": "stream",
     "text": [
      "[Parallel(n_jobs=1)]: Done  17 tasks      | elapsed:    1.1s\n"
     ]
    },
    {
     "name": "stdout",
     "output_type": "stream",
     "text": [
      "Filtering raw data in 1 contiguous segment\n",
      "Setting up band-stop filter from 56 - 64 Hz\n",
      "\n",
      "FIR filter parameters\n",
      "---------------------\n",
      "Designing a one-pass, zero-phase, non-causal bandstop filter:\n",
      "- Windowed time-domain design (firwin) method\n",
      "- Hamming window with 0.0194 passband ripple and 53 dB stopband attenuation\n",
      "- Lower passband edge: 56.50\n",
      "- Lower transition bandwidth: 0.50 Hz (-6 dB cutoff frequency: 56.25 Hz)\n",
      "- Upper passband edge: 63.50 Hz\n",
      "- Upper transition bandwidth: 0.50 Hz (-6 dB cutoff frequency: 63.75 Hz)\n",
      "- Filter length: 1691 samples (6.605 s)\n",
      "\n"
     ]
    },
    {
     "name": "stderr",
     "output_type": "stream",
     "text": [
      "[Parallel(n_jobs=1)]: Done  17 tasks      | elapsed:    1.0s\n"
     ]
    },
    {
     "name": "stdout",
     "output_type": "stream",
     "text": [
      "Writing E:\\New folder\\chb11\\chb11\\interictal\\chb11_13_normal_raw.fif\n",
      "Closing E:\\New folder\\chb11\\chb11\\interictal\\chb11_13_normal_raw.fif\n",
      "[done]\n",
      "Processing E:\\New folder\\chb11\\chb11_14.edf...\n",
      "Extracting EDF parameters from E:\\New folder\\chb11\\chb11_14.edf...\n",
      "EDF file detected\n",
      "Setting channel info structure...\n",
      "Creating raw.info structure...\n",
      "Reading 0 ... 921599  =      0.000 ...  3599.996 secs...\n"
     ]
    },
    {
     "name": "stderr",
     "output_type": "stream",
     "text": [
      "C:\\Users\\pc\\AppData\\Local\\Temp\\ipykernel_14248\\298778749.py:152: RuntimeWarning: Channel names are not unique, found duplicates for: {'T8-P8', '-'}. Applying running numbers for duplicates.\n",
      "  raw = mne.io.read_raw_edf(edf_file, preload=True)\n"
     ]
    },
    {
     "name": "stdout",
     "output_type": "stream",
     "text": [
      "NOTE: pick_channels() is a legacy function. New code should use inst.pick(...).\n",
      "Filtering raw data in 1 contiguous segment\n",
      "Setting up band-pass filter from 0.5 - 1e+02 Hz\n",
      "\n",
      "FIR filter parameters\n",
      "---------------------\n",
      "Designing a one-pass, zero-phase, non-causal bandpass filter:\n",
      "- Windowed time-domain design (firwin) method\n",
      "- Hamming window with 0.0194 passband ripple and 53 dB stopband attenuation\n",
      "- Lower passband edge: 0.50\n",
      "- Lower transition bandwidth: 0.50 Hz (-6 dB cutoff frequency: 0.25 Hz)\n",
      "- Upper passband edge: 100.00 Hz\n",
      "- Upper transition bandwidth: 25.00 Hz (-6 dB cutoff frequency: 112.50 Hz)\n",
      "- Filter length: 1691 samples (6.605 s)\n",
      "\n"
     ]
    },
    {
     "name": "stderr",
     "output_type": "stream",
     "text": [
      "[Parallel(n_jobs=1)]: Done  17 tasks      | elapsed:    0.9s\n"
     ]
    },
    {
     "name": "stdout",
     "output_type": "stream",
     "text": [
      "Filtering raw data in 1 contiguous segment\n",
      "Setting up band-stop filter from 56 - 64 Hz\n",
      "\n",
      "FIR filter parameters\n",
      "---------------------\n",
      "Designing a one-pass, zero-phase, non-causal bandstop filter:\n",
      "- Windowed time-domain design (firwin) method\n",
      "- Hamming window with 0.0194 passband ripple and 53 dB stopband attenuation\n",
      "- Lower passband edge: 56.50\n",
      "- Lower transition bandwidth: 0.50 Hz (-6 dB cutoff frequency: 56.25 Hz)\n",
      "- Upper passband edge: 63.50 Hz\n",
      "- Upper transition bandwidth: 0.50 Hz (-6 dB cutoff frequency: 63.75 Hz)\n",
      "- Filter length: 1691 samples (6.605 s)\n",
      "\n"
     ]
    },
    {
     "name": "stderr",
     "output_type": "stream",
     "text": [
      "[Parallel(n_jobs=1)]: Done  17 tasks      | elapsed:    0.6s\n"
     ]
    },
    {
     "name": "stdout",
     "output_type": "stream",
     "text": [
      "Writing E:\\New folder\\chb11\\chb11\\interictal\\chb11_14_normal_raw.fif\n",
      "Closing E:\\New folder\\chb11\\chb11\\interictal\\chb11_14_normal_raw.fif\n",
      "[done]\n",
      "Processing E:\\New folder\\chb11\\chb11_15.edf...\n",
      "Extracting EDF parameters from E:\\New folder\\chb11\\chb11_15.edf...\n",
      "EDF file detected\n",
      "Setting channel info structure...\n",
      "Creating raw.info structure...\n",
      "Reading 0 ... 921599  =      0.000 ...  3599.996 secs...\n"
     ]
    },
    {
     "name": "stderr",
     "output_type": "stream",
     "text": [
      "C:\\Users\\pc\\AppData\\Local\\Temp\\ipykernel_14248\\298778749.py:152: RuntimeWarning: Channel names are not unique, found duplicates for: {'T8-P8', '-'}. Applying running numbers for duplicates.\n",
      "  raw = mne.io.read_raw_edf(edf_file, preload=True)\n"
     ]
    },
    {
     "name": "stdout",
     "output_type": "stream",
     "text": [
      "NOTE: pick_channels() is a legacy function. New code should use inst.pick(...).\n",
      "Filtering raw data in 1 contiguous segment\n",
      "Setting up band-pass filter from 0.5 - 1e+02 Hz\n",
      "\n",
      "FIR filter parameters\n",
      "---------------------\n",
      "Designing a one-pass, zero-phase, non-causal bandpass filter:\n",
      "- Windowed time-domain design (firwin) method\n",
      "- Hamming window with 0.0194 passband ripple and 53 dB stopband attenuation\n",
      "- Lower passband edge: 0.50\n",
      "- Lower transition bandwidth: 0.50 Hz (-6 dB cutoff frequency: 0.25 Hz)\n",
      "- Upper passband edge: 100.00 Hz\n",
      "- Upper transition bandwidth: 25.00 Hz (-6 dB cutoff frequency: 112.50 Hz)\n",
      "- Filter length: 1691 samples (6.605 s)\n",
      "\n"
     ]
    },
    {
     "name": "stderr",
     "output_type": "stream",
     "text": [
      "[Parallel(n_jobs=1)]: Done  17 tasks      | elapsed:    0.7s\n"
     ]
    },
    {
     "name": "stdout",
     "output_type": "stream",
     "text": [
      "Filtering raw data in 1 contiguous segment\n",
      "Setting up band-stop filter from 56 - 64 Hz\n",
      "\n",
      "FIR filter parameters\n",
      "---------------------\n",
      "Designing a one-pass, zero-phase, non-causal bandstop filter:\n",
      "- Windowed time-domain design (firwin) method\n",
      "- Hamming window with 0.0194 passband ripple and 53 dB stopband attenuation\n",
      "- Lower passband edge: 56.50\n",
      "- Lower transition bandwidth: 0.50 Hz (-6 dB cutoff frequency: 56.25 Hz)\n",
      "- Upper passband edge: 63.50 Hz\n",
      "- Upper transition bandwidth: 0.50 Hz (-6 dB cutoff frequency: 63.75 Hz)\n",
      "- Filter length: 1691 samples (6.605 s)\n",
      "\n"
     ]
    },
    {
     "name": "stderr",
     "output_type": "stream",
     "text": [
      "[Parallel(n_jobs=1)]: Done  17 tasks      | elapsed:    0.7s\n"
     ]
    },
    {
     "name": "stdout",
     "output_type": "stream",
     "text": [
      "Writing E:\\New folder\\chb11\\chb11\\interictal\\chb11_15_normal_raw.fif\n",
      "Closing E:\\New folder\\chb11\\chb11\\interictal\\chb11_15_normal_raw.fif\n",
      "[done]\n",
      "Processing E:\\New folder\\chb11\\chb11_16.edf...\n",
      "Extracting EDF parameters from E:\\New folder\\chb11\\chb11_16.edf...\n",
      "EDF file detected\n",
      "Setting channel info structure...\n",
      "Creating raw.info structure...\n",
      "Reading 0 ... 921599  =      0.000 ...  3599.996 secs...\n"
     ]
    },
    {
     "name": "stderr",
     "output_type": "stream",
     "text": [
      "C:\\Users\\pc\\AppData\\Local\\Temp\\ipykernel_14248\\298778749.py:152: RuntimeWarning: Channel names are not unique, found duplicates for: {'T8-P8', '-'}. Applying running numbers for duplicates.\n",
      "  raw = mne.io.read_raw_edf(edf_file, preload=True)\n"
     ]
    },
    {
     "name": "stdout",
     "output_type": "stream",
     "text": [
      "NOTE: pick_channels() is a legacy function. New code should use inst.pick(...).\n",
      "Filtering raw data in 1 contiguous segment\n",
      "Setting up band-pass filter from 0.5 - 1e+02 Hz\n",
      "\n",
      "FIR filter parameters\n",
      "---------------------\n",
      "Designing a one-pass, zero-phase, non-causal bandpass filter:\n",
      "- Windowed time-domain design (firwin) method\n",
      "- Hamming window with 0.0194 passband ripple and 53 dB stopband attenuation\n",
      "- Lower passband edge: 0.50\n",
      "- Lower transition bandwidth: 0.50 Hz (-6 dB cutoff frequency: 0.25 Hz)\n",
      "- Upper passband edge: 100.00 Hz\n",
      "- Upper transition bandwidth: 25.00 Hz (-6 dB cutoff frequency: 112.50 Hz)\n",
      "- Filter length: 1691 samples (6.605 s)\n",
      "\n"
     ]
    },
    {
     "name": "stderr",
     "output_type": "stream",
     "text": [
      "[Parallel(n_jobs=1)]: Done  17 tasks      | elapsed:    1.0s\n"
     ]
    },
    {
     "name": "stdout",
     "output_type": "stream",
     "text": [
      "Filtering raw data in 1 contiguous segment\n",
      "Setting up band-stop filter from 56 - 64 Hz\n",
      "\n",
      "FIR filter parameters\n",
      "---------------------\n",
      "Designing a one-pass, zero-phase, non-causal bandstop filter:\n",
      "- Windowed time-domain design (firwin) method\n",
      "- Hamming window with 0.0194 passband ripple and 53 dB stopband attenuation\n",
      "- Lower passband edge: 56.50\n",
      "- Lower transition bandwidth: 0.50 Hz (-6 dB cutoff frequency: 56.25 Hz)\n",
      "- Upper passband edge: 63.50 Hz\n",
      "- Upper transition bandwidth: 0.50 Hz (-6 dB cutoff frequency: 63.75 Hz)\n",
      "- Filter length: 1691 samples (6.605 s)\n",
      "\n"
     ]
    },
    {
     "name": "stderr",
     "output_type": "stream",
     "text": [
      "[Parallel(n_jobs=1)]: Done  17 tasks      | elapsed:    0.8s\n"
     ]
    },
    {
     "name": "stdout",
     "output_type": "stream",
     "text": [
      "Writing E:\\New folder\\chb11\\chb11\\interictal\\chb11_16_normal_raw.fif\n",
      "Closing E:\\New folder\\chb11\\chb11\\interictal\\chb11_16_normal_raw.fif\n",
      "[done]\n",
      "Processing E:\\New folder\\chb11\\chb11_17.edf...\n",
      "Extracting EDF parameters from E:\\New folder\\chb11\\chb11_17.edf...\n",
      "EDF file detected\n",
      "Setting channel info structure...\n",
      "Creating raw.info structure...\n",
      "Reading 0 ... 921599  =      0.000 ...  3599.996 secs...\n"
     ]
    },
    {
     "name": "stderr",
     "output_type": "stream",
     "text": [
      "C:\\Users\\pc\\AppData\\Local\\Temp\\ipykernel_14248\\298778749.py:152: RuntimeWarning: Channel names are not unique, found duplicates for: {'T8-P8', '-'}. Applying running numbers for duplicates.\n",
      "  raw = mne.io.read_raw_edf(edf_file, preload=True)\n"
     ]
    },
    {
     "name": "stdout",
     "output_type": "stream",
     "text": [
      "NOTE: pick_channels() is a legacy function. New code should use inst.pick(...).\n",
      "Filtering raw data in 1 contiguous segment\n",
      "Setting up band-pass filter from 0.5 - 1e+02 Hz\n",
      "\n",
      "FIR filter parameters\n",
      "---------------------\n",
      "Designing a one-pass, zero-phase, non-causal bandpass filter:\n",
      "- Windowed time-domain design (firwin) method\n",
      "- Hamming window with 0.0194 passband ripple and 53 dB stopband attenuation\n",
      "- Lower passband edge: 0.50\n",
      "- Lower transition bandwidth: 0.50 Hz (-6 dB cutoff frequency: 0.25 Hz)\n",
      "- Upper passband edge: 100.00 Hz\n",
      "- Upper transition bandwidth: 25.00 Hz (-6 dB cutoff frequency: 112.50 Hz)\n",
      "- Filter length: 1691 samples (6.605 s)\n",
      "\n"
     ]
    },
    {
     "name": "stderr",
     "output_type": "stream",
     "text": [
      "[Parallel(n_jobs=1)]: Done  17 tasks      | elapsed:    1.1s\n"
     ]
    },
    {
     "name": "stdout",
     "output_type": "stream",
     "text": [
      "Filtering raw data in 1 contiguous segment\n",
      "Setting up band-stop filter from 56 - 64 Hz\n",
      "\n",
      "FIR filter parameters\n",
      "---------------------\n",
      "Designing a one-pass, zero-phase, non-causal bandstop filter:\n",
      "- Windowed time-domain design (firwin) method\n",
      "- Hamming window with 0.0194 passband ripple and 53 dB stopband attenuation\n",
      "- Lower passband edge: 56.50\n",
      "- Lower transition bandwidth: 0.50 Hz (-6 dB cutoff frequency: 56.25 Hz)\n",
      "- Upper passband edge: 63.50 Hz\n",
      "- Upper transition bandwidth: 0.50 Hz (-6 dB cutoff frequency: 63.75 Hz)\n",
      "- Filter length: 1691 samples (6.605 s)\n",
      "\n"
     ]
    },
    {
     "name": "stderr",
     "output_type": "stream",
     "text": [
      "[Parallel(n_jobs=1)]: Done  17 tasks      | elapsed:    1.1s\n"
     ]
    },
    {
     "name": "stdout",
     "output_type": "stream",
     "text": [
      "Writing E:\\New folder\\chb11\\chb11\\interictal\\chb11_17_normal_raw.fif\n",
      "Closing E:\\New folder\\chb11\\chb11\\interictal\\chb11_17_normal_raw.fif\n",
      "[done]\n",
      "Processing E:\\New folder\\chb11\\chb11_18.edf...\n",
      "Extracting EDF parameters from E:\\New folder\\chb11\\chb11_18.edf...\n",
      "EDF file detected\n",
      "Setting channel info structure...\n",
      "Creating raw.info structure...\n",
      "Reading 0 ... 921599  =      0.000 ...  3599.996 secs...\n"
     ]
    },
    {
     "name": "stderr",
     "output_type": "stream",
     "text": [
      "C:\\Users\\pc\\AppData\\Local\\Temp\\ipykernel_14248\\298778749.py:152: RuntimeWarning: Channel names are not unique, found duplicates for: {'T8-P8', '-'}. Applying running numbers for duplicates.\n",
      "  raw = mne.io.read_raw_edf(edf_file, preload=True)\n"
     ]
    },
    {
     "name": "stdout",
     "output_type": "stream",
     "text": [
      "NOTE: pick_channels() is a legacy function. New code should use inst.pick(...).\n",
      "Filtering raw data in 1 contiguous segment\n",
      "Setting up band-pass filter from 0.5 - 1e+02 Hz\n",
      "\n",
      "FIR filter parameters\n",
      "---------------------\n",
      "Designing a one-pass, zero-phase, non-causal bandpass filter:\n",
      "- Windowed time-domain design (firwin) method\n",
      "- Hamming window with 0.0194 passband ripple and 53 dB stopband attenuation\n",
      "- Lower passband edge: 0.50\n",
      "- Lower transition bandwidth: 0.50 Hz (-6 dB cutoff frequency: 0.25 Hz)\n",
      "- Upper passband edge: 100.00 Hz\n",
      "- Upper transition bandwidth: 25.00 Hz (-6 dB cutoff frequency: 112.50 Hz)\n",
      "- Filter length: 1691 samples (6.605 s)\n",
      "\n"
     ]
    },
    {
     "name": "stderr",
     "output_type": "stream",
     "text": [
      "[Parallel(n_jobs=1)]: Done  17 tasks      | elapsed:    0.9s\n"
     ]
    },
    {
     "name": "stdout",
     "output_type": "stream",
     "text": [
      "Filtering raw data in 1 contiguous segment\n",
      "Setting up band-stop filter from 56 - 64 Hz\n",
      "\n",
      "FIR filter parameters\n",
      "---------------------\n",
      "Designing a one-pass, zero-phase, non-causal bandstop filter:\n",
      "- Windowed time-domain design (firwin) method\n",
      "- Hamming window with 0.0194 passband ripple and 53 dB stopband attenuation\n",
      "- Lower passband edge: 56.50\n",
      "- Lower transition bandwidth: 0.50 Hz (-6 dB cutoff frequency: 56.25 Hz)\n",
      "- Upper passband edge: 63.50 Hz\n",
      "- Upper transition bandwidth: 0.50 Hz (-6 dB cutoff frequency: 63.75 Hz)\n",
      "- Filter length: 1691 samples (6.605 s)\n",
      "\n"
     ]
    },
    {
     "name": "stderr",
     "output_type": "stream",
     "text": [
      "[Parallel(n_jobs=1)]: Done  17 tasks      | elapsed:    0.8s\n"
     ]
    },
    {
     "name": "stdout",
     "output_type": "stream",
     "text": [
      "Writing E:\\New folder\\chb11\\chb11\\interictal\\chb11_18_normal_raw.fif\n",
      "Closing E:\\New folder\\chb11\\chb11\\interictal\\chb11_18_normal_raw.fif\n",
      "[done]\n",
      "Processing E:\\New folder\\chb11\\chb11_19.edf...\n",
      "Extracting EDF parameters from E:\\New folder\\chb11\\chb11_19.edf...\n",
      "EDF file detected\n",
      "Setting channel info structure...\n",
      "Creating raw.info structure...\n",
      "Reading 0 ... 921599  =      0.000 ...  3599.996 secs...\n"
     ]
    },
    {
     "name": "stderr",
     "output_type": "stream",
     "text": [
      "C:\\Users\\pc\\AppData\\Local\\Temp\\ipykernel_14248\\298778749.py:152: RuntimeWarning: Channel names are not unique, found duplicates for: {'T8-P8', '-'}. Applying running numbers for duplicates.\n",
      "  raw = mne.io.read_raw_edf(edf_file, preload=True)\n"
     ]
    },
    {
     "name": "stdout",
     "output_type": "stream",
     "text": [
      "NOTE: pick_channels() is a legacy function. New code should use inst.pick(...).\n",
      "Filtering raw data in 1 contiguous segment\n",
      "Setting up band-pass filter from 0.5 - 1e+02 Hz\n",
      "\n",
      "FIR filter parameters\n",
      "---------------------\n",
      "Designing a one-pass, zero-phase, non-causal bandpass filter:\n",
      "- Windowed time-domain design (firwin) method\n",
      "- Hamming window with 0.0194 passband ripple and 53 dB stopband attenuation\n",
      "- Lower passband edge: 0.50\n",
      "- Lower transition bandwidth: 0.50 Hz (-6 dB cutoff frequency: 0.25 Hz)\n",
      "- Upper passband edge: 100.00 Hz\n",
      "- Upper transition bandwidth: 25.00 Hz (-6 dB cutoff frequency: 112.50 Hz)\n",
      "- Filter length: 1691 samples (6.605 s)\n",
      "\n"
     ]
    },
    {
     "name": "stderr",
     "output_type": "stream",
     "text": [
      "[Parallel(n_jobs=1)]: Done  17 tasks      | elapsed:    1.1s\n"
     ]
    },
    {
     "name": "stdout",
     "output_type": "stream",
     "text": [
      "Filtering raw data in 1 contiguous segment\n",
      "Setting up band-stop filter from 56 - 64 Hz\n",
      "\n",
      "FIR filter parameters\n",
      "---------------------\n",
      "Designing a one-pass, zero-phase, non-causal bandstop filter:\n",
      "- Windowed time-domain design (firwin) method\n",
      "- Hamming window with 0.0194 passband ripple and 53 dB stopband attenuation\n",
      "- Lower passband edge: 56.50\n",
      "- Lower transition bandwidth: 0.50 Hz (-6 dB cutoff frequency: 56.25 Hz)\n",
      "- Upper passband edge: 63.50 Hz\n",
      "- Upper transition bandwidth: 0.50 Hz (-6 dB cutoff frequency: 63.75 Hz)\n",
      "- Filter length: 1691 samples (6.605 s)\n",
      "\n"
     ]
    },
    {
     "name": "stderr",
     "output_type": "stream",
     "text": [
      "[Parallel(n_jobs=1)]: Done  17 tasks      | elapsed:    1.0s\n"
     ]
    },
    {
     "name": "stdout",
     "output_type": "stream",
     "text": [
      "Writing E:\\New folder\\chb11\\chb11\\interictal\\chb11_19_normal_raw.fif\n",
      "Closing E:\\New folder\\chb11\\chb11\\interictal\\chb11_19_normal_raw.fif\n",
      "[done]\n",
      "Processing E:\\New folder\\chb11\\chb11_24.edf...\n",
      "Extracting EDF parameters from E:\\New folder\\chb11\\chb11_24.edf...\n",
      "EDF file detected\n",
      "Setting channel info structure...\n",
      "Creating raw.info structure...\n",
      "Reading 0 ... 921599  =      0.000 ...  3599.996 secs...\n"
     ]
    },
    {
     "name": "stderr",
     "output_type": "stream",
     "text": [
      "C:\\Users\\pc\\AppData\\Local\\Temp\\ipykernel_14248\\298778749.py:152: RuntimeWarning: Channel names are not unique, found duplicates for: {'T8-P8', '-'}. Applying running numbers for duplicates.\n",
      "  raw = mne.io.read_raw_edf(edf_file, preload=True)\n"
     ]
    },
    {
     "name": "stdout",
     "output_type": "stream",
     "text": [
      "NOTE: pick_channels() is a legacy function. New code should use inst.pick(...).\n",
      "Filtering raw data in 1 contiguous segment\n",
      "Setting up band-pass filter from 0.5 - 1e+02 Hz\n",
      "\n",
      "FIR filter parameters\n",
      "---------------------\n",
      "Designing a one-pass, zero-phase, non-causal bandpass filter:\n",
      "- Windowed time-domain design (firwin) method\n",
      "- Hamming window with 0.0194 passband ripple and 53 dB stopband attenuation\n",
      "- Lower passband edge: 0.50\n",
      "- Lower transition bandwidth: 0.50 Hz (-6 dB cutoff frequency: 0.25 Hz)\n",
      "- Upper passband edge: 100.00 Hz\n",
      "- Upper transition bandwidth: 25.00 Hz (-6 dB cutoff frequency: 112.50 Hz)\n",
      "- Filter length: 1691 samples (6.605 s)\n",
      "\n"
     ]
    },
    {
     "name": "stderr",
     "output_type": "stream",
     "text": [
      "[Parallel(n_jobs=1)]: Done  17 tasks      | elapsed:    2.2s\n"
     ]
    },
    {
     "name": "stdout",
     "output_type": "stream",
     "text": [
      "Filtering raw data in 1 contiguous segment\n",
      "Setting up band-stop filter from 56 - 64 Hz\n",
      "\n",
      "FIR filter parameters\n",
      "---------------------\n",
      "Designing a one-pass, zero-phase, non-causal bandstop filter:\n",
      "- Windowed time-domain design (firwin) method\n",
      "- Hamming window with 0.0194 passband ripple and 53 dB stopband attenuation\n",
      "- Lower passband edge: 56.50\n",
      "- Lower transition bandwidth: 0.50 Hz (-6 dB cutoff frequency: 56.25 Hz)\n",
      "- Upper passband edge: 63.50 Hz\n",
      "- Upper transition bandwidth: 0.50 Hz (-6 dB cutoff frequency: 63.75 Hz)\n",
      "- Filter length: 1691 samples (6.605 s)\n",
      "\n"
     ]
    },
    {
     "name": "stderr",
     "output_type": "stream",
     "text": [
      "[Parallel(n_jobs=1)]: Done  17 tasks      | elapsed:    2.8s\n"
     ]
    },
    {
     "name": "stdout",
     "output_type": "stream",
     "text": [
      "Writing E:\\New folder\\chb11\\chb11\\interictal\\chb11_24_normal_raw.fif\n",
      "Closing E:\\New folder\\chb11\\chb11\\interictal\\chb11_24_normal_raw.fif\n",
      "[done]\n",
      "Processing E:\\New folder\\chb11\\chb11_25.edf...\n",
      "Extracting EDF parameters from E:\\New folder\\chb11\\chb11_25.edf...\n",
      "EDF file detected\n",
      "Setting channel info structure...\n",
      "Creating raw.info structure...\n",
      "Reading 0 ... 921599  =      0.000 ...  3599.996 secs...\n"
     ]
    },
    {
     "name": "stderr",
     "output_type": "stream",
     "text": [
      "C:\\Users\\pc\\AppData\\Local\\Temp\\ipykernel_14248\\298778749.py:152: RuntimeWarning: Channel names are not unique, found duplicates for: {'T8-P8', '-'}. Applying running numbers for duplicates.\n",
      "  raw = mne.io.read_raw_edf(edf_file, preload=True)\n"
     ]
    },
    {
     "name": "stdout",
     "output_type": "stream",
     "text": [
      "NOTE: pick_channels() is a legacy function. New code should use inst.pick(...).\n",
      "Filtering raw data in 1 contiguous segment\n",
      "Setting up band-pass filter from 0.5 - 1e+02 Hz\n",
      "\n",
      "FIR filter parameters\n",
      "---------------------\n",
      "Designing a one-pass, zero-phase, non-causal bandpass filter:\n",
      "- Windowed time-domain design (firwin) method\n",
      "- Hamming window with 0.0194 passband ripple and 53 dB stopband attenuation\n",
      "- Lower passband edge: 0.50\n",
      "- Lower transition bandwidth: 0.50 Hz (-6 dB cutoff frequency: 0.25 Hz)\n",
      "- Upper passband edge: 100.00 Hz\n",
      "- Upper transition bandwidth: 25.00 Hz (-6 dB cutoff frequency: 112.50 Hz)\n",
      "- Filter length: 1691 samples (6.605 s)\n",
      "\n"
     ]
    },
    {
     "name": "stderr",
     "output_type": "stream",
     "text": [
      "[Parallel(n_jobs=1)]: Done  17 tasks      | elapsed:    1.2s\n"
     ]
    },
    {
     "name": "stdout",
     "output_type": "stream",
     "text": [
      "Filtering raw data in 1 contiguous segment\n",
      "Setting up band-stop filter from 56 - 64 Hz\n",
      "\n",
      "FIR filter parameters\n",
      "---------------------\n",
      "Designing a one-pass, zero-phase, non-causal bandstop filter:\n",
      "- Windowed time-domain design (firwin) method\n",
      "- Hamming window with 0.0194 passband ripple and 53 dB stopband attenuation\n",
      "- Lower passband edge: 56.50\n",
      "- Lower transition bandwidth: 0.50 Hz (-6 dB cutoff frequency: 56.25 Hz)\n",
      "- Upper passband edge: 63.50 Hz\n",
      "- Upper transition bandwidth: 0.50 Hz (-6 dB cutoff frequency: 63.75 Hz)\n",
      "- Filter length: 1691 samples (6.605 s)\n",
      "\n"
     ]
    },
    {
     "name": "stderr",
     "output_type": "stream",
     "text": [
      "[Parallel(n_jobs=1)]: Done  17 tasks      | elapsed:    1.9s\n"
     ]
    },
    {
     "name": "stdout",
     "output_type": "stream",
     "text": [
      "Writing E:\\New folder\\chb11\\chb11\\interictal\\chb11_25_normal_raw.fif\n",
      "Closing E:\\New folder\\chb11\\chb11\\interictal\\chb11_25_normal_raw.fif\n",
      "[done]\n",
      "Processing E:\\New folder\\chb11\\chb11_26.edf...\n",
      "Extracting EDF parameters from E:\\New folder\\chb11\\chb11_26.edf...\n",
      "EDF file detected\n",
      "Setting channel info structure...\n",
      "Creating raw.info structure...\n",
      "Reading 0 ... 921599  =      0.000 ...  3599.996 secs...\n"
     ]
    },
    {
     "name": "stderr",
     "output_type": "stream",
     "text": [
      "C:\\Users\\pc\\AppData\\Local\\Temp\\ipykernel_14248\\298778749.py:152: RuntimeWarning: Channel names are not unique, found duplicates for: {'T8-P8', '-'}. Applying running numbers for duplicates.\n",
      "  raw = mne.io.read_raw_edf(edf_file, preload=True)\n"
     ]
    },
    {
     "name": "stdout",
     "output_type": "stream",
     "text": [
      "NOTE: pick_channels() is a legacy function. New code should use inst.pick(...).\n",
      "Filtering raw data in 1 contiguous segment\n",
      "Setting up band-pass filter from 0.5 - 1e+02 Hz\n",
      "\n",
      "FIR filter parameters\n",
      "---------------------\n",
      "Designing a one-pass, zero-phase, non-causal bandpass filter:\n",
      "- Windowed time-domain design (firwin) method\n",
      "- Hamming window with 0.0194 passband ripple and 53 dB stopband attenuation\n",
      "- Lower passband edge: 0.50\n",
      "- Lower transition bandwidth: 0.50 Hz (-6 dB cutoff frequency: 0.25 Hz)\n",
      "- Upper passband edge: 100.00 Hz\n",
      "- Upper transition bandwidth: 25.00 Hz (-6 dB cutoff frequency: 112.50 Hz)\n",
      "- Filter length: 1691 samples (6.605 s)\n",
      "\n"
     ]
    },
    {
     "name": "stderr",
     "output_type": "stream",
     "text": [
      "[Parallel(n_jobs=1)]: Done  17 tasks      | elapsed:    1.2s\n"
     ]
    },
    {
     "name": "stdout",
     "output_type": "stream",
     "text": [
      "Filtering raw data in 1 contiguous segment\n",
      "Setting up band-stop filter from 56 - 64 Hz\n",
      "\n",
      "FIR filter parameters\n",
      "---------------------\n",
      "Designing a one-pass, zero-phase, non-causal bandstop filter:\n",
      "- Windowed time-domain design (firwin) method\n",
      "- Hamming window with 0.0194 passband ripple and 53 dB stopband attenuation\n",
      "- Lower passband edge: 56.50\n",
      "- Lower transition bandwidth: 0.50 Hz (-6 dB cutoff frequency: 56.25 Hz)\n",
      "- Upper passband edge: 63.50 Hz\n",
      "- Upper transition bandwidth: 0.50 Hz (-6 dB cutoff frequency: 63.75 Hz)\n",
      "- Filter length: 1691 samples (6.605 s)\n",
      "\n"
     ]
    },
    {
     "name": "stderr",
     "output_type": "stream",
     "text": [
      "[Parallel(n_jobs=1)]: Done  17 tasks      | elapsed:    0.9s\n"
     ]
    },
    {
     "name": "stdout",
     "output_type": "stream",
     "text": [
      "Writing E:\\New folder\\chb11\\chb11\\interictal\\chb11_26_normal_raw.fif\n",
      "Closing E:\\New folder\\chb11\\chb11\\interictal\\chb11_26_normal_raw.fif\n",
      "[done]\n",
      "Processing E:\\New folder\\chb11\\chb11_27.edf...\n",
      "Extracting EDF parameters from E:\\New folder\\chb11\\chb11_27.edf...\n",
      "EDF file detected\n",
      "Setting channel info structure...\n",
      "Creating raw.info structure...\n",
      "Reading 0 ... 921599  =      0.000 ...  3599.996 secs...\n"
     ]
    },
    {
     "name": "stderr",
     "output_type": "stream",
     "text": [
      "C:\\Users\\pc\\AppData\\Local\\Temp\\ipykernel_14248\\298778749.py:152: RuntimeWarning: Channel names are not unique, found duplicates for: {'T8-P8', '-'}. Applying running numbers for duplicates.\n",
      "  raw = mne.io.read_raw_edf(edf_file, preload=True)\n"
     ]
    },
    {
     "name": "stdout",
     "output_type": "stream",
     "text": [
      "NOTE: pick_channels() is a legacy function. New code should use inst.pick(...).\n",
      "Filtering raw data in 1 contiguous segment\n",
      "Setting up band-pass filter from 0.5 - 1e+02 Hz\n",
      "\n",
      "FIR filter parameters\n",
      "---------------------\n",
      "Designing a one-pass, zero-phase, non-causal bandpass filter:\n",
      "- Windowed time-domain design (firwin) method\n",
      "- Hamming window with 0.0194 passband ripple and 53 dB stopband attenuation\n",
      "- Lower passband edge: 0.50\n",
      "- Lower transition bandwidth: 0.50 Hz (-6 dB cutoff frequency: 0.25 Hz)\n",
      "- Upper passband edge: 100.00 Hz\n",
      "- Upper transition bandwidth: 25.00 Hz (-6 dB cutoff frequency: 112.50 Hz)\n",
      "- Filter length: 1691 samples (6.605 s)\n",
      "\n"
     ]
    },
    {
     "name": "stderr",
     "output_type": "stream",
     "text": [
      "[Parallel(n_jobs=1)]: Done  17 tasks      | elapsed:    0.9s\n"
     ]
    },
    {
     "name": "stdout",
     "output_type": "stream",
     "text": [
      "Filtering raw data in 1 contiguous segment\n",
      "Setting up band-stop filter from 56 - 64 Hz\n",
      "\n",
      "FIR filter parameters\n",
      "---------------------\n",
      "Designing a one-pass, zero-phase, non-causal bandstop filter:\n",
      "- Windowed time-domain design (firwin) method\n",
      "- Hamming window with 0.0194 passband ripple and 53 dB stopband attenuation\n",
      "- Lower passband edge: 56.50\n",
      "- Lower transition bandwidth: 0.50 Hz (-6 dB cutoff frequency: 56.25 Hz)\n",
      "- Upper passband edge: 63.50 Hz\n",
      "- Upper transition bandwidth: 0.50 Hz (-6 dB cutoff frequency: 63.75 Hz)\n",
      "- Filter length: 1691 samples (6.605 s)\n",
      "\n"
     ]
    },
    {
     "name": "stderr",
     "output_type": "stream",
     "text": [
      "[Parallel(n_jobs=1)]: Done  17 tasks      | elapsed:    0.8s\n"
     ]
    },
    {
     "name": "stdout",
     "output_type": "stream",
     "text": [
      "Writing E:\\New folder\\chb11\\chb11\\interictal\\chb11_27_normal_raw.fif\n",
      "Closing E:\\New folder\\chb11\\chb11\\interictal\\chb11_27_normal_raw.fif\n",
      "[done]\n",
      "Processing E:\\New folder\\chb11\\chb11_53.edf...\n",
      "Extracting EDF parameters from E:\\New folder\\chb11\\chb11_53.edf...\n",
      "EDF file detected\n",
      "Setting channel info structure...\n",
      "Creating raw.info structure...\n",
      "Reading 0 ... 921599  =      0.000 ...  3599.996 secs...\n"
     ]
    },
    {
     "name": "stderr",
     "output_type": "stream",
     "text": [
      "C:\\Users\\pc\\AppData\\Local\\Temp\\ipykernel_14248\\298778749.py:152: RuntimeWarning: Channel names are not unique, found duplicates for: {'T8-P8', '-'}. Applying running numbers for duplicates.\n",
      "  raw = mne.io.read_raw_edf(edf_file, preload=True)\n"
     ]
    },
    {
     "name": "stdout",
     "output_type": "stream",
     "text": [
      "NOTE: pick_channels() is a legacy function. New code should use inst.pick(...).\n",
      "Filtering raw data in 1 contiguous segment\n",
      "Setting up band-pass filter from 0.5 - 1e+02 Hz\n",
      "\n",
      "FIR filter parameters\n",
      "---------------------\n",
      "Designing a one-pass, zero-phase, non-causal bandpass filter:\n",
      "- Windowed time-domain design (firwin) method\n",
      "- Hamming window with 0.0194 passband ripple and 53 dB stopband attenuation\n",
      "- Lower passband edge: 0.50\n",
      "- Lower transition bandwidth: 0.50 Hz (-6 dB cutoff frequency: 0.25 Hz)\n",
      "- Upper passband edge: 100.00 Hz\n",
      "- Upper transition bandwidth: 25.00 Hz (-6 dB cutoff frequency: 112.50 Hz)\n",
      "- Filter length: 1691 samples (6.605 s)\n",
      "\n"
     ]
    },
    {
     "name": "stderr",
     "output_type": "stream",
     "text": [
      "[Parallel(n_jobs=1)]: Done  17 tasks      | elapsed:    1.2s\n"
     ]
    },
    {
     "name": "stdout",
     "output_type": "stream",
     "text": [
      "Filtering raw data in 1 contiguous segment\n",
      "Setting up band-stop filter from 56 - 64 Hz\n",
      "\n",
      "FIR filter parameters\n",
      "---------------------\n",
      "Designing a one-pass, zero-phase, non-causal bandstop filter:\n",
      "- Windowed time-domain design (firwin) method\n",
      "- Hamming window with 0.0194 passband ripple and 53 dB stopband attenuation\n",
      "- Lower passband edge: 56.50\n",
      "- Lower transition bandwidth: 0.50 Hz (-6 dB cutoff frequency: 56.25 Hz)\n",
      "- Upper passband edge: 63.50 Hz\n",
      "- Upper transition bandwidth: 0.50 Hz (-6 dB cutoff frequency: 63.75 Hz)\n",
      "- Filter length: 1691 samples (6.605 s)\n",
      "\n"
     ]
    },
    {
     "name": "stderr",
     "output_type": "stream",
     "text": [
      "[Parallel(n_jobs=1)]: Done  17 tasks      | elapsed:    2.5s\n"
     ]
    },
    {
     "name": "stdout",
     "output_type": "stream",
     "text": [
      "Writing E:\\New folder\\chb11\\chb11\\interictal\\chb11_53_normal_raw.fif\n",
      "Closing E:\\New folder\\chb11\\chb11\\interictal\\chb11_53_normal_raw.fif\n",
      "[done]\n",
      "Processing E:\\New folder\\chb11\\chb11_54.edf...\n",
      "Extracting EDF parameters from E:\\New folder\\chb11\\chb11_54.edf...\n",
      "EDF file detected\n",
      "Setting channel info structure...\n",
      "Creating raw.info structure...\n",
      "Reading 0 ... 921599  =      0.000 ...  3599.996 secs...\n"
     ]
    },
    {
     "name": "stderr",
     "output_type": "stream",
     "text": [
      "C:\\Users\\pc\\AppData\\Local\\Temp\\ipykernel_14248\\298778749.py:152: RuntimeWarning: Channel names are not unique, found duplicates for: {'T8-P8', '-'}. Applying running numbers for duplicates.\n",
      "  raw = mne.io.read_raw_edf(edf_file, preload=True)\n"
     ]
    },
    {
     "name": "stdout",
     "output_type": "stream",
     "text": [
      "NOTE: pick_channels() is a legacy function. New code should use inst.pick(...).\n",
      "Filtering raw data in 1 contiguous segment\n",
      "Setting up band-pass filter from 0.5 - 1e+02 Hz\n",
      "\n",
      "FIR filter parameters\n",
      "---------------------\n",
      "Designing a one-pass, zero-phase, non-causal bandpass filter:\n",
      "- Windowed time-domain design (firwin) method\n",
      "- Hamming window with 0.0194 passband ripple and 53 dB stopband attenuation\n",
      "- Lower passband edge: 0.50\n",
      "- Lower transition bandwidth: 0.50 Hz (-6 dB cutoff frequency: 0.25 Hz)\n",
      "- Upper passband edge: 100.00 Hz\n",
      "- Upper transition bandwidth: 25.00 Hz (-6 dB cutoff frequency: 112.50 Hz)\n",
      "- Filter length: 1691 samples (6.605 s)\n",
      "\n"
     ]
    },
    {
     "name": "stderr",
     "output_type": "stream",
     "text": [
      "[Parallel(n_jobs=1)]: Done  17 tasks      | elapsed:    0.9s\n"
     ]
    },
    {
     "name": "stdout",
     "output_type": "stream",
     "text": [
      "Filtering raw data in 1 contiguous segment\n",
      "Setting up band-stop filter from 56 - 64 Hz\n",
      "\n",
      "FIR filter parameters\n",
      "---------------------\n",
      "Designing a one-pass, zero-phase, non-causal bandstop filter:\n",
      "- Windowed time-domain design (firwin) method\n",
      "- Hamming window with 0.0194 passband ripple and 53 dB stopband attenuation\n",
      "- Lower passband edge: 56.50\n",
      "- Lower transition bandwidth: 0.50 Hz (-6 dB cutoff frequency: 56.25 Hz)\n",
      "- Upper passband edge: 63.50 Hz\n",
      "- Upper transition bandwidth: 0.50 Hz (-6 dB cutoff frequency: 63.75 Hz)\n",
      "- Filter length: 1691 samples (6.605 s)\n",
      "\n"
     ]
    },
    {
     "name": "stderr",
     "output_type": "stream",
     "text": [
      "[Parallel(n_jobs=1)]: Done  17 tasks      | elapsed:    0.9s\n"
     ]
    },
    {
     "name": "stdout",
     "output_type": "stream",
     "text": [
      "Writing E:\\New folder\\chb11\\chb11\\interictal\\chb11_54_normal_raw.fif\n",
      "Closing E:\\New folder\\chb11\\chb11\\interictal\\chb11_54_normal_raw.fif\n",
      "[done]\n",
      "Processing E:\\New folder\\chb11\\chb11_55.edf...\n",
      "Extracting EDF parameters from E:\\New folder\\chb11\\chb11_55.edf...\n",
      "EDF file detected\n",
      "Setting channel info structure...\n",
      "Creating raw.info structure...\n",
      "Reading 0 ... 921599  =      0.000 ...  3599.996 secs...\n"
     ]
    },
    {
     "name": "stderr",
     "output_type": "stream",
     "text": [
      "C:\\Users\\pc\\AppData\\Local\\Temp\\ipykernel_14248\\298778749.py:152: RuntimeWarning: Channel names are not unique, found duplicates for: {'T8-P8', '-'}. Applying running numbers for duplicates.\n",
      "  raw = mne.io.read_raw_edf(edf_file, preload=True)\n"
     ]
    },
    {
     "name": "stdout",
     "output_type": "stream",
     "text": [
      "NOTE: pick_channels() is a legacy function. New code should use inst.pick(...).\n",
      "Filtering raw data in 1 contiguous segment\n",
      "Setting up band-pass filter from 0.5 - 1e+02 Hz\n",
      "\n",
      "FIR filter parameters\n",
      "---------------------\n",
      "Designing a one-pass, zero-phase, non-causal bandpass filter:\n",
      "- Windowed time-domain design (firwin) method\n",
      "- Hamming window with 0.0194 passband ripple and 53 dB stopband attenuation\n",
      "- Lower passband edge: 0.50\n",
      "- Lower transition bandwidth: 0.50 Hz (-6 dB cutoff frequency: 0.25 Hz)\n",
      "- Upper passband edge: 100.00 Hz\n",
      "- Upper transition bandwidth: 25.00 Hz (-6 dB cutoff frequency: 112.50 Hz)\n",
      "- Filter length: 1691 samples (6.605 s)\n",
      "\n"
     ]
    },
    {
     "name": "stderr",
     "output_type": "stream",
     "text": [
      "[Parallel(n_jobs=1)]: Done  17 tasks      | elapsed:    0.8s\n"
     ]
    },
    {
     "name": "stdout",
     "output_type": "stream",
     "text": [
      "Filtering raw data in 1 contiguous segment\n",
      "Setting up band-stop filter from 56 - 64 Hz\n",
      "\n",
      "FIR filter parameters\n",
      "---------------------\n",
      "Designing a one-pass, zero-phase, non-causal bandstop filter:\n",
      "- Windowed time-domain design (firwin) method\n",
      "- Hamming window with 0.0194 passband ripple and 53 dB stopband attenuation\n",
      "- Lower passband edge: 56.50\n",
      "- Lower transition bandwidth: 0.50 Hz (-6 dB cutoff frequency: 56.25 Hz)\n",
      "- Upper passband edge: 63.50 Hz\n",
      "- Upper transition bandwidth: 0.50 Hz (-6 dB cutoff frequency: 63.75 Hz)\n",
      "- Filter length: 1691 samples (6.605 s)\n",
      "\n"
     ]
    },
    {
     "name": "stderr",
     "output_type": "stream",
     "text": [
      "[Parallel(n_jobs=1)]: Done  17 tasks      | elapsed:    0.9s\n"
     ]
    },
    {
     "name": "stdout",
     "output_type": "stream",
     "text": [
      "Writing E:\\New folder\\chb11\\chb11\\interictal\\chb11_55_normal_raw.fif\n",
      "Closing E:\\New folder\\chb11\\chb11\\interictal\\chb11_55_normal_raw.fif\n",
      "[done]\n",
      "Processing E:\\New folder\\chb11\\chb11_56.edf...\n",
      "Extracting EDF parameters from E:\\New folder\\chb11\\chb11_56.edf...\n",
      "EDF file detected\n",
      "Setting channel info structure...\n",
      "Creating raw.info structure...\n",
      "Reading 0 ... 921599  =      0.000 ...  3599.996 secs...\n"
     ]
    },
    {
     "name": "stderr",
     "output_type": "stream",
     "text": [
      "C:\\Users\\pc\\AppData\\Local\\Temp\\ipykernel_14248\\298778749.py:152: RuntimeWarning: Channel names are not unique, found duplicates for: {'T8-P8', '-'}. Applying running numbers for duplicates.\n",
      "  raw = mne.io.read_raw_edf(edf_file, preload=True)\n"
     ]
    },
    {
     "name": "stdout",
     "output_type": "stream",
     "text": [
      "NOTE: pick_channels() is a legacy function. New code should use inst.pick(...).\n",
      "Filtering raw data in 1 contiguous segment\n",
      "Setting up band-pass filter from 0.5 - 1e+02 Hz\n",
      "\n",
      "FIR filter parameters\n",
      "---------------------\n",
      "Designing a one-pass, zero-phase, non-causal bandpass filter:\n",
      "- Windowed time-domain design (firwin) method\n",
      "- Hamming window with 0.0194 passband ripple and 53 dB stopband attenuation\n",
      "- Lower passband edge: 0.50\n",
      "- Lower transition bandwidth: 0.50 Hz (-6 dB cutoff frequency: 0.25 Hz)\n",
      "- Upper passband edge: 100.00 Hz\n",
      "- Upper transition bandwidth: 25.00 Hz (-6 dB cutoff frequency: 112.50 Hz)\n",
      "- Filter length: 1691 samples (6.605 s)\n",
      "\n"
     ]
    },
    {
     "name": "stderr",
     "output_type": "stream",
     "text": [
      "[Parallel(n_jobs=1)]: Done  17 tasks      | elapsed:    1.0s\n"
     ]
    },
    {
     "name": "stdout",
     "output_type": "stream",
     "text": [
      "Filtering raw data in 1 contiguous segment\n",
      "Setting up band-stop filter from 56 - 64 Hz\n",
      "\n",
      "FIR filter parameters\n",
      "---------------------\n",
      "Designing a one-pass, zero-phase, non-causal bandstop filter:\n",
      "- Windowed time-domain design (firwin) method\n",
      "- Hamming window with 0.0194 passband ripple and 53 dB stopband attenuation\n",
      "- Lower passband edge: 56.50\n",
      "- Lower transition bandwidth: 0.50 Hz (-6 dB cutoff frequency: 56.25 Hz)\n",
      "- Upper passband edge: 63.50 Hz\n",
      "- Upper transition bandwidth: 0.50 Hz (-6 dB cutoff frequency: 63.75 Hz)\n",
      "- Filter length: 1691 samples (6.605 s)\n",
      "\n"
     ]
    },
    {
     "name": "stderr",
     "output_type": "stream",
     "text": [
      "[Parallel(n_jobs=1)]: Done  17 tasks      | elapsed:    0.8s\n"
     ]
    },
    {
     "name": "stdout",
     "output_type": "stream",
     "text": [
      "Writing E:\\New folder\\chb11\\chb11\\interictal\\chb11_56_normal_raw.fif\n",
      "Closing E:\\New folder\\chb11\\chb11\\interictal\\chb11_56_normal_raw.fif\n",
      "[done]\n",
      "Processing E:\\New folder\\chb11\\chb11_58.edf...\n",
      "Extracting EDF parameters from E:\\New folder\\chb11\\chb11_58.edf...\n",
      "EDF file detected\n",
      "Setting channel info structure...\n",
      "Creating raw.info structure...\n",
      "Reading 0 ... 921599  =      0.000 ...  3599.996 secs...\n"
     ]
    },
    {
     "name": "stderr",
     "output_type": "stream",
     "text": [
      "C:\\Users\\pc\\AppData\\Local\\Temp\\ipykernel_14248\\298778749.py:152: RuntimeWarning: Channel names are not unique, found duplicates for: {'T8-P8', '-'}. Applying running numbers for duplicates.\n",
      "  raw = mne.io.read_raw_edf(edf_file, preload=True)\n"
     ]
    },
    {
     "name": "stdout",
     "output_type": "stream",
     "text": [
      "NOTE: pick_channels() is a legacy function. New code should use inst.pick(...).\n",
      "Filtering raw data in 1 contiguous segment\n",
      "Setting up band-pass filter from 0.5 - 1e+02 Hz\n",
      "\n",
      "FIR filter parameters\n",
      "---------------------\n",
      "Designing a one-pass, zero-phase, non-causal bandpass filter:\n",
      "- Windowed time-domain design (firwin) method\n",
      "- Hamming window with 0.0194 passband ripple and 53 dB stopband attenuation\n",
      "- Lower passband edge: 0.50\n",
      "- Lower transition bandwidth: 0.50 Hz (-6 dB cutoff frequency: 0.25 Hz)\n",
      "- Upper passband edge: 100.00 Hz\n",
      "- Upper transition bandwidth: 25.00 Hz (-6 dB cutoff frequency: 112.50 Hz)\n",
      "- Filter length: 1691 samples (6.605 s)\n",
      "\n"
     ]
    },
    {
     "name": "stderr",
     "output_type": "stream",
     "text": [
      "[Parallel(n_jobs=1)]: Done  17 tasks      | elapsed:    1.1s\n"
     ]
    },
    {
     "name": "stdout",
     "output_type": "stream",
     "text": [
      "Filtering raw data in 1 contiguous segment\n",
      "Setting up band-stop filter from 56 - 64 Hz\n",
      "\n",
      "FIR filter parameters\n",
      "---------------------\n",
      "Designing a one-pass, zero-phase, non-causal bandstop filter:\n",
      "- Windowed time-domain design (firwin) method\n",
      "- Hamming window with 0.0194 passband ripple and 53 dB stopband attenuation\n",
      "- Lower passband edge: 56.50\n",
      "- Lower transition bandwidth: 0.50 Hz (-6 dB cutoff frequency: 56.25 Hz)\n",
      "- Upper passband edge: 63.50 Hz\n",
      "- Upper transition bandwidth: 0.50 Hz (-6 dB cutoff frequency: 63.75 Hz)\n",
      "- Filter length: 1691 samples (6.605 s)\n",
      "\n"
     ]
    },
    {
     "name": "stderr",
     "output_type": "stream",
     "text": [
      "[Parallel(n_jobs=1)]: Done  17 tasks      | elapsed:    0.8s\n"
     ]
    },
    {
     "name": "stdout",
     "output_type": "stream",
     "text": [
      "Writing E:\\New folder\\chb11\\chb11\\interictal\\chb11_58_normal_raw.fif\n",
      "Closing E:\\New folder\\chb11\\chb11\\interictal\\chb11_58_normal_raw.fif\n",
      "[done]\n",
      "Processing E:\\New folder\\chb11\\chb11_60.edf...\n",
      "Extracting EDF parameters from E:\\New folder\\chb11\\chb11_60.edf...\n",
      "EDF file detected\n",
      "Setting channel info structure...\n",
      "Creating raw.info structure...\n",
      "Reading 0 ... 921599  =      0.000 ...  3599.996 secs...\n"
     ]
    },
    {
     "name": "stderr",
     "output_type": "stream",
     "text": [
      "C:\\Users\\pc\\AppData\\Local\\Temp\\ipykernel_14248\\298778749.py:152: RuntimeWarning: Channel names are not unique, found duplicates for: {'T8-P8', '-'}. Applying running numbers for duplicates.\n",
      "  raw = mne.io.read_raw_edf(edf_file, preload=True)\n"
     ]
    },
    {
     "name": "stdout",
     "output_type": "stream",
     "text": [
      "NOTE: pick_channels() is a legacy function. New code should use inst.pick(...).\n",
      "Filtering raw data in 1 contiguous segment\n",
      "Setting up band-pass filter from 0.5 - 1e+02 Hz\n",
      "\n",
      "FIR filter parameters\n",
      "---------------------\n",
      "Designing a one-pass, zero-phase, non-causal bandpass filter:\n",
      "- Windowed time-domain design (firwin) method\n",
      "- Hamming window with 0.0194 passband ripple and 53 dB stopband attenuation\n",
      "- Lower passband edge: 0.50\n",
      "- Lower transition bandwidth: 0.50 Hz (-6 dB cutoff frequency: 0.25 Hz)\n",
      "- Upper passband edge: 100.00 Hz\n",
      "- Upper transition bandwidth: 25.00 Hz (-6 dB cutoff frequency: 112.50 Hz)\n",
      "- Filter length: 1691 samples (6.605 s)\n",
      "\n"
     ]
    },
    {
     "name": "stderr",
     "output_type": "stream",
     "text": [
      "[Parallel(n_jobs=1)]: Done  17 tasks      | elapsed:    0.9s\n"
     ]
    },
    {
     "name": "stdout",
     "output_type": "stream",
     "text": [
      "Filtering raw data in 1 contiguous segment\n",
      "Setting up band-stop filter from 56 - 64 Hz\n",
      "\n",
      "FIR filter parameters\n",
      "---------------------\n",
      "Designing a one-pass, zero-phase, non-causal bandstop filter:\n",
      "- Windowed time-domain design (firwin) method\n",
      "- Hamming window with 0.0194 passband ripple and 53 dB stopband attenuation\n",
      "- Lower passband edge: 56.50\n",
      "- Lower transition bandwidth: 0.50 Hz (-6 dB cutoff frequency: 56.25 Hz)\n",
      "- Upper passband edge: 63.50 Hz\n",
      "- Upper transition bandwidth: 0.50 Hz (-6 dB cutoff frequency: 63.75 Hz)\n",
      "- Filter length: 1691 samples (6.605 s)\n",
      "\n"
     ]
    },
    {
     "name": "stderr",
     "output_type": "stream",
     "text": [
      "[Parallel(n_jobs=1)]: Done  17 tasks      | elapsed:    0.9s\n"
     ]
    },
    {
     "name": "stdout",
     "output_type": "stream",
     "text": [
      "Writing E:\\New folder\\chb11\\chb11\\interictal\\chb11_60_normal_raw.fif\n",
      "Closing E:\\New folder\\chb11\\chb11\\interictal\\chb11_60_normal_raw.fif\n",
      "[done]\n",
      "Processing E:\\New folder\\chb11\\chb11_61.edf...\n",
      "Extracting EDF parameters from E:\\New folder\\chb11\\chb11_61.edf...\n",
      "EDF file detected\n",
      "Setting channel info structure...\n",
      "Creating raw.info structure...\n",
      "Reading 0 ... 921599  =      0.000 ...  3599.996 secs...\n"
     ]
    },
    {
     "name": "stderr",
     "output_type": "stream",
     "text": [
      "C:\\Users\\pc\\AppData\\Local\\Temp\\ipykernel_14248\\298778749.py:152: RuntimeWarning: Channel names are not unique, found duplicates for: {'T8-P8', '-'}. Applying running numbers for duplicates.\n",
      "  raw = mne.io.read_raw_edf(edf_file, preload=True)\n"
     ]
    },
    {
     "name": "stdout",
     "output_type": "stream",
     "text": [
      "NOTE: pick_channels() is a legacy function. New code should use inst.pick(...).\n",
      "Filtering raw data in 1 contiguous segment\n",
      "Setting up band-pass filter from 0.5 - 1e+02 Hz\n",
      "\n",
      "FIR filter parameters\n",
      "---------------------\n",
      "Designing a one-pass, zero-phase, non-causal bandpass filter:\n",
      "- Windowed time-domain design (firwin) method\n",
      "- Hamming window with 0.0194 passband ripple and 53 dB stopband attenuation\n",
      "- Lower passband edge: 0.50\n",
      "- Lower transition bandwidth: 0.50 Hz (-6 dB cutoff frequency: 0.25 Hz)\n",
      "- Upper passband edge: 100.00 Hz\n",
      "- Upper transition bandwidth: 25.00 Hz (-6 dB cutoff frequency: 112.50 Hz)\n",
      "- Filter length: 1691 samples (6.605 s)\n",
      "\n"
     ]
    },
    {
     "name": "stderr",
     "output_type": "stream",
     "text": [
      "[Parallel(n_jobs=1)]: Done  17 tasks      | elapsed:    1.0s\n"
     ]
    },
    {
     "name": "stdout",
     "output_type": "stream",
     "text": [
      "Filtering raw data in 1 contiguous segment\n",
      "Setting up band-stop filter from 56 - 64 Hz\n",
      "\n",
      "FIR filter parameters\n",
      "---------------------\n",
      "Designing a one-pass, zero-phase, non-causal bandstop filter:\n",
      "- Windowed time-domain design (firwin) method\n",
      "- Hamming window with 0.0194 passband ripple and 53 dB stopband attenuation\n",
      "- Lower passband edge: 56.50\n",
      "- Lower transition bandwidth: 0.50 Hz (-6 dB cutoff frequency: 56.25 Hz)\n",
      "- Upper passband edge: 63.50 Hz\n",
      "- Upper transition bandwidth: 0.50 Hz (-6 dB cutoff frequency: 63.75 Hz)\n",
      "- Filter length: 1691 samples (6.605 s)\n",
      "\n"
     ]
    },
    {
     "name": "stderr",
     "output_type": "stream",
     "text": [
      "[Parallel(n_jobs=1)]: Done  17 tasks      | elapsed:    0.7s\n"
     ]
    },
    {
     "name": "stdout",
     "output_type": "stream",
     "text": [
      "Writing E:\\New folder\\chb11\\chb11\\interictal\\chb11_61_normal_raw.fif\n",
      "Closing E:\\New folder\\chb11\\chb11\\interictal\\chb11_61_normal_raw.fif\n",
      "[done]\n",
      "Processing E:\\New folder\\chb11\\chb11_62.edf...\n",
      "Extracting EDF parameters from E:\\New folder\\chb11\\chb11_62.edf...\n",
      "EDF file detected\n",
      "Setting channel info structure...\n",
      "Creating raw.info structure...\n",
      "Reading 0 ... 921599  =      0.000 ...  3599.996 secs...\n"
     ]
    },
    {
     "name": "stderr",
     "output_type": "stream",
     "text": [
      "C:\\Users\\pc\\AppData\\Local\\Temp\\ipykernel_14248\\298778749.py:152: RuntimeWarning: Channel names are not unique, found duplicates for: {'T8-P8', '-'}. Applying running numbers for duplicates.\n",
      "  raw = mne.io.read_raw_edf(edf_file, preload=True)\n"
     ]
    },
    {
     "name": "stdout",
     "output_type": "stream",
     "text": [
      "NOTE: pick_channels() is a legacy function. New code should use inst.pick(...).\n",
      "Filtering raw data in 1 contiguous segment\n",
      "Setting up band-pass filter from 0.5 - 1e+02 Hz\n",
      "\n",
      "FIR filter parameters\n",
      "---------------------\n",
      "Designing a one-pass, zero-phase, non-causal bandpass filter:\n",
      "- Windowed time-domain design (firwin) method\n",
      "- Hamming window with 0.0194 passband ripple and 53 dB stopband attenuation\n",
      "- Lower passband edge: 0.50\n",
      "- Lower transition bandwidth: 0.50 Hz (-6 dB cutoff frequency: 0.25 Hz)\n",
      "- Upper passband edge: 100.00 Hz\n",
      "- Upper transition bandwidth: 25.00 Hz (-6 dB cutoff frequency: 112.50 Hz)\n",
      "- Filter length: 1691 samples (6.605 s)\n",
      "\n"
     ]
    },
    {
     "name": "stderr",
     "output_type": "stream",
     "text": [
      "[Parallel(n_jobs=1)]: Done  17 tasks      | elapsed:    0.6s\n"
     ]
    },
    {
     "name": "stdout",
     "output_type": "stream",
     "text": [
      "Filtering raw data in 1 contiguous segment\n",
      "Setting up band-stop filter from 56 - 64 Hz\n",
      "\n",
      "FIR filter parameters\n",
      "---------------------\n",
      "Designing a one-pass, zero-phase, non-causal bandstop filter:\n",
      "- Windowed time-domain design (firwin) method\n",
      "- Hamming window with 0.0194 passband ripple and 53 dB stopband attenuation\n",
      "- Lower passband edge: 56.50\n",
      "- Lower transition bandwidth: 0.50 Hz (-6 dB cutoff frequency: 56.25 Hz)\n",
      "- Upper passband edge: 63.50 Hz\n",
      "- Upper transition bandwidth: 0.50 Hz (-6 dB cutoff frequency: 63.75 Hz)\n",
      "- Filter length: 1691 samples (6.605 s)\n",
      "\n"
     ]
    },
    {
     "name": "stderr",
     "output_type": "stream",
     "text": [
      "[Parallel(n_jobs=1)]: Done  17 tasks      | elapsed:    1.0s\n"
     ]
    },
    {
     "name": "stdout",
     "output_type": "stream",
     "text": [
      "Writing E:\\New folder\\chb11\\chb11\\interictal\\chb11_62_normal_raw.fif\n",
      "Closing E:\\New folder\\chb11\\chb11\\interictal\\chb11_62_normal_raw.fif\n",
      "[done]\n",
      "Processing E:\\New folder\\chb11\\chb11_63.edf...\n",
      "Extracting EDF parameters from E:\\New folder\\chb11\\chb11_63.edf...\n",
      "EDF file detected\n",
      "Setting channel info structure...\n",
      "Creating raw.info structure...\n",
      "Reading 0 ... 921599  =      0.000 ...  3599.996 secs...\n"
     ]
    },
    {
     "name": "stderr",
     "output_type": "stream",
     "text": [
      "C:\\Users\\pc\\AppData\\Local\\Temp\\ipykernel_14248\\298778749.py:152: RuntimeWarning: Channel names are not unique, found duplicates for: {'T8-P8', '-'}. Applying running numbers for duplicates.\n",
      "  raw = mne.io.read_raw_edf(edf_file, preload=True)\n"
     ]
    },
    {
     "name": "stdout",
     "output_type": "stream",
     "text": [
      "NOTE: pick_channels() is a legacy function. New code should use inst.pick(...).\n",
      "Filtering raw data in 1 contiguous segment\n",
      "Setting up band-pass filter from 0.5 - 1e+02 Hz\n",
      "\n",
      "FIR filter parameters\n",
      "---------------------\n",
      "Designing a one-pass, zero-phase, non-causal bandpass filter:\n",
      "- Windowed time-domain design (firwin) method\n",
      "- Hamming window with 0.0194 passband ripple and 53 dB stopband attenuation\n",
      "- Lower passband edge: 0.50\n",
      "- Lower transition bandwidth: 0.50 Hz (-6 dB cutoff frequency: 0.25 Hz)\n",
      "- Upper passband edge: 100.00 Hz\n",
      "- Upper transition bandwidth: 25.00 Hz (-6 dB cutoff frequency: 112.50 Hz)\n",
      "- Filter length: 1691 samples (6.605 s)\n",
      "\n"
     ]
    },
    {
     "name": "stderr",
     "output_type": "stream",
     "text": [
      "[Parallel(n_jobs=1)]: Done  17 tasks      | elapsed:    1.0s\n"
     ]
    },
    {
     "name": "stdout",
     "output_type": "stream",
     "text": [
      "Filtering raw data in 1 contiguous segment\n",
      "Setting up band-stop filter from 56 - 64 Hz\n",
      "\n",
      "FIR filter parameters\n",
      "---------------------\n",
      "Designing a one-pass, zero-phase, non-causal bandstop filter:\n",
      "- Windowed time-domain design (firwin) method\n",
      "- Hamming window with 0.0194 passband ripple and 53 dB stopband attenuation\n",
      "- Lower passband edge: 56.50\n",
      "- Lower transition bandwidth: 0.50 Hz (-6 dB cutoff frequency: 56.25 Hz)\n",
      "- Upper passband edge: 63.50 Hz\n",
      "- Upper transition bandwidth: 0.50 Hz (-6 dB cutoff frequency: 63.75 Hz)\n",
      "- Filter length: 1691 samples (6.605 s)\n",
      "\n"
     ]
    },
    {
     "name": "stderr",
     "output_type": "stream",
     "text": [
      "[Parallel(n_jobs=1)]: Done  17 tasks      | elapsed:    0.8s\n"
     ]
    },
    {
     "name": "stdout",
     "output_type": "stream",
     "text": [
      "Writing E:\\New folder\\chb11\\chb11\\interictal\\chb11_63_normal_raw.fif\n",
      "Closing E:\\New folder\\chb11\\chb11\\interictal\\chb11_63_normal_raw.fif\n",
      "[done]\n",
      "Processing E:\\New folder\\chb11\\chb11_82.edf...\n",
      "Extracting EDF parameters from E:\\New folder\\chb11\\chb11_82.edf...\n",
      "EDF file detected\n",
      "Setting channel info structure...\n",
      "Creating raw.info structure...\n",
      "Reading 0 ... 921599  =      0.000 ...  3599.996 secs...\n"
     ]
    },
    {
     "name": "stderr",
     "output_type": "stream",
     "text": [
      "C:\\Users\\pc\\AppData\\Local\\Temp\\ipykernel_14248\\298778749.py:152: RuntimeWarning: Channel names are not unique, found duplicates for: {'T8-P8', '-'}. Applying running numbers for duplicates.\n",
      "  raw = mne.io.read_raw_edf(edf_file, preload=True)\n"
     ]
    },
    {
     "name": "stdout",
     "output_type": "stream",
     "text": [
      "NOTE: pick_channels() is a legacy function. New code should use inst.pick(...).\n",
      "Filtering raw data in 1 contiguous segment\n",
      "Setting up band-pass filter from 0.5 - 1e+02 Hz\n",
      "\n",
      "FIR filter parameters\n",
      "---------------------\n",
      "Designing a one-pass, zero-phase, non-causal bandpass filter:\n",
      "- Windowed time-domain design (firwin) method\n",
      "- Hamming window with 0.0194 passband ripple and 53 dB stopband attenuation\n",
      "- Lower passband edge: 0.50\n",
      "- Lower transition bandwidth: 0.50 Hz (-6 dB cutoff frequency: 0.25 Hz)\n",
      "- Upper passband edge: 100.00 Hz\n",
      "- Upper transition bandwidth: 25.00 Hz (-6 dB cutoff frequency: 112.50 Hz)\n",
      "- Filter length: 1691 samples (6.605 s)\n",
      "\n"
     ]
    },
    {
     "name": "stderr",
     "output_type": "stream",
     "text": [
      "[Parallel(n_jobs=1)]: Done  17 tasks      | elapsed:    1.0s\n"
     ]
    },
    {
     "name": "stdout",
     "output_type": "stream",
     "text": [
      "Filtering raw data in 1 contiguous segment\n",
      "Setting up band-stop filter from 56 - 64 Hz\n",
      "\n",
      "FIR filter parameters\n",
      "---------------------\n",
      "Designing a one-pass, zero-phase, non-causal bandstop filter:\n",
      "- Windowed time-domain design (firwin) method\n",
      "- Hamming window with 0.0194 passband ripple and 53 dB stopband attenuation\n",
      "- Lower passband edge: 56.50\n",
      "- Lower transition bandwidth: 0.50 Hz (-6 dB cutoff frequency: 56.25 Hz)\n",
      "- Upper passband edge: 63.50 Hz\n",
      "- Upper transition bandwidth: 0.50 Hz (-6 dB cutoff frequency: 63.75 Hz)\n",
      "- Filter length: 1691 samples (6.605 s)\n",
      "\n"
     ]
    },
    {
     "name": "stderr",
     "output_type": "stream",
     "text": [
      "[Parallel(n_jobs=1)]: Done  17 tasks      | elapsed:    1.0s\n"
     ]
    },
    {
     "name": "stdout",
     "output_type": "stream",
     "text": [
      "Writing E:\\New folder\\chb11\\chb11\\preictal\\chb11_82.edf_preictal_1_raw.fif\n",
      "Closing E:\\New folder\\chb11\\chb11\\preictal\\chb11_82.edf_preictal_1_raw.fif\n",
      "[done]\n",
      "Saved preictal segment to E:\\New folder\\chb11\\chb11\\preictal\\chb11_82.edf_preictal_1_raw.fif\n",
      "Writing E:\\New folder\\chb11\\chb11\\ictal\\chb11_82.edf_ictal_1_raw.fif\n",
      "Closing E:\\New folder\\chb11\\chb11\\ictal\\chb11_82.edf_ictal_1_raw.fif\n",
      "[done]\n",
      "Saved ictal segment to E:\\New folder\\chb11\\chb11\\ictal\\chb11_82.edf_ictal_1_raw.fif\n",
      "Writing E:\\New folder\\chb11\\chb11\\postictal\\chb11_82.edf_postictal_1_raw.fif\n",
      "Closing E:\\New folder\\chb11\\chb11\\postictal\\chb11_82.edf_postictal_1_raw.fif\n",
      "[done]\n",
      "Saved postictal segment to E:\\New folder\\chb11\\chb11\\postictal\\chb11_82.edf_postictal_1_raw.fif\n",
      "Writing E:\\New folder\\chb11\\chb11\\interictal\\chb11_82.edf_interictal_1_raw.fif\n",
      "Closing E:\\New folder\\chb11\\chb11\\interictal\\chb11_82.edf_interictal_1_raw.fif\n",
      "[done]\n",
      "Saved interictal segment to E:\\New folder\\chb11\\chb11\\interictal\\chb11_82.edf_interictal_1_raw.fif\n",
      "Processing E:\\New folder\\chb11\\chb11_92.edf...\n",
      "Extracting EDF parameters from E:\\New folder\\chb11\\chb11_92.edf...\n",
      "EDF file detected\n",
      "Setting channel info structure...\n",
      "Creating raw.info structure...\n",
      "Reading 0 ... 921599  =      0.000 ...  3599.996 secs...\n"
     ]
    },
    {
     "name": "stderr",
     "output_type": "stream",
     "text": [
      "C:\\Users\\pc\\AppData\\Local\\Temp\\ipykernel_14248\\298778749.py:152: RuntimeWarning: Channel names are not unique, found duplicates for: {'T8-P8', '-'}. Applying running numbers for duplicates.\n",
      "  raw = mne.io.read_raw_edf(edf_file, preload=True)\n"
     ]
    },
    {
     "name": "stdout",
     "output_type": "stream",
     "text": [
      "NOTE: pick_channels() is a legacy function. New code should use inst.pick(...).\n",
      "Filtering raw data in 1 contiguous segment\n",
      "Setting up band-pass filter from 0.5 - 1e+02 Hz\n",
      "\n",
      "FIR filter parameters\n",
      "---------------------\n",
      "Designing a one-pass, zero-phase, non-causal bandpass filter:\n",
      "- Windowed time-domain design (firwin) method\n",
      "- Hamming window with 0.0194 passband ripple and 53 dB stopband attenuation\n",
      "- Lower passband edge: 0.50\n",
      "- Lower transition bandwidth: 0.50 Hz (-6 dB cutoff frequency: 0.25 Hz)\n",
      "- Upper passband edge: 100.00 Hz\n",
      "- Upper transition bandwidth: 25.00 Hz (-6 dB cutoff frequency: 112.50 Hz)\n",
      "- Filter length: 1691 samples (6.605 s)\n",
      "\n"
     ]
    },
    {
     "name": "stderr",
     "output_type": "stream",
     "text": [
      "[Parallel(n_jobs=1)]: Done  17 tasks      | elapsed:    1.0s\n"
     ]
    },
    {
     "name": "stdout",
     "output_type": "stream",
     "text": [
      "Filtering raw data in 1 contiguous segment\n",
      "Setting up band-stop filter from 56 - 64 Hz\n",
      "\n",
      "FIR filter parameters\n",
      "---------------------\n",
      "Designing a one-pass, zero-phase, non-causal bandstop filter:\n",
      "- Windowed time-domain design (firwin) method\n",
      "- Hamming window with 0.0194 passband ripple and 53 dB stopband attenuation\n",
      "- Lower passband edge: 56.50\n",
      "- Lower transition bandwidth: 0.50 Hz (-6 dB cutoff frequency: 56.25 Hz)\n",
      "- Upper passband edge: 63.50 Hz\n",
      "- Upper transition bandwidth: 0.50 Hz (-6 dB cutoff frequency: 63.75 Hz)\n",
      "- Filter length: 1691 samples (6.605 s)\n",
      "\n"
     ]
    },
    {
     "name": "stderr",
     "output_type": "stream",
     "text": [
      "[Parallel(n_jobs=1)]: Done  17 tasks      | elapsed:    0.9s\n"
     ]
    },
    {
     "name": "stdout",
     "output_type": "stream",
     "text": [
      "Writing E:\\New folder\\chb11\\chb11\\preictal\\chb11_92.edf_preictal_1_raw.fif\n",
      "Closing E:\\New folder\\chb11\\chb11\\preictal\\chb11_92.edf_preictal_1_raw.fif\n",
      "[done]\n",
      "Saved preictal segment to E:\\New folder\\chb11\\chb11\\preictal\\chb11_92.edf_preictal_1_raw.fif\n",
      "Writing E:\\New folder\\chb11\\chb11\\ictal\\chb11_92.edf_ictal_1_raw.fif\n",
      "Closing E:\\New folder\\chb11\\chb11\\ictal\\chb11_92.edf_ictal_1_raw.fif\n",
      "[done]\n",
      "Saved ictal segment to E:\\New folder\\chb11\\chb11\\ictal\\chb11_92.edf_ictal_1_raw.fif\n",
      "Writing E:\\New folder\\chb11\\chb11\\postictal\\chb11_92.edf_postictal_1_raw.fif\n",
      "Closing E:\\New folder\\chb11\\chb11\\postictal\\chb11_92.edf_postictal_1_raw.fif\n",
      "[done]\n",
      "Saved postictal segment to E:\\New folder\\chb11\\chb11\\postictal\\chb11_92.edf_postictal_1_raw.fif\n",
      "Processing E:\\New folder\\chb11\\chb11_99.edf...\n",
      "Extracting EDF parameters from E:\\New folder\\chb11\\chb11_99.edf...\n",
      "EDF file detected\n",
      "Setting channel info structure...\n",
      "Creating raw.info structure...\n",
      "Reading 0 ... 731903  =      0.000 ...  2858.996 secs...\n"
     ]
    },
    {
     "name": "stderr",
     "output_type": "stream",
     "text": [
      "C:\\Users\\pc\\AppData\\Local\\Temp\\ipykernel_14248\\298778749.py:152: RuntimeWarning: Channel names are not unique, found duplicates for: {'T8-P8', '-'}. Applying running numbers for duplicates.\n",
      "  raw = mne.io.read_raw_edf(edf_file, preload=True)\n"
     ]
    },
    {
     "name": "stdout",
     "output_type": "stream",
     "text": [
      "NOTE: pick_channels() is a legacy function. New code should use inst.pick(...).\n",
      "Filtering raw data in 1 contiguous segment\n",
      "Setting up band-pass filter from 0.5 - 1e+02 Hz\n",
      "\n",
      "FIR filter parameters\n",
      "---------------------\n",
      "Designing a one-pass, zero-phase, non-causal bandpass filter:\n",
      "- Windowed time-domain design (firwin) method\n",
      "- Hamming window with 0.0194 passband ripple and 53 dB stopband attenuation\n",
      "- Lower passband edge: 0.50\n",
      "- Lower transition bandwidth: 0.50 Hz (-6 dB cutoff frequency: 0.25 Hz)\n",
      "- Upper passband edge: 100.00 Hz\n",
      "- Upper transition bandwidth: 25.00 Hz (-6 dB cutoff frequency: 112.50 Hz)\n",
      "- Filter length: 1691 samples (6.605 s)\n",
      "\n"
     ]
    },
    {
     "name": "stderr",
     "output_type": "stream",
     "text": [
      "[Parallel(n_jobs=1)]: Done  17 tasks      | elapsed:    0.6s\n"
     ]
    },
    {
     "name": "stdout",
     "output_type": "stream",
     "text": [
      "Filtering raw data in 1 contiguous segment\n",
      "Setting up band-stop filter from 56 - 64 Hz\n",
      "\n",
      "FIR filter parameters\n",
      "---------------------\n",
      "Designing a one-pass, zero-phase, non-causal bandstop filter:\n",
      "- Windowed time-domain design (firwin) method\n",
      "- Hamming window with 0.0194 passband ripple and 53 dB stopband attenuation\n",
      "- Lower passband edge: 56.50\n",
      "- Lower transition bandwidth: 0.50 Hz (-6 dB cutoff frequency: 56.25 Hz)\n",
      "- Upper passband edge: 63.50 Hz\n",
      "- Upper transition bandwidth: 0.50 Hz (-6 dB cutoff frequency: 63.75 Hz)\n",
      "- Filter length: 1691 samples (6.605 s)\n",
      "\n"
     ]
    },
    {
     "name": "stderr",
     "output_type": "stream",
     "text": [
      "[Parallel(n_jobs=1)]: Done  17 tasks      | elapsed:    0.7s\n"
     ]
    },
    {
     "name": "stdout",
     "output_type": "stream",
     "text": [
      "Writing E:\\New folder\\chb11\\chb11\\preictal\\chb11_99.edf_preictal_1_raw.fif\n",
      "Closing E:\\New folder\\chb11\\chb11\\preictal\\chb11_99.edf_preictal_1_raw.fif\n",
      "[done]\n",
      "Saved preictal segment to E:\\New folder\\chb11\\chb11\\preictal\\chb11_99.edf_preictal_1_raw.fif\n",
      "Writing E:\\New folder\\chb11\\chb11\\ictal\\chb11_99.edf_ictal_1_raw.fif\n",
      "Closing E:\\New folder\\chb11\\chb11\\ictal\\chb11_99.edf_ictal_1_raw.fif\n",
      "[done]\n",
      "Saved ictal segment to E:\\New folder\\chb11\\chb11\\ictal\\chb11_99.edf_ictal_1_raw.fif\n",
      "Writing E:\\New folder\\chb11\\chb11\\postictal\\chb11_99.edf_postictal_1_raw.fif\n",
      "Closing E:\\New folder\\chb11\\chb11\\postictal\\chb11_99.edf_postictal_1_raw.fif\n",
      "[done]\n",
      "Saved postictal segment to E:\\New folder\\chb11\\chb11\\postictal\\chb11_99.edf_postictal_1_raw.fif\n"
     ]
    }
   ],
   "source": [
    "import os\n",
    "import shutil\n",
    "import mne\n",
    "\n",
    "# Load and Parse Data\n",
    "def load_and_parse_data(P_folder):\n",
    "    all_edf_file_paths = [os.path.join(P_folder, f) for f in os.listdir(P_folder) if f.endswith('.edf')]\n",
    "    summary_file_path = [os.path.join(P_folder, f) for f in os.listdir(P_folder) if f.endswith('.txt')][0]\n",
    "    \n",
    "    with open(summary_file_path, 'r') as file:\n",
    "        summary_content = file.readlines()\n",
    "\n",
    "    seizure_times = parse_seizure_times(summary_content)\n",
    "    return all_edf_file_paths, seizure_times\n",
    "\n",
    "def parse_seizure_times(summary_content):\n",
    "    seizure_times = {}\n",
    "    current_file = None\n",
    "    summary_iterator = iter(summary_content)  # Convert list to iterator\n",
    "\n",
    "    for line in summary_iterator:\n",
    "        if 'File Name' in line:\n",
    "            current_file = line.split(':')[-1].strip()\n",
    "            seizure_times[current_file] = []\n",
    "        elif 'Seizure' in line and 'Start Time' in line:\n",
    "            start_time = int(line.split(':')[-1].strip().split(' ')[0])\n",
    "            end_time_line = next(summary_iterator)\n",
    "            if 'End Time' in end_time_line:\n",
    "                end_time = int(end_time_line.split(':')[-1].strip().split(' ')[0])\n",
    "                seizure_times[current_file].append((start_time, end_time))\n",
    "    \n",
    "    return seizure_times\n",
    "\n",
    "\n",
    "\n",
    "# Annotate EEG Data\n",
    "def annotate_eeg_data(raw, seizure_times, preictal_duration=30*60, postictal_duration=10*60, buffer_duration=30*60):\n",
    "    file_name = os.path.basename(raw.filenames[0])\n",
    "\n",
    "    if file_name in seizure_times:\n",
    "        last_end = 0\n",
    "        for start, end in seizure_times[file_name]:\n",
    "            if start - preictal_duration - buffer_duration > 0 and last_end < start - preictal_duration - buffer_duration:\n",
    "                raw.annotations.append(onset=start - preictal_duration - buffer_duration, duration=buffer_duration, description='buffer_before_preictal')\n",
    "            \n",
    "            preictal_start = max(last_end, start - preictal_duration)\n",
    "            preictal_duration_actual = start - preictal_start\n",
    "            if preictal_duration_actual > 0:  # Ensure positive duration\n",
    "                raw.annotations.append(onset=preictal_start, duration=preictal_duration_actual, description='preictal')\n",
    "            \n",
    "            duration = end - start\n",
    "            raw.annotations.append(onset=start, duration=duration, description='ictal')\n",
    "            \n",
    "            postictal_start = end\n",
    "            postictal_duration_actual = min(postictal_duration, raw.times[-1] - postictal_start)\n",
    "            if postictal_duration_actual > 0:  # Ensure positive duration\n",
    "                raw.annotations.append(onset=postictal_start, duration=postictal_duration_actual, description='postictal')\n",
    "\n",
    "            last_end = postictal_start + postictal_duration_actual + buffer_duration\n",
    "        \n",
    "        if last_end < raw.times[-1]:\n",
    "            interictal_duration = raw.times[-1] - last_end\n",
    "            if interictal_duration > 0:  # Ensure positive duration\n",
    "                raw.annotations.append(onset=last_end, duration=interictal_duration, description='interictal')\n",
    "    else:\n",
    "        raw.annotations.append(onset=0, duration=raw.times[-1], description='interictal')\n",
    "\n",
    "    return raw\n",
    "\n",
    "\n",
    "# Preprocess the EEG Data\n",
    "def preprocess_eeg_data(raw):\n",
    "    raw = ChannelSelection(raw)\n",
    "    raw.filter(l_freq=0.5, h_freq=100)\n",
    "    raw_notch = raw.copy().notch_filter(freqs=[60], notch_widths=6)\n",
    "    return raw_notch\n",
    "\n",
    "def ChannelSelection(signal):\n",
    "\n",
    "    # List of channels to retain\n",
    "    desired_channels = [\n",
    "        'FP1-F7', 'F7-T7', 'T7-P7', 'P7-O1',\n",
    "        'FP1-F3', 'F3-C3', 'C3-P3', 'P3-O1',\n",
    "        'FP2-F4', 'F4-C4', 'C4-P4', 'P4-O2',\n",
    "        'FP2-F8', 'F8-T8', 'T8-P8-0','T8-P8', 'P8-O2',\n",
    "        'FZ-CZ', 'CZ-PZ', 'T7-FT9',\n",
    "        'FT9-FT10', 'FT10-T8'\n",
    "    ]\n",
    "\n",
    "    # Check existing channels in the signal\n",
    "    available_channels = signal.info['ch_names']\n",
    "\n",
    "    # Filter desired channels based on availability in the signal\n",
    "    selected_channels = [ch for ch in desired_channels if ch in available_channels]\n",
    "\n",
    "    # Pick only the selected channels\n",
    "    signal.pick_channels(selected_channels)\n",
    "\n",
    "    # Rename channel if needed\n",
    "    if 'T8-P8-0' in signal.info['ch_names']:\n",
    "        channel_mapping = {'T8-P8-0': 'T8-P8'}\n",
    "        mne.rename_channels(signal.info, channel_mapping)\n",
    "\n",
    "    return signal\n",
    "\n",
    "        \n",
    "\n",
    "            \n",
    "\n",
    "# Function to crop and save annotations\n",
    "def crop_and_save_annotations(raw, subject_folder, file_name):\n",
    "    # Initialize a counter dictionary to keep track of file numbers for each description\n",
    "    description_count = {}\n",
    "\n",
    "    for ann in raw.annotations:\n",
    "        description = ann['description']\n",
    "        onset = ann['onset']\n",
    "        duration = ann['duration']\n",
    "        \n",
    "        # Increment the counter for the description\n",
    "        if description in description_count:\n",
    "            description_count[description] += 1\n",
    "        else:\n",
    "            description_count[description] = 1\n",
    "\n",
    "        # Crop the raw data based on the annotation's onset and duration\n",
    "        cropped_raw = raw.copy().crop(tmin=onset, tmax=onset + duration)\n",
    "        cropped_raw.set_meas_date(None)\n",
    "        \n",
    "        # Create output folder for this annotation type if it doesn't exist\n",
    "        annotation_folder = os.path.join(subject_folder, description)\n",
    "        if not os.path.exists(annotation_folder):\n",
    "            os.makedirs(annotation_folder)\n",
    "        \n",
    "        # Construct a unique filename using the counter\n",
    "        output_file = os.path.join(annotation_folder, f\"{file_name}_{description}_{description_count[description]}_raw.fif\")\n",
    "        \n",
    "        # Save the cropped data\n",
    "        cropped_raw.save(output_file, overwrite=True)\n",
    "        print(f\"Saved {description} segment to {output_file}\")\n",
    "\n",
    "\n",
    "\n",
    "# Process and Annotate Data, then Save Based on Annotation Type\n",
    "def process_and_save(P_folder):\n",
    "    all_edf_file_paths, seizure_times = load_and_parse_data(P_folder)\n",
    "    \n",
    "    \n",
    "    print(f\">>>>>>>>>>>>>>>>>>>>>>>>>>>>>>>>>>>>>>>>>>>>>>>>>>>>>>>>>>>>>>>>>>>>>>>>>>{seizure_times}\")\n",
    "    for edf_file in all_edf_file_paths:\n",
    "        print(f\"Processing {edf_file}...\")\n",
    "        raw = mne.io.read_raw_edf(edf_file, preload=True)\n",
    "\n",
    "        \n",
    "        \n",
    "        raw = annotate_eeg_data(raw, seizure_times)\n",
    "        raw = preprocess_eeg_data(raw)\n",
    "        raw.plot()\n",
    "        raw.set_meas_date(None)   # Setting meas_date to None\n",
    "        \n",
    "\n",
    "        # raw.plot()\n",
    "        file_name = os.path.basename(edf_file)\n",
    "        subject_name = file_name.split('_')[0]\n",
    "        subject_folder = os.path.join(P_folder, subject_name)\n",
    "\n",
    "        # Check if the file contains seizures\n",
    "        if file_name in seizure_times and len(seizure_times[file_name]) > 0:\n",
    "            # Process and save ictal, preictal, postictal data\n",
    "            crop_and_save_annotations(raw, subject_folder, file_name)\n",
    "            # raw.plot()\n",
    "        else:\n",
    "            # Move to normal folder\n",
    "            normal_folder = os.path.join(subject_folder, 'interictal')\n",
    "            if not os.path.exists(normal_folder):\n",
    "                os.makedirs(normal_folder)\n",
    "            raw.save(os.path.join(normal_folder, file_name.replace('.edf', '_normal_raw.fif')), overwrite=True)\n",
    "\n",
    "\n",
    "process_and_save(r'E:\\New folder\\chb11')\n"
   ]
  },
  {
   "cell_type": "code",
   "execution_count": null,
   "id": "19f92c27-ae5c-4131-b0f6-2babc9a6cc72",
   "metadata": {},
   "outputs": [],
   "source": []
  },
  {
   "cell_type": "markdown",
   "id": "4dec80fb-07d5-4d82-95c1-55777a191db9",
   "metadata": {},
   "source": [
    "# not decided\n"
   ]
  },
  {
   "cell_type": "code",
   "execution_count": 29,
   "id": "d917d122-01ac-4fad-8cfd-cec75af1e55c",
   "metadata": {},
   "outputs": [
    {
     "ename": "NameError",
     "evalue": "name 'edf_file' is not defined",
     "output_type": "error",
     "traceback": [
      "\u001b[1;31m---------------------------------------------------------------------------\u001b[0m",
      "\u001b[1;31mNameError\u001b[0m                                 Traceback (most recent call last)",
      "Cell \u001b[1;32mIn[29], line 1\u001b[0m\n\u001b[1;32m----> 1\u001b[0m \u001b[38;5;28mprint\u001b[39m(\u001b[38;5;124m\"\u001b[39m\u001b[38;5;124m###############################################\u001b[39m\u001b[38;5;124m\"\u001b[39m, \u001b[43medf_file\u001b[49m, \u001b[38;5;124m\"\u001b[39m\u001b[38;5;124m###########################################################\u001b[39m\u001b[38;5;124m\"\u001b[39m)\n\u001b[0;32m      2\u001b[0m raw \u001b[38;5;241m=\u001b[39m mne\u001b[38;5;241m.\u001b[39mio\u001b[38;5;241m.\u001b[39mread_raw_edf(all_edf_file_paths[\u001b[38;5;241m0\u001b[39m], preload\u001b[38;5;241m=\u001b[39m\u001b[38;5;28;01mTrue\u001b[39;00m)\n\u001b[0;32m      3\u001b[0m raw \u001b[38;5;241m=\u001b[39m annotate_eeg_data(raw, seizure_times)\n",
      "\u001b[1;31mNameError\u001b[0m: name 'edf_file' is not defined"
     ]
    }
   ],
   "source": [
    "\n",
    "print(\"###############################################\", edf_file, \"###########################################################\")\n",
    "raw = mne.io.read_raw_edf(all_edf_file_paths[0], preload=True)\n",
    "raw = annotate_eeg_data(raw, seizure_times)\n",
    "\n",
    "channels = [\n",
    "        'FP1-F7', 'F7-T7', 'T7-P7', 'P7-O1',\n",
    "        'FP1-F3', 'F3-C3', 'C3-P3', 'P3-O1',\n",
    "        'FP2-F4', 'F4-C4', 'C4-P4', 'P4-O2',\n",
    "        'FP2-F8', 'F8-T8', 'T8-P8-0', 'P8-O2',\n",
    "        'FZ-CZ', 'CZ-PZ', 'T7-FT9',\n",
    "        'FT9-FT10', 'FT10-T8',\n",
    "    ]\n",
    "\n",
    "raw.pick_channels(channels)\n",
    "channel_mapping = {'T8-P8-0': 'T8-P8'}\n",
    "mne.rename_channels(raw.info, channel_mapping)\n",
    "raw = preprocess_eeg_data(raw)\n",
    "raw.plot()\n",
    "    "
   ]
  },
  {
   "cell_type": "code",
   "execution_count": 45,
   "id": "631813bc-5983-4685-a548-2ec5ed401952",
   "metadata": {},
   "outputs": [
    {
     "name": "stdout",
     "output_type": "stream",
     "text": [
      "NOTE: pick_channels() is a legacy function. New code should use inst.pick(...).\n",
      "Channel names are not the same!!\n",
      "Filtering raw data in 1 contiguous segment\n",
      "Setting up band-pass filter from 0.5 - 1e+02 Hz\n",
      "\n",
      "FIR filter parameters\n",
      "---------------------\n",
      "Designing a one-pass, zero-phase, non-causal bandpass filter:\n",
      "- Windowed time-domain design (firwin) method\n",
      "- Hamming window with 0.0194 passband ripple and 53 dB stopband attenuation\n",
      "- Lower passband edge: 0.50\n",
      "- Lower transition bandwidth: 0.50 Hz (-6 dB cutoff frequency: 0.25 Hz)\n",
      "- Upper passband edge: 100.00 Hz\n",
      "- Upper transition bandwidth: 25.00 Hz (-6 dB cutoff frequency: 112.50 Hz)\n",
      "- Filter length: 1691 samples (6.605 s)\n",
      "\n",
      "Filtering raw data in 1 contiguous segment\n",
      "Setting up band-stop filter from 56 - 64 Hz\n",
      "\n",
      "FIR filter parameters\n",
      "---------------------\n",
      "Designing a one-pass, zero-phase, non-causal bandstop filter:\n",
      "- Windowed time-domain design (firwin) method\n",
      "- Hamming window with 0.0194 passband ripple and 53 dB stopband attenuation\n",
      "- Lower passband edge: 56.50\n",
      "- Lower transition bandwidth: 0.50 Hz (-6 dB cutoff frequency: 56.25 Hz)\n",
      "- Upper passband edge: 63.50 Hz\n",
      "- Upper transition bandwidth: 0.50 Hz (-6 dB cutoff frequency: 63.75 Hz)\n",
      "- Filter length: 1691 samples (6.605 s)\n",
      "\n"
     ]
    },
    {
     "name": "stderr",
     "output_type": "stream",
     "text": [
      "[Parallel(n_jobs=1)]: Done  17 tasks      | elapsed:    0.3s\n",
      "[Parallel(n_jobs=1)]: Done  17 tasks      | elapsed:    0.3s\n"
     ]
    },
    {
     "ename": "OSError",
     "evalue": "The filename (D:\\archive\\chb-mit-scalp-eeg-database-1.0.0\\chb12\\chb12\\interictal\\chb12) for file type raw must end with .fif or .fif.gz",
     "output_type": "error",
     "traceback": [
      "\u001b[1;31m---------------------------------------------------------------------------\u001b[0m",
      "\u001b[1;31mOSError\u001b[0m                                   Traceback (most recent call last)",
      "Cell \u001b[1;32mIn[45], line 1\u001b[0m\n\u001b[1;32m----> 1\u001b[0m \u001b[43mprocess_and_save\u001b[49m\u001b[43m(\u001b[49m\u001b[43mP_folder\u001b[49m\u001b[43m,\u001b[49m\u001b[43mraw\u001b[49m\u001b[43m)\u001b[49m\n",
      "Cell \u001b[1;32mIn[41], line 64\u001b[0m, in \u001b[0;36mprocess_and_save\u001b[1;34m(edf_file, raw)\u001b[0m\n\u001b[0;32m     62\u001b[0m \u001b[38;5;28;01mif\u001b[39;00m \u001b[38;5;129;01mnot\u001b[39;00m os\u001b[38;5;241m.\u001b[39mpath\u001b[38;5;241m.\u001b[39mexists(normal_folder):\n\u001b[0;32m     63\u001b[0m     os\u001b[38;5;241m.\u001b[39mmakedirs(normal_folder)\n\u001b[1;32m---> 64\u001b[0m \u001b[43mraw\u001b[49m\u001b[38;5;241;43m.\u001b[39;49m\u001b[43msave\u001b[49m\u001b[43m(\u001b[49m\u001b[43mos\u001b[49m\u001b[38;5;241;43m.\u001b[39;49m\u001b[43mpath\u001b[49m\u001b[38;5;241;43m.\u001b[39;49m\u001b[43mjoin\u001b[49m\u001b[43m(\u001b[49m\u001b[43mnormal_folder\u001b[49m\u001b[43m,\u001b[49m\u001b[43m \u001b[49m\u001b[43mfile_name\u001b[49m\u001b[38;5;241;43m.\u001b[39;49m\u001b[43mreplace\u001b[49m\u001b[43m(\u001b[49m\u001b[38;5;124;43m'\u001b[39;49m\u001b[38;5;124;43m.edf\u001b[39;49m\u001b[38;5;124;43m'\u001b[39;49m\u001b[43m,\u001b[49m\u001b[43m \u001b[49m\u001b[38;5;124;43m'\u001b[39;49m\u001b[38;5;124;43m_normal_raw.fif\u001b[39;49m\u001b[38;5;124;43m'\u001b[39;49m\u001b[43m)\u001b[49m\u001b[43m)\u001b[49m\u001b[43m,\u001b[49m\u001b[43m \u001b[49m\u001b[43moverwrite\u001b[49m\u001b[38;5;241;43m=\u001b[39;49m\u001b[38;5;28;43;01mTrue\u001b[39;49;00m\u001b[43m)\u001b[49m\n",
      "File \u001b[1;32m<decorator-gen-195>:12\u001b[0m, in \u001b[0;36msave\u001b[1;34m(self, fname, picks, tmin, tmax, buffer_size_sec, drop_small_buffer, proj, fmt, overwrite, split_size, split_naming, verbose)\u001b[0m\n",
      "File \u001b[1;32m~\\mne-python\\1.7.1_0\\Lib\\site-packages\\mne\\io\\base.py:1705\u001b[0m, in \u001b[0;36mBaseRaw.save\u001b[1;34m(self, fname, picks, tmin, tmax, buffer_size_sec, drop_small_buffer, proj, fmt, overwrite, split_size, split_naming, verbose)\u001b[0m\n\u001b[0;32m   1697\u001b[0m \u001b[38;5;66;03m# convert to str, check for overwrite a few lines later\u001b[39;00m\n\u001b[0;32m   1698\u001b[0m fname \u001b[38;5;241m=\u001b[39m _check_fname(\n\u001b[0;32m   1699\u001b[0m     fname,\n\u001b[0;32m   1700\u001b[0m     overwrite\u001b[38;5;241m=\u001b[39m\u001b[38;5;28;01mTrue\u001b[39;00m,\n\u001b[1;32m   (...)\u001b[0m\n\u001b[0;32m   1703\u001b[0m     name\u001b[38;5;241m=\u001b[39m\u001b[38;5;124m\"\u001b[39m\u001b[38;5;124mfname\u001b[39m\u001b[38;5;124m\"\u001b[39m,\n\u001b[0;32m   1704\u001b[0m )\n\u001b[1;32m-> 1705\u001b[0m \u001b[43mcheck_fname\u001b[49m\u001b[43m(\u001b[49m\u001b[43mfname\u001b[49m\u001b[43m,\u001b[49m\u001b[43m \u001b[49m\u001b[38;5;124;43m\"\u001b[39;49m\u001b[38;5;124;43mraw\u001b[39;49m\u001b[38;5;124;43m\"\u001b[39;49m\u001b[43m,\u001b[49m\u001b[43m \u001b[49m\u001b[43mendings\u001b[49m\u001b[43m,\u001b[49m\u001b[43m \u001b[49m\u001b[43mendings_err\u001b[49m\u001b[38;5;241;43m=\u001b[39;49m\u001b[43mendings_err\u001b[49m\u001b[43m)\u001b[49m\n\u001b[0;32m   1707\u001b[0m split_size \u001b[38;5;241m=\u001b[39m _get_split_size(split_size)\n\u001b[0;32m   1708\u001b[0m \u001b[38;5;28;01mif\u001b[39;00m \u001b[38;5;129;01mnot\u001b[39;00m \u001b[38;5;28mself\u001b[39m\u001b[38;5;241m.\u001b[39mpreload \u001b[38;5;129;01mand\u001b[39;00m \u001b[38;5;28mstr\u001b[39m(fname) \u001b[38;5;129;01min\u001b[39;00m \u001b[38;5;28mself\u001b[39m\u001b[38;5;241m.\u001b[39m_filenames:\n",
      "File \u001b[1;32m~\\mne-python\\1.7.1_0\\Lib\\site-packages\\mne\\utils\\check.py:68\u001b[0m, in \u001b[0;36mcheck_fname\u001b[1;34m(fname, filetype, endings, endings_err)\u001b[0m\n\u001b[0;32m     66\u001b[0m \u001b[38;5;28;01mif\u001b[39;00m \u001b[38;5;28mlen\u001b[39m(endings_err) \u001b[38;5;241m>\u001b[39m \u001b[38;5;241m0\u001b[39m \u001b[38;5;129;01mand\u001b[39;00m \u001b[38;5;129;01mnot\u001b[39;00m fname\u001b[38;5;241m.\u001b[39mendswith(endings_err):\n\u001b[0;32m     67\u001b[0m     print_endings \u001b[38;5;241m=\u001b[39m \u001b[38;5;124m\"\u001b[39m\u001b[38;5;124m or \u001b[39m\u001b[38;5;124m\"\u001b[39m\u001b[38;5;241m.\u001b[39mjoin([\u001b[38;5;124m\"\u001b[39m\u001b[38;5;124m, \u001b[39m\u001b[38;5;124m\"\u001b[39m\u001b[38;5;241m.\u001b[39mjoin(endings_err[:\u001b[38;5;241m-\u001b[39m\u001b[38;5;241m1\u001b[39m]), endings_err[\u001b[38;5;241m-\u001b[39m\u001b[38;5;241m1\u001b[39m]])\n\u001b[1;32m---> 68\u001b[0m     \u001b[38;5;28;01mraise\u001b[39;00m \u001b[38;5;167;01mOSError\u001b[39;00m(\n\u001b[0;32m     69\u001b[0m         \u001b[38;5;124mf\u001b[39m\u001b[38;5;124m\"\u001b[39m\u001b[38;5;124mThe filename (\u001b[39m\u001b[38;5;132;01m{\u001b[39;00mfname\u001b[38;5;132;01m}\u001b[39;00m\u001b[38;5;124m) for file type \u001b[39m\u001b[38;5;132;01m{\u001b[39;00mfiletype\u001b[38;5;132;01m}\u001b[39;00m\u001b[38;5;124m must end \u001b[39m\u001b[38;5;124m\"\u001b[39m\n\u001b[0;32m     70\u001b[0m         \u001b[38;5;124mf\u001b[39m\u001b[38;5;124m\"\u001b[39m\u001b[38;5;124mwith \u001b[39m\u001b[38;5;132;01m{\u001b[39;00mprint_endings\u001b[38;5;132;01m}\u001b[39;00m\u001b[38;5;124m\"\u001b[39m\n\u001b[0;32m     71\u001b[0m     )\n\u001b[0;32m     72\u001b[0m print_endings \u001b[38;5;241m=\u001b[39m \u001b[38;5;124m\"\u001b[39m\u001b[38;5;124m or \u001b[39m\u001b[38;5;124m\"\u001b[39m\u001b[38;5;241m.\u001b[39mjoin([\u001b[38;5;124m\"\u001b[39m\u001b[38;5;124m, \u001b[39m\u001b[38;5;124m\"\u001b[39m\u001b[38;5;241m.\u001b[39mjoin(endings[:\u001b[38;5;241m-\u001b[39m\u001b[38;5;241m1\u001b[39m]), endings[\u001b[38;5;241m-\u001b[39m\u001b[38;5;241m1\u001b[39m]])\n\u001b[0;32m     73\u001b[0m \u001b[38;5;28;01mif\u001b[39;00m \u001b[38;5;129;01mnot\u001b[39;00m fname\u001b[38;5;241m.\u001b[39mendswith(endings):\n",
      "\u001b[1;31mOSError\u001b[0m: The filename (D:\\archive\\chb-mit-scalp-eeg-database-1.0.0\\chb12\\chb12\\interictal\\chb12) for file type raw must end with .fif or .fif.gz"
     ]
    }
   ],
   "source": [
    "process_and_save(P_folder,raw)"
   ]
  },
  {
   "cell_type": "code",
   "execution_count": null,
   "id": "d64cac2f-50d6-40a5-ab3e-f98eb1e6ad4b",
   "metadata": {},
   "outputs": [],
   "source": []
  },
  {
   "cell_type": "code",
   "execution_count": 7,
   "id": "c7afec49-500c-470b-9dcf-d75cf8292b0f",
   "metadata": {},
   "outputs": [
    {
     "data": {
      "text/plain": [
       "<mne_qt_browser._pg_figure.MNEQtBrowser at 0x242bb3faa80>"
      ]
     },
     "execution_count": 7,
     "metadata": {},
     "output_type": "execute_result"
    },
    {
     "name": "stdout",
     "output_type": "stream",
     "text": [
      "Channels marked as bad:\n",
      "none\n"
     ]
    }
   ],
   "source": [
    "annotated_raws.plot()"
   ]
  },
  {
   "cell_type": "code",
   "execution_count": 14,
   "id": "80a00cae-9dec-4143-baae-304488cb6e31",
   "metadata": {},
   "outputs": [
    {
     "name": "stdout",
     "output_type": "stream",
     "text": [
      "############################################### D:\\CHB_MIT\\chb01_01.edf ###########################################################\n",
      "Extracting EDF parameters from D:\\CHB_MIT\\chb01_01.edf...\n",
      "EDF file detected\n",
      "Setting channel info structure...\n",
      "Creating raw.info structure...\n",
      "Reading 0 ... 921599  =      0.000 ...  3599.996 secs...\n"
     ]
    },
    {
     "name": "stderr",
     "output_type": "stream",
     "text": [
      "C:\\Users\\ACER\\AppData\\Local\\Temp\\ipykernel_13224\\871240929.py:117: RuntimeWarning: Channel names are not unique, found duplicates for: {'T8-P8'}. Applying running numbers for duplicates.\n",
      "  raw = mne.io.read_raw_edf(edf_file, preload=True)\n"
     ]
    },
    {
     "name": "stdout",
     "output_type": "stream",
     "text": [
      "NOTE: pick_channels() is a legacy function. New code should use inst.pick(...).\n",
      "Filtering raw data in 1 contiguous segment\n",
      "Setting up band-pass filter from 0.5 - 1.3e+02 Hz\n",
      "\n",
      "FIR filter parameters\n",
      "---------------------\n",
      "Designing a one-pass, zero-phase, non-causal bandpass filter:\n",
      "- Windowed time-domain design (firwin) method\n",
      "- Hamming window with 0.0194 passband ripple and 53 dB stopband attenuation\n",
      "- Lower passband edge: 0.50\n",
      "- Lower transition bandwidth: 0.50 Hz (-6 dB cutoff frequency: 0.25 Hz)\n",
      "- Upper passband edge: 127.90 Hz\n",
      "- Upper transition bandwidth: 0.10 Hz (-6 dB cutoff frequency: 127.95 Hz)\n",
      "- Filter length: 8449 samples (33.004 s)\n",
      "\n"
     ]
    },
    {
     "name": "stderr",
     "output_type": "stream",
     "text": [
      "[Parallel(n_jobs=1)]: Done  17 tasks      | elapsed:    0.4s\n"
     ]
    },
    {
     "name": "stdout",
     "output_type": "stream",
     "text": [
      "Filtering raw data in 1 contiguous segment\n",
      "Setting up band-stop filter\n",
      "\n",
      "FIR filter parameters\n",
      "---------------------\n",
      "Designing a one-pass, zero-phase, non-causal bandstop filter:\n",
      "- Windowed time-domain design (firwin) method\n",
      "- Hamming window with 0.0194 passband ripple and 53 dB stopband attenuation\n",
      "- Lower transition bandwidth: 0.50 Hz\n",
      "- Upper transition bandwidth: 0.50 Hz\n",
      "- Filter length: 1691 samples (6.605 s)\n",
      "\n"
     ]
    },
    {
     "name": "stderr",
     "output_type": "stream",
     "text": [
      "[Parallel(n_jobs=1)]: Done  17 tasks      | elapsed:    0.5s\n"
     ]
    },
    {
     "name": "stdout",
     "output_type": "stream",
     "text": [
      "############################################### D:\\CHB_MIT\\chb01_02.edf ###########################################################\n",
      "Extracting EDF parameters from D:\\CHB_MIT\\chb01_02.edf...\n",
      "EDF file detected\n",
      "Setting channel info structure...\n",
      "Creating raw.info structure...\n",
      "Reading 0 ... 921599  =      0.000 ...  3599.996 secs...\n"
     ]
    },
    {
     "name": "stderr",
     "output_type": "stream",
     "text": [
      "C:\\Users\\ACER\\AppData\\Local\\Temp\\ipykernel_13224\\871240929.py:117: RuntimeWarning: Channel names are not unique, found duplicates for: {'T8-P8'}. Applying running numbers for duplicates.\n",
      "  raw = mne.io.read_raw_edf(edf_file, preload=True)\n"
     ]
    },
    {
     "name": "stdout",
     "output_type": "stream",
     "text": [
      "NOTE: pick_channels() is a legacy function. New code should use inst.pick(...).\n",
      "Filtering raw data in 1 contiguous segment\n",
      "Setting up band-pass filter from 0.5 - 1.3e+02 Hz\n",
      "\n",
      "FIR filter parameters\n",
      "---------------------\n",
      "Designing a one-pass, zero-phase, non-causal bandpass filter:\n",
      "- Windowed time-domain design (firwin) method\n",
      "- Hamming window with 0.0194 passband ripple and 53 dB stopband attenuation\n",
      "- Lower passband edge: 0.50\n",
      "- Lower transition bandwidth: 0.50 Hz (-6 dB cutoff frequency: 0.25 Hz)\n",
      "- Upper passband edge: 127.90 Hz\n",
      "- Upper transition bandwidth: 0.10 Hz (-6 dB cutoff frequency: 127.95 Hz)\n",
      "- Filter length: 8449 samples (33.004 s)\n",
      "\n",
      "Filtering raw data in 1 contiguous segment\n"
     ]
    },
    {
     "name": "stderr",
     "output_type": "stream",
     "text": [
      "[Parallel(n_jobs=1)]: Done  17 tasks      | elapsed:    0.4s\n"
     ]
    },
    {
     "name": "stdout",
     "output_type": "stream",
     "text": [
      "Setting up band-stop filter\n",
      "\n",
      "FIR filter parameters\n",
      "---------------------\n",
      "Designing a one-pass, zero-phase, non-causal bandstop filter:\n",
      "- Windowed time-domain design (firwin) method\n",
      "- Hamming window with 0.0194 passband ripple and 53 dB stopband attenuation\n",
      "- Lower transition bandwidth: 0.50 Hz\n",
      "- Upper transition bandwidth: 0.50 Hz\n",
      "- Filter length: 1691 samples (6.605 s)\n",
      "\n"
     ]
    },
    {
     "name": "stderr",
     "output_type": "stream",
     "text": [
      "[Parallel(n_jobs=1)]: Done  17 tasks      | elapsed:    0.4s\n"
     ]
    }
   ],
   "source": [
    "import os\n",
    "import mne\n",
    "import pywt\n",
    "import numpy as np\n",
    "\n",
    "\n",
    "# Load and Parse Data\n",
    "def load_and_parse_data(P_folder):\n",
    "    all_edf_file_paths = [os.path.join(P_folder, f) for f in os.listdir(P_folder) if f.endswith('.edf')]\n",
    "    summary_file_path = [os.path.join(P_folder, f) for f in os.listdir(P_folder) if f.endswith('.txt')][0]\n",
    "    \n",
    "    with open(summary_file_path, 'r') as file:\n",
    "        summary_content = file.readlines()\n",
    "\n",
    "    seizure_times = parse_seizure_times(summary_content)\n",
    "    return all_edf_file_paths, seizure_times\n",
    "\n",
    "def parse_seizure_times(summary_content):\n",
    "    seizure_times = {}\n",
    "    current_file = None\n",
    "    for line in summary_content:\n",
    "        if 'File Name' in line:\n",
    "            current_file = line.split(':')[-1].strip()\n",
    "            seizure_times[current_file] = []\n",
    "        elif 'Seizure Start Time' in line:\n",
    "            start_time = int(line.split(':')[-1].strip().split(' ')[0])\n",
    "        elif 'Seizure End Time' in line:\n",
    "            end_time = int(line.split(':')[-1].strip().split(' ')[0])\n",
    "            seizure_times[current_file].append((start_time, end_time))\n",
    "    return seizure_times\n",
    "\n",
    "# Annotate EEG Data\n",
    "def annotate_eeg_data(raw, seizure_times, preictal_duration=30*60, postictal_duration=10*60, buffer_duration=30*60):\n",
    "    file_name = os.path.basename(raw.filenames[0])\n",
    "\n",
    "    if file_name in seizure_times:\n",
    "        for start, end in seizure_times[file_name]:\n",
    "            # Exclude buffer before preictal period\n",
    "            if start - preictal_duration - buffer_duration > 0:\n",
    "                raw.annotations.append(onset=start - preictal_duration - buffer_duration, duration=buffer_duration, description='buffer_before_preictal')\n",
    "            \n",
    "            # Annotate preictal period\n",
    "            preictal_start = max(0, start - preictal_duration)\n",
    "            preictal_duration_actual = start - preictal_start\n",
    "            raw.annotations.append(onset=preictal_start, duration=preictal_duration_actual, description='preictal')\n",
    "            \n",
    "            # Annotate ictal period\n",
    "            duration = end - start\n",
    "            raw.annotations.append(onset=start, duration=duration, description='ictal')\n",
    "            \n",
    "            # Annotate postictal period\n",
    "            postictal_start = end\n",
    "            postictal_duration_actual = min(postictal_duration, raw.times[-1] - postictal_start)\n",
    "            raw.annotations.append(onset=postictal_start, duration=postictal_duration_actual, description='postictal')\n",
    "            \n",
    "            # Exclude buffer after postictal period\n",
    "            if postictal_start + postictal_duration_actual + buffer_duration < raw.times[-1]:\n",
    "                raw.annotations.append(onset=postictal_start + postictal_duration_actual, duration=buffer_duration, description='buffer_after_postictal')\n",
    "            \n",
    "        # Annotate remaining time as interictal\n",
    "        last_end = 0\n",
    "        for start, end in seizure_times[file_name]:\n",
    "            if last_end < preictal_start:\n",
    "                raw.annotations.append(onset=last_end, duration=preictal_start - last_end, description='interictal')\n",
    "            last_end = end + postictal_duration_actual + buffer_duration\n",
    "        if last_end < raw.times[-1]:\n",
    "            raw.annotations.append(onset=last_end, duration=raw.times[-1] - last_end, description='interictal')\n",
    "    else:\n",
    "        raw.annotations.append(onset=0, duration=raw.times[-1], description='interictal')\n",
    "\n",
    "    return raw\n",
    "\n",
    "# Preprocess the EEG Data\n",
    "def preprocess_eeg_data(raw):\n",
    "    raw = ChannelSelection(raw)\n",
    "    raw.filter(l_freq=0.5, h_freq=127.9)\n",
    "    raw_notch = raw.copy().notch_filter(freqs=[60, 120], notch_widths=6)\n",
    "    return raw_notch\n",
    "\n",
    "def ChannelSelection(signal):\n",
    "    try:\n",
    "        channels = [\n",
    "            'FP1-F7', 'F7-T7', 'T7-P7', 'P7-O1',\n",
    "            'FP1-F3', 'F3-C3', 'C3-P3', 'P3-O1',\n",
    "            'FP2-F4', 'F4-C4', 'C4-P4', 'P4-O2',\n",
    "            'FP2-F8', 'F8-T8', 'T8-P8-0', 'P8-O2',\n",
    "            'FZ-CZ', 'CZ-PZ', 'T7-FT9',\n",
    "            'FT9-FT10', 'FT10-T8',\n",
    "        ]\n",
    "\n",
    "        signal.pick_channels(channels)\n",
    "        channel_mapping = {'T8-P8-0': 'T8-P8'}\n",
    "        mne.rename_channels(signal.info, channel_mapping)\n",
    "        return signal\n",
    "    except:\n",
    "        print(\"Channel names are not the same!!\")\n",
    "        return signal\n",
    "\n",
    "def DWT(data):\n",
    "    eeg_data = data.get_data()\n",
    "    dwt_coeffs = []\n",
    "    for channel_data in eeg_data:\n",
    "        wavelet = 'db4'\n",
    "        coeffs = pywt.wavedec(channel_data, wavelet, level=5)\n",
    "        dwt_coeffs.append(coeffs)\n",
    "    return dwt_coeffs\n",
    "\n",
    "\n",
    "\n",
    "# Combine Methods to Process, Annotate, and Combine Raw Data\n",
    "def process_and_annotate(P_folder):\n",
    "    all_edf_file_paths, seizure_times = load_and_parse_data(P_folder)\n",
    "    raw_list = []\n",
    "\n",
    "    for edf_file in all_edf_file_paths[]:\n",
    "        print(\"###############################################\", edf_file, \"###########################################################\")\n",
    "        raw = mne.io.read_raw_edf(edf_file, preload=True)\n",
    "        raw = annotate_eeg_data(raw, seizure_times)\n",
    "        raw = preprocess_eeg_data(raw)\n",
    "        raw_list.append(raw)\n",
    "\n",
    "    # Combine all the raw objects into one\n",
    "    combined_raw = mne.concatenate_raws(raw_list)\n",
    "\n",
    "    # Create epochs and labels from the combined raw data\n",
    "    # X, Y, events, epochs = create_epochs_and_labels(combined_raw)\n",
    "\n",
    "    # Save the epochs based on their event type\n",
    "    # save_epochs_by_event_type(X, Y, P_folder)\n",
    "    \n",
    "    return combined_raw\n",
    "\n",
    "# Example usage\n",
    "P_folder = 'D:\\\\CHB_MIT'\n",
    "raw_new = process_and_annotate(P_folder)\n"
   ]
  },
  {
   "cell_type": "code",
   "execution_count": 12,
   "id": "d9e35c50-6366-4cd3-96e3-1462437e5491",
   "metadata": {},
   "outputs": [
    {
     "name": "stdout",
     "output_type": "stream",
     "text": [
      "Using qt as 2D backend.\n"
     ]
    },
    {
     "data": {
      "text/plain": [
       "<mne_qt_browser._pg_figure.MNEQtBrowser at 0x15513d96840>"
      ]
     },
     "execution_count": 12,
     "metadata": {},
     "output_type": "execute_result"
    },
    {
     "name": "stdout",
     "output_type": "stream",
     "text": [
      "Channels marked as bad:\n",
      "none\n"
     ]
    }
   ],
   "source": [
    "raw_new.plot()"
   ]
  },
  {
   "cell_type": "code",
   "execution_count": 4,
   "id": "26af31e3-102f-4b96-86d5-6092ddfc5e37",
   "metadata": {},
   "outputs": [
    {
     "ename": "NameError",
     "evalue": "name 'annotated_raws' is not defined",
     "output_type": "error",
     "traceback": [
      "\u001b[1;31m---------------------------------------------------------------------------\u001b[0m",
      "\u001b[1;31mNameError\u001b[0m                                 Traceback (most recent call last)",
      "Cell \u001b[1;32mIn[4], line 1\u001b[0m\n\u001b[1;32m----> 1\u001b[0m new_raw \u001b[38;5;241m=\u001b[39m mne\u001b[38;5;241m.\u001b[39mconcatenate_raws(\u001b[43mannotated_raws\u001b[49m)\n",
      "\u001b[1;31mNameError\u001b[0m: name 'annotated_raws' is not defined"
     ]
    }
   ],
   "source": [
    "new_raw = mne.concatenate_raws(annotated_raws)"
   ]
  },
  {
   "cell_type": "code",
   "execution_count": null,
   "id": "78d3b9e2-e17f-42e1-a6ae-def1663b670b",
   "metadata": {},
   "outputs": [],
   "source": []
  },
  {
   "cell_type": "code",
   "execution_count": 12,
   "id": "c4364d2d-8935-41b5-b8d7-cac03559ab65",
   "metadata": {},
   "outputs": [
    {
     "data": {
      "text/plain": [
       "<mne_qt_browser._pg_figure.MNEQtBrowser at 0x29bc0f2aba0>"
      ]
     },
     "execution_count": 12,
     "metadata": {},
     "output_type": "execute_result"
    },
    {
     "name": "stdout",
     "output_type": "stream",
     "text": [
      "Channels marked as bad:\n",
      "none\n"
     ]
    }
   ],
   "source": [
    "annotated_raws[3].plot()"
   ]
  },
  {
   "cell_type": "code",
   "execution_count": 23,
   "id": "a52dcf52-1b4d-4d27-88ff-b5758e217d49",
   "metadata": {},
   "outputs": [
    {
     "name": "stdout",
     "output_type": "stream",
     "text": [
      "Opening raw data file D:\\CHB_MIT\\chb01\\ictal\\chb01_03.edf_ictal_raw.fif...\n",
      "Isotrak not found\n",
      "    Range : 766976 ... 777216 =   2996.000 ...  3036.000 secs\n",
      "Ready.\n",
      "Reading 0 ... 10240  =      0.000 ...    40.000 secs...\n",
      "<Info | 10 non-empty values\n",
      " bads: []\n",
      " ch_names: FP1-F7, F7-T7, T7-P7, P7-O1, FP1-F3, F3-C3, C3-P3, P3-O1, ...\n",
      " chs: 21 EEG\n",
      " custom_ref_applied: False\n",
      " file_id: 4 items (dict)\n",
      " highpass: 0.5 Hz\n",
      " lowpass: 127.9 Hz\n",
      " meas_date: unspecified\n",
      " meas_id: 4 items (dict)\n",
      " nchan: 21\n",
      " projs: []\n",
      " sfreq: 256.0 Hz\n",
      " subject_info: 1 item (dict)\n",
      ">\n",
      "<Annotations | 3 segments: ictal (1), postictal (1), preictal (1)>\n",
      "Channels marked as bad:\n",
      "none\n"
     ]
    }
   ],
   "source": [
    "import mne\n",
    "\n",
    "# Path to the saved .fif file\n",
    "fif_file_path = 'D:\\\\CHB_MIT\\\\chb01\\\\ictal\\\\chb01_03.edf_ictal_raw.fif'\n",
    "\n",
    "# Load the .fif file\n",
    "raw = mne.io.read_raw_fif(fif_file_path, preload=True)\n",
    "\n",
    "# Print basic information about the file\n",
    "print(raw.info)\n",
    "\n",
    "# Plot the first 10 channels over a duration of 20 seconds\n",
    "raw.plot(n_channels=10, duration=20)\n",
    "\n",
    "# Print annotations if any\n",
    "print(raw.annotations)"
   ]
  },
  {
   "cell_type": "code",
   "execution_count": null,
   "id": "56e76354-f180-4e77-9f22-4bfa4fcdbd09",
   "metadata": {},
   "outputs": [],
   "source": []
  },
  {
   "cell_type": "code",
   "execution_count": null,
   "id": "c4fd82b5-7e74-4e4f-9183-a0a6d417c0a5",
   "metadata": {},
   "outputs": [],
   "source": []
  },
  {
   "cell_type": "code",
   "execution_count": 4,
   "id": "de71ecd5-774a-4323-8a57-d132f2227adb",
   "metadata": {},
   "outputs": [
    {
     "name": "stdout",
     "output_type": "stream",
     "text": [
      "Used Annotations descriptions: ['ictal', 'interictal', 'postictal', 'preictal']\n",
      "Not setting metadata\n",
      "14598 matching events found\n",
      "No baseline correction applied\n",
      "0 projection items activated\n",
      "Using data from preloaded Raw for 14598 events and 2560 original time points ...\n",
      "22 bad epochs dropped\n"
     ]
    },
    {
     "name": "stderr",
     "output_type": "stream",
     "text": [
      "C:\\Users\\ACER\\AppData\\Local\\Temp\\ipykernel_4920\\4140143360.py:29: FutureWarning: The current default of copy=False will change to copy=True in 1.7. Set the value of copy explicitly to avoid this warning\n",
      "  return epochs.get_data(), Y, epochs.events, epochs\n"
     ]
    }
   ],
   "source": [
    "x,y, event, epoch = create_fixed_length_epochs_with_ids(raw_new)"
   ]
  },
  {
   "cell_type": "code",
   "execution_count": 8,
   "id": "8c46aac7-4cd0-48c3-81dc-54983ca4a349",
   "metadata": {},
   "outputs": [
    {
     "data": {
      "text/plain": [
       "0\n",
       "0    14516\n",
       "4       39\n",
       "1        7\n",
       "2        7\n",
       "3        7\n",
       "Name: count, dtype: int64"
      ]
     },
     "execution_count": 8,
     "metadata": {},
     "output_type": "execute_result"
    }
   ],
   "source": [
    "pd.DataFrame(y).value_counts()"
   ]
  },
  {
   "cell_type": "code",
   "execution_count": 9,
   "id": "808698c2-ee1a-4b1b-8177-16262febd365",
   "metadata": {},
   "outputs": [
    {
     "data": {
      "text/plain": [
       "<mne_qt_browser._pg_figure.MNEQtBrowser at 0x1f5d55e4e60>"
      ]
     },
     "execution_count": 9,
     "metadata": {},
     "output_type": "execute_result"
    },
    {
     "name": "stdout",
     "output_type": "stream",
     "text": [
      "Channels marked as bad:\n",
      "none\n"
     ]
    }
   ],
   "source": [
    "raw_new.plot(events=event)"
   ]
  },
  {
   "cell_type": "code",
   "execution_count": 40,
   "id": "97e8eb8a-9cf8-4414-b7e7-0bbba75b81a9",
   "metadata": {},
   "outputs": [
    {
     "data": {
      "text/plain": [
       "<mne_qt_browser._pg_figure.MNEQtBrowser at 0x173d04827b0>"
      ]
     },
     "execution_count": 40,
     "metadata": {},
     "output_type": "execute_result"
    },
    {
     "name": "stdout",
     "output_type": "stream",
     "text": [
      "Dropped 0 epochs: \n",
      "The following epochs were marked as bad and are dropped:\n",
      "[]\n",
      "Channels marked as bad:\n",
      "none\n"
     ]
    }
   ],
   "source": [
    "epochs.plot(events=epochs.events)"
   ]
  },
  {
   "cell_type": "code",
   "execution_count": 9,
   "id": "cb789523-d641-498a-a1ba-68cb787df32c",
   "metadata": {},
   "outputs": [
    {
     "name": "stdout",
     "output_type": "stream",
     "text": [
      "Filtering raw data in 1 contiguous segment\n",
      "Setting up band-pass filter from 0.5 - 1e+02 Hz\n",
      "\n",
      "FIR filter parameters\n",
      "---------------------\n",
      "Designing a one-pass, zero-phase, non-causal bandpass filter:\n",
      "- Windowed time-domain design (firwin) method\n",
      "- Hamming window with 0.0194 passband ripple and 53 dB stopband attenuation\n",
      "- Lower passband edge: 0.50\n",
      "- Lower transition bandwidth: 0.50 Hz (-6 dB cutoff frequency: 0.25 Hz)\n",
      "- Upper passband edge: 100.00 Hz\n",
      "- Upper transition bandwidth: 25.00 Hz (-6 dB cutoff frequency: 112.50 Hz)\n",
      "- Filter length: 1691 samples (6.605 s)\n",
      "\n"
     ]
    },
    {
     "name": "stderr",
     "output_type": "stream",
     "text": [
      "[Parallel(n_jobs=1)]: Done  17 tasks      | elapsed:    0.9s\n"
     ]
    },
    {
     "data": {
      "text/html": [
       "<details open>\n",
       "    <summary><strong>General</strong></summary>\n",
       "    <table class=\"table table-hover table-striped table-sm table-responsive small\">\n",
       "        <tr>\n",
       "            <th>Measurement date</th>\n",
       "            \n",
       "            <td>November 06, 2076  13:43:04 GMT</td>\n",
       "            \n",
       "        </tr>\n",
       "        <tr>\n",
       "            <th>Experimenter</th>\n",
       "            \n",
       "            <td>Unknown</td>\n",
       "            \n",
       "        </tr>\n",
       "        <tr>\n",
       "            <th>Participant</th>\n",
       "            \n",
       "            \n",
       "            <td>Surrogate</td>\n",
       "            \n",
       "            \n",
       "        </tr>\n",
       "    </table>\n",
       "    </details>\n",
       "    <details open>\n",
       "        <summary><strong>Channels</strong></summary>\n",
       "        <table class=\"table table-hover table-striped table-sm table-responsive small\">\n",
       "            <tr>\n",
       "                <th>Digitized points</th>\n",
       "                \n",
       "                <td>Not available</td>\n",
       "                \n",
       "            </tr>\n",
       "            <tr>\n",
       "                <th>Good channels</th>\n",
       "                <td>21 EEG</td>\n",
       "            </tr>\n",
       "            <tr>\n",
       "                <th>Bad channels</th>\n",
       "                <td>None</td>\n",
       "            </tr>\n",
       "            <tr>\n",
       "                <th>EOG channels</th>\n",
       "                <td>Not available</td>\n",
       "            </tr>\n",
       "            <tr>\n",
       "                <th>ECG channels</th>\n",
       "                <td>Not available</td>\n",
       "            </tr>\n",
       "        </table>\n",
       "        </details>\n",
       "        <details open>\n",
       "            <summary><strong>Data</strong></summary>\n",
       "            <table class=\"table table-hover table-striped table-sm table-responsive small\">\n",
       "                \n",
       "                <tr>\n",
       "                    <th>Sampling frequency</th>\n",
       "                    <td>256.00 Hz</td>\n",
       "                </tr>\n",
       "                \n",
       "                \n",
       "                <tr>\n",
       "                    <th>Highpass</th>\n",
       "                    <td>0.50 Hz</td>\n",
       "                </tr>\n",
       "                \n",
       "                \n",
       "                <tr>\n",
       "                    <th>Lowpass</th>\n",
       "                    <td>100.00 Hz</td>\n",
       "                </tr>\n",
       "                \n",
       "                \n",
       "                \n",
       "                <tr>\n",
       "                    <th>Filenames</th>\n",
       "                    <td>chb01_03.edf</td>\n",
       "                </tr>\n",
       "                \n",
       "                \n",
       "                <tr>\n",
       "                    <th>Duration</th>\n",
       "                    <td>00:59:60 (HH:MM:SS)</td>\n",
       "                </tr>\n",
       "                \n",
       "            </table>\n",
       "            </details>"
      ],
      "text/plain": [
       "<RawEDF | chb01_03.edf, 21 x 921600 (3600.0 s), ~147.7 MB, data loaded>"
      ]
     },
     "execution_count": 9,
     "metadata": {},
     "output_type": "execute_result"
    }
   ],
   "source": [
    "raw.filter(0.5, 100)"
   ]
  },
  {
   "cell_type": "code",
   "execution_count": 10,
   "id": "45949954-a2e4-4fdf-91c5-94cbea1198a9",
   "metadata": {},
   "outputs": [
    {
     "name": "stdout",
     "output_type": "stream",
     "text": [
      "Filtering raw data in 1 contiguous segment\n",
      "Setting up band-stop filter from 59 - 61 Hz\n",
      "\n",
      "FIR filter parameters\n",
      "---------------------\n",
      "Designing a one-pass, zero-phase, non-causal bandstop filter:\n",
      "- Windowed time-domain design (firwin) method\n",
      "- Hamming window with 0.0194 passband ripple and 53 dB stopband attenuation\n",
      "- Lower passband edge: 59.35\n",
      "- Lower transition bandwidth: 0.50 Hz (-6 dB cutoff frequency: 59.10 Hz)\n",
      "- Upper passband edge: 60.65 Hz\n",
      "- Upper transition bandwidth: 0.50 Hz (-6 dB cutoff frequency: 60.90 Hz)\n",
      "- Filter length: 1691 samples (6.605 s)\n",
      "\n"
     ]
    },
    {
     "name": "stderr",
     "output_type": "stream",
     "text": [
      "[Parallel(n_jobs=1)]: Done  17 tasks      | elapsed:    0.2s\n"
     ]
    },
    {
     "data": {
      "text/html": [
       "<details open>\n",
       "    <summary><strong>General</strong></summary>\n",
       "    <table class=\"table table-hover table-striped table-sm table-responsive small\">\n",
       "        <tr>\n",
       "            <th>Measurement date</th>\n",
       "            \n",
       "            <td>November 06, 2076  13:43:04 GMT</td>\n",
       "            \n",
       "        </tr>\n",
       "        <tr>\n",
       "            <th>Experimenter</th>\n",
       "            \n",
       "            <td>Unknown</td>\n",
       "            \n",
       "        </tr>\n",
       "        <tr>\n",
       "            <th>Participant</th>\n",
       "            \n",
       "            \n",
       "            <td>Surrogate</td>\n",
       "            \n",
       "            \n",
       "        </tr>\n",
       "    </table>\n",
       "    </details>\n",
       "    <details open>\n",
       "        <summary><strong>Channels</strong></summary>\n",
       "        <table class=\"table table-hover table-striped table-sm table-responsive small\">\n",
       "            <tr>\n",
       "                <th>Digitized points</th>\n",
       "                \n",
       "                <td>Not available</td>\n",
       "                \n",
       "            </tr>\n",
       "            <tr>\n",
       "                <th>Good channels</th>\n",
       "                <td>21 EEG</td>\n",
       "            </tr>\n",
       "            <tr>\n",
       "                <th>Bad channels</th>\n",
       "                <td>None</td>\n",
       "            </tr>\n",
       "            <tr>\n",
       "                <th>EOG channels</th>\n",
       "                <td>Not available</td>\n",
       "            </tr>\n",
       "            <tr>\n",
       "                <th>ECG channels</th>\n",
       "                <td>Not available</td>\n",
       "            </tr>\n",
       "        </table>\n",
       "        </details>\n",
       "        <details open>\n",
       "            <summary><strong>Data</strong></summary>\n",
       "            <table class=\"table table-hover table-striped table-sm table-responsive small\">\n",
       "                \n",
       "                <tr>\n",
       "                    <th>Sampling frequency</th>\n",
       "                    <td>256.00 Hz</td>\n",
       "                </tr>\n",
       "                \n",
       "                \n",
       "                <tr>\n",
       "                    <th>Highpass</th>\n",
       "                    <td>0.50 Hz</td>\n",
       "                </tr>\n",
       "                \n",
       "                \n",
       "                <tr>\n",
       "                    <th>Lowpass</th>\n",
       "                    <td>100.00 Hz</td>\n",
       "                </tr>\n",
       "                \n",
       "                \n",
       "                \n",
       "                <tr>\n",
       "                    <th>Filenames</th>\n",
       "                    <td>chb01_03.edf</td>\n",
       "                </tr>\n",
       "                \n",
       "                \n",
       "                <tr>\n",
       "                    <th>Duration</th>\n",
       "                    <td>00:59:60 (HH:MM:SS)</td>\n",
       "                </tr>\n",
       "                \n",
       "            </table>\n",
       "            </details>"
      ],
      "text/plain": [
       "<RawEDF | chb01_03.edf, 21 x 921600 (3600.0 s), ~147.7 MB, data loaded>"
      ]
     },
     "execution_count": 10,
     "metadata": {},
     "output_type": "execute_result"
    }
   ],
   "source": [
    "# Applying a notch filter at 60 Hz\n",
    "raw.notch_filter(freqs=60, method = 'fir', fir_design='firwin')"
   ]
  },
  {
   "cell_type": "code",
   "execution_count": 11,
   "id": "7dbc1642-867d-4b8c-8bc9-07153facd49e",
   "metadata": {},
   "outputs": [
    {
     "name": "stdout",
     "output_type": "stream",
     "text": [
      "Effective window size : 8.000 (s)\n",
      "Plotting power spectral density (dB=True).\n"
     ]
    },
    {
     "name": "stderr",
     "output_type": "stream",
     "text": [
      "C:\\Users\\ACER\\mne-python\\1.7.1_0\\Lib\\site-packages\\mne\\viz\\utils.py:167: UserWarning: FigureCanvasAgg is non-interactive, and thus cannot be shown\n",
      "  (fig or plt).show(**kwargs)\n"
     ]
    },
    {
     "data": {
      "image/png": "[encoded data removed]",
      "text/plain": [
       "<MNELineFigure size 1000x350 with 1 Axes>"
      ]
     },
     "metadata": {},
     "output_type": "display_data"
    }
   ],
   "source": [
    "def add_arrows(axes):\n",
    "    \"\"\"Add some arrows at 60 Hz and its harmonics.\"\"\"\n",
    "    for ax in axes:\n",
    "        freqs = ax.lines[-1].get_xdata()\n",
    "        psds = ax.lines[-1].get_ydata()\n",
    "        for freq in (60, 128):\n",
    "            idx = np.searchsorted(freqs, freq)\n",
    "            # get ymax of a small region around the freq. of interest\n",
    "            y = psds[(idx - 4) : (idx + 5)].max()\n",
    "            ax.arrow(\n",
    "                x=freqs[idx],\n",
    "                y=y + 18,\n",
    "                dx=0,\n",
    "                dy=-12,\n",
    "                color=\"red\",\n",
    "                width=0.1,\n",
    "                head_width=3,\n",
    "                length_includes_head=True,\n",
    "            )\n",
    "\n",
    "fig = raw.compute_psd(fmax=128).plot(\n",
    "    average=True, amplitude=False, picks=\"data\", exclude=\"bads\"\n",
    ")\n",
    "add_arrows(fig.axes[:2])"
   ]
  },
  {
   "cell_type": "code",
   "execution_count": 12,
   "id": "15e9f4b4-3820-4a23-98e5-1f3ec421d56a",
   "metadata": {},
   "outputs": [
    {
     "data": {
      "image/png": "[encoded data removed]",
      "text/plain": [
       "<MNELineFigure size 1000x350 with 1 Axes>"
      ]
     },
     "execution_count": 12,
     "metadata": {},
     "output_type": "execute_result"
    }
   ],
   "source": [
    "fig"
   ]
  },
  {
   "cell_type": "code",
   "execution_count": 13,
   "id": "a4355568-2e5c-430c-867e-f9a7e21372e4",
   "metadata": {},
   "outputs": [
    {
     "name": "stdout",
     "output_type": "stream",
     "text": [
      "Filtering raw data in 1 contiguous segment\n",
      "Removed notch frequencies (Hz):\n",
      "    128.00 : 15099 windows\n",
      "Effective window size : 8.000 (s)\n",
      "Plotting power spectral density (dB=True).\n",
      "Effective window size : 8.000 (s)\n"
     ]
    },
    {
     "name": "stderr",
     "output_type": "stream",
     "text": [
      "C:\\Users\\ACER\\mne-python\\1.7.1_0\\Lib\\site-packages\\mne\\viz\\utils.py:167: UserWarning: FigureCanvasAgg is non-interactive, and thus cannot be shown\n",
      "  (fig or plt).show(**kwargs)\n"
     ]
    },
    {
     "name": "stdout",
     "output_type": "stream",
     "text": [
      "Plotting power spectral density (dB=True).\n"
     ]
    },
    {
     "name": "stderr",
     "output_type": "stream",
     "text": [
      "C:\\Users\\ACER\\mne-python\\1.7.1_0\\Lib\\site-packages\\mne\\viz\\utils.py:167: UserWarning: FigureCanvasAgg is non-interactive, and thus cannot be shown\n",
      "  (fig or plt).show(**kwargs)\n"
     ]
    }
   ],
   "source": [
    "raw_notch_fit = raw.copy().notch_filter(\n",
    "    freqs=256, picks='all', method=\"spectrum_fit\", filter_length=\"10s\"\n",
    ")\n",
    "for title, data in zip([\"Un\", \"spectrum_fit \"], [raw, raw_notch_fit]):\n",
    "    fig = data.compute_psd(fmax=128).plot(\n",
    "        average=True, amplitude=False, picks=\"data\", exclude=\"bads\"\n",
    "    )\n",
    "    fig.suptitle(f\"{title}filtered\", size=\"xx-large\", weight=\"bold\")\n",
    "    add_arrows(fig.axes[:2])"
   ]
  },
  {
   "cell_type": "code",
   "execution_count": 14,
   "id": "45ad4c1e-8030-4248-9bf7-5627b3972766",
   "metadata": {},
   "outputs": [
    {
     "data": {
      "image/png": "[encoded data removed]",
      "text/plain": [
       "<MNELineFigure size 1000x350 with 1 Axes>"
      ]
     },
     "execution_count": 14,
     "metadata": {},
     "output_type": "execute_result"
    }
   ],
   "source": [
    "fig"
   ]
  },
  {
   "cell_type": "code",
   "execution_count": 15,
   "id": "a2de5446-8c43-4fda-844f-1b5d6d0c6f54",
   "metadata": {},
   "outputs": [
    {
     "name": "stdout",
     "output_type": "stream",
     "text": [
      "Sampling frequency of the instance is already 256.0, returning unmodified.\n"
     ]
    },
    {
     "data": {
      "text/html": [
       "<details open>\n",
       "    <summary><strong>General</strong></summary>\n",
       "    <table class=\"table table-hover table-striped table-sm table-responsive small\">\n",
       "        <tr>\n",
       "            <th>Measurement date</th>\n",
       "            \n",
       "            <td>November 06, 2076  13:43:04 GMT</td>\n",
       "            \n",
       "        </tr>\n",
       "        <tr>\n",
       "            <th>Experimenter</th>\n",
       "            \n",
       "            <td>Unknown</td>\n",
       "            \n",
       "        </tr>\n",
       "        <tr>\n",
       "            <th>Participant</th>\n",
       "            \n",
       "            \n",
       "            <td>Surrogate</td>\n",
       "            \n",
       "            \n",
       "        </tr>\n",
       "    </table>\n",
       "    </details>\n",
       "    <details open>\n",
       "        <summary><strong>Channels</strong></summary>\n",
       "        <table class=\"table table-hover table-striped table-sm table-responsive small\">\n",
       "            <tr>\n",
       "                <th>Digitized points</th>\n",
       "                \n",
       "                <td>Not available</td>\n",
       "                \n",
       "            </tr>\n",
       "            <tr>\n",
       "                <th>Good channels</th>\n",
       "                <td>21 EEG</td>\n",
       "            </tr>\n",
       "            <tr>\n",
       "                <th>Bad channels</th>\n",
       "                <td>None</td>\n",
       "            </tr>\n",
       "            <tr>\n",
       "                <th>EOG channels</th>\n",
       "                <td>Not available</td>\n",
       "            </tr>\n",
       "            <tr>\n",
       "                <th>ECG channels</th>\n",
       "                <td>Not available</td>\n",
       "            </tr>\n",
       "        </table>\n",
       "        </details>\n",
       "        <details open>\n",
       "            <summary><strong>Data</strong></summary>\n",
       "            <table class=\"table table-hover table-striped table-sm table-responsive small\">\n",
       "                \n",
       "                <tr>\n",
       "                    <th>Sampling frequency</th>\n",
       "                    <td>256.00 Hz</td>\n",
       "                </tr>\n",
       "                \n",
       "                \n",
       "                <tr>\n",
       "                    <th>Highpass</th>\n",
       "                    <td>0.50 Hz</td>\n",
       "                </tr>\n",
       "                \n",
       "                \n",
       "                <tr>\n",
       "                    <th>Lowpass</th>\n",
       "                    <td>100.00 Hz</td>\n",
       "                </tr>\n",
       "                \n",
       "                \n",
       "                \n",
       "                <tr>\n",
       "                    <th>Filenames</th>\n",
       "                    <td>chb01_03.edf</td>\n",
       "                </tr>\n",
       "                \n",
       "                \n",
       "                <tr>\n",
       "                    <th>Duration</th>\n",
       "                    <td>00:59:60 (HH:MM:SS)</td>\n",
       "                </tr>\n",
       "                \n",
       "            </table>\n",
       "            </details>"
      ],
      "text/plain": [
       "<RawEDF | chb01_03.edf, 21 x 921600 (3600.0 s), ~147.7 MB, data loaded>"
      ]
     },
     "execution_count": 15,
     "metadata": {},
     "output_type": "execute_result"
    }
   ],
   "source": [
    "raw.resample(256, npad=\"auto\")"
   ]
  },
  {
   "cell_type": "code",
   "execution_count": 16,
   "id": "3f432b2f-c39d-4b2b-86c1-e580d65dfe5e",
   "metadata": {},
   "outputs": [
    {
     "name": "stdout",
     "output_type": "stream",
     "text": [
      "EEG channel type selected for re-referencing\n",
      "Adding average EEG reference projection.\n",
      "1 projection items deactivated\n",
      "Average reference projection was added, but has not been applied yet. Use the apply_proj method to apply it.\n"
     ]
    },
    {
     "data": {
      "text/html": [
       "<details open>\n",
       "    <summary><strong>General</strong></summary>\n",
       "    <table class=\"table table-hover table-striped table-sm table-responsive small\">\n",
       "        <tr>\n",
       "            <th>Measurement date</th>\n",
       "            \n",
       "            <td>November 06, 2076  13:43:04 GMT</td>\n",
       "            \n",
       "        </tr>\n",
       "        <tr>\n",
       "            <th>Experimenter</th>\n",
       "            \n",
       "            <td>Unknown</td>\n",
       "            \n",
       "        </tr>\n",
       "        <tr>\n",
       "            <th>Participant</th>\n",
       "            \n",
       "            \n",
       "            <td>Surrogate</td>\n",
       "            \n",
       "            \n",
       "        </tr>\n",
       "    </table>\n",
       "    </details>\n",
       "    <details open>\n",
       "        <summary><strong>Channels</strong></summary>\n",
       "        <table class=\"table table-hover table-striped table-sm table-responsive small\">\n",
       "            <tr>\n",
       "                <th>Digitized points</th>\n",
       "                \n",
       "                <td>Not available</td>\n",
       "                \n",
       "            </tr>\n",
       "            <tr>\n",
       "                <th>Good channels</th>\n",
       "                <td>21 EEG</td>\n",
       "            </tr>\n",
       "            <tr>\n",
       "                <th>Bad channels</th>\n",
       "                <td>None</td>\n",
       "            </tr>\n",
       "            <tr>\n",
       "                <th>EOG channels</th>\n",
       "                <td>Not available</td>\n",
       "            </tr>\n",
       "            <tr>\n",
       "                <th>ECG channels</th>\n",
       "                <td>Not available</td>\n",
       "            </tr>\n",
       "        </table>\n",
       "        </details>\n",
       "        <details open>\n",
       "            <summary><strong>Data</strong></summary>\n",
       "            <table class=\"table table-hover table-striped table-sm table-responsive small\">\n",
       "                \n",
       "                <tr>\n",
       "                    <th>Sampling frequency</th>\n",
       "                    <td>256.00 Hz</td>\n",
       "                </tr>\n",
       "                \n",
       "                \n",
       "                <tr>\n",
       "                    <th>Highpass</th>\n",
       "                    <td>0.50 Hz</td>\n",
       "                </tr>\n",
       "                \n",
       "                \n",
       "                <tr>\n",
       "                    <th>Lowpass</th>\n",
       "                    <td>100.00 Hz</td>\n",
       "                </tr>\n",
       "                \n",
       "                \n",
       "                <tr>\n",
       "                    <th>Projections</th>\n",
       "                    <td>Average EEG reference : off</td>\n",
       "                </tr>\n",
       "                \n",
       "                \n",
       "                <tr>\n",
       "                    <th>Filenames</th>\n",
       "                    <td>chb01_03.edf</td>\n",
       "                </tr>\n",
       "                \n",
       "                \n",
       "                <tr>\n",
       "                    <th>Duration</th>\n",
       "                    <td>00:59:60 (HH:MM:SS)</td>\n",
       "                </tr>\n",
       "                \n",
       "            </table>\n",
       "            </details>"
      ],
      "text/plain": [
       "<RawEDF | chb01_03.edf, 21 x 921600 (3600.0 s), ~147.7 MB, data loaded>"
      ]
     },
     "execution_count": 16,
     "metadata": {},
     "output_type": "execute_result"
    }
   ],
   "source": [
    "raw.set_eeg_reference('average', projection=True)\n"
   ]
  },
  {
   "cell_type": "code",
   "execution_count": 17,
   "id": "7ba5ac61-70e8-4a42-aaef-1ec5c310d3eb",
   "metadata": {},
   "outputs": [
    {
     "name": "stdout",
     "output_type": "stream",
     "text": [
      "Created an SSP operator (subspace dimension = 1)\n",
      "1 projection items activated\n",
      "SSP projectors applied...\n"
     ]
    },
    {
     "data": {
      "text/html": [
       "<details open>\n",
       "    <summary><strong>General</strong></summary>\n",
       "    <table class=\"table table-hover table-striped table-sm table-responsive small\">\n",
       "        <tr>\n",
       "            <th>Measurement date</th>\n",
       "            \n",
       "            <td>November 06, 2076  13:43:04 GMT</td>\n",
       "            \n",
       "        </tr>\n",
       "        <tr>\n",
       "            <th>Experimenter</th>\n",
       "            \n",
       "            <td>Unknown</td>\n",
       "            \n",
       "        </tr>\n",
       "        <tr>\n",
       "            <th>Participant</th>\n",
       "            \n",
       "            \n",
       "            <td>Surrogate</td>\n",
       "            \n",
       "            \n",
       "        </tr>\n",
       "    </table>\n",
       "    </details>\n",
       "    <details open>\n",
       "        <summary><strong>Channels</strong></summary>\n",
       "        <table class=\"table table-hover table-striped table-sm table-responsive small\">\n",
       "            <tr>\n",
       "                <th>Digitized points</th>\n",
       "                \n",
       "                <td>Not available</td>\n",
       "                \n",
       "            </tr>\n",
       "            <tr>\n",
       "                <th>Good channels</th>\n",
       "                <td>21 EEG</td>\n",
       "            </tr>\n",
       "            <tr>\n",
       "                <th>Bad channels</th>\n",
       "                <td>None</td>\n",
       "            </tr>\n",
       "            <tr>\n",
       "                <th>EOG channels</th>\n",
       "                <td>Not available</td>\n",
       "            </tr>\n",
       "            <tr>\n",
       "                <th>ECG channels</th>\n",
       "                <td>Not available</td>\n",
       "            </tr>\n",
       "        </table>\n",
       "        </details>\n",
       "        <details open>\n",
       "            <summary><strong>Data</strong></summary>\n",
       "            <table class=\"table table-hover table-striped table-sm table-responsive small\">\n",
       "                \n",
       "                <tr>\n",
       "                    <th>Sampling frequency</th>\n",
       "                    <td>256.00 Hz</td>\n",
       "                </tr>\n",
       "                \n",
       "                \n",
       "                <tr>\n",
       "                    <th>Highpass</th>\n",
       "                    <td>0.50 Hz</td>\n",
       "                </tr>\n",
       "                \n",
       "                \n",
       "                <tr>\n",
       "                    <th>Lowpass</th>\n",
       "                    <td>100.00 Hz</td>\n",
       "                </tr>\n",
       "                \n",
       "                \n",
       "                <tr>\n",
       "                    <th>Projections</th>\n",
       "                    <td>Average EEG reference : on</td>\n",
       "                </tr>\n",
       "                \n",
       "                \n",
       "                <tr>\n",
       "                    <th>Filenames</th>\n",
       "                    <td>chb01_03.edf</td>\n",
       "                </tr>\n",
       "                \n",
       "                \n",
       "                <tr>\n",
       "                    <th>Duration</th>\n",
       "                    <td>00:59:60 (HH:MM:SS)</td>\n",
       "                </tr>\n",
       "                \n",
       "            </table>\n",
       "            </details>"
      ],
      "text/plain": [
       "<RawEDF | chb01_03.edf, 21 x 921600 (3600.0 s), ~147.7 MB, data loaded>"
      ]
     },
     "execution_count": 17,
     "metadata": {},
     "output_type": "execute_result"
    }
   ],
   "source": [
    "# Apply the projection\n",
    "raw.apply_proj()"
   ]
  },
  {
   "cell_type": "code",
   "execution_count": 18,
   "id": "8331d899-5d44-4185-b8dc-d67b51582405",
   "metadata": {},
   "outputs": [
    {
     "data": {
      "text/plain": [
       "[<Projection | Average EEG reference, active : True, n_channels : 21>]"
      ]
     },
     "execution_count": 18,
     "metadata": {},
     "output_type": "execute_result"
    }
   ],
   "source": [
    "raw.info['projs']"
   ]
  },
  {
   "cell_type": "code",
   "execution_count": 19,
   "id": "16fc9097-2b5e-4814-ad4e-a9d72e4dd2bd",
   "metadata": {},
   "outputs": [
    {
     "data": {
      "text/plain": [
       "<mne_qt_browser._pg_figure.MNEQtBrowser at 0x2294021d400>"
      ]
     },
     "execution_count": 19,
     "metadata": {},
     "output_type": "execute_result"
    }
   ],
   "source": [
    "raw.plot()"
   ]
  },
  {
   "cell_type": "code",
   "execution_count": 20,
   "id": "2faaba0f-3a98-43be-a2e3-953af6e14e61",
   "metadata": {},
   "outputs": [],
   "source": [
    "%%capture\n",
    "!pip install pyedflib\n",
    "!pip install PyWavelets"
   ]
  },
  {
   "cell_type": "code",
   "execution_count": 21,
   "id": "78a45049-73aa-425e-9ab2-c266fd601de9",
   "metadata": {},
   "outputs": [
    {
     "name": "stdout",
     "output_type": "stream",
     "text": [
      "Requirement already satisfied: pyedflib in c:\\users\\acer\\mne-python\\1.7.1_0\\lib\\site-packages (0.1.37)\n",
      "Requirement already satisfied: numpy in c:\\users\\acer\\mne-python\\1.7.1_0\\lib\\site-packages (1.26.4)\n",
      "Requirement already satisfied: pandas in c:\\users\\acer\\mne-python\\1.7.1_0\\lib\\site-packages (2.2.2)\n",
      "Requirement already satisfied: matplotlib in c:\\users\\acer\\mne-python\\1.7.1_0\\lib\\site-packages (3.8.4)\n",
      "Requirement already satisfied: pillow in c:\\users\\acer\\mne-python\\1.7.1_0\\lib\\site-packages (10.3.0)\n",
      "Requirement already satisfied: scikit-learn in c:\\users\\acer\\mne-python\\1.7.1_0\\lib\\site-packages (1.5.0)\n",
      "Requirement already satisfied: PyWavelets in c:\\users\\acer\\mne-python\\1.7.1_0\\lib\\site-packages (1.4.1)\n",
      "Requirement already satisfied: python-dateutil>=2.8.2 in c:\\users\\acer\\mne-python\\1.7.1_0\\lib\\site-packages (from pandas) (2.9.0)\n",
      "Requirement already satisfied: pytz>=2020.1 in c:\\users\\acer\\mne-python\\1.7.1_0\\lib\\site-packages (from pandas) (2024.1)\n",
      "Requirement already satisfied: tzdata>=2022.7 in c:\\users\\acer\\mne-python\\1.7.1_0\\lib\\site-packages (from pandas) (2024.1)\n",
      "Requirement already satisfied: contourpy>=1.0.1 in c:\\users\\acer\\mne-python\\1.7.1_0\\lib\\site-packages (from matplotlib) (1.2.1)\n",
      "Requirement already satisfied: cycler>=0.10 in c:\\users\\acer\\mne-python\\1.7.1_0\\lib\\site-packages (from matplotlib) (0.12.1)\n",
      "Requirement already satisfied: fonttools>=4.22.0 in c:\\users\\acer\\mne-python\\1.7.1_0\\lib\\site-packages (from matplotlib) (4.53.0)\n",
      "Requirement already satisfied: kiwisolver>=1.3.1 in c:\\users\\acer\\mne-python\\1.7.1_0\\lib\\site-packages (from matplotlib) (1.4.5)\n",
      "Requirement already satisfied: packaging>=20.0 in c:\\users\\acer\\mne-python\\1.7.1_0\\lib\\site-packages (from matplotlib) (24.1)\n",
      "Requirement already satisfied: pyparsing>=2.3.1 in c:\\users\\acer\\mne-python\\1.7.1_0\\lib\\site-packages (from matplotlib) (3.1.2)\n",
      "Requirement already satisfied: scipy>=1.6.0 in c:\\users\\acer\\mne-python\\1.7.1_0\\lib\\site-packages (from scikit-learn) (1.13.1)\n",
      "Requirement already satisfied: joblib>=1.2.0 in c:\\users\\acer\\mne-python\\1.7.1_0\\lib\\site-packages (from scikit-learn) (1.4.2)\n",
      "Requirement already satisfied: threadpoolctl>=3.1.0 in c:\\users\\acer\\mne-python\\1.7.1_0\\lib\\site-packages (from scikit-learn) (3.5.0)\n",
      "Requirement already satisfied: six>=1.5 in c:\\users\\acer\\mne-python\\1.7.1_0\\lib\\site-packages (from python-dateutil>=2.8.2->pandas) (1.16.0)\n"
     ]
    },
    {
     "name": "stderr",
     "output_type": "stream",
     "text": [
      "WARNING: Skipping C:\\Users\\ACER\\mne-python\\1.7.1_0\\Lib\\site-packages\\vtk-9.2.6.egg-info due to invalid metadata entry 'name'\n",
      "WARNING: Skipping C:\\Users\\ACER\\mne-python\\1.7.1_0\\Lib\\site-packages\\vtk-9.2.6.egg-info due to invalid metadata entry 'name'\n"
     ]
    }
   ],
   "source": [
    "# Ensure all necessary libraries are installed\n",
    "!pip install pyedflib numpy pandas matplotlib pillow scikit-learn PyWavelets"
   ]
  },
  {
   "cell_type": "code",
   "execution_count": 22,
   "id": "d64fe71c-f000-43b3-9dad-acafc84dda18",
   "metadata": {},
   "outputs": [],
   "source": [
    "import pyedflib\n",
    "import numpy as np\n",
    "import pandas as pd\n",
    "import matplotlib\n",
    "import matplotlib.pyplot as plt\n",
    "from matplotlib.lines import Line2D   \n",
    "from PIL import Image\n",
    "import warnings\n",
    "warnings.filterwarnings('ignore')\n",
    "from sklearn.model_selection import train_test_split, KFold\n",
    "from sklearn.linear_model import LogisticRegression\n",
    "from sklearn.discriminant_analysis import LinearDiscriminantAnalysis as LDA\n",
    "from sklearn.discriminant_analysis import QuadraticDiscriminantAnalysis as QDA\n",
    "from sklearn.tree import DecisionTreeClassifier as DecisionTree\n",
    "from sklearn.ensemble import RandomForestClassifier as RandomForest\n",
    "from sklearn.svm import SVC\n",
    "from sklearn.ensemble import GradientBoostingClassifier as GBC\n",
    "from sklearn import linear_model\n",
    "import pywt\n",
    "import matplotlib.patches as patches\n",
    "from sklearn import preprocessing\n",
    "from sklearn.neighbors import KNeighborsClassifier as KNN\n",
    "\n"
   ]
  },
  {
   "cell_type": "code",
   "execution_count": 23,
   "id": "fc5217f0-15df-446d-9b72-a4bba2ba6f14",
   "metadata": {},
   "outputs": [],
   "source": [
    "# Load the edf file\n",
    "f = pyedflib.EdfReader(\"D:\\CHB_MIT\\chb01_03.edf\")\n",
    "n = f.signals_in_file\n",
    "signal_labels = f.getSignalLabels()\n",
    "sigbufs = np.zeros((n, f.getNSamples()[0]))\n",
    "for i in np.arange(n):\n",
    "    sigbufs[i, :] = f.readSignal(i)\n",
    "\n",
    "# and load the data into a DataFrame\n",
    "df_signals = pd.DataFrame(sigbufs)\n",
    "df_signals = df_signals.transpose()\n",
    "df_signals.columns = signal_labels"
   ]
  },
  {
   "cell_type": "code",
   "execution_count": 24,
   "id": "59b7e3f5-7051-4003-a0b3-bd86ef90abfa",
   "metadata": {},
   "outputs": [
    {
     "data": {
      "text/plain": [
       "['FP1-F7',\n",
       " 'F7-T7',\n",
       " 'T7-P7',\n",
       " 'P7-O1',\n",
       " 'FP1-F3',\n",
       " 'F3-C3',\n",
       " 'C3-P3',\n",
       " 'P3-O1',\n",
       " 'FP2-F4',\n",
       " 'F4-C4',\n",
       " 'C4-P4',\n",
       " 'P4-O2',\n",
       " 'FP2-F8',\n",
       " 'F8-T8',\n",
       " 'T8-P8',\n",
       " 'P8-O2',\n",
       " 'FZ-CZ',\n",
       " 'CZ-PZ',\n",
       " 'P7-T7',\n",
       " 'T7-FT9',\n",
       " 'FT9-FT10',\n",
       " 'FT10-T8',\n",
       " 'T8-P8']"
      ]
     },
     "execution_count": 24,
     "metadata": {},
     "output_type": "execute_result"
    }
   ],
   "source": [
    "signal_labels"
   ]
  },
  {
   "cell_type": "markdown",
   "id": "826a5b7f-eaf7-464d-bdf7-046ff94c1a0e",
   "metadata": {},
   "source": [
    "# Funcion buliding\n"
   ]
  },
  {
   "cell_type": "code",
   "execution_count": 25,
   "id": "fefbfb3b-fd6b-4319-b309-2f904417decc",
   "metadata": {},
   "outputs": [],
   "source": [
    "import pywt\n",
    "\n",
    "def ChannelSelection(signal):\n",
    "    try: \n",
    "        channels = [\n",
    "            'FP1-F7', 'F7-T7', 'T7-P7', 'P7-O1',\n",
    "            'FP1-F3', 'F3-C3', 'C3-P3', 'P3-O1',\n",
    "            'FP2-F4', 'F4-C4', 'C4-P4', 'P4-O2',\n",
    "            'FP2-F8', 'F8-T8', 'T8-P8-0', 'P8-O2',\n",
    "            'FZ-CZ', 'CZ-PZ', 'T7-FT9',\n",
    "            'FT9-FT10', 'FT10-T8',\n",
    "            ]\n",
    "\n",
    "\n",
    "        # Select only the unique, standardized channels\n",
    "        signal.pick_channels(channels)\n",
    "        # Rename 'T8-P8-0' to 'T8-P8'\n",
    "        channel_mapping = {'T8-P8-0': 'T8-P8'}\n",
    "        mne.rename_channels(signal.info, channel_mapping)\n",
    "\n",
    "        return signal\n",
    "    except:\n",
    "        print(\"Channel name are not same!!\")\n",
    "\n",
    "\n",
    "\n",
    "def DWT(data):\n",
    "\n",
    "    # Get the EEG data as a NumPy array\n",
    "    eeg_data = data.get_data()\n",
    "    \n",
    "    # List to store DWT coefficients for each channel\n",
    "    dwt_coeffs = []\n",
    "    \n",
    "    # Perform DWT on each channel separately\n",
    "    for channel_data in eeg_data:\n",
    "        # Perform 5-level DWT using the Daubechies-4 wavelet\n",
    "        wavelet = 'db4'\n",
    "        coeffs = pywt.wavedec(channel_data, wavelet, level=5)\n",
    "        dwt_coeffs.append(coeffs)\n",
    "    \n",
    "    return dwt_coeffs\n",
    "    \n",
    "\n",
    "\n",
    "\n",
    "\n",
    "\n",
    "def preprocessing(path):\n",
    "    raw = mne.io.read_raw_edf(path, preload=True)\n",
    "    # List of channels with some inconsistencies\n",
    "    raw = ChannelSelection(raw)\n",
    "    \n",
    "    # Apply a bandpass filter (0.5 to 70 Hz)\n",
    "    raw.filter(l_freq=0.5, h_freq=127.9)\n",
    "    raw_notch = raw.copy().notch_filter(freqs=[60, 120], notch_widths=6)  # notch_widths defines the width of the notch\n",
    "    raw.plot()\n",
    "    data = DWT(raw_notch)\n",
    "\n",
    "    return data\n",
    "    \n"
   ]
  },
  {
   "cell_type": "code",
   "execution_count": 26,
   "id": "14559331-6a6f-4f53-9703-41647fda5d83",
   "metadata": {},
   "outputs": [
    {
     "name": "stdout",
     "output_type": "stream",
     "text": [
      "Extracting EDF parameters from D:\\CHB_MIT\\chb01_03.edf...\n",
      "EDF file detected\n",
      "Setting channel info structure...\n",
      "Creating raw.info structure...\n",
      "Reading 0 ... 921599  =      0.000 ...  3599.996 secs...\n",
      "NOTE: pick_channels() is a legacy function. New code should use inst.pick(...).\n",
      "Filtering raw data in 1 contiguous segment\n",
      "Setting up band-pass filter from 0.5 - 1.3e+02 Hz\n",
      "\n",
      "FIR filter parameters\n",
      "---------------------\n",
      "Designing a one-pass, zero-phase, non-causal bandpass filter:\n",
      "- Windowed time-domain design (firwin) method\n",
      "- Hamming window with 0.0194 passband ripple and 53 dB stopband attenuation\n",
      "- Lower passband edge: 0.50\n",
      "- Lower transition bandwidth: 0.50 Hz (-6 dB cutoff frequency: 0.25 Hz)\n",
      "- Upper passband edge: 127.90 Hz\n",
      "- Upper transition bandwidth: 0.10 Hz (-6 dB cutoff frequency: 127.95 Hz)\n",
      "- Filter length: 8449 samples (33.004 s)\n",
      "\n"
     ]
    },
    {
     "name": "stderr",
     "output_type": "stream",
     "text": [
      "[Parallel(n_jobs=1)]: Done  17 tasks      | elapsed:    0.4s\n"
     ]
    },
    {
     "name": "stdout",
     "output_type": "stream",
     "text": [
      "Filtering raw data in 1 contiguous segment\n",
      "Setting up band-stop filter\n",
      "\n",
      "FIR filter parameters\n",
      "---------------------\n",
      "Designing a one-pass, zero-phase, non-causal bandstop filter:\n",
      "- Windowed time-domain design (firwin) method\n",
      "- Hamming window with 0.0194 passband ripple and 53 dB stopband attenuation\n",
      "- Lower transition bandwidth: 0.50 Hz\n",
      "- Upper transition bandwidth: 0.50 Hz\n",
      "- Filter length: 1691 samples (6.605 s)\n",
      "\n"
     ]
    },
    {
     "name": "stderr",
     "output_type": "stream",
     "text": [
      "[Parallel(n_jobs=1)]: Done  17 tasks      | elapsed:    0.4s\n"
     ]
    }
   ],
   "source": [
    "raw = preprocessing('D:\\CHB_MIT\\chb01_03.edf')"
   ]
  },
  {
   "cell_type": "code",
   "execution_count": 27,
   "id": "edc3c5f7-5b9c-4fae-856e-e103379ff8e6",
   "metadata": {},
   "outputs": [
    {
     "data": {
      "image/png": "[encoded data removed]",
      "text/plain": [
       "<MNELineFigure size 1000x350 with 1 Axes>"
      ]
     },
     "metadata": {},
     "output_type": "display_data"
    },
    {
     "data": {
      "image/png": "[encoded data removed]",
      "text/plain": [
       "<MNELineFigure size 1000x350 with 1 Axes>"
      ]
     },
     "metadata": {},
     "output_type": "display_data"
    },
    {
     "data": {
      "image/png": "[encoded data removed]",
      "text/plain": [
       "<Figure size 1200x800 with 6 Axes>"
      ]
     },
     "metadata": {},
     "output_type": "display_data"
    },
    {
     "name": "stdout",
     "output_type": "stream",
     "text": [
      "Channels marked as bad:\n",
      "none\n",
      "Channels marked as bad:\n",
      "none\n",
      "Channels marked as bad:\n",
      "none\n",
      "Channels marked as bad:\n",
      "none\n"
     ]
    }
   ],
   "source": [
    "# Plot DWT coefficients for the first channel as an example\n",
    "plt.figure(figsize=(12, 8))\n",
    "\n",
    "# Plot Approximation Coefficients (Level 5)\n",
    "plt.subplot(6, 1, 1)\n",
    "plt.plot(raw[0][0], label=f'Approximation Coefficients (Level 5)')\n",
    "plt.legend(loc='upper right')\n",
    "\n",
    "# Plot Detail Coefficients from Level 4 to Level 1\n",
    "for i in range(1, 6):\n",
    "    plt.subplot(6, 1, i+1)\n",
    "    plt.plot(raw[0][i], label=f'Detail Coefficients (Level {6-i})')\n",
    "    plt.legend(loc='upper right')\n",
    "\n",
    "plt.tight_layout()\n",
    "plt.show()"
   ]
  },
  {
   "cell_type": "code",
   "execution_count": null,
   "id": "1be04972-7511-4638-902b-6c62bdf488f8",
   "metadata": {},
   "outputs": [],
   "source": []
  },
  {
   "cell_type": "code",
   "execution_count": null,
   "id": "55e84996-7295-4786-be11-469e713ceabc",
   "metadata": {},
   "outputs": [],
   "source": []
  },
  {
   "cell_type": "code",
   "execution_count": null,
   "id": "eb1ee677-fadf-4be3-aadb-65df17c64fa0",
   "metadata": {},
   "outputs": [],
   "source": []
  },
  {
   "cell_type": "code",
   "execution_count": null,
   "id": "9cf3df0d-192c-468c-8c33-8e1da0feefdf",
   "metadata": {},
   "outputs": [],
   "source": []
  },
  {
   "cell_type": "code",
   "execution_count": null,
   "id": "61a3afb8-eec0-4832-866b-d9848af6273e",
   "metadata": {},
   "outputs": [],
   "source": []
  },
  {
   "cell_type": "code",
   "execution_count": null,
   "id": "c51329aa-e859-4f5f-a22d-aac91a727986",
   "metadata": {},
   "outputs": [],
   "source": []
  },
  {
   "cell_type": "code",
   "execution_count": null,
   "id": "fe279225-a91f-450a-9981-579d1dbb32c4",
   "metadata": {},
   "outputs": [],
   "source": []
  },
  {
   "cell_type": "code",
   "execution_count": null,
   "id": "33a7f6fa-ed4c-44eb-96e1-6d603e5c9fca",
   "metadata": {},
   "outputs": [],
   "source": []
  },
  {
   "cell_type": "code",
   "execution_count": null,
   "id": "733442f2-6baf-4dd9-98e4-c27d07cb8d93",
   "metadata": {},
   "outputs": [],
   "source": []
  },
  {
   "cell_type": "code",
   "execution_count": null,
   "id": "0a1b791d-bffe-4e90-8b40-df540a98a008",
   "metadata": {},
   "outputs": [],
   "source": []
  },
  {
   "cell_type": "code",
   "execution_count": null,
   "id": "1f2ecbf2-76ca-492f-b677-f279e863840d",
   "metadata": {},
   "outputs": [],
   "source": []
  },
  {
   "cell_type": "code",
   "execution_count": null,
   "id": "716ca5d8-f3e9-463a-aa91-84416ef3b0cd",
   "metadata": {},
   "outputs": [],
   "source": []
  },
  {
   "cell_type": "code",
   "execution_count": null,
   "id": "8b8c758b-b5e6-41ad-860d-214d7f056011",
   "metadata": {},
   "outputs": [],
   "source": []
  },
  {
   "cell_type": "code",
   "execution_count": null,
   "id": "28a74936-25ca-4a12-b710-acb7318b2495",
   "metadata": {},
   "outputs": [],
   "source": []
  },
  {
   "cell_type": "code",
   "execution_count": null,
   "id": "71e7419c-0313-4f4e-99cd-ccd09cc2463e",
   "metadata": {},
   "outputs": [],
   "source": []
  },
  {
   "cell_type": "code",
   "execution_count": null,
   "id": "d4bae1f4-f97b-449b-8c69-bae1de1ef818",
   "metadata": {},
   "outputs": [],
   "source": []
  },
  {
   "cell_type": "code",
   "execution_count": null,
   "id": "6091bf6e-1936-4d39-85cc-e3e521ddcae8",
   "metadata": {},
   "outputs": [],
   "source": []
  },
  {
   "cell_type": "code",
   "execution_count": null,
   "id": "97cc5957-b309-4396-b73a-a52032c5628b",
   "metadata": {},
   "outputs": [],
   "source": []
  },
  {
   "cell_type": "code",
   "execution_count": null,
   "id": "9f69f69f-e760-4d20-b7fe-0ee1d20c8469",
   "metadata": {},
   "outputs": [],
   "source": []
  },
  {
   "cell_type": "code",
   "execution_count": null,
   "id": "7367899b-e2ae-4c51-ac54-47a4b4f103b6",
   "metadata": {},
   "outputs": [],
   "source": []
  },
  {
   "cell_type": "code",
   "execution_count": null,
   "id": "35a0c757-6333-466a-add1-0b2918512716",
   "metadata": {},
   "outputs": [],
   "source": []
  }
 ],
 "metadata": {
  "kernelspec": {
   "display_name": "Python 3 (ipykernel)",
   "language": "python",
   "name": "python3"
  },
  "language_info": {
   "codemirror_mode": {
    "name": "ipython",
    "version": 3
   },
   "file_extension": ".py",
   "mimetype": "text/x-python",
   "name": "python",
   "nbconvert_exporter": "python",
   "pygments_lexer": "ipython3",
   "version": "3.12.2"
  }
 },
 "nbformat": 4,
 "nbformat_minor": 5
}
